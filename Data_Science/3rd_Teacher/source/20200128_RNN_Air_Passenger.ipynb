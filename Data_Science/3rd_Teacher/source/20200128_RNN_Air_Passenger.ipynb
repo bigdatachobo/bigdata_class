{
 "cells": [
  {
   "cell_type": "code",
   "execution_count": 1,
   "metadata": {},
   "outputs": [],
   "source": [
    "import numpy as np\n",
    "import pandas as pd\n",
    "import matplotlib.pyplot as plt\n",
    "%matplotlib inline"
   ]
  },
  {
   "cell_type": "code",
   "execution_count": 2,
   "metadata": {},
   "outputs": [],
   "source": [
    "from tensorflow.keras.models import Sequential\n",
    "from tensorflow.keras.layers import Dense, Dropout, LSTM, CuDNNLSTM"
   ]
  },
  {
   "cell_type": "code",
   "execution_count": 3,
   "metadata": {},
   "outputs": [
    {
     "data": {
      "text/html": [
       "<div>\n",
       "<style scoped>\n",
       "    .dataframe tbody tr th:only-of-type {\n",
       "        vertical-align: middle;\n",
       "    }\n",
       "\n",
       "    .dataframe tbody tr th {\n",
       "        vertical-align: top;\n",
       "    }\n",
       "\n",
       "    .dataframe thead th {\n",
       "        text-align: right;\n",
       "    }\n",
       "</style>\n",
       "<table border=\"1\" class=\"dataframe\">\n",
       "  <thead>\n",
       "    <tr style=\"text-align: right;\">\n",
       "      <th></th>\n",
       "      <th>Month</th>\n",
       "      <th>#Passengers</th>\n",
       "    </tr>\n",
       "  </thead>\n",
       "  <tbody>\n",
       "    <tr>\n",
       "      <td>0</td>\n",
       "      <td>1949-01</td>\n",
       "      <td>112</td>\n",
       "    </tr>\n",
       "    <tr>\n",
       "      <td>1</td>\n",
       "      <td>1949-02</td>\n",
       "      <td>118</td>\n",
       "    </tr>\n",
       "    <tr>\n",
       "      <td>2</td>\n",
       "      <td>1949-03</td>\n",
       "      <td>132</td>\n",
       "    </tr>\n",
       "    <tr>\n",
       "      <td>3</td>\n",
       "      <td>1949-04</td>\n",
       "      <td>129</td>\n",
       "    </tr>\n",
       "    <tr>\n",
       "      <td>4</td>\n",
       "      <td>1949-05</td>\n",
       "      <td>121</td>\n",
       "    </tr>\n",
       "    <tr>\n",
       "      <td>...</td>\n",
       "      <td>...</td>\n",
       "      <td>...</td>\n",
       "    </tr>\n",
       "    <tr>\n",
       "      <td>139</td>\n",
       "      <td>1960-08</td>\n",
       "      <td>606</td>\n",
       "    </tr>\n",
       "    <tr>\n",
       "      <td>140</td>\n",
       "      <td>1960-09</td>\n",
       "      <td>508</td>\n",
       "    </tr>\n",
       "    <tr>\n",
       "      <td>141</td>\n",
       "      <td>1960-10</td>\n",
       "      <td>461</td>\n",
       "    </tr>\n",
       "    <tr>\n",
       "      <td>142</td>\n",
       "      <td>1960-11</td>\n",
       "      <td>390</td>\n",
       "    </tr>\n",
       "    <tr>\n",
       "      <td>143</td>\n",
       "      <td>1960-12</td>\n",
       "      <td>432</td>\n",
       "    </tr>\n",
       "  </tbody>\n",
       "</table>\n",
       "<p>144 rows × 2 columns</p>\n",
       "</div>"
      ],
      "text/plain": [
       "       Month  #Passengers\n",
       "0    1949-01          112\n",
       "1    1949-02          118\n",
       "2    1949-03          132\n",
       "3    1949-04          129\n",
       "4    1949-05          121\n",
       "..       ...          ...\n",
       "139  1960-08          606\n",
       "140  1960-09          508\n",
       "141  1960-10          461\n",
       "142  1960-11          390\n",
       "143  1960-12          432\n",
       "\n",
       "[144 rows x 2 columns]"
      ]
     },
     "execution_count": 3,
     "metadata": {},
     "output_type": "execute_result"
    }
   ],
   "source": [
    "air = pd.read_csv('../data/AirPassengers.csv')\n",
    "air"
   ]
  },
  {
   "cell_type": "code",
   "execution_count": 4,
   "metadata": {
    "scrolled": false
   },
   "outputs": [
    {
     "data": {
      "text/html": [
       "<div>\n",
       "<style scoped>\n",
       "    .dataframe tbody tr th:only-of-type {\n",
       "        vertical-align: middle;\n",
       "    }\n",
       "\n",
       "    .dataframe tbody tr th {\n",
       "        vertical-align: top;\n",
       "    }\n",
       "\n",
       "    .dataframe thead th {\n",
       "        text-align: right;\n",
       "    }\n",
       "</style>\n",
       "<table border=\"1\" class=\"dataframe\">\n",
       "  <thead>\n",
       "    <tr style=\"text-align: right;\">\n",
       "      <th></th>\n",
       "      <th>#Passengers</th>\n",
       "    </tr>\n",
       "    <tr>\n",
       "      <th>Month</th>\n",
       "      <th></th>\n",
       "    </tr>\n",
       "  </thead>\n",
       "  <tbody>\n",
       "    <tr>\n",
       "      <td>1949-01</td>\n",
       "      <td>112</td>\n",
       "    </tr>\n",
       "    <tr>\n",
       "      <td>1949-02</td>\n",
       "      <td>118</td>\n",
       "    </tr>\n",
       "    <tr>\n",
       "      <td>1949-03</td>\n",
       "      <td>132</td>\n",
       "    </tr>\n",
       "    <tr>\n",
       "      <td>1949-04</td>\n",
       "      <td>129</td>\n",
       "    </tr>\n",
       "    <tr>\n",
       "      <td>1949-05</td>\n",
       "      <td>121</td>\n",
       "    </tr>\n",
       "    <tr>\n",
       "      <td>...</td>\n",
       "      <td>...</td>\n",
       "    </tr>\n",
       "    <tr>\n",
       "      <td>1960-08</td>\n",
       "      <td>606</td>\n",
       "    </tr>\n",
       "    <tr>\n",
       "      <td>1960-09</td>\n",
       "      <td>508</td>\n",
       "    </tr>\n",
       "    <tr>\n",
       "      <td>1960-10</td>\n",
       "      <td>461</td>\n",
       "    </tr>\n",
       "    <tr>\n",
       "      <td>1960-11</td>\n",
       "      <td>390</td>\n",
       "    </tr>\n",
       "    <tr>\n",
       "      <td>1960-12</td>\n",
       "      <td>432</td>\n",
       "    </tr>\n",
       "  </tbody>\n",
       "</table>\n",
       "<p>144 rows × 1 columns</p>\n",
       "</div>"
      ],
      "text/plain": [
       "         #Passengers\n",
       "Month               \n",
       "1949-01          112\n",
       "1949-02          118\n",
       "1949-03          132\n",
       "1949-04          129\n",
       "1949-05          121\n",
       "...              ...\n",
       "1960-08          606\n",
       "1960-09          508\n",
       "1960-10          461\n",
       "1960-11          390\n",
       "1960-12          432\n",
       "\n",
       "[144 rows x 1 columns]"
      ]
     },
     "execution_count": 4,
     "metadata": {},
     "output_type": "execute_result"
    }
   ],
   "source": [
    "air.set_index('Month', inplace=True)\n",
    "air"
   ]
  },
  {
   "cell_type": "code",
   "execution_count": 5,
   "metadata": {
    "scrolled": true
   },
   "outputs": [
    {
     "data": {
      "text/plain": [
       "Index(['#Passengers'], dtype='object')"
      ]
     },
     "execution_count": 5,
     "metadata": {},
     "output_type": "execute_result"
    }
   ],
   "source": [
    "air.columns"
   ]
  },
  {
   "cell_type": "code",
   "execution_count": 6,
   "metadata": {
    "scrolled": true
   },
   "outputs": [
    {
     "data": {
      "text/plain": [
       "array([[112],\n",
       "       [118],\n",
       "       [132],\n",
       "       [129],\n",
       "       [121],\n",
       "       [135],\n",
       "       [148],\n",
       "       [148],\n",
       "       [136],\n",
       "       [119],\n",
       "       [104],\n",
       "       [118],\n",
       "       [115],\n",
       "       [126],\n",
       "       [141],\n",
       "       [135],\n",
       "       [125],\n",
       "       [149],\n",
       "       [170],\n",
       "       [170],\n",
       "       [158],\n",
       "       [133],\n",
       "       [114],\n",
       "       [140],\n",
       "       [145],\n",
       "       [150],\n",
       "       [178],\n",
       "       [163],\n",
       "       [172],\n",
       "       [178],\n",
       "       [199],\n",
       "       [199],\n",
       "       [184],\n",
       "       [162],\n",
       "       [146],\n",
       "       [166],\n",
       "       [171],\n",
       "       [180],\n",
       "       [193],\n",
       "       [181],\n",
       "       [183],\n",
       "       [218],\n",
       "       [230],\n",
       "       [242],\n",
       "       [209],\n",
       "       [191],\n",
       "       [172],\n",
       "       [194],\n",
       "       [196],\n",
       "       [196],\n",
       "       [236],\n",
       "       [235],\n",
       "       [229],\n",
       "       [243],\n",
       "       [264],\n",
       "       [272],\n",
       "       [237],\n",
       "       [211],\n",
       "       [180],\n",
       "       [201],\n",
       "       [204],\n",
       "       [188],\n",
       "       [235],\n",
       "       [227],\n",
       "       [234],\n",
       "       [264],\n",
       "       [302],\n",
       "       [293],\n",
       "       [259],\n",
       "       [229],\n",
       "       [203],\n",
       "       [229],\n",
       "       [242],\n",
       "       [233],\n",
       "       [267],\n",
       "       [269],\n",
       "       [270],\n",
       "       [315],\n",
       "       [364],\n",
       "       [347],\n",
       "       [312],\n",
       "       [274],\n",
       "       [237],\n",
       "       [278],\n",
       "       [284],\n",
       "       [277],\n",
       "       [317],\n",
       "       [313],\n",
       "       [318],\n",
       "       [374],\n",
       "       [413],\n",
       "       [405],\n",
       "       [355],\n",
       "       [306],\n",
       "       [271],\n",
       "       [306],\n",
       "       [315],\n",
       "       [301],\n",
       "       [356],\n",
       "       [348],\n",
       "       [355],\n",
       "       [422],\n",
       "       [465],\n",
       "       [467],\n",
       "       [404],\n",
       "       [347],\n",
       "       [305],\n",
       "       [336],\n",
       "       [340],\n",
       "       [318],\n",
       "       [362],\n",
       "       [348],\n",
       "       [363],\n",
       "       [435],\n",
       "       [491],\n",
       "       [505],\n",
       "       [404],\n",
       "       [359],\n",
       "       [310],\n",
       "       [337],\n",
       "       [360],\n",
       "       [342],\n",
       "       [406],\n",
       "       [396],\n",
       "       [420],\n",
       "       [472],\n",
       "       [548],\n",
       "       [559],\n",
       "       [463],\n",
       "       [407],\n",
       "       [362],\n",
       "       [405],\n",
       "       [417],\n",
       "       [391],\n",
       "       [419],\n",
       "       [461],\n",
       "       [472],\n",
       "       [535],\n",
       "       [622],\n",
       "       [606],\n",
       "       [508],\n",
       "       [461],\n",
       "       [390],\n",
       "       [432]], dtype=int64)"
      ]
     },
     "execution_count": 6,
     "metadata": {},
     "output_type": "execute_result"
    }
   ],
   "source": [
    "air_ts = air['#Passengers'].values.reshape(-1,1)\n",
    "air_ts"
   ]
  },
  {
   "cell_type": "markdown",
   "metadata": {},
   "source": [
    "# Scaling (MinMaxScaler between 0 and 1 )"
   ]
  },
  {
   "cell_type": "code",
   "execution_count": 7,
   "metadata": {},
   "outputs": [],
   "source": [
    "from sklearn.preprocessing import MinMaxScaler"
   ]
  },
  {
   "cell_type": "code",
   "execution_count": 8,
   "metadata": {},
   "outputs": [],
   "source": [
    "scaler = MinMaxScaler(feature_range = (0, 1))\n",
    "air_ts = scaler.fit_transform(air_ts)"
   ]
  },
  {
   "cell_type": "code",
   "execution_count": 9,
   "metadata": {
    "scrolled": true
   },
   "outputs": [
    {
     "data": {
      "text/plain": [
       "array([[0.01544402],\n",
       "       [0.02702703],\n",
       "       [0.05405405],\n",
       "       [0.04826255],\n",
       "       [0.03281853],\n",
       "       [0.05984556],\n",
       "       [0.08494208],\n",
       "       [0.08494208],\n",
       "       [0.06177606],\n",
       "       [0.02895753],\n",
       "       [0.        ],\n",
       "       [0.02702703],\n",
       "       [0.02123552],\n",
       "       [0.04247104],\n",
       "       [0.07142857],\n",
       "       [0.05984556],\n",
       "       [0.04054054],\n",
       "       [0.08687259],\n",
       "       [0.12741313],\n",
       "       [0.12741313],\n",
       "       [0.1042471 ],\n",
       "       [0.05598456],\n",
       "       [0.01930502],\n",
       "       [0.06949807],\n",
       "       [0.07915058],\n",
       "       [0.08880309],\n",
       "       [0.14285714],\n",
       "       [0.11389961],\n",
       "       [0.13127413],\n",
       "       [0.14285714],\n",
       "       [0.18339768],\n",
       "       [0.18339768],\n",
       "       [0.15444015],\n",
       "       [0.11196911],\n",
       "       [0.08108108],\n",
       "       [0.11969112],\n",
       "       [0.12934363],\n",
       "       [0.14671815],\n",
       "       [0.17181467],\n",
       "       [0.14864865],\n",
       "       [0.15250965],\n",
       "       [0.22007722],\n",
       "       [0.24324324],\n",
       "       [0.26640927],\n",
       "       [0.2027027 ],\n",
       "       [0.16795367],\n",
       "       [0.13127413],\n",
       "       [0.17374517],\n",
       "       [0.17760618],\n",
       "       [0.17760618],\n",
       "       [0.25482625],\n",
       "       [0.25289575],\n",
       "       [0.24131274],\n",
       "       [0.26833977],\n",
       "       [0.30888031],\n",
       "       [0.32432432],\n",
       "       [0.25675676],\n",
       "       [0.20656371],\n",
       "       [0.14671815],\n",
       "       [0.18725869],\n",
       "       [0.19305019],\n",
       "       [0.16216216],\n",
       "       [0.25289575],\n",
       "       [0.23745174],\n",
       "       [0.25096525],\n",
       "       [0.30888031],\n",
       "       [0.38223938],\n",
       "       [0.36486486],\n",
       "       [0.2992278 ],\n",
       "       [0.24131274],\n",
       "       [0.19111969],\n",
       "       [0.24131274],\n",
       "       [0.26640927],\n",
       "       [0.24903475],\n",
       "       [0.31467181],\n",
       "       [0.31853282],\n",
       "       [0.32046332],\n",
       "       [0.40733591],\n",
       "       [0.5019305 ],\n",
       "       [0.46911197],\n",
       "       [0.4015444 ],\n",
       "       [0.32818533],\n",
       "       [0.25675676],\n",
       "       [0.33590734],\n",
       "       [0.34749035],\n",
       "       [0.33397683],\n",
       "       [0.41119691],\n",
       "       [0.4034749 ],\n",
       "       [0.41312741],\n",
       "       [0.52123552],\n",
       "       [0.5965251 ],\n",
       "       [0.58108108],\n",
       "       [0.48455598],\n",
       "       [0.38996139],\n",
       "       [0.32239382],\n",
       "       [0.38996139],\n",
       "       [0.40733591],\n",
       "       [0.38030888],\n",
       "       [0.48648649],\n",
       "       [0.47104247],\n",
       "       [0.48455598],\n",
       "       [0.61389961],\n",
       "       [0.6969112 ],\n",
       "       [0.7007722 ],\n",
       "       [0.57915058],\n",
       "       [0.46911197],\n",
       "       [0.38803089],\n",
       "       [0.44787645],\n",
       "       [0.45559846],\n",
       "       [0.41312741],\n",
       "       [0.4980695 ],\n",
       "       [0.47104247],\n",
       "       [0.5       ],\n",
       "       [0.63899614],\n",
       "       [0.74710425],\n",
       "       [0.77413127],\n",
       "       [0.57915058],\n",
       "       [0.49227799],\n",
       "       [0.3976834 ],\n",
       "       [0.44980695],\n",
       "       [0.49420849],\n",
       "       [0.45945946],\n",
       "       [0.58301158],\n",
       "       [0.56370656],\n",
       "       [0.61003861],\n",
       "       [0.71042471],\n",
       "       [0.85714286],\n",
       "       [0.87837838],\n",
       "       [0.69305019],\n",
       "       [0.58494208],\n",
       "       [0.4980695 ],\n",
       "       [0.58108108],\n",
       "       [0.6042471 ],\n",
       "       [0.55405405],\n",
       "       [0.60810811],\n",
       "       [0.68918919],\n",
       "       [0.71042471],\n",
       "       [0.83204633],\n",
       "       [1.        ],\n",
       "       [0.96911197],\n",
       "       [0.77992278],\n",
       "       [0.68918919],\n",
       "       [0.55212355],\n",
       "       [0.63320463]])"
      ]
     },
     "execution_count": 9,
     "metadata": {},
     "output_type": "execute_result"
    }
   ],
   "source": [
    "air_ts"
   ]
  },
  {
   "cell_type": "markdown",
   "metadata": {},
   "source": [
    "# Prepare data using shift(1)"
   ]
  },
  {
   "cell_type": "code",
   "execution_count": 10,
   "metadata": {
    "scrolled": true
   },
   "outputs": [
    {
     "data": {
      "text/html": [
       "<div>\n",
       "<style scoped>\n",
       "    .dataframe tbody tr th:only-of-type {\n",
       "        vertical-align: middle;\n",
       "    }\n",
       "\n",
       "    .dataframe tbody tr th {\n",
       "        vertical-align: top;\n",
       "    }\n",
       "\n",
       "    .dataframe thead th {\n",
       "        text-align: right;\n",
       "    }\n",
       "</style>\n",
       "<table border=\"1\" class=\"dataframe\">\n",
       "  <thead>\n",
       "    <tr style=\"text-align: right;\">\n",
       "      <th></th>\n",
       "      <th>t</th>\n",
       "      <th>t+1</th>\n",
       "    </tr>\n",
       "  </thead>\n",
       "  <tbody>\n",
       "    <tr>\n",
       "      <td>0</td>\n",
       "      <td>0.015444</td>\n",
       "      <td>0.027027</td>\n",
       "    </tr>\n",
       "    <tr>\n",
       "      <td>1</td>\n",
       "      <td>0.027027</td>\n",
       "      <td>0.054054</td>\n",
       "    </tr>\n",
       "    <tr>\n",
       "      <td>2</td>\n",
       "      <td>0.054054</td>\n",
       "      <td>0.048263</td>\n",
       "    </tr>\n",
       "    <tr>\n",
       "      <td>3</td>\n",
       "      <td>0.048263</td>\n",
       "      <td>0.032819</td>\n",
       "    </tr>\n",
       "    <tr>\n",
       "      <td>4</td>\n",
       "      <td>0.032819</td>\n",
       "      <td>0.059846</td>\n",
       "    </tr>\n",
       "    <tr>\n",
       "      <td>...</td>\n",
       "      <td>...</td>\n",
       "      <td>...</td>\n",
       "    </tr>\n",
       "    <tr>\n",
       "      <td>139</td>\n",
       "      <td>0.969112</td>\n",
       "      <td>0.779923</td>\n",
       "    </tr>\n",
       "    <tr>\n",
       "      <td>140</td>\n",
       "      <td>0.779923</td>\n",
       "      <td>0.689189</td>\n",
       "    </tr>\n",
       "    <tr>\n",
       "      <td>141</td>\n",
       "      <td>0.689189</td>\n",
       "      <td>0.552124</td>\n",
       "    </tr>\n",
       "    <tr>\n",
       "      <td>142</td>\n",
       "      <td>0.552124</td>\n",
       "      <td>0.633205</td>\n",
       "    </tr>\n",
       "    <tr>\n",
       "      <td>143</td>\n",
       "      <td>0.633205</td>\n",
       "      <td>NaN</td>\n",
       "    </tr>\n",
       "  </tbody>\n",
       "</table>\n",
       "<p>144 rows × 2 columns</p>\n",
       "</div>"
      ],
      "text/plain": [
       "            t       t+1\n",
       "0    0.015444  0.027027\n",
       "1    0.027027  0.054054\n",
       "2    0.054054  0.048263\n",
       "3    0.048263  0.032819\n",
       "4    0.032819  0.059846\n",
       "..        ...       ...\n",
       "139  0.969112  0.779923\n",
       "140  0.779923  0.689189\n",
       "141  0.689189  0.552124\n",
       "142  0.552124  0.633205\n",
       "143  0.633205       NaN\n",
       "\n",
       "[144 rows x 2 columns]"
      ]
     },
     "execution_count": 10,
     "metadata": {},
     "output_type": "execute_result"
    }
   ],
   "source": [
    "df = pd.DataFrame()\n",
    "df['t'] = air_ts.flatten()\n",
    "df['t+1'] = df.t.shift(-1)\n",
    "df"
   ]
  },
  {
   "cell_type": "code",
   "execution_count": 11,
   "metadata": {},
   "outputs": [],
   "source": [
    "df.dropna(inplace=True)"
   ]
  },
  {
   "cell_type": "markdown",
   "metadata": {},
   "source": [
    "# x and y split"
   ]
  },
  {
   "cell_type": "code",
   "execution_count": 12,
   "metadata": {},
   "outputs": [],
   "source": [
    "x = df['t+1']\n",
    "y = df['t']"
   ]
  },
  {
   "cell_type": "markdown",
   "metadata": {},
   "source": [
    "# Split into train and test datasets"
   ]
  },
  {
   "cell_type": "code",
   "execution_count": 13,
   "metadata": {},
   "outputs": [],
   "source": [
    "x_train = x[:int(len(x)*.8)]\n",
    "x_test = x[int(len(x)*.8):]"
   ]
  },
  {
   "cell_type": "code",
   "execution_count": 14,
   "metadata": {},
   "outputs": [],
   "source": [
    "y_train = y[:int(len(y)*.8)]\n",
    "y_test = y[int(len(y)*.8):]"
   ]
  },
  {
   "cell_type": "code",
   "execution_count": 15,
   "metadata": {},
   "outputs": [
    {
     "name": "stdout",
     "output_type": "stream",
     "text": [
      "x_train: (114,)\n",
      "x_test: (29,)\n",
      "\n",
      "y_train: (114,)\n",
      "y_test:(29,)\n"
     ]
    }
   ],
   "source": [
    "print(f'x_train: {x_train.shape}\\nx_test: {x_test.shape}\\n\\ny_train: {y_train.shape}\\ny_test:{y_test.shape}')"
   ]
  },
  {
   "cell_type": "markdown",
   "metadata": {},
   "source": [
    "# Reshape input data to be [samples, time steps, features]"
   ]
  },
  {
   "cell_type": "code",
   "execution_count": 16,
   "metadata": {
    "scrolled": true
   },
   "outputs": [],
   "source": [
    "x_train = x_train.values.reshape(x_train.shape[0],\n",
    "                                 1,\n",
    "                                 1) # <-- x_train.shapep[1]\n",
    "\n",
    "x_test = x_test.values.reshape(x_test.shape[0],\n",
    "                               1,\n",
    "                               1) # <-- x_test.shape[1]"
   ]
  },
  {
   "cell_type": "markdown",
   "metadata": {},
   "source": [
    "# Build a model (4 units of LSTM, 1 Dense layer)"
   ]
  },
  {
   "cell_type": "code",
   "execution_count": 17,
   "metadata": {},
   "outputs": [
    {
     "name": "stderr",
     "output_type": "stream",
     "text": [
      "Using TensorFlow backend.\n"
     ]
    }
   ],
   "source": [
    "from keras.models import Sequential\n",
    "from keras.layers import Dense, LSTM"
   ]
  },
  {
   "cell_type": "code",
   "execution_count": 18,
   "metadata": {},
   "outputs": [
    {
     "name": "stdout",
     "output_type": "stream",
     "text": [
      "WARNING:tensorflow:From C:\\Users\\sundooedu\\Anaconda3\\lib\\site-packages\\keras\\backend\\tensorflow_backend.py:74: The name tf.get_default_graph is deprecated. Please use tf.compat.v1.get_default_graph instead.\n",
      "\n",
      "WARNING:tensorflow:From C:\\Users\\sundooedu\\Anaconda3\\lib\\site-packages\\keras\\backend\\tensorflow_backend.py:517: The name tf.placeholder is deprecated. Please use tf.compat.v1.placeholder instead.\n",
      "\n",
      "WARNING:tensorflow:From C:\\Users\\sundooedu\\Anaconda3\\lib\\site-packages\\keras\\backend\\tensorflow_backend.py:4138: The name tf.random_uniform is deprecated. Please use tf.random.uniform instead.\n",
      "\n"
     ]
    }
   ],
   "source": [
    "model = Sequential()\n",
    "model.add(LSTM(4, \n",
    "               activation = 'relu',\n",
    "               input_shape=(1,1))) #timesteps, n_features\n",
    "model.add(Dense(1))"
   ]
  },
  {
   "cell_type": "markdown",
   "metadata": {},
   "source": [
    "# compile with adam optimizer and mse loss"
   ]
  },
  {
   "cell_type": "code",
   "execution_count": 19,
   "metadata": {},
   "outputs": [
    {
     "name": "stdout",
     "output_type": "stream",
     "text": [
      "WARNING:tensorflow:From C:\\Users\\sundooedu\\Anaconda3\\lib\\site-packages\\keras\\optimizers.py:790: The name tf.train.Optimizer is deprecated. Please use tf.compat.v1.train.Optimizer instead.\n",
      "\n"
     ]
    }
   ],
   "source": [
    "model.compile(optimizer='adam',\n",
    "              loss = 'mse')"
   ]
  },
  {
   "cell_type": "markdown",
   "metadata": {},
   "source": [
    "# Fit the model (100 epochs and 1 batch size)"
   ]
  },
  {
   "cell_type": "code",
   "execution_count": 20,
   "metadata": {
    "scrolled": true
   },
   "outputs": [
    {
     "name": "stdout",
     "output_type": "stream",
     "text": [
      "WARNING:tensorflow:From C:\\Users\\sundooedu\\Anaconda3\\lib\\site-packages\\tensorflow_core\\python\\ops\\math_grad.py:1424: where (from tensorflow.python.ops.array_ops) is deprecated and will be removed in a future version.\n",
      "Instructions for updating:\n",
      "Use tf.where in 2.0, which has the same broadcast rule as np.where\n",
      "WARNING:tensorflow:From C:\\Users\\sundooedu\\Anaconda3\\lib\\site-packages\\keras\\backend\\tensorflow_backend.py:986: The name tf.assign_add is deprecated. Please use tf.compat.v1.assign_add instead.\n",
      "\n",
      "WARNING:tensorflow:From C:\\Users\\sundooedu\\Anaconda3\\lib\\site-packages\\keras\\backend\\tensorflow_backend.py:973: The name tf.assign is deprecated. Please use tf.compat.v1.assign instead.\n",
      "\n",
      "WARNING:tensorflow:From C:\\Users\\sundooedu\\Anaconda3\\lib\\site-packages\\keras\\backend\\tensorflow_backend.py:2741: The name tf.Session is deprecated. Please use tf.compat.v1.Session instead.\n",
      "\n",
      "Epoch 1/100\n",
      "WARNING:tensorflow:From C:\\Users\\sundooedu\\Anaconda3\\lib\\site-packages\\keras\\backend\\tensorflow_backend.py:174: The name tf.get_default_session is deprecated. Please use tf.compat.v1.get_default_session instead.\n",
      "\n",
      "WARNING:tensorflow:From C:\\Users\\sundooedu\\Anaconda3\\lib\\site-packages\\keras\\backend\\tensorflow_backend.py:181: The name tf.ConfigProto is deprecated. Please use tf.compat.v1.ConfigProto instead.\n",
      "\n",
      "WARNING:tensorflow:From C:\\Users\\sundooedu\\Anaconda3\\lib\\site-packages\\keras\\backend\\tensorflow_backend.py:190: The name tf.global_variables is deprecated. Please use tf.compat.v1.global_variables instead.\n",
      "\n",
      "WARNING:tensorflow:From C:\\Users\\sundooedu\\Anaconda3\\lib\\site-packages\\keras\\backend\\tensorflow_backend.py:199: The name tf.is_variable_initialized is deprecated. Please use tf.compat.v1.is_variable_initialized instead.\n",
      "\n",
      "WARNING:tensorflow:From C:\\Users\\sundooedu\\Anaconda3\\lib\\site-packages\\keras\\backend\\tensorflow_backend.py:206: The name tf.variables_initializer is deprecated. Please use tf.compat.v1.variables_initializer instead.\n",
      "\n",
      "114/114 [==============================] - 1s 11ms/step - loss: 0.0752\n",
      "Epoch 2/100\n",
      "114/114 [==============================] - 0s 2ms/step - loss: 0.0425\n",
      "Epoch 3/100\n",
      "114/114 [==============================] - 0s 2ms/step - loss: 0.0294\n",
      "Epoch 4/100\n",
      "114/114 [==============================] - 0s 2ms/step - loss: 0.0252\n",
      "Epoch 5/100\n",
      "114/114 [==============================] - 0s 2ms/step - loss: 0.0236\n",
      "Epoch 6/100\n",
      "114/114 [==============================] - 0s 2ms/step - loss: 0.0224\n",
      "Epoch 7/100\n",
      "114/114 [==============================] - 0s 2ms/step - loss: 0.0213\n",
      "Epoch 8/100\n",
      "114/114 [==============================] - 0s 2ms/step - loss: 0.0202\n",
      "Epoch 9/100\n",
      "114/114 [==============================] - 0s 2ms/step - loss: 0.0189\n",
      "Epoch 10/100\n",
      "114/114 [==============================] - 0s 2ms/step - loss: 0.0177\n",
      "Epoch 11/100\n",
      "114/114 [==============================] - 0s 2ms/step - loss: 0.0163\n",
      "Epoch 12/100\n",
      "114/114 [==============================] - 0s 2ms/step - loss: 0.0150\n",
      "Epoch 13/100\n",
      "114/114 [==============================] - 0s 2ms/step - loss: 0.0135\n",
      "Epoch 14/100\n",
      "114/114 [==============================] - 0s 2ms/step - loss: 0.0122\n",
      "Epoch 15/100\n",
      "114/114 [==============================] - 0s 2ms/step - loss: 0.0108\n",
      "Epoch 16/100\n",
      "114/114 [==============================] - 0s 2ms/step - loss: 0.0095\n",
      "Epoch 17/100\n",
      "114/114 [==============================] - 0s 2ms/step - loss: 0.0084\n",
      "Epoch 18/100\n",
      "114/114 [==============================] - 0s 2ms/step - loss: 0.0073\n",
      "Epoch 19/100\n",
      "114/114 [==============================] - 0s 2ms/step - loss: 0.0065\n",
      "Epoch 20/100\n",
      "114/114 [==============================] - 0s 2ms/step - loss: 0.0057\n",
      "Epoch 21/100\n",
      "114/114 [==============================] - 0s 2ms/step - loss: 0.0050\n",
      "Epoch 22/100\n",
      "114/114 [==============================] - 0s 2ms/step - loss: 0.0045\n",
      "Epoch 23/100\n",
      "114/114 [==============================] - 0s 2ms/step - loss: 0.0041\n",
      "Epoch 24/100\n",
      "114/114 [==============================] - 0s 2ms/step - loss: 0.0038\n",
      "Epoch 25/100\n",
      "114/114 [==============================] - 0s 2ms/step - loss: 0.0036\n",
      "Epoch 26/100\n",
      "114/114 [==============================] - 0s 2ms/step - loss: 0.0035\n",
      "Epoch 27/100\n",
      "114/114 [==============================] - 0s 2ms/step - loss: 0.0034\n",
      "Epoch 28/100\n",
      "114/114 [==============================] - 0s 2ms/step - loss: 0.0033\n",
      "Epoch 29/100\n",
      "114/114 [==============================] - 0s 2ms/step - loss: 0.0032\n",
      "Epoch 30/100\n",
      "114/114 [==============================] - 0s 2ms/step - loss: 0.0032\n",
      "Epoch 31/100\n",
      "114/114 [==============================] - 0s 2ms/step - loss: 0.0033\n",
      "Epoch 32/100\n",
      "114/114 [==============================] - 0s 2ms/step - loss: 0.0031\n",
      "Epoch 33/100\n",
      "114/114 [==============================] - 0s 2ms/step - loss: 0.0032\n",
      "Epoch 34/100\n",
      "114/114 [==============================] - 0s 2ms/step - loss: 0.0032\n",
      "Epoch 35/100\n",
      "114/114 [==============================] - 0s 2ms/step - loss: 0.0032\n",
      "Epoch 36/100\n",
      "114/114 [==============================] - 0s 2ms/step - loss: 0.0031\n",
      "Epoch 37/100\n",
      "114/114 [==============================] - 0s 2ms/step - loss: 0.0031\n",
      "Epoch 38/100\n",
      "114/114 [==============================] - 0s 2ms/step - loss: 0.0031\n",
      "Epoch 39/100\n",
      "114/114 [==============================] - 0s 2ms/step - loss: 0.0032A: 0s - loss: 0.\n",
      "Epoch 40/100\n",
      "114/114 [==============================] - 0s 2ms/step - loss: 0.0032\n",
      "Epoch 41/100\n",
      "114/114 [==============================] - 0s 2ms/step - loss: 0.0031\n",
      "Epoch 42/100\n",
      "114/114 [==============================] - 0s 2ms/step - loss: 0.0031\n",
      "Epoch 43/100\n",
      "114/114 [==============================] - 0s 2ms/step - loss: 0.0031\n",
      "Epoch 44/100\n",
      "114/114 [==============================] - 0s 2ms/step - loss: 0.0031\n",
      "Epoch 45/100\n",
      "114/114 [==============================] - 0s 2ms/step - loss: 0.0031\n",
      "Epoch 46/100\n",
      "114/114 [==============================] - 0s 2ms/step - loss: 0.0032\n",
      "Epoch 47/100\n",
      "114/114 [==============================] - 0s 2ms/step - loss: 0.0032\n",
      "Epoch 48/100\n",
      "114/114 [==============================] - 0s 2ms/step - loss: 0.0031\n",
      "Epoch 49/100\n",
      "114/114 [==============================] - 0s 2ms/step - loss: 0.0032\n",
      "Epoch 50/100\n",
      "114/114 [==============================] - 0s 2ms/step - loss: 0.0031\n",
      "Epoch 51/100\n",
      "114/114 [==============================] - 0s 2ms/step - loss: 0.0031\n",
      "Epoch 52/100\n",
      "114/114 [==============================] - 0s 2ms/step - loss: 0.0032\n",
      "Epoch 53/100\n",
      "114/114 [==============================] - ETA: 0s - loss: 0.003 - 0s 2ms/step - loss: 0.0031\n",
      "Epoch 54/100\n",
      "114/114 [==============================] - 0s 2ms/step - loss: 0.0031\n",
      "Epoch 55/100\n",
      "114/114 [==============================] - 0s 2ms/step - loss: 0.0031\n",
      "Epoch 56/100\n",
      "114/114 [==============================] - 0s 2ms/step - loss: 0.0031\n",
      "Epoch 57/100\n",
      "114/114 [==============================] - 0s 2ms/step - loss: 0.0031\n",
      "Epoch 58/100\n",
      "114/114 [==============================] - 0s 2ms/step - loss: 0.0031\n",
      "Epoch 59/100\n",
      "114/114 [==============================] - 0s 2ms/step - loss: 0.0031\n",
      "Epoch 60/100\n",
      "114/114 [==============================] - 0s 2ms/step - loss: 0.0031\n",
      "Epoch 61/100\n",
      "114/114 [==============================] - 0s 2ms/step - loss: 0.0031\n",
      "Epoch 62/100\n",
      "114/114 [==============================] - 0s 2ms/step - loss: 0.0031\n",
      "Epoch 63/100\n",
      "114/114 [==============================] - 0s 2ms/step - loss: 0.0031\n",
      "Epoch 64/100\n",
      "114/114 [==============================] - 0s 2ms/step - loss: 0.0031\n",
      "Epoch 65/100\n",
      "114/114 [==============================] - 0s 2ms/step - loss: 0.0031\n",
      "Epoch 66/100\n",
      "114/114 [==============================] - 0s 2ms/step - loss: 0.0030\n",
      "Epoch 67/100\n",
      "114/114 [==============================] - 0s 2ms/step - loss: 0.0031\n",
      "Epoch 68/100\n",
      "114/114 [==============================] - 0s 2ms/step - loss: 0.0031\n",
      "Epoch 69/100\n",
      "114/114 [==============================] - 0s 2ms/step - loss: 0.0031\n",
      "Epoch 70/100\n",
      "114/114 [==============================] - 0s 2ms/step - loss: 0.0030\n",
      "Epoch 71/100\n",
      "114/114 [==============================] - 0s 2ms/step - loss: 0.0030\n",
      "Epoch 72/100\n",
      "114/114 [==============================] - 0s 2ms/step - loss: 0.0031\n",
      "Epoch 73/100\n",
      "114/114 [==============================] - 0s 2ms/step - loss: 0.0031\n",
      "Epoch 74/100\n",
      "114/114 [==============================] - 0s 2ms/step - loss: 0.0031\n",
      "Epoch 75/100\n",
      "114/114 [==============================] - 0s 2ms/step - loss: 0.0030\n",
      "Epoch 76/100\n",
      "114/114 [==============================] - 0s 2ms/step - loss: 0.0031\n",
      "Epoch 77/100\n",
      "114/114 [==============================] - 0s 2ms/step - loss: 0.0031\n",
      "Epoch 78/100\n",
      "114/114 [==============================] - 0s 2ms/step - loss: 0.0030\n",
      "Epoch 79/100\n",
      "114/114 [==============================] - 0s 2ms/step - loss: 0.0030\n",
      "Epoch 80/100\n",
      "114/114 [==============================] - 0s 2ms/step - loss: 0.0030\n",
      "Epoch 81/100\n",
      "114/114 [==============================] - 0s 2ms/step - loss: 0.0031\n",
      "Epoch 82/100\n",
      "114/114 [==============================] - 0s 2ms/step - loss: 0.0030\n",
      "Epoch 83/100\n",
      "114/114 [==============================] - 0s 2ms/step - loss: 0.0030\n",
      "Epoch 84/100\n",
      "114/114 [==============================] - 0s 2ms/step - loss: 0.0031\n",
      "Epoch 85/100\n",
      "114/114 [==============================] - 0s 2ms/step - loss: 0.0030\n",
      "Epoch 86/100\n",
      "114/114 [==============================] - 0s 2ms/step - loss: 0.0031\n",
      "Epoch 87/100\n",
      "114/114 [==============================] - 0s 2ms/step - loss: 0.0030\n",
      "Epoch 88/100\n",
      "114/114 [==============================] - 0s 2ms/step - loss: 0.0030\n",
      "Epoch 89/100\n",
      "114/114 [==============================] - 0s 2ms/step - loss: 0.0031\n",
      "Epoch 90/100\n",
      "114/114 [==============================] - 0s 2ms/step - loss: 0.0030\n",
      "Epoch 91/100\n",
      "114/114 [==============================] - 0s 2ms/step - loss: 0.0030\n",
      "Epoch 92/100\n",
      "114/114 [==============================] - 0s 2ms/step - loss: 0.0031\n",
      "Epoch 93/100\n",
      "114/114 [==============================] - 0s 2ms/step - loss: 0.0030\n",
      "Epoch 94/100\n",
      "114/114 [==============================] - 0s 2ms/step - loss: 0.0030\n",
      "Epoch 95/100\n",
      "114/114 [==============================] - 0s 2ms/step - loss: 0.0030\n",
      "Epoch 96/100\n",
      "114/114 [==============================] - 0s 2ms/step - loss: 0.0030\n",
      "Epoch 97/100\n",
      "114/114 [==============================] - 0s 2ms/step - loss: 0.0030\n",
      "Epoch 98/100\n",
      "114/114 [==============================] - 0s 2ms/step - loss: 0.0030\n",
      "Epoch 99/100\n",
      "114/114 [==============================] - 0s 2ms/step - loss: 0.0030\n",
      "Epoch 100/100\n",
      "114/114 [==============================] - 0s 2ms/step - loss: 0.0030\n"
     ]
    }
   ],
   "source": [
    "history = model.fit(x_train,\n",
    "                    y_train, \n",
    "                    epochs =100,\n",
    "                    batch_size = 1)"
   ]
  },
  {
   "cell_type": "markdown",
   "metadata": {},
   "source": [
    "# Prediction using test dataset"
   ]
  },
  {
   "cell_type": "code",
   "execution_count": 21,
   "metadata": {
    "scrolled": true
   },
   "outputs": [
    {
     "data": {
      "text/plain": [
       "array([[0.77413404],\n",
       "       [0.5475701 ],\n",
       "       [0.4554503 ],\n",
       "       [0.3612505 ],\n",
       "       [0.412377  ],\n",
       "       [0.45743862],\n",
       "       [0.4220542 ],\n",
       "       [0.55179083],\n",
       "       [0.5307955 ],\n",
       "       [0.5816402 ],\n",
       "       [0.6972192 ],\n",
       "       [0.87835854],\n",
       "       [0.9058838 ],\n",
       "       [0.6766795 ],\n",
       "       [0.55390525],\n",
       "       [0.4614232 ],\n",
       "       [0.5496791 ],\n",
       "       [0.5751989 ],\n",
       "       [0.52039915],\n",
       "       [0.5794903 ],\n",
       "       [0.6721457 ],\n",
       "       [0.6972192 ],\n",
       "       [0.84628403],\n",
       "       [1.0704166 ],\n",
       "       [1.0275103 ],\n",
       "       [0.7812324 ],\n",
       "       [0.6721457 ],\n",
       "       [0.5183279 ],\n",
       "       [0.60765094]], dtype=float32)"
      ]
     },
     "execution_count": 21,
     "metadata": {},
     "output_type": "execute_result"
    }
   ],
   "source": [
    "y_pred = model.predict(x_test)\n",
    "y_pred"
   ]
  },
  {
   "cell_type": "markdown",
   "metadata": {},
   "source": [
    "# 표준화한 예측값을 다시  원래값으로 돌릴때"
   ]
  },
  {
   "cell_type": "code",
   "execution_count": 25,
   "metadata": {
    "scrolled": true
   },
   "outputs": [],
   "source": [
    "y_pred_test = scaler.inverse_transform(model.predict(x_test))\n",
    "y_test_inverse = scaler.inverse_transform(y_test.values.reshape(-1,1))"
   ]
  },
  {
   "cell_type": "code",
   "execution_count": 26,
   "metadata": {
    "scrolled": true
   },
   "outputs": [],
   "source": [
    "y_pred_train = scaler.inverse_transform(model.predict(x_train))\n",
    "y_train_inverse = scaler.inverse_transform(y_train.values.reshape(-1,1))"
   ]
  },
  {
   "cell_type": "markdown",
   "metadata": {},
   "source": [
    "# Calculate the root mean squared error"
   ]
  },
  {
   "cell_type": "code",
   "execution_count": 24,
   "metadata": {
    "scrolled": true
   },
   "outputs": [
    {
     "name": "stdout",
     "output_type": "stream",
     "text": [
      "\r",
      "29/29 [==============================] - 0s 5ms/step\n"
     ]
    },
    {
     "data": {
      "text/plain": [
       "0.013270002789795399"
      ]
     },
     "execution_count": 24,
     "metadata": {},
     "output_type": "execute_result"
    }
   ],
   "source": [
    "model.evaluate(x_test, y_test)"
   ]
  },
  {
   "cell_type": "code",
   "execution_count": 29,
   "metadata": {},
   "outputs": [
    {
     "data": {
      "text/plain": [
       "3560.6596503190954"
      ]
     },
     "execution_count": 29,
     "metadata": {},
     "output_type": "execute_result"
    }
   ],
   "source": [
    "from sklearn.metrics import mean_squared_error\n",
    "mse = mean_squared_error(y_test_inverse, y_pred_test)\n",
    "mse"
   ]
  },
  {
   "cell_type": "code",
   "execution_count": 30,
   "metadata": {},
   "outputs": [
    {
     "data": {
      "text/plain": [
       "59.671263186890016"
      ]
     },
     "execution_count": 30,
     "metadata": {},
     "output_type": "execute_result"
    }
   ],
   "source": [
    "np.sqrt(mse)"
   ]
  },
  {
   "cell_type": "markdown",
   "metadata": {},
   "source": [
    "# Visualize the result"
   ]
  },
  {
   "cell_type": "code",
   "execution_count": 41,
   "metadata": {},
   "outputs": [
    {
     "data": {
      "text/plain": [
       "<matplotlib.legend.Legend at 0x1c2099a1d48>"
      ]
     },
     "execution_count": 41,
     "metadata": {},
     "output_type": "execute_result"
    },
    {
     "data": {
      "image/png": "[encoded data removed]",
      "text/plain": [
       "<Figure size 1224x576 with 1 Axes>"
      ]
     },
     "metadata": {
      "needs_background": "light"
     },
     "output_type": "display_data"
    }
   ],
   "source": [
    "plt.figure(figsize = (17,8))\n",
    "\n",
    "plt.title('Forecasting Chart')\n",
    "plt.plot(y_train_inverse, label = 'train')\n",
    "plt.plot(y_pred_train, label = 'predicted')\n",
    "plt.plot(np.arange(113,113+len(y_test)), y_test_inverse, label = 'test')\n",
    "\n",
    "plt.legend(loc='best')"
   ]
  },
  {
   "cell_type": "markdown",
   "metadata": {},
   "source": []
  },
  {
   "cell_type": "code",
   "execution_count": null,
   "metadata": {},
   "outputs": [],
   "source": []
  }
 ],
 "metadata": {
  "kernelspec": {
   "display_name": "Python 3",
   "language": "python",
   "name": "python3"
  },
  "language_info": {
   "codemirror_mode": {
    "name": "ipython",
    "version": 3
   },
   "file_extension": ".py",
   "mimetype": "text/x-python",
   "name": "python",
   "nbconvert_exporter": "python",
   "pygments_lexer": "ipython3",
   "version": "3.7.4"
  }
 },
 "nbformat": 4,
 "nbformat_minor": 2
}
