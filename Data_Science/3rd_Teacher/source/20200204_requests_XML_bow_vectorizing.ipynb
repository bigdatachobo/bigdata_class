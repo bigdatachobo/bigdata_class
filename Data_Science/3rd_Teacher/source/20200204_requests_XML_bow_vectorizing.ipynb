{
 "cells": [
  {
   "cell_type": "code",
   "execution_count": 1,
   "metadata": {},
   "outputs": [],
   "source": [
    "import requests\n",
    "from bs4 import BeautifulSoup"
   ]
  },
  {
   "cell_type": "code",
   "execution_count": 5,
   "metadata": {},
   "outputs": [
    {
     "data": {
      "text/plain": [
       "b'<!DOCTYPE html>\\n<html>\\n    <head>\\n        <title>A simple example page</title>\\n    </head>\\n    <body>\\n        <p>Here is some simple content for this page.</p>\\n    </body>\\n</html>'"
      ]
     },
     "execution_count": 5,
     "metadata": {},
     "output_type": "execute_result"
    }
   ],
   "source": [
    "page = requests.get('http://dataquestio.github.io/web-scraping-pages/simple.html')\n",
    "soup = BeautifulSoup(page.content, 'html.parser')\n",
    "page.content"
   ]
  },
  {
   "cell_type": "code",
   "execution_count": 6,
   "metadata": {},
   "outputs": [
    {
     "name": "stdout",
     "output_type": "stream",
     "text": [
      "soup.p:\n",
      "<p>Here is some simple content for this page.</p>\n",
      "soup.title:\n",
      "<title>A simple example page</title>\n",
      "soup.head:\n",
      "<head>\n",
      "<title>A simple example page</title>\n",
      "</head>\n",
      "soup.body:\n",
      "<body>\n",
      "<p>Here is some simple content for this page.</p>\n",
      "</body>\n"
     ]
    }
   ],
   "source": [
    "print(f'soup.p:\\n{soup.p}\\nsoup.title:\\n{soup.title}\\nsoup.head:\\n{soup.head}\\nsoup.body:\\n{soup.body}')"
   ]
  },
  {
   "cell_type": "code",
   "execution_count": 4,
   "metadata": {},
   "outputs": [
    {
     "data": {
      "text/plain": [
       "b'<html>\\n    <head>\\n        <title>A simple example page</title>\\n    </head>\\n    <body>\\n        <div>\\n            <p class=\"inner-text first-item\" id=\"first\">\\n                First paragraph.\\n            </p>\\n            <p class=\"inner-text\">\\n                Second paragraph.\\n            </p>\\n        </div>\\n        <p class=\"outer-text first-item\" id=\"second\">\\n            <b>\\n                First outer paragraph.\\n            </b>\\n        </p>\\n        <p class=\"outer-text\">\\n            <b>\\n                Second outer paragraph.\\n            </b>\\n        </p>\\n    </body>\\n</html>'"
      ]
     },
     "execution_count": 4,
     "metadata": {},
     "output_type": "execute_result"
    }
   ],
   "source": [
    "page1 = requests.get('http://dataquestio.github.io/web-scraping-pages/ids_and_classes.html')\n",
    "soup1 = BeautifulSoup(page1.content, 'html.parser')\n",
    "page1.content# 미정렬"
   ]
  },
  {
   "cell_type": "code",
   "execution_count": 8,
   "metadata": {},
   "outputs": [
    {
     "name": "stdout",
     "output_type": "stream",
     "text": [
      "soup1:\n",
      "<html>\n",
      "<head>\n",
      "<title>A simple example page</title>\n",
      "</head>\n",
      "<body>\n",
      "<div>\n",
      "<p class=\"inner-text first-item\" id=\"first\">\n",
      "                First paragraph.\n",
      "            </p>\n",
      "<p class=\"inner-text\">\n",
      "                Second paragraph.\n",
      "            </p>\n",
      "</div>\n",
      "<p class=\"outer-text first-item\" id=\"second\">\n",
      "<b>\n",
      "                First outer paragraph.\n",
      "            </b>\n",
      "</p>\n",
      "<p class=\"outer-text\">\n",
      "<b>\n",
      "                Second outer paragraph.\n",
      "            </b>\n",
      "</p>\n",
      "</body>\n",
      "</html>\n",
      "\n",
      "soup1.body:\n",
      "<body>\n",
      "<div>\n",
      "<p class=\"inner-text first-item\" id=\"first\">\n",
      "                First paragraph.\n",
      "            </p>\n",
      "<p class=\"inner-text\">\n",
      "                Second paragraph.\n",
      "            </p>\n",
      "</div>\n",
      "<p class=\"outer-text first-item\" id=\"second\">\n",
      "<b>\n",
      "                First outer paragraph.\n",
      "            </b>\n",
      "</p>\n",
      "<p class=\"outer-text\">\n",
      "<b>\n",
      "                Second outer paragraph.\n",
      "            </b>\n",
      "</p>\n",
      "</body>\n",
      "\n",
      "soup1.p:\n",
      "<p class=\"inner-text first-item\" id=\"first\">\n",
      "                First paragraph.\n",
      "            </p>\n"
     ]
    }
   ],
   "source": [
    "print(f'soup1:\\n{soup1}\\n\\nsoup1.body:\\n{soup1.body }\\n\\nsoup1.p:\\n{soup1.p}')"
   ]
  },
  {
   "cell_type": "code",
   "execution_count": 9,
   "metadata": {},
   "outputs": [
    {
     "data": {
      "text/plain": [
       "4"
      ]
     },
     "execution_count": 9,
     "metadata": {},
     "output_type": "execute_result"
    }
   ],
   "source": [
    "a = soup1.find_all('p')\n",
    "len(a) #4"
   ]
  },
  {
   "cell_type": "code",
   "execution_count": 10,
   "metadata": {},
   "outputs": [
    {
     "data": {
      "text/plain": [
       "2"
      ]
     },
     "execution_count": 10,
     "metadata": {},
     "output_type": "execute_result"
    }
   ],
   "source": [
    "b =soup1.find_all('p', class_='outer-text')\n",
    "len(b) #2 "
   ]
  },
  {
   "cell_type": "code",
   "execution_count": 11,
   "metadata": {},
   "outputs": [
    {
     "data": {
      "text/plain": [
       "[<p class=\"inner-text first-item\" id=\"first\">\n",
       "                 First paragraph.\n",
       "             </p>]"
      ]
     },
     "execution_count": 11,
     "metadata": {},
     "output_type": "execute_result"
    }
   ],
   "source": [
    "soup1.find_all(id='first')"
   ]
  },
  {
   "cell_type": "code",
   "execution_count": 12,
   "metadata": {},
   "outputs": [
    {
     "data": {
      "text/plain": [
       "[<p class=\"outer-text first-item\" id=\"second\">\n",
       " <b>\n",
       "                 First outer paragraph.\n",
       "             </b>\n",
       " </p>]"
      ]
     },
     "execution_count": 12,
     "metadata": {},
     "output_type": "execute_result"
    }
   ],
   "source": [
    "soup1.find_all(id='second')"
   ]
  },
  {
   "cell_type": "code",
   "execution_count": 13,
   "metadata": {},
   "outputs": [
    {
     "data": {
      "text/plain": [
       "[<p class=\"inner-text first-item\" id=\"first\">\n",
       "                 First paragraph.\n",
       "             </p>, <p class=\"inner-text\">\n",
       "                 Second paragraph.\n",
       "             </p>]"
      ]
     },
     "execution_count": 13,
     "metadata": {},
     "output_type": "execute_result"
    }
   ],
   "source": [
    "soup1.select('div p')  # 검색됨. "
   ]
  },
  {
   "cell_type": "code",
   "execution_count": 14,
   "metadata": {},
   "outputs": [
    {
     "data": {
      "text/plain": [
       "[]"
      ]
     },
     "execution_count": 14,
     "metadata": {},
     "output_type": "execute_result"
    }
   ],
   "source": [
    "soup1.find_all('div p')# erorr find는 id, class_ 등 직접적으로 지정할때 사용하자"
   ]
  },
  {
   "cell_type": "code",
   "execution_count": 16,
   "metadata": {},
   "outputs": [
    {
     "name": "stdout",
     "output_type": "stream",
     "text": [
      "\n",
      "                First paragraph.\n",
      "            \n",
      "\n",
      "                Second paragraph.\n",
      "            \n"
     ]
    }
   ],
   "source": [
    "for p in soup1.select('div p'):\n",
    "    print(p.text)"
   ]
  },
  {
   "cell_type": "markdown",
   "metadata": {},
   "source": [
    "# 공공데이터 - 오픈API - 온라인 가격 정보 \n",
    "# XML - REST서비스 "
   ]
  },
  {
   "cell_type": "code",
   "execution_count": 17,
   "metadata": {},
   "outputs": [],
   "source": [
    "import numpy as np\n",
    "import pandas as pd\n",
    "import matplotlib.pyplot as plt"
   ]
  },
  {
   "cell_type": "code",
   "execution_count": 18,
   "metadata": {},
   "outputs": [],
   "source": [
    "page2 = requests.get('http://data.insight.go.kr:8080/openapi/service/PriceInfo/getPriceInfo?serviceKey=aSkTEXbtl4XRymqEwiFSQEGeMPo3tK%2B7pQ8nLVw4qlxJOhgTYTvPvODJ1nshAM2iu6R9EvCvAh5OvCu01y2Myg%3D%3D&itemCode=A019170&startDate=20150101&endDate=20150101&pageNo=1&numOfRows=10')\n",
    "soup2 = BeautifulSoup(page2.content, 'html.parser')"
   ]
  },
  {
   "cell_type": "code",
   "execution_count": 19,
   "metadata": {},
   "outputs": [
    {
     "data": {
      "text/plain": [
       "'A019170'"
      ]
     },
     "execution_count": 19,
     "metadata": {},
     "output_type": "execute_result"
    }
   ],
   "source": [
    "soup2.find('ic').string"
   ]
  },
  {
   "cell_type": "code",
   "execution_count": 20,
   "metadata": {},
   "outputs": [
    {
     "data": {
      "text/plain": [
       "'냉동식품'"
      ]
     },
     "execution_count": 20,
     "metadata": {},
     "output_type": "execute_result"
    }
   ],
   "source": [
    "soup2.find('in').string"
   ]
  },
  {
   "cell_type": "code",
   "execution_count": 21,
   "metadata": {},
   "outputs": [
    {
     "data": {
      "text/plain": [
       "['999334384',\n",
       " '99781659',\n",
       " '996779248',\n",
       " '996514461',\n",
       " '996182902',\n",
       " '995175838',\n",
       " '994706485',\n",
       " '992409023',\n",
       " '986488146',\n",
       " '986025507']"
      ]
     },
     "execution_count": 21,
     "metadata": {},
     "output_type": "execute_result"
    }
   ],
   "source": [
    "pi_list =[]\n",
    "for pi in soup2.find_all('pi'):\n",
    "    pi_list.append(pi.string)\n",
    "pi_list    "
   ]
  },
  {
   "cell_type": "code",
   "execution_count": 22,
   "metadata": {},
   "outputs": [
    {
     "data": {
      "text/plain": [
       "['일드프랑스 까망베르(125g)',\n",
       " '풀무원 옛두부 300g*2',\n",
       " '피자소스(피자푸드 태원 2K)',\n",
       " '코리원[페스츄리도우 25X25(5개입)쌀도우/오곡도우/녹차곡물도우/9인치/12인치/임실/피자재료',\n",
       " '월남쌈튀김겸용 원형22Cm 500g X 1 가공식품 쌈 월남',\n",
       " '대상_국산찌개부침(기획)_300G*2',\n",
       " '동원_수제 치즈돈까스_480G',\n",
       " '이탈리안 라자니아_280G_Singles pride',\n",
       " '월간비건 12월호',\n",
       " ' 쟌슨빌 김치 부대찌개 965g + 사리면 110g x 2']"
      ]
     },
     "execution_count": 22,
     "metadata": {},
     "output_type": "execute_result"
    }
   ],
   "source": [
    "pn_list =[]\n",
    "for pn in soup2.find_all('pn'):\n",
    "    pn_list.append(pn.string)\n",
    "pn_list"
   ]
  },
  {
   "cell_type": "code",
   "execution_count": 23,
   "metadata": {},
   "outputs": [
    {
     "data": {
      "text/plain": [
       "['11930.0',\n",
       " '3861.0',\n",
       " '6170.0',\n",
       " '9510.0',\n",
       " '6540.0',\n",
       " '3980.0',\n",
       " '7480.0',\n",
       " '4000.0',\n",
       " '4500.0',\n",
       " '9980.0']"
      ]
     },
     "execution_count": 23,
     "metadata": {},
     "output_type": "execute_result"
    }
   ],
   "source": [
    "sp_list =[]\n",
    "for sp in soup2.find_all('sp'):\n",
    "    sp_list.append(sp.string)\n",
    "sp_list"
   ]
  },
  {
   "cell_type": "code",
   "execution_count": 24,
   "metadata": {},
   "outputs": [
    {
     "data": {
      "text/plain": [
       "['2015-01-01',\n",
       " '2015-01-01',\n",
       " '2015-01-01',\n",
       " '2015-01-01',\n",
       " '2015-01-01',\n",
       " '2015-01-01',\n",
       " '2015-01-01',\n",
       " '2015-01-01',\n",
       " '2015-01-01',\n",
       " '2015-01-01']"
      ]
     },
     "execution_count": 24,
     "metadata": {},
     "output_type": "execute_result"
    }
   ],
   "source": [
    "sd_list =[]\n",
    "for sd in soup2.find_all('sd'):\n",
    "    sd_list.append(sd.string)\n",
    "sd_list"
   ]
  },
  {
   "cell_type": "code",
   "execution_count": 26,
   "metadata": {},
   "outputs": [
    {
     "data": {
      "text/html": [
       "<div>\n",
       "<style scoped>\n",
       "    .dataframe tbody tr th:only-of-type {\n",
       "        vertical-align: middle;\n",
       "    }\n",
       "\n",
       "    .dataframe tbody tr th {\n",
       "        vertical-align: top;\n",
       "    }\n",
       "\n",
       "    .dataframe thead th {\n",
       "        text-align: right;\n",
       "    }\n",
       "</style>\n",
       "<table border=\"1\" class=\"dataframe\">\n",
       "  <thead>\n",
       "    <tr style=\"text-align: right;\">\n",
       "      <th></th>\n",
       "      <th>상품번호</th>\n",
       "      <th>상품이름</th>\n",
       "      <th>가격</th>\n",
       "      <th>날짜</th>\n",
       "    </tr>\n",
       "  </thead>\n",
       "  <tbody>\n",
       "    <tr>\n",
       "      <td>0</td>\n",
       "      <td>999334384</td>\n",
       "      <td>일드프랑스 까망베르(125g)</td>\n",
       "      <td>11930.0</td>\n",
       "      <td>2015-01-01</td>\n",
       "    </tr>\n",
       "    <tr>\n",
       "      <td>1</td>\n",
       "      <td>99781659</td>\n",
       "      <td>풀무원 옛두부 300g*2</td>\n",
       "      <td>3861.0</td>\n",
       "      <td>2015-01-01</td>\n",
       "    </tr>\n",
       "    <tr>\n",
       "      <td>2</td>\n",
       "      <td>996779248</td>\n",
       "      <td>피자소스(피자푸드 태원 2K)</td>\n",
       "      <td>6170.0</td>\n",
       "      <td>2015-01-01</td>\n",
       "    </tr>\n",
       "    <tr>\n",
       "      <td>3</td>\n",
       "      <td>996514461</td>\n",
       "      <td>코리원[페스츄리도우 25X25(5개입)쌀도우/오곡도우/녹차곡물도우/9인치/12인치/...</td>\n",
       "      <td>9510.0</td>\n",
       "      <td>2015-01-01</td>\n",
       "    </tr>\n",
       "    <tr>\n",
       "      <td>4</td>\n",
       "      <td>996182902</td>\n",
       "      <td>월남쌈튀김겸용 원형22Cm 500g X 1 가공식품 쌈 월남</td>\n",
       "      <td>6540.0</td>\n",
       "      <td>2015-01-01</td>\n",
       "    </tr>\n",
       "    <tr>\n",
       "      <td>5</td>\n",
       "      <td>995175838</td>\n",
       "      <td>대상_국산찌개부침(기획)_300G*2</td>\n",
       "      <td>3980.0</td>\n",
       "      <td>2015-01-01</td>\n",
       "    </tr>\n",
       "    <tr>\n",
       "      <td>6</td>\n",
       "      <td>994706485</td>\n",
       "      <td>동원_수제 치즈돈까스_480G</td>\n",
       "      <td>7480.0</td>\n",
       "      <td>2015-01-01</td>\n",
       "    </tr>\n",
       "    <tr>\n",
       "      <td>7</td>\n",
       "      <td>992409023</td>\n",
       "      <td>이탈리안 라자니아_280G_Singles pride</td>\n",
       "      <td>4000.0</td>\n",
       "      <td>2015-01-01</td>\n",
       "    </tr>\n",
       "    <tr>\n",
       "      <td>8</td>\n",
       "      <td>986488146</td>\n",
       "      <td>월간비건 12월호</td>\n",
       "      <td>4500.0</td>\n",
       "      <td>2015-01-01</td>\n",
       "    </tr>\n",
       "    <tr>\n",
       "      <td>9</td>\n",
       "      <td>986025507</td>\n",
       "      <td>쟌슨빌 김치 부대찌개 965g + 사리면 110g x 2</td>\n",
       "      <td>9980.0</td>\n",
       "      <td>2015-01-01</td>\n",
       "    </tr>\n",
       "  </tbody>\n",
       "</table>\n",
       "</div>"
      ],
      "text/plain": [
       "        상품번호                                               상품이름       가격  \\\n",
       "0  999334384                                   일드프랑스 까망베르(125g)  11930.0   \n",
       "1   99781659                                     풀무원 옛두부 300g*2   3861.0   \n",
       "2  996779248                                   피자소스(피자푸드 태원 2K)   6170.0   \n",
       "3  996514461  코리원[페스츄리도우 25X25(5개입)쌀도우/오곡도우/녹차곡물도우/9인치/12인치/...   9510.0   \n",
       "4  996182902                  월남쌈튀김겸용 원형22Cm 500g X 1 가공식품 쌈 월남   6540.0   \n",
       "5  995175838                               대상_국산찌개부침(기획)_300G*2   3980.0   \n",
       "6  994706485                                   동원_수제 치즈돈까스_480G   7480.0   \n",
       "7  992409023                       이탈리안 라자니아_280G_Singles pride   4000.0   \n",
       "8  986488146                                          월간비건 12월호   4500.0   \n",
       "9  986025507                    쟌슨빌 김치 부대찌개 965g + 사리면 110g x 2   9980.0   \n",
       "\n",
       "           날짜  \n",
       "0  2015-01-01  \n",
       "1  2015-01-01  \n",
       "2  2015-01-01  \n",
       "3  2015-01-01  \n",
       "4  2015-01-01  \n",
       "5  2015-01-01  \n",
       "6  2015-01-01  \n",
       "7  2015-01-01  \n",
       "8  2015-01-01  \n",
       "9  2015-01-01  "
      ]
     },
     "execution_count": 26,
     "metadata": {},
     "output_type": "execute_result"
    }
   ],
   "source": [
    "df = pd.DataFrame({'상품번호':pi_list,\n",
    "                   '상품이름':pn_list,\n",
    "                   '가격':sp_list,\n",
    "                   '날짜':sd_list})\n",
    "df"
   ]
  },
  {
   "cell_type": "code",
   "execution_count": 29,
   "metadata": {},
   "outputs": [],
   "source": [
    "df.to_csv('../data/price_info.csv', encoding ='cp949')"
   ]
  },
  {
   "cell_type": "markdown",
   "metadata": {},
   "source": [
    "# 로컬데이터 로딩"
   ]
  },
  {
   "cell_type": "markdown",
   "metadata": {},
   "source": [
    "from bs4 import BeautifulSoup\n",
    "f = open('C:/Users/sundooedu/Notepad++/ex12.html', encoding ='utf-8')\n",
    "soup  = BeautifulSoup(f)\n",
    "f.close()"
   ]
  },
  {
   "cell_type": "markdown",
   "metadata": {},
   "source": [
    "# bow vectorizing"
   ]
  },
  {
   "cell_type": "code",
   "execution_count": 31,
   "metadata": {},
   "outputs": [],
   "source": [
    "from sklearn.feature_extraction.text import CountVectorizer\n",
    "import numpy as np\n",
    "import pandas as pd\n",
    "import matplotlib.pyplot as plt"
   ]
  },
  {
   "cell_type": "code",
   "execution_count": 33,
   "metadata": {},
   "outputs": [],
   "source": [
    "text = ['this is the first documnet.',\n",
    "        'this is the second document.',\n",
    "        'and this is the third one.',\n",
    "        'is this the first document?']"
   ]
  },
  {
   "cell_type": "code",
   "execution_count": 34,
   "metadata": {},
   "outputs": [
    {
     "data": {
      "text/plain": [
       "array([[0, 0, 1, 1, 1, 0, 0, 1, 0, 1],\n",
       "       [0, 1, 0, 0, 1, 0, 1, 1, 0, 1],\n",
       "       [1, 0, 0, 0, 1, 1, 0, 1, 1, 1],\n",
       "       [0, 1, 0, 1, 1, 0, 0, 1, 0, 1]], dtype=int64)"
      ]
     },
     "execution_count": 34,
     "metadata": {},
     "output_type": "execute_result"
    }
   ],
   "source": [
    "cv = CountVectorizer()\n",
    "text = cv.fit_transform(text)\n",
    "text.toarray()"
   ]
  },
  {
   "cell_type": "markdown",
   "metadata": {},
   "source": [
    "# pitcher name 확인"
   ]
  },
  {
   "cell_type": "code",
   "execution_count": 35,
   "metadata": {},
   "outputs": [
    {
     "data": {
      "text/plain": [
       "['and',\n",
       " 'document',\n",
       " 'documnet',\n",
       " 'first',\n",
       " 'is',\n",
       " 'one',\n",
       " 'second',\n",
       " 'the',\n",
       " 'third',\n",
       " 'this']"
      ]
     },
     "execution_count": 35,
     "metadata": {},
     "output_type": "execute_result"
    }
   ],
   "source": [
    "cv.get_feature_names()"
   ]
  },
  {
   "cell_type": "markdown",
   "metadata": {},
   "source": [
    "# df 만들기"
   ]
  },
  {
   "cell_type": "code",
   "execution_count": 37,
   "metadata": {},
   "outputs": [
    {
     "data": {
      "text/html": [
       "<div>\n",
       "<style scoped>\n",
       "    .dataframe tbody tr th:only-of-type {\n",
       "        vertical-align: middle;\n",
       "    }\n",
       "\n",
       "    .dataframe tbody tr th {\n",
       "        vertical-align: top;\n",
       "    }\n",
       "\n",
       "    .dataframe thead th {\n",
       "        text-align: right;\n",
       "    }\n",
       "</style>\n",
       "<table border=\"1\" class=\"dataframe\">\n",
       "  <thead>\n",
       "    <tr style=\"text-align: right;\">\n",
       "      <th></th>\n",
       "      <th>and</th>\n",
       "      <th>document</th>\n",
       "      <th>documnet</th>\n",
       "      <th>first</th>\n",
       "      <th>is</th>\n",
       "      <th>one</th>\n",
       "      <th>second</th>\n",
       "      <th>the</th>\n",
       "      <th>third</th>\n",
       "      <th>this</th>\n",
       "    </tr>\n",
       "  </thead>\n",
       "  <tbody>\n",
       "    <tr>\n",
       "      <td>0</td>\n",
       "      <td>0</td>\n",
       "      <td>0</td>\n",
       "      <td>1</td>\n",
       "      <td>1</td>\n",
       "      <td>1</td>\n",
       "      <td>0</td>\n",
       "      <td>0</td>\n",
       "      <td>1</td>\n",
       "      <td>0</td>\n",
       "      <td>1</td>\n",
       "    </tr>\n",
       "    <tr>\n",
       "      <td>1</td>\n",
       "      <td>0</td>\n",
       "      <td>1</td>\n",
       "      <td>0</td>\n",
       "      <td>0</td>\n",
       "      <td>1</td>\n",
       "      <td>0</td>\n",
       "      <td>1</td>\n",
       "      <td>1</td>\n",
       "      <td>0</td>\n",
       "      <td>1</td>\n",
       "    </tr>\n",
       "    <tr>\n",
       "      <td>2</td>\n",
       "      <td>1</td>\n",
       "      <td>0</td>\n",
       "      <td>0</td>\n",
       "      <td>0</td>\n",
       "      <td>1</td>\n",
       "      <td>1</td>\n",
       "      <td>0</td>\n",
       "      <td>1</td>\n",
       "      <td>1</td>\n",
       "      <td>1</td>\n",
       "    </tr>\n",
       "    <tr>\n",
       "      <td>3</td>\n",
       "      <td>0</td>\n",
       "      <td>1</td>\n",
       "      <td>0</td>\n",
       "      <td>1</td>\n",
       "      <td>1</td>\n",
       "      <td>0</td>\n",
       "      <td>0</td>\n",
       "      <td>1</td>\n",
       "      <td>0</td>\n",
       "      <td>1</td>\n",
       "    </tr>\n",
       "  </tbody>\n",
       "</table>\n",
       "</div>"
      ],
      "text/plain": [
       "   and  document  documnet  first  is  one  second  the  third  this\n",
       "0    0         0         1      1   1    0       0    1      0     1\n",
       "1    0         1         0      0   1    0       1    1      0     1\n",
       "2    1         0         0      0   1    1       0    1      1     1\n",
       "3    0         1         0      1   1    0       0    1      0     1"
      ]
     },
     "execution_count": 37,
     "metadata": {},
     "output_type": "execute_result"
    }
   ],
   "source": [
    "df = pd.DataFrame(text.toarray(), \n",
    "                  columns=cv.get_feature_names())\n",
    "df"
   ]
  },
  {
   "cell_type": "code",
   "execution_count": 38,
   "metadata": {},
   "outputs": [],
   "source": [
    "labels = [1, 1, 1, 0] # 1: positive, 0: negative "
   ]
  },
  {
   "cell_type": "code",
   "execution_count": 39,
   "metadata": {},
   "outputs": [],
   "source": [
    "from sklearn.linear_model import LogisticRegression"
   ]
  },
  {
   "cell_type": "code",
   "execution_count": 40,
   "metadata": {},
   "outputs": [
    {
     "name": "stderr",
     "output_type": "stream",
     "text": [
      "C:\\Users\\sundooedu\\Anaconda3\\lib\\site-packages\\sklearn\\linear_model\\logistic.py:432: FutureWarning: Default solver will be changed to 'lbfgs' in 0.22. Specify a solver to silence this warning.\n",
      "  FutureWarning)\n"
     ]
    },
    {
     "data": {
      "text/plain": [
       "0.75"
      ]
     },
     "execution_count": 40,
     "metadata": {},
     "output_type": "execute_result"
    }
   ],
   "source": [
    "lr = LogisticRegression()\n",
    "lr.fit(df, labels)\n",
    "y_pred = lr.predict(df)\n",
    "(y_pred == labels).mean()\n",
    "lr.score(df, labels)"
   ]
  },
  {
   "cell_type": "markdown",
   "metadata": {},
   "source": [
    "# deep learning으로 계산해보기"
   ]
  },
  {
   "cell_type": "code",
   "execution_count": 41,
   "metadata": {},
   "outputs": [
    {
     "name": "stderr",
     "output_type": "stream",
     "text": [
      "Using TensorFlow backend.\n"
     ]
    }
   ],
   "source": [
    "from keras.models import Sequential\n",
    "from keras.layers import Dense"
   ]
  },
  {
   "cell_type": "code",
   "execution_count": 43,
   "metadata": {
    "scrolled": true
   },
   "outputs": [
    {
     "name": "stdout",
     "output_type": "stream",
     "text": [
      "Train on 3 samples, validate on 1 samples\n",
      "Epoch 1/10\n",
      "3/3 [==============================] - 0s 139ms/step - loss: 0.4541 - acc: 0.3333 - val_loss: 0.2335 - val_acc: 1.0000\n",
      "Epoch 2/10\n",
      "3/3 [==============================] - 0s 997us/step - loss: 0.4312 - acc: 0.3333 - val_loss: 0.2521 - val_acc: 1.0000\n",
      "Epoch 3/10\n",
      "3/3 [==============================] - 0s 994us/step - loss: 0.4092 - acc: 0.3333 - val_loss: 0.2709 - val_acc: 1.0000\n",
      "Epoch 4/10\n",
      "3/3 [==============================] - 0s 665us/step - loss: 0.3879 - acc: 0.3333 - val_loss: 0.2901 - val_acc: 1.0000\n",
      "Epoch 5/10\n",
      "3/3 [==============================] - 0s 997us/step - loss: 0.3674 - acc: 0.3333 - val_loss: 0.3095 - val_acc: 1.0000\n",
      "Epoch 6/10\n",
      "3/3 [==============================] - 0s 997us/step - loss: 0.3476 - acc: 0.3333 - val_loss: 0.3293 - val_acc: 1.0000\n",
      "Epoch 7/10\n",
      "3/3 [==============================] - 0s 664us/step - loss: 0.3285 - acc: 0.3333 - val_loss: 0.3494 - val_acc: 1.0000\n",
      "Epoch 8/10\n",
      "3/3 [==============================] - 0s 997us/step - loss: 0.3100 - acc: 0.3333 - val_loss: 0.3698 - val_acc: 1.0000\n",
      "Epoch 9/10\n",
      "3/3 [==============================] - 0s 1ms/step - loss: 0.2921 - acc: 0.3333 - val_loss: 0.3906 - val_acc: 1.0000\n",
      "Epoch 10/10\n",
      "3/3 [==============================] - 0s 1ms/step - loss: 0.2748 - acc: 0.3333 - val_loss: 0.4117 - val_acc: 1.0000\n"
     ]
    },
    {
     "data": {
      "text/plain": [
       "<keras.callbacks.History at 0x1ed29850048>"
      ]
     },
     "execution_count": 43,
     "metadata": {},
     "output_type": "execute_result"
    }
   ],
   "source": [
    "np.random.seed(1)\n",
    "model = Sequential()\n",
    "model.add(Dense(10, \n",
    "                input_dim =len(df.columns), \n",
    "                activation = 'relu'))\n",
    "model.add(Dense(1))\n",
    "model.compile(loss = 'binary_crossentropy', \n",
    "              optimizer = 'adam', \n",
    "              metrics=['accuracy'])\n",
    "model.fit(df, \n",
    "          labels, \n",
    "          epochs = 10, \n",
    "          validation_split=.2)"
   ]
  },
  {
   "cell_type": "code",
   "execution_count": 44,
   "metadata": {},
   "outputs": [
    {
     "data": {
      "text/plain": [
       "array([[0],\n",
       "       [1],\n",
       "       [1],\n",
       "       [0]])"
      ]
     },
     "execution_count": 44,
     "metadata": {},
     "output_type": "execute_result"
    }
   ],
   "source": [
    "model.predict_classes(df)"
   ]
  },
  {
   "cell_type": "code",
   "execution_count": 45,
   "metadata": {},
   "outputs": [
    {
     "name": "stdout",
     "output_type": "stream",
     "text": [
      "\r",
      "4/4 [==============================] - 0s 0us/step\n"
     ]
    },
    {
     "data": {
      "text/plain": [
       "[0.29640692472457886, 0.5]"
      ]
     },
     "execution_count": 45,
     "metadata": {},
     "output_type": "execute_result"
    }
   ],
   "source": [
    "model.evaluate(df, labels) # 50% 나옴"
   ]
  },
  {
   "cell_type": "code",
   "execution_count": null,
   "metadata": {},
   "outputs": [],
   "source": []
  }
 ],
 "metadata": {
  "kernelspec": {
   "display_name": "Python 3",
   "language": "python",
   "name": "python3"
  },
  "language_info": {
   "codemirror_mode": {
    "name": "ipython",
    "version": 3
   },
   "file_extension": ".py",
   "mimetype": "text/x-python",
   "name": "python",
   "nbconvert_exporter": "python",
   "pygments_lexer": "ipython3",
   "version": "3.7.4"
  }
 },
 "nbformat": 4,
 "nbformat_minor": 2
}
