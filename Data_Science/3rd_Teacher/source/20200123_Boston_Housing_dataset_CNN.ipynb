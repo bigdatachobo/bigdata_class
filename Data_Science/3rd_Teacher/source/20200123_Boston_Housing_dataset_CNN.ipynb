{
 "cells": [
  {
   "cell_type": "code",
   "execution_count": 1,
   "metadata": {},
   "outputs": [],
   "source": [
    "from sklearn.datasets import load_boston"
   ]
  },
  {
   "cell_type": "code",
   "execution_count": 2,
   "metadata": {},
   "outputs": [],
   "source": [
    "boston = load_boston()\n",
    "x, y = boston.data,boston.target"
   ]
  },
  {
   "cell_type": "code",
   "execution_count": 3,
   "metadata": {},
   "outputs": [],
   "source": [
    "from sklearn.model_selection import train_test_split\n",
    "x_train, x_test, y_train, y_test = train_test_split(x,\n",
    "                                                    y,\n",
    "                                                    test_size=0.2)"
   ]
  },
  {
   "cell_type": "code",
   "execution_count": 4,
   "metadata": {},
   "outputs": [
    {
     "name": "stdout",
     "output_type": "stream",
     "text": [
      "x_train: (404, 13)\n",
      "y_train: (404,)\n",
      "x_test: (102, 13)\n",
      "y_test: (102,)\n"
     ]
    }
   ],
   "source": [
    "print(f'x_train: {x_train.shape}\\ny_train: {y_train.shape}\\nx_test: {x_test.shape}\\ny_test: {y_test.shape}')"
   ]
  },
  {
   "cell_type": "markdown",
   "metadata": {},
   "source": [
    "# StandardScaler"
   ]
  },
  {
   "cell_type": "code",
   "execution_count": 5,
   "metadata": {},
   "outputs": [
    {
     "data": {
      "text/plain": [
       "array([[-0.35020831, -0.50120075, -0.70633384, ..., -0.43830049,\n",
       "         0.2764608 , -1.12713201],\n",
       "       [-0.40649048,  0.27443915, -1.28012558, ..., -1.39275157,\n",
       "         0.4395238 , -1.07894082],\n",
       "       [ 0.52739516, -0.50120075,  1.04896735, ...,  0.83430094,\n",
       "         0.4395238 ,  0.32411133],\n",
       "       ...,\n",
       "       [-0.3354429 ,  0.36062136, -1.03526844, ..., -2.43810274,\n",
       "         0.29057834, -0.69203439],\n",
       "       [ 0.40644918, -0.50120075,  1.04896735, ...,  0.83430094,\n",
       "        -0.57485937,  0.8941443 ],\n",
       "       [-0.40376832,  3.59245427, -1.4040292 , ..., -0.6201007 ,\n",
       "         0.4395238 , -1.13677025]])"
      ]
     },
     "execution_count": 5,
     "metadata": {},
     "output_type": "execute_result"
    }
   ],
   "source": [
    "from sklearn.preprocessing import StandardScaler\n",
    "scaler = StandardScaler()\n",
    "scaler.fit(x_train)\n",
    "x_train = scaler.fit_transform(x_train)\n",
    "x_train"
   ]
  },
  {
   "cell_type": "code",
   "execution_count": 6,
   "metadata": {},
   "outputs": [
    {
     "data": {
      "text/plain": [
       "array([[ 4.41721459, -0.43598888,  0.89688478, ...,  0.7033824 ,\n",
       "        -2.53039955,  2.23063676],\n",
       "       [-0.56838681, -0.43598888, -1.017523  , ..., -0.16101525,\n",
       "         0.3963635 , -0.83500172],\n",
       "       [-0.57267258,  3.58373731, -1.27212094, ..., -2.09319823,\n",
       "         0.40166601, -1.24964799],\n",
       "       ...,\n",
       "       [ 0.14769874, -0.43598888,  0.89688478, ...,  0.7033824 ,\n",
       "        -3.69418942,  0.78394809],\n",
       "       [ 4.94021324, -0.43598888,  0.89688478, ...,  0.7033824 ,\n",
       "        -1.60676908,  1.2306075 ],\n",
       "       [-0.55408871, -0.43598888, -0.24106959, ..., -0.51694369,\n",
       "         0.40741039,  0.00496189]])"
      ]
     },
     "execution_count": 6,
     "metadata": {},
     "output_type": "execute_result"
    }
   ],
   "source": [
    "scaler.fit(x_test)\n",
    "x_test = scaler.fit_transform(x_test)\n",
    "x_test"
   ]
  },
  {
   "cell_type": "code",
   "execution_count": 7,
   "metadata": {},
   "outputs": [
    {
     "name": "stderr",
     "output_type": "stream",
     "text": [
      "Using TensorFlow backend.\n"
     ]
    }
   ],
   "source": [
    "from keras.models import Sequential\n",
    "from keras.layers import Dense"
   ]
  },
  {
   "cell_type": "code",
   "execution_count": 8,
   "metadata": {},
   "outputs": [
    {
     "name": "stdout",
     "output_type": "stream",
     "text": [
      "WARNING:tensorflow:From C:\\Users\\sundooedu\\Anaconda3\\lib\\site-packages\\keras\\backend\\tensorflow_backend.py:74: The name tf.get_default_graph is deprecated. Please use tf.compat.v1.get_default_graph instead.\n",
      "\n",
      "WARNING:tensorflow:From C:\\Users\\sundooedu\\Anaconda3\\lib\\site-packages\\keras\\backend\\tensorflow_backend.py:517: The name tf.placeholder is deprecated. Please use tf.compat.v1.placeholder instead.\n",
      "\n",
      "WARNING:tensorflow:From C:\\Users\\sundooedu\\Anaconda3\\lib\\site-packages\\keras\\backend\\tensorflow_backend.py:4115: The name tf.random_normal is deprecated. Please use tf.random.normal instead.\n",
      "\n"
     ]
    }
   ],
   "source": [
    "model = Sequential()\n",
    "model.add(Dense(64,\n",
    "                input_dim=13,\n",
    "                activation = 'relu',\n",
    "                kernel_initializer='normal'))"
   ]
  },
  {
   "cell_type": "code",
   "execution_count": 9,
   "metadata": {},
   "outputs": [],
   "source": [
    "model.add(Dense(64, \n",
    "                activation = 'relu',\n",
    "                kernel_initializer='normal'))"
   ]
  },
  {
   "cell_type": "code",
   "execution_count": 10,
   "metadata": {},
   "outputs": [],
   "source": [
    "model.add(Dense(1, \n",
    "                activation = 'relu',\n",
    "                kernel_initializer='normal'))"
   ]
  },
  {
   "cell_type": "code",
   "execution_count": 11,
   "metadata": {},
   "outputs": [
    {
     "name": "stdout",
     "output_type": "stream",
     "text": [
      "WARNING:tensorflow:From C:\\Users\\sundooedu\\Anaconda3\\lib\\site-packages\\keras\\optimizers.py:790: The name tf.train.Optimizer is deprecated. Please use tf.compat.v1.train.Optimizer instead.\n",
      "\n"
     ]
    }
   ],
   "source": [
    "model.compile(loss = 'mse',\n",
    "              optimizer = 'adam',\n",
    "              metrics=['mse'])"
   ]
  },
  {
   "cell_type": "code",
   "execution_count": 12,
   "metadata": {
    "scrolled": true
   },
   "outputs": [
    {
     "name": "stdout",
     "output_type": "stream",
     "text": [
      "WARNING:tensorflow:From C:\\Users\\sundooedu\\Anaconda3\\lib\\site-packages\\keras\\backend\\tensorflow_backend.py:986: The name tf.assign_add is deprecated. Please use tf.compat.v1.assign_add instead.\n",
      "\n",
      "WARNING:tensorflow:From C:\\Users\\sundooedu\\Anaconda3\\lib\\site-packages\\keras\\backend\\tensorflow_backend.py:973: The name tf.assign is deprecated. Please use tf.compat.v1.assign instead.\n",
      "\n",
      "WARNING:tensorflow:From C:\\Users\\sundooedu\\Anaconda3\\lib\\site-packages\\keras\\backend\\tensorflow_backend.py:2741: The name tf.Session is deprecated. Please use tf.compat.v1.Session instead.\n",
      "\n",
      "Train on 404 samples, validate on 102 samples\n",
      "Epoch 1/100\n",
      "WARNING:tensorflow:From C:\\Users\\sundooedu\\Anaconda3\\lib\\site-packages\\keras\\backend\\tensorflow_backend.py:174: The name tf.get_default_session is deprecated. Please use tf.compat.v1.get_default_session instead.\n",
      "\n",
      "WARNING:tensorflow:From C:\\Users\\sundooedu\\Anaconda3\\lib\\site-packages\\keras\\backend\\tensorflow_backend.py:181: The name tf.ConfigProto is deprecated. Please use tf.compat.v1.ConfigProto instead.\n",
      "\n",
      "WARNING:tensorflow:From C:\\Users\\sundooedu\\Anaconda3\\lib\\site-packages\\keras\\backend\\tensorflow_backend.py:190: The name tf.global_variables is deprecated. Please use tf.compat.v1.global_variables instead.\n",
      "\n",
      "WARNING:tensorflow:From C:\\Users\\sundooedu\\Anaconda3\\lib\\site-packages\\keras\\backend\\tensorflow_backend.py:199: The name tf.is_variable_initialized is deprecated. Please use tf.compat.v1.is_variable_initialized instead.\n",
      "\n",
      "WARNING:tensorflow:From C:\\Users\\sundooedu\\Anaconda3\\lib\\site-packages\\keras\\backend\\tensorflow_backend.py:206: The name tf.variables_initializer is deprecated. Please use tf.compat.v1.variables_initializer instead.\n",
      "\n",
      "404/404 [==============================] - 0s 1ms/step - loss: 581.6691 - mean_squared_error: 581.6691 - val_loss: 628.9979 - val_mean_squared_error: 628.9979\n",
      "Epoch 2/100\n",
      "404/404 [==============================] - 0s 104us/step - loss: 575.8848 - mean_squared_error: 575.8848 - val_loss: 617.7913 - val_mean_squared_error: 617.7913\n",
      "Epoch 3/100\n",
      "404/404 [==============================] - 0s 52us/step - loss: 558.3489 - mean_squared_error: 558.3489 - val_loss: 587.1099 - val_mean_squared_error: 587.1099\n",
      "Epoch 4/100\n",
      "404/404 [==============================] - 0s 54us/step - loss: 515.2690 - mean_squared_error: 515.2690 - val_loss: 515.5631 - val_mean_squared_error: 515.5631\n",
      "Epoch 5/100\n",
      "404/404 [==============================] - 0s 59us/step - loss: 428.3695 - mean_squared_error: 428.3695 - val_loss: 386.4672 - val_mean_squared_error: 386.4672\n",
      "Epoch 6/100\n",
      "404/404 [==============================] - 0s 59us/step - loss: 295.5734 - mean_squared_error: 295.5734 - val_loss: 222.0982 - val_mean_squared_error: 222.0982\n",
      "Epoch 7/100\n",
      "404/404 [==============================] - 0s 104us/step - loss: 158.0196 - mean_squared_error: 158.0196 - val_loss: 104.9231 - val_mean_squared_error: 104.9231\n",
      "Epoch 8/100\n",
      "404/404 [==============================] - 0s 114us/step - loss: 81.8004 - mean_squared_error: 81.8004 - val_loss: 78.5392 - val_mean_squared_error: 78.5392\n",
      "Epoch 9/100\n",
      "404/404 [==============================] - 0s 72us/step - loss: 58.9312 - mean_squared_error: 58.9312 - val_loss: 63.3158 - val_mean_squared_error: 63.3158\n",
      "Epoch 10/100\n",
      "404/404 [==============================] - 0s 54us/step - loss: 41.4530 - mean_squared_error: 41.4530 - val_loss: 50.0690 - val_mean_squared_error: 50.0690\n",
      "Epoch 11/100\n",
      "404/404 [==============================] - 0s 123us/step - loss: 32.4151 - mean_squared_error: 32.4151 - val_loss: 43.9998 - val_mean_squared_error: 43.9998\n",
      "Epoch 12/100\n",
      "404/404 [==============================] - 0s 114us/step - loss: 27.6595 - mean_squared_error: 27.6595 - val_loss: 42.9069 - val_mean_squared_error: 42.9069\n",
      "Epoch 13/100\n",
      "404/404 [==============================] - 0s 60us/step - loss: 25.6577 - mean_squared_error: 25.6577 - val_loss: 41.5210 - val_mean_squared_error: 41.5210\n",
      "Epoch 14/100\n",
      "404/404 [==============================] - 0s 64us/step - loss: 24.2347 - mean_squared_error: 24.2347 - val_loss: 40.8889 - val_mean_squared_error: 40.8889\n",
      "Epoch 15/100\n",
      "404/404 [==============================] - 0s 62us/step - loss: 23.2241 - mean_squared_error: 23.2241 - val_loss: 39.3120 - val_mean_squared_error: 39.3120\n",
      "Epoch 16/100\n",
      "404/404 [==============================] - 0s 72us/step - loss: 22.4419 - mean_squared_error: 22.4419 - val_loss: 37.6740 - val_mean_squared_error: 37.6740\n",
      "Epoch 17/100\n",
      "404/404 [==============================] - 0s 67us/step - loss: 21.6988 - mean_squared_error: 21.6988 - val_loss: 36.8958 - val_mean_squared_error: 36.8958\n",
      "Epoch 18/100\n",
      "404/404 [==============================] - 0s 59us/step - loss: 21.0010 - mean_squared_error: 21.0010 - val_loss: 35.2577 - val_mean_squared_error: 35.2577\n",
      "Epoch 19/100\n",
      "404/404 [==============================] - 0s 101us/step - loss: 20.4916 - mean_squared_error: 20.4916 - val_loss: 33.8631 - val_mean_squared_error: 33.8631\n",
      "Epoch 20/100\n",
      "404/404 [==============================] - 0s 79us/step - loss: 20.0161 - mean_squared_error: 20.0161 - val_loss: 34.4762 - val_mean_squared_error: 34.4762\n",
      "Epoch 21/100\n",
      "404/404 [==============================] - 0s 72us/step - loss: 19.4248 - mean_squared_error: 19.4248 - val_loss: 32.5744 - val_mean_squared_error: 32.5744\n",
      "Epoch 22/100\n",
      "404/404 [==============================] - 0s 89us/step - loss: 18.9123 - mean_squared_error: 18.9123 - val_loss: 31.5071 - val_mean_squared_error: 31.5071\n",
      "Epoch 23/100\n",
      "404/404 [==============================] - 0s 111us/step - loss: 18.4849 - mean_squared_error: 18.4849 - val_loss: 31.3358 - val_mean_squared_error: 31.3358\n",
      "Epoch 24/100\n",
      "404/404 [==============================] - 0s 101us/step - loss: 18.0099 - mean_squared_error: 18.0099 - val_loss: 30.5178 - val_mean_squared_error: 30.5178\n",
      "Epoch 25/100\n",
      "404/404 [==============================] - 0s 109us/step - loss: 17.7527 - mean_squared_error: 17.7527 - val_loss: 29.2830 - val_mean_squared_error: 29.2830\n",
      "Epoch 26/100\n",
      "404/404 [==============================] - 0s 79us/step - loss: 17.2950 - mean_squared_error: 17.2950 - val_loss: 29.1597 - val_mean_squared_error: 29.1597\n",
      "Epoch 27/100\n",
      "404/404 [==============================] - 0s 69us/step - loss: 16.9546 - mean_squared_error: 16.9546 - val_loss: 28.4373 - val_mean_squared_error: 28.4373\n",
      "Epoch 28/100\n",
      "404/404 [==============================] - 0s 53us/step - loss: 16.7550 - mean_squared_error: 16.7550 - val_loss: 26.9683 - val_mean_squared_error: 26.9683\n",
      "Epoch 29/100\n",
      "404/404 [==============================] - 0s 67us/step - loss: 16.4137 - mean_squared_error: 16.4137 - val_loss: 28.8694 - val_mean_squared_error: 28.8694\n",
      "Epoch 30/100\n",
      "404/404 [==============================] - 0s 89us/step - loss: 15.8891 - mean_squared_error: 15.8891 - val_loss: 26.0443 - val_mean_squared_error: 26.0443\n",
      "Epoch 31/100\n",
      "404/404 [==============================] - 0s 64us/step - loss: 15.6530 - mean_squared_error: 15.6530 - val_loss: 25.2184 - val_mean_squared_error: 25.2184\n",
      "Epoch 32/100\n",
      "404/404 [==============================] - 0s 68us/step - loss: 15.4188 - mean_squared_error: 15.4188 - val_loss: 26.6118 - val_mean_squared_error: 26.6118\n",
      "Epoch 33/100\n",
      "404/404 [==============================] - 0s 69us/step - loss: 14.9701 - mean_squared_error: 14.9701 - val_loss: 24.6139 - val_mean_squared_error: 24.6139\n",
      "Epoch 34/100\n",
      "404/404 [==============================] - 0s 64us/step - loss: 14.6671 - mean_squared_error: 14.6671 - val_loss: 24.2879 - val_mean_squared_error: 24.2879\n",
      "Epoch 35/100\n",
      "404/404 [==============================] - 0s 69us/step - loss: 14.3730 - mean_squared_error: 14.3730 - val_loss: 23.8206 - val_mean_squared_error: 23.8206\n",
      "Epoch 36/100\n",
      "404/404 [==============================] - 0s 67us/step - loss: 14.1384 - mean_squared_error: 14.1384 - val_loss: 23.7660 - val_mean_squared_error: 23.7660\n",
      "Epoch 37/100\n",
      "404/404 [==============================] - 0s 64us/step - loss: 13.9068 - mean_squared_error: 13.9068 - val_loss: 22.7031 - val_mean_squared_error: 22.7031\n",
      "Epoch 38/100\n",
      "404/404 [==============================] - 0s 73us/step - loss: 13.7066 - mean_squared_error: 13.7066 - val_loss: 22.8852 - val_mean_squared_error: 22.8852\n",
      "Epoch 39/100\n"
     ]
    },
    {
     "name": "stdout",
     "output_type": "stream",
     "text": [
      "404/404 [==============================] - 0s 96us/step - loss: 13.6214 - mean_squared_error: 13.6214 - val_loss: 22.6700 - val_mean_squared_error: 22.6700\n",
      "Epoch 40/100\n",
      "404/404 [==============================] - 0s 61us/step - loss: 13.3143 - mean_squared_error: 13.3143 - val_loss: 22.1256 - val_mean_squared_error: 22.1256\n",
      "Epoch 41/100\n",
      "404/404 [==============================] - 0s 60us/step - loss: 13.0610 - mean_squared_error: 13.0610 - val_loss: 21.1914 - val_mean_squared_error: 21.1914\n",
      "Epoch 42/100\n",
      "404/404 [==============================] - 0s 57us/step - loss: 12.8894 - mean_squared_error: 12.8894 - val_loss: 21.5601 - val_mean_squared_error: 21.5601\n",
      "Epoch 43/100\n",
      "404/404 [==============================] - 0s 59us/step - loss: 12.7417 - mean_squared_error: 12.7417 - val_loss: 21.9622 - val_mean_squared_error: 21.9622\n",
      "Epoch 44/100\n",
      "404/404 [==============================] - 0s 54us/step - loss: 12.6504 - mean_squared_error: 12.6504 - val_loss: 20.4420 - val_mean_squared_error: 20.4420\n",
      "Epoch 45/100\n",
      "404/404 [==============================] - 0s 56us/step - loss: 12.5494 - mean_squared_error: 12.5494 - val_loss: 21.5195 - val_mean_squared_error: 21.5195\n",
      "Epoch 46/100\n",
      "404/404 [==============================] - 0s 81us/step - loss: 12.3610 - mean_squared_error: 12.3610 - val_loss: 20.9996 - val_mean_squared_error: 20.9996\n",
      "Epoch 47/100\n",
      "404/404 [==============================] - 0s 64us/step - loss: 12.1069 - mean_squared_error: 12.1069 - val_loss: 19.8917 - val_mean_squared_error: 19.8917\n",
      "Epoch 48/100\n",
      "404/404 [==============================] - 0s 59us/step - loss: 12.0902 - mean_squared_error: 12.0902 - val_loss: 19.8709 - val_mean_squared_error: 19.8709\n",
      "Epoch 49/100\n",
      "404/404 [==============================] - 0s 57us/step - loss: 11.9922 - mean_squared_error: 11.9922 - val_loss: 19.6711 - val_mean_squared_error: 19.6711\n",
      "Epoch 50/100\n",
      "404/404 [==============================] - 0s 62us/step - loss: 11.8385 - mean_squared_error: 11.8385 - val_loss: 20.0556 - val_mean_squared_error: 20.0556\n",
      "Epoch 51/100\n",
      "404/404 [==============================] - 0s 74us/step - loss: 11.7499 - mean_squared_error: 11.7499 - val_loss: 19.6290 - val_mean_squared_error: 19.6290\n",
      "Epoch 52/100\n",
      "404/404 [==============================] - 0s 77us/step - loss: 11.7244 - mean_squared_error: 11.7244 - val_loss: 20.5399 - val_mean_squared_error: 20.5399\n",
      "Epoch 53/100\n",
      "404/404 [==============================] - 0s 57us/step - loss: 11.4876 - mean_squared_error: 11.4876 - val_loss: 18.1349 - val_mean_squared_error: 18.1349\n",
      "Epoch 54/100\n",
      "404/404 [==============================] - 0s 58us/step - loss: 11.4783 - mean_squared_error: 11.4783 - val_loss: 18.9634 - val_mean_squared_error: 18.9634\n",
      "Epoch 55/100\n",
      "404/404 [==============================] - 0s 67us/step - loss: 11.3390 - mean_squared_error: 11.3390 - val_loss: 18.6757 - val_mean_squared_error: 18.6757\n",
      "Epoch 56/100\n",
      "404/404 [==============================] - 0s 79us/step - loss: 11.3074 - mean_squared_error: 11.3074 - val_loss: 19.3679 - val_mean_squared_error: 19.3679\n",
      "Epoch 57/100\n",
      "404/404 [==============================] - 0s 69us/step - loss: 11.1737 - mean_squared_error: 11.1737 - val_loss: 18.3199 - val_mean_squared_error: 18.3199\n",
      "Epoch 58/100\n",
      "404/404 [==============================] - 0s 74us/step - loss: 11.0929 - mean_squared_error: 11.0929 - val_loss: 18.5595 - val_mean_squared_error: 18.5595\n",
      "Epoch 59/100\n",
      "404/404 [==============================] - 0s 77us/step - loss: 11.0385 - mean_squared_error: 11.0385 - val_loss: 18.8986 - val_mean_squared_error: 18.8986\n",
      "Epoch 60/100\n",
      "404/404 [==============================] - 0s 63us/step - loss: 10.9313 - mean_squared_error: 10.9313 - val_loss: 18.2902 - val_mean_squared_error: 18.2902\n",
      "Epoch 61/100\n",
      "404/404 [==============================] - 0s 54us/step - loss: 10.9878 - mean_squared_error: 10.9878 - val_loss: 18.1742 - val_mean_squared_error: 18.1742\n",
      "Epoch 62/100\n",
      "404/404 [==============================] - 0s 52us/step - loss: 10.8618 - mean_squared_error: 10.8618 - val_loss: 18.8740 - val_mean_squared_error: 18.8740\n",
      "Epoch 63/100\n",
      "404/404 [==============================] - 0s 54us/step - loss: 10.8173 - mean_squared_error: 10.8173 - val_loss: 17.8043 - val_mean_squared_error: 17.8043\n",
      "Epoch 64/100\n",
      "404/404 [==============================] - 0s 128us/step - loss: 10.7339 - mean_squared_error: 10.7339 - val_loss: 17.8855 - val_mean_squared_error: 17.8855\n",
      "Epoch 65/100\n",
      "404/404 [==============================] - 0s 62us/step - loss: 10.6400 - mean_squared_error: 10.6400 - val_loss: 18.6037 - val_mean_squared_error: 18.6037\n",
      "Epoch 66/100\n",
      "404/404 [==============================] - 0s 57us/step - loss: 10.5974 - mean_squared_error: 10.5974 - val_loss: 17.8105 - val_mean_squared_error: 17.8105\n",
      "Epoch 67/100\n",
      "404/404 [==============================] - 0s 54us/step - loss: 10.5354 - mean_squared_error: 10.5354 - val_loss: 18.1324 - val_mean_squared_error: 18.1324\n",
      "Epoch 68/100\n",
      "404/404 [==============================] - 0s 79us/step - loss: 10.4549 - mean_squared_error: 10.4549 - val_loss: 18.3056 - val_mean_squared_error: 18.3056\n",
      "Epoch 69/100\n",
      "404/404 [==============================] - 0s 64us/step - loss: 10.4590 - mean_squared_error: 10.4590 - val_loss: 17.5166 - val_mean_squared_error: 17.5166\n",
      "Epoch 70/100\n",
      "404/404 [==============================] - 0s 64us/step - loss: 10.4601 - mean_squared_error: 10.4601 - val_loss: 17.1803 - val_mean_squared_error: 17.1803\n",
      "Epoch 71/100\n",
      "404/404 [==============================] - 0s 54us/step - loss: 10.3202 - mean_squared_error: 10.3202 - val_loss: 17.6388 - val_mean_squared_error: 17.6388\n",
      "Epoch 72/100\n",
      "404/404 [==============================] - 0s 146us/step - loss: 10.3354 - mean_squared_error: 10.3354 - val_loss: 17.1985 - val_mean_squared_error: 17.1985\n",
      "Epoch 73/100\n",
      "404/404 [==============================] - 0s 91us/step - loss: 10.2767 - mean_squared_error: 10.2767 - val_loss: 17.9415 - val_mean_squared_error: 17.9415\n",
      "Epoch 74/100\n",
      "404/404 [==============================] - 0s 59us/step - loss: 10.2135 - mean_squared_error: 10.2135 - val_loss: 16.9588 - val_mean_squared_error: 16.9588\n",
      "Epoch 75/100\n",
      "404/404 [==============================] - 0s 54us/step - loss: 10.0986 - mean_squared_error: 10.0986 - val_loss: 18.1343 - val_mean_squared_error: 18.1343\n",
      "Epoch 76/100\n",
      "404/404 [==============================] - 0s 59us/step - loss: 10.0515 - mean_squared_error: 10.0515 - val_loss: 15.9735 - val_mean_squared_error: 15.9735\n",
      "Epoch 77/100\n",
      "404/404 [==============================] - 0s 67us/step - loss: 10.1044 - mean_squared_error: 10.1044 - val_loss: 17.3559 - val_mean_squared_error: 17.3559\n",
      "Epoch 78/100\n",
      "404/404 [==============================] - 0s 104us/step - loss: 10.1398 - mean_squared_error: 10.1398 - val_loss: 16.1691 - val_mean_squared_error: 16.1691\n",
      "Epoch 79/100\n",
      "404/404 [==============================] - 0s 56us/step - loss: 9.9477 - mean_squared_error: 9.9477 - val_loss: 17.3760 - val_mean_squared_error: 17.3760\n",
      "Epoch 80/100\n",
      "404/404 [==============================] - 0s 57us/step - loss: 9.8880 - mean_squared_error: 9.8880 - val_loss: 16.1304 - val_mean_squared_error: 16.1304\n",
      "Epoch 81/100\n",
      "404/404 [==============================] - 0s 69us/step - loss: 9.8316 - mean_squared_error: 9.8316 - val_loss: 16.7713 - val_mean_squared_error: 16.7713\n",
      "Epoch 82/100\n",
      "404/404 [==============================] - 0s 57us/step - loss: 9.8337 - mean_squared_error: 9.8337 - val_loss: 16.5627 - val_mean_squared_error: 16.5627\n",
      "Epoch 83/100\n",
      "404/404 [==============================] - 0s 77us/step - loss: 9.9336 - mean_squared_error: 9.9336 - val_loss: 16.6767 - val_mean_squared_error: 16.6767\n",
      "Epoch 84/100\n",
      "404/404 [==============================] - 0s 72us/step - loss: 9.7079 - mean_squared_error: 9.7079 - val_loss: 16.5160 - val_mean_squared_error: 16.5160\n",
      "Epoch 85/100\n",
      "404/404 [==============================] - 0s 79us/step - loss: 9.6351 - mean_squared_error: 9.6351 - val_loss: 15.7612 - val_mean_squared_error: 15.7612\n",
      "Epoch 86/100\n",
      "404/404 [==============================] - 0s 101us/step - loss: 9.6246 - mean_squared_error: 9.6246 - val_loss: 16.7884 - val_mean_squared_error: 16.7884\n",
      "Epoch 87/100\n"
     ]
    },
    {
     "name": "stdout",
     "output_type": "stream",
     "text": [
      "404/404 [==============================] - 0s 72us/step - loss: 9.5750 - mean_squared_error: 9.5750 - val_loss: 16.0210 - val_mean_squared_error: 16.0210\n",
      "Epoch 88/100\n",
      "404/404 [==============================] - 0s 72us/step - loss: 9.5259 - mean_squared_error: 9.5259 - val_loss: 16.3075 - val_mean_squared_error: 16.3075\n",
      "Epoch 89/100\n",
      "404/404 [==============================] - 0s 62us/step - loss: 9.5483 - mean_squared_error: 9.5483 - val_loss: 16.1337 - val_mean_squared_error: 16.1337\n",
      "Epoch 90/100\n",
      "404/404 [==============================] - 0s 69us/step - loss: 9.4319 - mean_squared_error: 9.4319 - val_loss: 16.6767 - val_mean_squared_error: 16.6767\n",
      "Epoch 91/100\n",
      "404/404 [==============================] - 0s 84us/step - loss: 9.3674 - mean_squared_error: 9.3674 - val_loss: 15.6421 - val_mean_squared_error: 15.6421\n",
      "Epoch 92/100\n",
      "404/404 [==============================] - 0s 56us/step - loss: 9.2852 - mean_squared_error: 9.2852 - val_loss: 15.4191 - val_mean_squared_error: 15.4191\n",
      "Epoch 93/100\n",
      "404/404 [==============================] - 0s 57us/step - loss: 9.3187 - mean_squared_error: 9.3187 - val_loss: 16.7443 - val_mean_squared_error: 16.7443\n",
      "Epoch 94/100\n",
      "404/404 [==============================] - 0s 59us/step - loss: 9.2427 - mean_squared_error: 9.2427 - val_loss: 15.3852 - val_mean_squared_error: 15.3852\n",
      "Epoch 95/100\n",
      "404/404 [==============================] - 0s 89us/step - loss: 9.2690 - mean_squared_error: 9.2690 - val_loss: 15.8500 - val_mean_squared_error: 15.8500\n",
      "Epoch 96/100\n",
      "404/404 [==============================] - 0s 54us/step - loss: 9.1967 - mean_squared_error: 9.1967 - val_loss: 15.0852 - val_mean_squared_error: 15.0852\n",
      "Epoch 97/100\n",
      "404/404 [==============================] - 0s 59us/step - loss: 9.1558 - mean_squared_error: 9.1558 - val_loss: 15.4910 - val_mean_squared_error: 15.4910\n",
      "Epoch 98/100\n",
      "404/404 [==============================] - 0s 49us/step - loss: 9.2129 - mean_squared_error: 9.2129 - val_loss: 15.4173 - val_mean_squared_error: 15.4173\n",
      "Epoch 99/100\n",
      "404/404 [==============================] - 0s 65us/step - loss: 9.2119 - mean_squared_error: 9.2119 - val_loss: 14.9702 - val_mean_squared_error: 14.9702\n",
      "Epoch 100/100\n",
      "404/404 [==============================] - 0s 94us/step - loss: 9.0781 - mean_squared_error: 9.0781 - val_loss: 16.2225 - val_mean_squared_error: 16.2225\n"
     ]
    }
   ],
   "source": [
    "history = model.fit(x_train,\n",
    "                    y_train,\n",
    "                    epochs = 100,\n",
    "                    validation_data = (x_test, y_test))"
   ]
  },
  {
   "cell_type": "code",
   "execution_count": 35,
   "metadata": {
    "scrolled": true
   },
   "outputs": [
    {
     "data": {
      "text/plain": [
       "array([[ 4.868439 ],\n",
       "       [28.905195 ],\n",
       "       [48.301273 ],\n",
       "       [26.237865 ],\n",
       "       [31.27061  ],\n",
       "       [ 5.880623 ],\n",
       "       [27.644604 ],\n",
       "       [33.077835 ],\n",
       "       [12.514035 ],\n",
       "       [19.27858  ],\n",
       "       [40.997395 ],\n",
       "       [11.01398  ],\n",
       "       [30.204422 ],\n",
       "       [18.53921  ],\n",
       "       [15.244268 ],\n",
       "       [26.354559 ],\n",
       "       [15.67577  ],\n",
       "       [ 8.909213 ],\n",
       "       [31.369328 ],\n",
       "       [24.077972 ],\n",
       "       [37.02698  ],\n",
       "       [24.540218 ],\n",
       "       [27.437567 ],\n",
       "       [17.640152 ],\n",
       "       [42.24344  ],\n",
       "       [15.876307 ],\n",
       "       [ 6.2027597],\n",
       "       [28.761795 ],\n",
       "       [17.349804 ],\n",
       "       [18.321997 ],\n",
       "       [21.640574 ],\n",
       "       [28.276636 ],\n",
       "       [33.925854 ],\n",
       "       [15.728681 ],\n",
       "       [11.402079 ],\n",
       "       [40.55196  ],\n",
       "       [28.341297 ],\n",
       "       [21.60941  ],\n",
       "       [26.34171  ],\n",
       "       [16.512001 ],\n",
       "       [50.809185 ],\n",
       "       [22.647633 ],\n",
       "       [16.355793 ],\n",
       "       [21.358175 ],\n",
       "       [16.063404 ],\n",
       "       [10.929203 ],\n",
       "       [12.558281 ],\n",
       "       [16.170713 ],\n",
       "       [23.584    ],\n",
       "       [16.504421 ],\n",
       "       [37.35232  ],\n",
       "       [17.305561 ],\n",
       "       [38.724785 ],\n",
       "       [20.00207  ],\n",
       "       [35.468575 ],\n",
       "       [ 8.819065 ],\n",
       "       [24.233803 ],\n",
       "       [47.002857 ],\n",
       "       [12.887046 ],\n",
       "       [12.739569 ],\n",
       "       [31.51766  ],\n",
       "       [45.885777 ],\n",
       "       [35.629196 ],\n",
       "       [21.00494  ],\n",
       "       [27.637589 ],\n",
       "       [27.358988 ],\n",
       "       [ 8.606749 ],\n",
       "       [11.589352 ],\n",
       "       [ 7.8093367],\n",
       "       [21.411596 ],\n",
       "       [10.079642 ],\n",
       "       [24.049965 ],\n",
       "       [19.325191 ],\n",
       "       [15.280724 ],\n",
       "       [20.677206 ],\n",
       "       [19.461899 ],\n",
       "       [24.449183 ],\n",
       "       [23.130657 ],\n",
       "       [22.76917  ],\n",
       "       [19.462006 ],\n",
       "       [28.671978 ],\n",
       "       [20.97704  ],\n",
       "       [23.224483 ],\n",
       "       [27.115805 ],\n",
       "       [25.788052 ],\n",
       "       [14.158636 ],\n",
       "       [21.074547 ],\n",
       "       [16.619799 ],\n",
       "       [34.165012 ],\n",
       "       [15.418808 ],\n",
       "       [ 9.897785 ],\n",
       "       [30.256222 ],\n",
       "       [25.05933  ],\n",
       "       [21.993568 ],\n",
       "       [22.635166 ],\n",
       "       [33.9098   ],\n",
       "       [18.424566 ],\n",
       "       [ 5.318776 ],\n",
       "       [ 7.46676  ],\n",
       "       [10.683907 ],\n",
       "       [ 7.866734 ],\n",
       "       [21.74416  ]], dtype=float32)"
      ]
     },
     "execution_count": 35,
     "metadata": {},
     "output_type": "execute_result"
    }
   ],
   "source": [
    "y_pred = model.predict(x_test)\n",
    "y_pred"
   ]
  },
  {
   "cell_type": "markdown",
   "metadata": {},
   "source": [
    "# evaluation"
   ]
  },
  {
   "cell_type": "code",
   "execution_count": 36,
   "metadata": {},
   "outputs": [
    {
     "name": "stdout",
     "output_type": "stream",
     "text": [
      "102/102 [==============================] - 0s 196us/step\n"
     ]
    },
    {
     "data": {
      "text/plain": [
       "[16.22254644655714, 16.22254644655714]"
      ]
     },
     "execution_count": 36,
     "metadata": {},
     "output_type": "execute_result"
    }
   ],
   "source": [
    "score = model.evaluate(x_test, y_test)\n",
    "score"
   ]
  },
  {
   "cell_type": "code",
   "execution_count": 37,
   "metadata": {},
   "outputs": [
    {
     "data": {
      "text/plain": [
       "['loss', 'mean_squared_error']"
      ]
     },
     "execution_count": 37,
     "metadata": {},
     "output_type": "execute_result"
    }
   ],
   "source": [
    "met_name = model.metrics_names\n",
    "met_name"
   ]
  },
  {
   "cell_type": "code",
   "execution_count": 38,
   "metadata": {},
   "outputs": [
    {
     "name": "stdout",
     "output_type": "stream",
     "text": [
      "loss: 16.22254644655714\n",
      "mean_squared_error: 16.22254644655714\n"
     ]
    }
   ],
   "source": [
    "print(f'{met_name[0]}: {score[0]}\\n{met_name[1]}: {score[1]}')"
   ]
  },
  {
   "cell_type": "code",
   "execution_count": 39,
   "metadata": {
    "scrolled": true
   },
   "outputs": [
    {
     "data": {
      "text/plain": [
       "<matplotlib.legend.Legend at 0x1aa289a8a88>"
      ]
     },
     "execution_count": 39,
     "metadata": {},
     "output_type": "execute_result"
    },
    {
     "data": {
      "image/png": "[encoded data removed]",
      "text/plain": [
       "<Figure size 1224x432 with 2 Axes>"
      ]
     },
     "metadata": {
      "needs_background": "light"
     },
     "output_type": "display_data"
    }
   ],
   "source": [
    "import matplotlib.pyplot as plt\n",
    "%matplotlib inline\n",
    "\n",
    "fig, ax =plt.subplots(1,2,figsize=(17,6))\n",
    "ax = ax.ravel()\n",
    "\n",
    "ax[0].set_title('mean_squared_error Chart')\n",
    "ax[0].plot(history.history['mean_squared_error'], label='train')\n",
    "ax[0].plot(history.history['val_mean_squared_error'], label='test')\n",
    "ax[0].legend(loc='best')\n",
    "\n",
    "ax[1].set_title('Loss Chart')\n",
    "ax[1].plot(history.history['loss'], label='train')\n",
    "ax[1].plot(history.history['val_loss'], label='test')\n",
    "ax[1].legend(loc='best')"
   ]
  },
  {
   "cell_type": "code",
   "execution_count": 40,
   "metadata": {},
   "outputs": [],
   "source": [
    "import pandas as pd\n",
    "import numpy as np"
   ]
  },
  {
   "cell_type": "markdown",
   "metadata": {},
   "source": [
    "# 집값 예측하기\n",
    "### 아래 리스트처럼 각 열마다 조건이 주어졌을때 \n",
    "### 집값 예측하기"
   ]
  },
  {
   "cell_type": "code",
   "execution_count": 41,
   "metadata": {},
   "outputs": [
    {
     "data": {
      "text/plain": [
       "array([[1.7000e-01, 0.0000e+00, 5.9600e+00, 0.0000e+00, 4.9000e-01,\n",
       "        5.9600e+00, 3.0200e+01, 3.8400e+00, 5.0000e+00, 2.7900e+02,\n",
       "        1.9200e+01, 3.9343e+02, 1.0130e+01]])"
      ]
     },
     "execution_count": 41,
     "metadata": {},
     "output_type": "execute_result"
    }
   ],
   "source": [
    "test=[0.17,0.00,5.96,0.000,0.49,5.96,30.20,3.84,5.00,279.00,19.20,393.43,10.13]\n",
    "test_array=np.array(test)\n",
    "test_array = test_array.reshape(1,13)\n",
    "test_array"
   ]
  },
  {
   "cell_type": "code",
   "execution_count": 42,
   "metadata": {},
   "outputs": [
    {
     "data": {
      "text/plain": [
       "array([[0., 0., 0., 0., 0., 0., 0., 0., 0., 0., 0., 0., 0.]])"
      ]
     },
     "execution_count": 42,
     "metadata": {},
     "output_type": "execute_result"
    }
   ],
   "source": [
    "scaler.fit(test_array)\n",
    "x_test1 = scaler.fit_transform(test_array)\n",
    "x_test1"
   ]
  },
  {
   "cell_type": "code",
   "execution_count": 45,
   "metadata": {},
   "outputs": [
    {
     "data": {
      "text/plain": [
       "array([[12.244442]], dtype=float32)"
      ]
     },
     "execution_count": 45,
     "metadata": {},
     "output_type": "execute_result"
    }
   ],
   "source": [
    "y_pred = model.predict(x_test1)\n",
    "y_pred"
   ]
  },
  {
   "cell_type": "code",
   "execution_count": null,
   "metadata": {},
   "outputs": [],
   "source": []
  }
 ],
 "metadata": {
  "kernelspec": {
   "display_name": "Python 3",
   "language": "python",
   "name": "python3"
  },
  "language_info": {
   "codemirror_mode": {
    "name": "ipython",
    "version": 3
   },
   "file_extension": ".py",
   "mimetype": "text/x-python",
   "name": "python",
   "nbconvert_exporter": "python",
   "pygments_lexer": "ipython3",
   "version": "3.7.4"
  }
 },
 "nbformat": 4,
 "nbformat_minor": 2
}
