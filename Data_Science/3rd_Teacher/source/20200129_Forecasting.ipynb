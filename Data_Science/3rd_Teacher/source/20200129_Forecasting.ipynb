{
 "cells": [
  {
   "cell_type": "code",
   "execution_count": 1,
   "metadata": {},
   "outputs": [],
   "source": [
    "import pandas as pd\n",
    "import numpy as np"
   ]
  },
  {
   "cell_type": "code",
   "execution_count": 2,
   "metadata": {
    "scrolled": true
   },
   "outputs": [
    {
     "data": {
      "text/plain": [
       "DatetimeIndex(['2019-01-01', '2019-01-02', '2019-01-03', '2019-01-04',\n",
       "               '2019-01-05'],\n",
       "              dtype='datetime64[ns]', freq='D')"
      ]
     },
     "execution_count": 2,
     "metadata": {},
     "output_type": "execute_result"
    }
   ],
   "source": [
    "pd.date_range('1/1/2019', periods=5)"
   ]
  },
  {
   "cell_type": "code",
   "execution_count": 3,
   "metadata": {},
   "outputs": [
    {
     "data": {
      "text/plain": [
       "DatetimeIndex(['2019-01-31', '2019-02-28', '2019-03-31', '2019-04-30',\n",
       "               '2019-05-31'],\n",
       "              dtype='datetime64[ns]', freq='M')"
      ]
     },
     "execution_count": 3,
     "metadata": {},
     "output_type": "execute_result"
    }
   ],
   "source": [
    "pd.date_range('1/1/2019', periods=5, freq=\"M\") # month end frequency"
   ]
  },
  {
   "cell_type": "code",
   "execution_count": 4,
   "metadata": {},
   "outputs": [
    {
     "data": {
      "text/plain": [
       "DatetimeIndex(['2019-01-06', '2019-01-13', '2019-01-20', '2019-01-27',\n",
       "               '2019-02-03'],\n",
       "              dtype='datetime64[ns]', freq='W-SUN')"
      ]
     },
     "execution_count": 4,
     "metadata": {},
     "output_type": "execute_result"
    }
   ],
   "source": [
    "pd.date_range('1/1/2019', periods=5, freq=\"W\") # weekly frequency"
   ]
  },
  {
   "cell_type": "code",
   "execution_count": 5,
   "metadata": {},
   "outputs": [
    {
     "data": {
      "text/plain": [
       "DatetimeIndex(['2019-01-01', '2019-04-01', '2019-07-01', '2019-10-01',\n",
       "               '2020-01-01'],\n",
       "              dtype='datetime64[ns]', freq='BQS-JAN')"
      ]
     },
     "execution_count": 5,
     "metadata": {},
     "output_type": "execute_result"
    }
   ],
   "source": [
    "pd.date_range('1/1/2019', periods=5, freq=\"BQS\")  # business quarter start frequency"
   ]
  },
  {
   "cell_type": "markdown",
   "metadata": {},
   "source": [
    "# Umbrella Sales Example"
   ]
  },
  {
   "cell_type": "code",
   "execution_count": 6,
   "metadata": {},
   "outputs": [],
   "source": [
    "sales =[125,153,106,88,118,\n",
    "        161,133,102,138,144,\n",
    "        113,80,109,137,125,\n",
    "        109,130,165,128,96]"
   ]
  },
  {
   "cell_type": "code",
   "execution_count": 7,
   "metadata": {},
   "outputs": [
    {
     "data": {
      "text/plain": [
       "DatetimeIndex(['2010-01-01', '2010-04-01', '2010-07-01', '2010-10-01',\n",
       "               '2011-01-01', '2011-04-01', '2011-07-01', '2011-10-01',\n",
       "               '2012-01-01', '2012-04-01', '2012-07-01', '2012-10-01',\n",
       "               '2013-01-01', '2013-04-01', '2013-07-01', '2013-10-01',\n",
       "               '2014-01-01', '2014-04-01', '2014-07-01', '2014-10-01'],\n",
       "              dtype='datetime64[ns]', freq='QS-JAN')"
      ]
     },
     "execution_count": 7,
     "metadata": {},
     "output_type": "execute_result"
    }
   ],
   "source": [
    "t = pd.date_range('1/1/2010', freq='QS', periods=20)\n",
    "t"
   ]
  },
  {
   "cell_type": "code",
   "execution_count": 8,
   "metadata": {
    "scrolled": false
   },
   "outputs": [
    {
     "data": {
      "text/plain": [
       "2010-01-01    125\n",
       "2010-04-01    153\n",
       "2010-07-01    106\n",
       "2010-10-01     88\n",
       "2011-01-01    118\n",
       "2011-04-01    161\n",
       "2011-07-01    133\n",
       "2011-10-01    102\n",
       "2012-01-01    138\n",
       "2012-04-01    144\n",
       "2012-07-01    113\n",
       "2012-10-01     80\n",
       "2013-01-01    109\n",
       "2013-04-01    137\n",
       "2013-07-01    125\n",
       "2013-10-01    109\n",
       "2014-01-01    130\n",
       "2014-04-01    165\n",
       "2014-07-01    128\n",
       "2014-10-01     96\n",
       "Freq: QS-JAN, dtype: int64"
      ]
     },
     "execution_count": 8,
     "metadata": {},
     "output_type": "execute_result"
    }
   ],
   "source": [
    "ts = pd.Series(sales, index=t)\n",
    "ts"
   ]
  },
  {
   "cell_type": "code",
   "execution_count": 9,
   "metadata": {},
   "outputs": [],
   "source": [
    "import matplotlib.pyplot as plt\n",
    "%matplotlib inline"
   ]
  },
  {
   "cell_type": "code",
   "execution_count": 10,
   "metadata": {},
   "outputs": [
    {
     "name": "stderr",
     "output_type": "stream",
     "text": [
      "C:\\Users\\sundooedu\\Anaconda3\\lib\\site-packages\\pandas\\plotting\\_matplotlib\\converter.py:103: FutureWarning: Using an implicitly registered datetime converter for a matplotlib plotting method. The converter was registered by pandas on import. Future versions of pandas will require you to explicitly register matplotlib converters.\n",
      "\n",
      "To register the converters:\n",
      "\t>>> from pandas.plotting import register_matplotlib_converters\n",
      "\t>>> register_matplotlib_converters()\n",
      "  warnings.warn(msg, FutureWarning)\n"
     ]
    },
    {
     "data": {
      "image/png": "[encoded data removed]",
      "text/plain": [
       "<Figure size 720x432 with 1 Axes>"
      ]
     },
     "metadata": {
      "needs_background": "light"
     },
     "output_type": "display_data"
    }
   ],
   "source": [
    "plt.figure(figsize=(10,6))\n",
    "plt.title('Umbrella Time Series')\n",
    "plt.plot(ts)\n",
    "plt.ylim(70,170)\n",
    "plt.show()    "
   ]
  },
  {
   "cell_type": "markdown",
   "metadata": {},
   "source": [
    "# RNN forecast"
   ]
  },
  {
   "cell_type": "markdown",
   "metadata": {},
   "source": [
    "# Scaling (MinMaxScaler)"
   ]
  },
  {
   "cell_type": "code",
   "execution_count": 11,
   "metadata": {},
   "outputs": [],
   "source": [
    "from sklearn.preprocessing import MinMaxScaler\n",
    "scaler = MinMaxScaler(feature_range=(0,1))\n",
    "ts = scaler.fit_transform(ts.values.reshape(-1,1))"
   ]
  },
  {
   "cell_type": "markdown",
   "metadata": {},
   "source": [
    "# Split x and y (with appropriate time steps)"
   ]
  },
  {
   "cell_type": "code",
   "execution_count": 12,
   "metadata": {},
   "outputs": [],
   "source": [
    "x_list = []\n",
    "y_list = []\n",
    "for i in range(20-3):\n",
    "    x_list.append(ts[i:i+3,0])\n",
    "    y_list.append(ts[i+3,0])\n",
    "x = np.array(x_list)\n",
    "y = np.array(y_list)    "
   ]
  },
  {
   "cell_type": "markdown",
   "metadata": {},
   "source": [
    "# Reshape an input to 3D with the format of [samples, time steps and features]"
   ]
  },
  {
   "cell_type": "code",
   "execution_count": 13,
   "metadata": {},
   "outputs": [],
   "source": [
    "x = x.reshape(17,3,1)"
   ]
  },
  {
   "cell_type": "markdown",
   "metadata": {},
   "source": [
    "# Building the RNN LSTM model using sequential model"
   ]
  },
  {
   "cell_type": "code",
   "execution_count": 14,
   "metadata": {},
   "outputs": [
    {
     "name": "stderr",
     "output_type": "stream",
     "text": [
      "Using TensorFlow backend.\n"
     ]
    }
   ],
   "source": [
    "from keras.models import Sequential\n",
    "from keras.layers import Dense, LSTM, Dropout"
   ]
  },
  {
   "cell_type": "code",
   "execution_count": 15,
   "metadata": {
    "scrolled": true
   },
   "outputs": [
    {
     "name": "stdout",
     "output_type": "stream",
     "text": [
      "WARNING:tensorflow:From C:\\Users\\sundooedu\\Anaconda3\\lib\\site-packages\\keras\\backend\\tensorflow_backend.py:74: The name tf.get_default_graph is deprecated. Please use tf.compat.v1.get_default_graph instead.\n",
      "\n",
      "WARNING:tensorflow:From C:\\Users\\sundooedu\\Anaconda3\\lib\\site-packages\\keras\\backend\\tensorflow_backend.py:517: The name tf.placeholder is deprecated. Please use tf.compat.v1.placeholder instead.\n",
      "\n",
      "WARNING:tensorflow:From C:\\Users\\sundooedu\\Anaconda3\\lib\\site-packages\\keras\\backend\\tensorflow_backend.py:4138: The name tf.random_uniform is deprecated. Please use tf.random.uniform instead.\n",
      "\n",
      "WARNING:tensorflow:From C:\\Users\\sundooedu\\Anaconda3\\lib\\site-packages\\keras\\optimizers.py:790: The name tf.train.Optimizer is deprecated. Please use tf.compat.v1.train.Optimizer instead.\n",
      "\n",
      "WARNING:tensorflow:From C:\\Users\\sundooedu\\Anaconda3\\lib\\site-packages\\tensorflow_core\\python\\ops\\math_grad.py:1424: where (from tensorflow.python.ops.array_ops) is deprecated and will be removed in a future version.\n",
      "Instructions for updating:\n",
      "Use tf.where in 2.0, which has the same broadcast rule as np.where\n",
      "WARNING:tensorflow:From C:\\Users\\sundooedu\\Anaconda3\\lib\\site-packages\\keras\\backend\\tensorflow_backend.py:986: The name tf.assign_add is deprecated. Please use tf.compat.v1.assign_add instead.\n",
      "\n",
      "WARNING:tensorflow:From C:\\Users\\sundooedu\\Anaconda3\\lib\\site-packages\\keras\\backend\\tensorflow_backend.py:973: The name tf.assign is deprecated. Please use tf.compat.v1.assign instead.\n",
      "\n",
      "WARNING:tensorflow:From C:\\Users\\sundooedu\\Anaconda3\\lib\\site-packages\\keras\\backend\\tensorflow_backend.py:2741: The name tf.Session is deprecated. Please use tf.compat.v1.Session instead.\n",
      "\n",
      "WARNING:tensorflow:From C:\\Users\\sundooedu\\Anaconda3\\lib\\site-packages\\keras\\backend\\tensorflow_backend.py:174: The name tf.get_default_session is deprecated. Please use tf.compat.v1.get_default_session instead.\n",
      "\n",
      "WARNING:tensorflow:From C:\\Users\\sundooedu\\Anaconda3\\lib\\site-packages\\keras\\backend\\tensorflow_backend.py:181: The name tf.ConfigProto is deprecated. Please use tf.compat.v1.ConfigProto instead.\n",
      "\n",
      "WARNING:tensorflow:From C:\\Users\\sundooedu\\Anaconda3\\lib\\site-packages\\keras\\backend\\tensorflow_backend.py:190: The name tf.global_variables is deprecated. Please use tf.compat.v1.global_variables instead.\n",
      "\n",
      "WARNING:tensorflow:From C:\\Users\\sundooedu\\Anaconda3\\lib\\site-packages\\keras\\backend\\tensorflow_backend.py:199: The name tf.is_variable_initialized is deprecated. Please use tf.compat.v1.is_variable_initialized instead.\n",
      "\n",
      "WARNING:tensorflow:From C:\\Users\\sundooedu\\Anaconda3\\lib\\site-packages\\keras\\backend\\tensorflow_backend.py:206: The name tf.variables_initializer is deprecated. Please use tf.compat.v1.variables_initializer instead.\n",
      "\n"
     ]
    }
   ],
   "source": [
    "model = Sequential()\n",
    "model.add(LSTM(50, input_shape=(3,1)))\n",
    "model.add(Dense(1))\n",
    "model.compile(optimizer='adam', loss='mse')\n",
    "history = model.fit(x, \n",
    "                    y, \n",
    "                    epochs = 20,\n",
    "                    verbose=0)"
   ]
  },
  {
   "cell_type": "code",
   "execution_count": 16,
   "metadata": {},
   "outputs": [
    {
     "data": {
      "text/plain": [
       "array([[115.87683]], dtype=float32)"
      ]
     },
     "execution_count": 16,
     "metadata": {},
     "output_type": "execute_result"
    }
   ],
   "source": [
    "test_data = np.array([165,128,96])\n",
    "test_data = scaler.fit_transform(test_data.reshape(-1,1))\n",
    "test_data = test_data.reshape(1,3,1)\n",
    "scaler.inverse_transform(model.predict(test_data))"
   ]
  },
  {
   "cell_type": "markdown",
   "metadata": {},
   "source": [
    "# Television Set Sales Example"
   ]
  },
  {
   "cell_type": "code",
   "execution_count": 17,
   "metadata": {},
   "outputs": [],
   "source": [
    "tv=[4.8,4.1,6,6.5,\n",
    "    5.8,5.2,6.8,7.4,\n",
    "    6,5.6,7.5,7.8,\n",
    "    6.3,5.9,8,8.4]"
   ]
  },
  {
   "cell_type": "code",
   "execution_count": 18,
   "metadata": {},
   "outputs": [
    {
     "data": {
      "text/plain": [
       "DatetimeIndex(['2010-03-31', '2010-06-30', '2010-09-30', '2010-12-31',\n",
       "               '2011-03-31', '2011-06-30', '2011-09-30', '2011-12-31',\n",
       "               '2012-03-31', '2012-06-30', '2012-09-30', '2012-12-31',\n",
       "               '2013-03-31', '2013-06-30', '2013-09-30', '2013-12-31'],\n",
       "              dtype='datetime64[ns]', freq='Q-DEC')"
      ]
     },
     "execution_count": 18,
     "metadata": {},
     "output_type": "execute_result"
    }
   ],
   "source": [
    "tvd = pd.date_range('1/1/2010', freq='Q', periods=16)\n",
    "tvd"
   ]
  },
  {
   "cell_type": "code",
   "execution_count": 19,
   "metadata": {},
   "outputs": [
    {
     "data": {
      "text/plain": [
       "2010-03-31    4.8\n",
       "2010-06-30    4.1\n",
       "2010-09-30    6.0\n",
       "2010-12-31    6.5\n",
       "2011-03-31    5.8\n",
       "2011-06-30    5.2\n",
       "2011-09-30    6.8\n",
       "2011-12-31    7.4\n",
       "2012-03-31    6.0\n",
       "2012-06-30    5.6\n",
       "2012-09-30    7.5\n",
       "2012-12-31    7.8\n",
       "2013-03-31    6.3\n",
       "2013-06-30    5.9\n",
       "2013-09-30    8.0\n",
       "2013-12-31    8.4\n",
       "Freq: Q-DEC, dtype: float64"
      ]
     },
     "execution_count": 19,
     "metadata": {},
     "output_type": "execute_result"
    }
   ],
   "source": [
    "tvs = pd.Series(tv, index=tvd)\n",
    "tvs"
   ]
  },
  {
   "cell_type": "code",
   "execution_count": 20,
   "metadata": {},
   "outputs": [],
   "source": [
    "import matplotlib.pyplot as plt\n",
    "%matplotlib inline"
   ]
  },
  {
   "cell_type": "code",
   "execution_count": 21,
   "metadata": {},
   "outputs": [
    {
     "data": {
      "image/png": "[encoded data removed]",
      "text/plain": [
       "<Figure size 1080x576 with 1 Axes>"
      ]
     },
     "metadata": {
      "needs_background": "light"
     },
     "output_type": "display_data"
    }
   ],
   "source": [
    "plt.figure(figsize=(15,8))\n",
    "plt.title('Television Set Sales')\n",
    "plt.plot(tvs)\n",
    "plt.ylim(3,10)\n",
    "plt.xticks(rotation=25)\n",
    "plt.show()"
   ]
  },
  {
   "cell_type": "code",
   "execution_count": 22,
   "metadata": {},
   "outputs": [],
   "source": [
    "def forecast(tvs):\n",
    "    from sklearn.preprocessing import MinMaxScaler\n",
    "    scaler = MinMaxScaler(feature_range=(0,1))\n",
    "    ts = scaler.fit_transform(tvs.values.reshape(-1,1))\n",
    "    \n",
    "    x_list = []\n",
    "    y_list = []\n",
    "    for i in range(len(ts)-3):\n",
    "        x_list.append(ts[i:i+3,0])\n",
    "        y_list.append(ts[i+3,0])\n",
    "    x = np.array(x_list)\n",
    "    y = np.array(y_list)\n",
    "    \n",
    "    x = x.reshape(len(tvs)-3,3,1)\n",
    "    \n",
    "    from keras.models import Sequential\n",
    "    from keras.layers import Dense, LSTM, Dropout\n",
    "    \n",
    "    model = Sequential()\n",
    "    model.add(LSTM(50, \n",
    "                   input_shape=(3,1)))\n",
    "    model.add(Dense(1))\n",
    "    model.compile(optimizer='adam', loss='mse')\n",
    "    history = model.fit(x, \n",
    "                        y, \n",
    "                        epochs = 20,\n",
    "                        verbose=0)\n",
    "    test_data = np.array([tvs[-3],tvs[-2],tvs[-1]])\n",
    "    test_data = scaler.fit_transform(test_data.reshape(-1,1))\n",
    "    test_data = test_data.reshape(1,3,1)\n",
    "    return scaler.inverse_transform(model.predict(test_data))"
   ]
  },
  {
   "cell_type": "code",
   "execution_count": 23,
   "metadata": {},
   "outputs": [
    {
     "data": {
      "text/plain": [
       "array([[6.1933336]], dtype=float32)"
      ]
     },
     "execution_count": 23,
     "metadata": {},
     "output_type": "execute_result"
    }
   ],
   "source": [
    "forecast(tvs)"
   ]
  },
  {
   "cell_type": "markdown",
   "metadata": {},
   "source": [
    "# Lawn-Maintenance Expense "
   ]
  },
  {
   "cell_type": "code",
   "execution_count": 24,
   "metadata": {
    "scrolled": true
   },
   "outputs": [
    {
     "data": {
      "text/html": [
       "<div>\n",
       "<style scoped>\n",
       "    .dataframe tbody tr th:only-of-type {\n",
       "        vertical-align: middle;\n",
       "    }\n",
       "\n",
       "    .dataframe tbody tr th {\n",
       "        vertical-align: top;\n",
       "    }\n",
       "\n",
       "    .dataframe thead th {\n",
       "        text-align: right;\n",
       "    }\n",
       "</style>\n",
       "<table border=\"1\" class=\"dataframe\">\n",
       "  <thead>\n",
       "    <tr style=\"text-align: right;\">\n",
       "      <th></th>\n",
       "      <th>Month</th>\n",
       "      <th>2011</th>\n",
       "      <th>2012</th>\n",
       "      <th>2013</th>\n",
       "    </tr>\n",
       "  </thead>\n",
       "  <tbody>\n",
       "    <tr>\n",
       "      <td>0</td>\n",
       "      <td>1</td>\n",
       "      <td>170</td>\n",
       "      <td>180</td>\n",
       "      <td>195</td>\n",
       "    </tr>\n",
       "    <tr>\n",
       "      <td>1</td>\n",
       "      <td>2</td>\n",
       "      <td>180</td>\n",
       "      <td>205</td>\n",
       "      <td>210</td>\n",
       "    </tr>\n",
       "    <tr>\n",
       "      <td>2</td>\n",
       "      <td>3</td>\n",
       "      <td>205</td>\n",
       "      <td>215</td>\n",
       "      <td>230</td>\n",
       "    </tr>\n",
       "    <tr>\n",
       "      <td>3</td>\n",
       "      <td>4</td>\n",
       "      <td>230</td>\n",
       "      <td>245</td>\n",
       "      <td>280</td>\n",
       "    </tr>\n",
       "    <tr>\n",
       "      <td>4</td>\n",
       "      <td>5</td>\n",
       "      <td>240</td>\n",
       "      <td>265</td>\n",
       "      <td>290</td>\n",
       "    </tr>\n",
       "    <tr>\n",
       "      <td>5</td>\n",
       "      <td>6</td>\n",
       "      <td>315</td>\n",
       "      <td>330</td>\n",
       "      <td>390</td>\n",
       "    </tr>\n",
       "    <tr>\n",
       "      <td>6</td>\n",
       "      <td>7</td>\n",
       "      <td>360</td>\n",
       "      <td>400</td>\n",
       "      <td>420</td>\n",
       "    </tr>\n",
       "    <tr>\n",
       "      <td>7</td>\n",
       "      <td>8</td>\n",
       "      <td>290</td>\n",
       "      <td>335</td>\n",
       "      <td>330</td>\n",
       "    </tr>\n",
       "    <tr>\n",
       "      <td>8</td>\n",
       "      <td>9</td>\n",
       "      <td>240</td>\n",
       "      <td>260</td>\n",
       "      <td>290</td>\n",
       "    </tr>\n",
       "    <tr>\n",
       "      <td>9</td>\n",
       "      <td>10</td>\n",
       "      <td>240</td>\n",
       "      <td>270</td>\n",
       "      <td>295</td>\n",
       "    </tr>\n",
       "    <tr>\n",
       "      <td>10</td>\n",
       "      <td>11</td>\n",
       "      <td>230</td>\n",
       "      <td>255</td>\n",
       "      <td>280</td>\n",
       "    </tr>\n",
       "    <tr>\n",
       "      <td>11</td>\n",
       "      <td>12</td>\n",
       "      <td>195</td>\n",
       "      <td>220</td>\n",
       "      <td>250</td>\n",
       "    </tr>\n",
       "  </tbody>\n",
       "</table>\n",
       "</div>"
      ],
      "text/plain": [
       "    Month  2011  2012  2013\n",
       "0       1   170   180   195\n",
       "1       2   180   205   210\n",
       "2       3   205   215   230\n",
       "3       4   230   245   280\n",
       "4       5   240   265   290\n",
       "5       6   315   330   390\n",
       "6       7   360   400   420\n",
       "7       8   290   335   330\n",
       "8       9   240   260   290\n",
       "9      10   240   270   295\n",
       "10     11   230   255   280\n",
       "11     12   195   220   250"
      ]
     },
     "execution_count": 24,
     "metadata": {},
     "output_type": "execute_result"
    }
   ],
   "source": [
    "lawn = pd.read_excel('../data/lawn_maintenance.xls')\n",
    "lawn"
   ]
  },
  {
   "cell_type": "code",
   "execution_count": 25,
   "metadata": {
    "scrolled": true
   },
   "outputs": [
    {
     "data": {
      "text/plain": [
       "0     170\n",
       "1     180\n",
       "2     205\n",
       "3     230\n",
       "4     240\n",
       "5     315\n",
       "6     360\n",
       "7     290\n",
       "8     240\n",
       "9     240\n",
       "10    230\n",
       "11    195\n",
       "12    180\n",
       "13    205\n",
       "14    215\n",
       "15    245\n",
       "16    265\n",
       "17    330\n",
       "18    400\n",
       "19    335\n",
       "20    260\n",
       "21    270\n",
       "22    255\n",
       "23    220\n",
       "24    195\n",
       "25    210\n",
       "26    230\n",
       "27    280\n",
       "28    290\n",
       "29    390\n",
       "30    420\n",
       "31    330\n",
       "32    290\n",
       "33    295\n",
       "34    280\n",
       "35    250\n",
       "dtype: int64"
      ]
     },
     "execution_count": 25,
     "metadata": {},
     "output_type": "execute_result"
    }
   ],
   "source": [
    "lawn_l=pd.concat([lawn[2011],lawn[2012],lawn[2013]],axis=0,ignore_index=True)\n",
    "lawn_l"
   ]
  },
  {
   "cell_type": "code",
   "execution_count": 26,
   "metadata": {},
   "outputs": [
    {
     "data": {
      "text/plain": [
       "DatetimeIndex(['2011-01-31', '2011-02-28', '2011-03-31', '2011-04-30',\n",
       "               '2011-05-31', '2011-06-30', '2011-07-31', '2011-08-31',\n",
       "               '2011-09-30', '2011-10-31', '2011-11-30', '2011-12-31',\n",
       "               '2012-01-31', '2012-02-29', '2012-03-31', '2012-04-30',\n",
       "               '2012-05-31', '2012-06-30', '2012-07-31', '2012-08-31',\n",
       "               '2012-09-30', '2012-10-31', '2012-11-30', '2012-12-31',\n",
       "               '2013-01-31', '2013-02-28', '2013-03-31', '2013-04-30',\n",
       "               '2013-05-31', '2013-06-30', '2013-07-31', '2013-08-31',\n",
       "               '2013-09-30', '2013-10-31', '2013-11-30', '2013-12-31'],\n",
       "              dtype='datetime64[ns]', freq='M')"
      ]
     },
     "execution_count": 26,
     "metadata": {},
     "output_type": "execute_result"
    }
   ],
   "source": [
    "tl = pd.date_range('1/1/2011', freq='M', periods=36)\n",
    "tl"
   ]
  },
  {
   "cell_type": "code",
   "execution_count": 27,
   "metadata": {
    "scrolled": true
   },
   "outputs": [
    {
     "data": {
      "text/plain": [
       "2011-01-31    170\n",
       "2011-02-28    180\n",
       "2011-03-31    205\n",
       "2011-04-30    230\n",
       "2011-05-31    240\n",
       "2011-06-30    315\n",
       "2011-07-31    360\n",
       "2011-08-31    290\n",
       "2011-09-30    240\n",
       "2011-10-31    240\n",
       "2011-11-30    230\n",
       "2011-12-31    195\n",
       "2012-01-31    180\n",
       "2012-02-29    205\n",
       "2012-03-31    215\n",
       "2012-04-30    245\n",
       "2012-05-31    265\n",
       "2012-06-30    330\n",
       "2012-07-31    400\n",
       "2012-08-31    335\n",
       "2012-09-30    260\n",
       "2012-10-31    270\n",
       "2012-11-30    255\n",
       "2012-12-31    220\n",
       "2013-01-31    195\n",
       "2013-02-28    210\n",
       "2013-03-31    230\n",
       "2013-04-30    280\n",
       "2013-05-31    290\n",
       "2013-06-30    390\n",
       "2013-07-31    420\n",
       "2013-08-31    330\n",
       "2013-09-30    290\n",
       "2013-10-31    295\n",
       "2013-11-30    280\n",
       "2013-12-31    250\n",
       "Freq: M, dtype: int64"
      ]
     },
     "execution_count": 27,
     "metadata": {},
     "output_type": "execute_result"
    }
   ],
   "source": [
    "tls = pd.Series(lawn_l.values, index=tl)\n",
    "tls"
   ]
  },
  {
   "cell_type": "code",
   "execution_count": 28,
   "metadata": {},
   "outputs": [],
   "source": [
    "import matplotlib.pyplot as plt\n",
    "%matplotlib inline"
   ]
  },
  {
   "cell_type": "code",
   "execution_count": 29,
   "metadata": {},
   "outputs": [
    {
     "data": {
      "image/png": "[encoded data removed]",
      "text/plain": [
       "<Figure size 1080x576 with 1 Axes>"
      ]
     },
     "metadata": {
      "needs_background": "light"
     },
     "output_type": "display_data"
    }
   ],
   "source": [
    "plt.figure(figsize=(12,6))\n",
    "plt.title('Lawn-Maintenance Expense')\n",
    "plt.plot(tls)\n",
    "plt.ylim(150,450)\n",
    "plt.xticks(rotation=25)\n",
    "plt.show()"
   ]
  },
  {
   "cell_type": "code",
   "execution_count": 30,
   "metadata": {},
   "outputs": [],
   "source": [
    "def forecast_lawn(tvs):\n",
    "    from sklearn.preprocessing import MinMaxScaler\n",
    "    scaler = MinMaxScaler(feature_range=(0,1))\n",
    "    ts = scaler.fit_transform(tvs.values.reshape(-1,1))\n",
    "    \n",
    "    x_list = []\n",
    "    y_list = []\n",
    "    for i in range(len(ts)-3):\n",
    "        x_list.append(ts[i:i+3,0])\n",
    "        y_list.append(ts[i+3,0])\n",
    "    x = np.array(x_list)\n",
    "    y = np.array(y_list)\n",
    "    \n",
    "    x = x.reshape(len(tvs)-3,3,1)\n",
    "    \n",
    "    from keras.models import Sequential\n",
    "    from keras.layers import Dense, LSTM, Dropout\n",
    "    \n",
    "    model = Sequential()\n",
    "    model.add(LSTM(50, \n",
    "                   input_shape=(3,1),\n",
    "                   return_sequences=True))\n",
    "    model.add(Dense(1))\n",
    "    model.compile(optimizer='adam', loss='mse')\n",
    "    history = model.fit(x, \n",
    "                        y, \n",
    "                        epochs = 200,\n",
    "                        verbose=0)\n",
    "    test_data = np.array([tvs[-3],tvs[-2],tvs[-1]])\n",
    "    test_data = scaler.fit_transform(test_data.reshape(-1,1))\n",
    "    test_data = test_data.reshape(1,3,1)\n",
    "    return scaler.inverse_transform(model.predict(test_data))"
   ]
  },
  {
   "cell_type": "code",
   "execution_count": 31,
   "metadata": {},
   "outputs": [
    {
     "data": {
      "text/plain": [
       "array([[273.43347]], dtype=float32)"
      ]
     },
     "execution_count": 31,
     "metadata": {},
     "output_type": "execute_result"
    }
   ],
   "source": [
    "forecast(tls)"
   ]
  },
  {
   "cell_type": "markdown",
   "metadata": {},
   "source": [
    "# Bicycle - Linear Trend Regression Example"
   ]
  },
  {
   "cell_type": "code",
   "execution_count": 32,
   "metadata": {},
   "outputs": [
    {
     "data": {
      "text/html": [
       "<div>\n",
       "<style scoped>\n",
       "    .dataframe tbody tr th:only-of-type {\n",
       "        vertical-align: middle;\n",
       "    }\n",
       "\n",
       "    .dataframe tbody tr th {\n",
       "        vertical-align: top;\n",
       "    }\n",
       "\n",
       "    .dataframe thead th {\n",
       "        text-align: right;\n",
       "    }\n",
       "</style>\n",
       "<table border=\"1\" class=\"dataframe\">\n",
       "  <thead>\n",
       "    <tr style=\"text-align: right;\">\n",
       "      <th></th>\n",
       "      <th>Year</th>\n",
       "      <th>Sales</th>\n",
       "    </tr>\n",
       "  </thead>\n",
       "  <tbody>\n",
       "    <tr>\n",
       "      <td>0</td>\n",
       "      <td>1</td>\n",
       "      <td>21.6</td>\n",
       "    </tr>\n",
       "    <tr>\n",
       "      <td>1</td>\n",
       "      <td>2</td>\n",
       "      <td>22.9</td>\n",
       "    </tr>\n",
       "    <tr>\n",
       "      <td>2</td>\n",
       "      <td>3</td>\n",
       "      <td>25.5</td>\n",
       "    </tr>\n",
       "    <tr>\n",
       "      <td>3</td>\n",
       "      <td>4</td>\n",
       "      <td>21.9</td>\n",
       "    </tr>\n",
       "    <tr>\n",
       "      <td>4</td>\n",
       "      <td>5</td>\n",
       "      <td>23.9</td>\n",
       "    </tr>\n",
       "    <tr>\n",
       "      <td>5</td>\n",
       "      <td>6</td>\n",
       "      <td>27.5</td>\n",
       "    </tr>\n",
       "    <tr>\n",
       "      <td>6</td>\n",
       "      <td>7</td>\n",
       "      <td>31.5</td>\n",
       "    </tr>\n",
       "    <tr>\n",
       "      <td>7</td>\n",
       "      <td>8</td>\n",
       "      <td>29.7</td>\n",
       "    </tr>\n",
       "    <tr>\n",
       "      <td>8</td>\n",
       "      <td>9</td>\n",
       "      <td>28.6</td>\n",
       "    </tr>\n",
       "    <tr>\n",
       "      <td>9</td>\n",
       "      <td>10</td>\n",
       "      <td>31.4</td>\n",
       "    </tr>\n",
       "  </tbody>\n",
       "</table>\n",
       "</div>"
      ],
      "text/plain": [
       "   Year  Sales\n",
       "0     1   21.6\n",
       "1     2   22.9\n",
       "2     3   25.5\n",
       "3     4   21.9\n",
       "4     5   23.9\n",
       "5     6   27.5\n",
       "6     7   31.5\n",
       "7     8   29.7\n",
       "8     9   28.6\n",
       "9    10   31.4"
      ]
     },
     "execution_count": 32,
     "metadata": {},
     "output_type": "execute_result"
    }
   ],
   "source": [
    "bicycle = pd.read_excel('../data/bicycle.xls')\n",
    "bicycle"
   ]
  },
  {
   "cell_type": "code",
   "execution_count": 33,
   "metadata": {},
   "outputs": [
    {
     "data": {
      "text/plain": [
       "1     21.6\n",
       "2     22.9\n",
       "3     25.5\n",
       "4     21.9\n",
       "5     23.9\n",
       "6     27.5\n",
       "7     31.5\n",
       "8     29.7\n",
       "9     28.6\n",
       "10    31.4\n",
       "dtype: float64"
      ]
     },
     "execution_count": 33,
     "metadata": {},
     "output_type": "execute_result"
    }
   ],
   "source": [
    "ts = pd.Series(bicycle['Sales'].values, index = np.arange(1,11))\n",
    "ts"
   ]
  },
  {
   "cell_type": "code",
   "execution_count": 34,
   "metadata": {},
   "outputs": [
    {
     "data": {
      "text/plain": [
       "(0, 40)"
      ]
     },
     "execution_count": 34,
     "metadata": {},
     "output_type": "execute_result"
    },
    {
     "data": {
      "image/png": "[encoded data removed]",
      "text/plain": [
       "<Figure size 1080x576 with 1 Axes>"
      ]
     },
     "metadata": {
      "needs_background": "light"
     },
     "output_type": "display_data"
    }
   ],
   "source": [
    "plt.figure(figsize=(12,6))\n",
    "plt.plot(ts, marker='o')\n",
    "plt.ylim(0,40)"
   ]
  },
  {
   "cell_type": "markdown",
   "metadata": {},
   "source": [
    "# regression"
   ]
  },
  {
   "cell_type": "code",
   "execution_count": 35,
   "metadata": {},
   "outputs": [],
   "source": [
    "import statsmodels.api as sm"
   ]
  },
  {
   "cell_type": "code",
   "execution_count": 36,
   "metadata": {},
   "outputs": [],
   "source": [
    "y = ts.values\n",
    "x = np.arange(1,11)\n",
    "x = sm.add_constant(x)"
   ]
  },
  {
   "cell_type": "code",
   "execution_count": 37,
   "metadata": {},
   "outputs": [
    {
     "name": "stderr",
     "output_type": "stream",
     "text": [
      "C:\\Users\\sundooedu\\Anaconda3\\lib\\site-packages\\scipy\\stats\\stats.py:1450: UserWarning: kurtosistest only valid for n>=20 ... continuing anyway, n=10\n",
      "  \"anyway, n=%i\" % int(n))\n"
     ]
    },
    {
     "data": {
      "text/html": [
       "<table class=\"simpletable\">\n",
       "<caption>OLS Regression Results</caption>\n",
       "<tr>\n",
       "  <th>Dep. Variable:</th>            <td>y</td>        <th>  R-squared:         </th> <td>   0.765</td>\n",
       "</tr>\n",
       "<tr>\n",
       "  <th>Model:</th>                   <td>OLS</td>       <th>  Adj. R-squared:    </th> <td>   0.735</td>\n",
       "</tr>\n",
       "<tr>\n",
       "  <th>Method:</th>             <td>Least Squares</td>  <th>  F-statistic:       </th> <td>   26.01</td>\n",
       "</tr>\n",
       "<tr>\n",
       "  <th>Date:</th>             <td>Thu, 30 Jan 2020</td> <th>  Prob (F-statistic):</th> <td>0.000930</td>\n",
       "</tr>\n",
       "<tr>\n",
       "  <th>Time:</th>                 <td>09:34:55</td>     <th>  Log-Likelihood:    </th> <td> -19.798</td>\n",
       "</tr>\n",
       "<tr>\n",
       "  <th>No. Observations:</th>      <td>    10</td>      <th>  AIC:               </th> <td>   43.60</td>\n",
       "</tr>\n",
       "<tr>\n",
       "  <th>Df Residuals:</th>          <td>     8</td>      <th>  BIC:               </th> <td>   44.20</td>\n",
       "</tr>\n",
       "<tr>\n",
       "  <th>Df Model:</th>              <td>     1</td>      <th>                     </th>     <td> </td>   \n",
       "</tr>\n",
       "<tr>\n",
       "  <th>Covariance Type:</th>      <td>nonrobust</td>    <th>                     </th>     <td> </td>   \n",
       "</tr>\n",
       "</table>\n",
       "<table class=\"simpletable\">\n",
       "<tr>\n",
       "    <td></td>       <th>coef</th>     <th>std err</th>      <th>t</th>      <th>P>|t|</th>  <th>[0.025</th>    <th>0.975]</th>  \n",
       "</tr>\n",
       "<tr>\n",
       "  <th>const</th> <td>   20.4000</td> <td>    1.338</td> <td>   15.244</td> <td> 0.000</td> <td>   17.314</td> <td>   23.486</td>\n",
       "</tr>\n",
       "<tr>\n",
       "  <th>x1</th>    <td>    1.1000</td> <td>    0.216</td> <td>    5.100</td> <td> 0.001</td> <td>    0.603</td> <td>    1.597</td>\n",
       "</tr>\n",
       "</table>\n",
       "<table class=\"simpletable\">\n",
       "<tr>\n",
       "  <th>Omnibus:</th>       <td> 0.173</td> <th>  Durbin-Watson:     </th> <td>   1.824</td>\n",
       "</tr>\n",
       "<tr>\n",
       "  <th>Prob(Omnibus):</th> <td> 0.917</td> <th>  Jarque-Bera (JB):  </th> <td>   0.126</td>\n",
       "</tr>\n",
       "<tr>\n",
       "  <th>Skew:</th>          <td> 0.151</td> <th>  Prob(JB):          </th> <td>   0.939</td>\n",
       "</tr>\n",
       "<tr>\n",
       "  <th>Kurtosis:</th>      <td> 2.539</td> <th>  Cond. No.          </th> <td>    13.7</td>\n",
       "</tr>\n",
       "</table><br/><br/>Warnings:<br/>[1] Standard Errors assume that the covariance matrix of the errors is correctly specified."
      ],
      "text/plain": [
       "<class 'statsmodels.iolib.summary.Summary'>\n",
       "\"\"\"\n",
       "                            OLS Regression Results                            \n",
       "==============================================================================\n",
       "Dep. Variable:                      y   R-squared:                       0.765\n",
       "Model:                            OLS   Adj. R-squared:                  0.735\n",
       "Method:                 Least Squares   F-statistic:                     26.01\n",
       "Date:                Thu, 30 Jan 2020   Prob (F-statistic):           0.000930\n",
       "Time:                        09:34:55   Log-Likelihood:                -19.798\n",
       "No. Observations:                  10   AIC:                             43.60\n",
       "Df Residuals:                       8   BIC:                             44.20\n",
       "Df Model:                           1                                         \n",
       "Covariance Type:            nonrobust                                         \n",
       "==============================================================================\n",
       "                 coef    std err          t      P>|t|      [0.025      0.975]\n",
       "------------------------------------------------------------------------------\n",
       "const         20.4000      1.338     15.244      0.000      17.314      23.486\n",
       "x1             1.1000      0.216      5.100      0.001       0.603       1.597\n",
       "==============================================================================\n",
       "Omnibus:                        0.173   Durbin-Watson:                   1.824\n",
       "Prob(Omnibus):                  0.917   Jarque-Bera (JB):                0.126\n",
       "Skew:                           0.151   Prob(JB):                        0.939\n",
       "Kurtosis:                       2.539   Cond. No.                         13.7\n",
       "==============================================================================\n",
       "\n",
       "Warnings:\n",
       "[1] Standard Errors assume that the covariance matrix of the errors is correctly specified.\n",
       "\"\"\""
      ]
     },
     "execution_count": 37,
     "metadata": {},
     "output_type": "execute_result"
    }
   ],
   "source": [
    "lmfit = sm.OLS(y,x).fit()\n",
    "lmfit.summary() # 예측식 ts = 1.1*t + 20.4"
   ]
  },
  {
   "cell_type": "code",
   "execution_count": 38,
   "metadata": {},
   "outputs": [
    {
     "name": "stdout",
     "output_type": "stream",
     "text": [
      "y11: 32.5\n",
      "y12: 33.6\n"
     ]
    }
   ],
   "source": [
    "y11 = 1.1*11 + 20.4 # lmfit.params[1]*11 + lmfit.params[0]\n",
    "y12 = 1.1*12 + 20.4\n",
    "print(f'y11: {y11}\\ny12: {y12}')"
   ]
  },
  {
   "cell_type": "code",
   "execution_count": 39,
   "metadata": {},
   "outputs": [
    {
     "data": {
      "text/plain": [
       "array([32.5, 33.6])"
      ]
     },
     "execution_count": 39,
     "metadata": {},
     "output_type": "execute_result"
    }
   ],
   "source": [
    "test_data = np.array([11,12]).reshape(-1,1)\n",
    "test_data = sm.add_constant(test_data)\n",
    "lmfit.predict(test_data)"
   ]
  },
  {
   "cell_type": "code",
   "execution_count": 40,
   "metadata": {},
   "outputs": [
    {
     "data": {
      "text/plain": [
       "array([21.5, 22.6, 23.7, 24.8, 25.9, 27. , 28.1, 29.2, 30.3, 31.4])"
      ]
     },
     "execution_count": 40,
     "metadata": {},
     "output_type": "execute_result"
    }
   ],
   "source": [
    "y_pred = lmfit.predict(x)\n",
    "y_pred"
   ]
  },
  {
   "cell_type": "code",
   "execution_count": 41,
   "metadata": {},
   "outputs": [
    {
     "data": {
      "text/plain": [
       "<matplotlib.legend.Legend at 0x2419b83c388>"
      ]
     },
     "execution_count": 41,
     "metadata": {},
     "output_type": "execute_result"
    },
    {
     "data": {
      "image/png": "[encoded data removed]",
      "text/plain": [
       "<Figure size 1080x576 with 1 Axes>"
      ]
     },
     "metadata": {
      "needs_background": "light"
     },
     "output_type": "display_data"
    }
   ],
   "source": [
    "plt.figure(figsize=(15,8))\n",
    "plt.plot(ts, label='actual')\n",
    "plt.plot(np.arange(1,11), y_pred, label='predicted')\n",
    "plt.ylim(19,35)\n",
    "plt.legend(loc='best')"
   ]
  },
  {
   "cell_type": "markdown",
   "metadata": {},
   "source": [
    "# Error calculation"
   ]
  },
  {
   "cell_type": "code",
   "execution_count": 42,
   "metadata": {},
   "outputs": [],
   "source": [
    "error = y - y_pred "
   ]
  },
  {
   "cell_type": "code",
   "execution_count": 43,
   "metadata": {},
   "outputs": [],
   "source": [
    "abs_error = np.abs(error)"
   ]
  },
  {
   "cell_type": "code",
   "execution_count": 44,
   "metadata": {},
   "outputs": [],
   "source": [
    "pct_error = abs_error / y"
   ]
  },
  {
   "cell_type": "code",
   "execution_count": 45,
   "metadata": {},
   "outputs": [],
   "source": [
    "sq_error = np.square(error)"
   ]
  },
  {
   "cell_type": "code",
   "execution_count": 46,
   "metadata": {},
   "outputs": [
    {
     "data": {
      "text/html": [
       "<div>\n",
       "<style scoped>\n",
       "    .dataframe tbody tr th:only-of-type {\n",
       "        vertical-align: middle;\n",
       "    }\n",
       "\n",
       "    .dataframe tbody tr th {\n",
       "        vertical-align: top;\n",
       "    }\n",
       "\n",
       "    .dataframe thead th {\n",
       "        text-align: right;\n",
       "    }\n",
       "</style>\n",
       "<table border=\"1\" class=\"dataframe\">\n",
       "  <thead>\n",
       "    <tr style=\"text-align: right;\">\n",
       "      <th></th>\n",
       "      <th>error</th>\n",
       "      <th>abs error</th>\n",
       "      <th>pct error</th>\n",
       "      <th>sq error</th>\n",
       "    </tr>\n",
       "  </thead>\n",
       "  <tbody>\n",
       "    <tr>\n",
       "      <td>0</td>\n",
       "      <td>1.000000e-01</td>\n",
       "      <td>1.000000e-01</td>\n",
       "      <td>4.629630e-03</td>\n",
       "      <td>1.000000e-02</td>\n",
       "    </tr>\n",
       "    <tr>\n",
       "      <td>1</td>\n",
       "      <td>3.000000e-01</td>\n",
       "      <td>3.000000e-01</td>\n",
       "      <td>1.310044e-02</td>\n",
       "      <td>9.000000e-02</td>\n",
       "    </tr>\n",
       "    <tr>\n",
       "      <td>2</td>\n",
       "      <td>1.800000e+00</td>\n",
       "      <td>1.800000e+00</td>\n",
       "      <td>7.058824e-02</td>\n",
       "      <td>3.240000e+00</td>\n",
       "    </tr>\n",
       "    <tr>\n",
       "      <td>3</td>\n",
       "      <td>-2.900000e+00</td>\n",
       "      <td>2.900000e+00</td>\n",
       "      <td>1.324201e-01</td>\n",
       "      <td>8.410000e+00</td>\n",
       "    </tr>\n",
       "    <tr>\n",
       "      <td>4</td>\n",
       "      <td>-2.000000e+00</td>\n",
       "      <td>2.000000e+00</td>\n",
       "      <td>8.368201e-02</td>\n",
       "      <td>4.000000e+00</td>\n",
       "    </tr>\n",
       "    <tr>\n",
       "      <td>5</td>\n",
       "      <td>5.000000e-01</td>\n",
       "      <td>5.000000e-01</td>\n",
       "      <td>1.818182e-02</td>\n",
       "      <td>2.500000e-01</td>\n",
       "    </tr>\n",
       "    <tr>\n",
       "      <td>6</td>\n",
       "      <td>3.400000e+00</td>\n",
       "      <td>3.400000e+00</td>\n",
       "      <td>1.079365e-01</td>\n",
       "      <td>1.156000e+01</td>\n",
       "    </tr>\n",
       "    <tr>\n",
       "      <td>7</td>\n",
       "      <td>5.000000e-01</td>\n",
       "      <td>5.000000e-01</td>\n",
       "      <td>1.683502e-02</td>\n",
       "      <td>2.500000e-01</td>\n",
       "    </tr>\n",
       "    <tr>\n",
       "      <td>8</td>\n",
       "      <td>-1.700000e+00</td>\n",
       "      <td>1.700000e+00</td>\n",
       "      <td>5.944056e-02</td>\n",
       "      <td>2.890000e+00</td>\n",
       "    </tr>\n",
       "    <tr>\n",
       "      <td>9</td>\n",
       "      <td>-7.105427e-15</td>\n",
       "      <td>7.105427e-15</td>\n",
       "      <td>2.262875e-16</td>\n",
       "      <td>5.048710e-29</td>\n",
       "    </tr>\n",
       "  </tbody>\n",
       "</table>\n",
       "</div>"
      ],
      "text/plain": [
       "          error     abs error     pct error      sq error\n",
       "0  1.000000e-01  1.000000e-01  4.629630e-03  1.000000e-02\n",
       "1  3.000000e-01  3.000000e-01  1.310044e-02  9.000000e-02\n",
       "2  1.800000e+00  1.800000e+00  7.058824e-02  3.240000e+00\n",
       "3 -2.900000e+00  2.900000e+00  1.324201e-01  8.410000e+00\n",
       "4 -2.000000e+00  2.000000e+00  8.368201e-02  4.000000e+00\n",
       "5  5.000000e-01  5.000000e-01  1.818182e-02  2.500000e-01\n",
       "6  3.400000e+00  3.400000e+00  1.079365e-01  1.156000e+01\n",
       "7  5.000000e-01  5.000000e-01  1.683502e-02  2.500000e-01\n",
       "8 -1.700000e+00  1.700000e+00  5.944056e-02  2.890000e+00\n",
       "9 -7.105427e-15  7.105427e-15  2.262875e-16  5.048710e-29"
      ]
     },
     "execution_count": 46,
     "metadata": {},
     "output_type": "execute_result"
    }
   ],
   "source": [
    "error_table = pd.DataFrame({'error':error,\n",
    "                            'abs error':abs_error,\n",
    "                            'pct error':pct_error,\n",
    "                            'sq error':sq_error})\n",
    "error_table"
   ]
  },
  {
   "cell_type": "code",
   "execution_count": 47,
   "metadata": {},
   "outputs": [],
   "source": [
    "me = np.mean(error)\n",
    "mae = np.mean(abs_error)\n",
    "mape = np.mean(pct_error)\n",
    "mse = np.mean(sq_error)"
   ]
  },
  {
   "cell_type": "code",
   "execution_count": 48,
   "metadata": {},
   "outputs": [
    {
     "name": "stdout",
     "output_type": "stream",
     "text": [
      "me: 2.1316282072803005e-15\n",
      "mae: 1.3200000000000025\n",
      "mape: 0.05068143036912751\n",
      "mse: 3.069999999999999\n"
     ]
    }
   ],
   "source": [
    "print(f'me: {me}\\nmae: {mae}\\nmape: {mape}\\nmse: {mse}')"
   ]
  },
  {
   "cell_type": "code",
   "execution_count": 49,
   "metadata": {},
   "outputs": [],
   "source": [
    "e_sum = np.cumsum(error)\n",
    "ae_sum = np.cumsum(abs_error)\n",
    "mad = ae_sum/np.arange(1,11)\n",
    "ts = e_sum / mad"
   ]
  },
  {
   "cell_type": "code",
   "execution_count": 50,
   "metadata": {},
   "outputs": [
    {
     "name": "stdout",
     "output_type": "stream",
     "text": [
      "e_sum: \n",
      "[ 1.00000000e-01  4.00000000e-01  2.20000000e+00 -7.00000000e-01\n",
      " -2.70000000e+00 -2.20000000e+00  1.20000000e+00  1.70000000e+00\n",
      "  2.84217094e-14  2.13162821e-14]\n",
      "ae_sum: \n",
      "[ 0.1  0.4  2.2  5.1  7.1  7.6 11.  11.5 13.2 13.2]\n",
      "mad: \n",
      "[0.1        0.2        0.73333333 1.275      1.42       1.26666667\n",
      " 1.57142857 1.4375     1.46666667 1.32      ]\n",
      "ts: \n",
      "[ 1.00000000e+00  2.00000000e+00  3.00000000e+00 -5.49019608e-01\n",
      " -1.90140845e+00 -1.73684211e+00  7.63636364e-01  1.18260870e+00\n",
      "  1.93784382e-14  1.61486985e-14]\n"
     ]
    }
   ],
   "source": [
    "print(f'e_sum: \\n{e_sum}\\nae_sum: \\n{ae_sum}\\nmad: \\n{mad}\\nts: \\n{ts}')"
   ]
  },
  {
   "cell_type": "code",
   "execution_count": 51,
   "metadata": {},
   "outputs": [],
   "source": [
    "import matplotlib._color_data as mcd\n",
    "import matplotlib.patches as mpatch"
   ]
  },
  {
   "cell_type": "code",
   "execution_count": 52,
   "metadata": {},
   "outputs": [
    {
     "data": {
      "image/png": "[encoded data removed]",
      "text/plain": [
       "<Figure size 864x720 with 4 Axes>"
      ]
     },
     "metadata": {
      "needs_background": "light"
     },
     "output_type": "display_data"
    }
   ],
   "source": [
    "fig,ax=plt.subplots(2,2,figsize=(12,10))\n",
    "ax=ax.ravel()\n",
    "graph = [e_sum, ae_sum, mad, ts]\n",
    "name = ['e_sum','ae_sum','mad','ts']\n",
    "for i in range(4):\n",
    "    ax[i].set_title(name[i])\n",
    "    ax[i].plot(graph[i],label=name[i])\n",
    "    ax[i].legend(loc='best')\n",
    "plt.tight_layout()"
   ]
  },
  {
   "cell_type": "code",
   "execution_count": 53,
   "metadata": {},
   "outputs": [],
   "source": [
    "def error_cal(y, y_pred):\n",
    "    error = y - y_pred \n",
    "    abs_error = np.abs(error)\n",
    "    pct_error = abs_error / y\n",
    "    sq_error = np.square(error)\n",
    "    \n",
    "    me = np.mean(error)\n",
    "    mae = np.mean(abs_error)\n",
    "    mape = np.mean(pct_error)\n",
    "    mse = np.mean(sq_error)\n",
    "    \n",
    "    e_sum = np.cumsum(error)\n",
    "    ae_sum = np.cumsum(abs_error)\n",
    "    mad = ae_sum/np.arange(1,len(y)+1)\n",
    "    ts = e_sum / mad\n",
    "    return me, mae, mape, mse, ts"
   ]
  },
  {
   "cell_type": "code",
   "execution_count": 54,
   "metadata": {
    "scrolled": true
   },
   "outputs": [],
   "source": [
    "me, mae, mape, mse, ts = error_cal(y, y_pred)"
   ]
  },
  {
   "cell_type": "code",
   "execution_count": 55,
   "metadata": {},
   "outputs": [
    {
     "data": {
      "text/plain": [
       "<matplotlib.legend.Legend at 0x2419ba21488>"
      ]
     },
     "execution_count": 55,
     "metadata": {},
     "output_type": "execute_result"
    },
    {
     "data": {
      "image/png": "[encoded data removed]",
      "text/plain": [
       "<Figure size 432x288 with 1 Axes>"
      ]
     },
     "metadata": {
      "needs_background": "light"
     },
     "output_type": "display_data"
    }
   ],
   "source": [
    "plt.title('ts')\n",
    "plt.plot(ts,label='ts')\n",
    "plt.legend(loc='best')"
   ]
  },
  {
   "cell_type": "markdown",
   "metadata": {},
   "source": [
    "# Forecasting Using RNN"
   ]
  },
  {
   "cell_type": "markdown",
   "metadata": {},
   "source": [
    "# Load Data"
   ]
  },
  {
   "cell_type": "code",
   "execution_count": 56,
   "metadata": {},
   "outputs": [
    {
     "data": {
      "text/html": [
       "<div>\n",
       "<style scoped>\n",
       "    .dataframe tbody tr th:only-of-type {\n",
       "        vertical-align: middle;\n",
       "    }\n",
       "\n",
       "    .dataframe tbody tr th {\n",
       "        vertical-align: top;\n",
       "    }\n",
       "\n",
       "    .dataframe thead th {\n",
       "        text-align: right;\n",
       "    }\n",
       "</style>\n",
       "<table border=\"1\" class=\"dataframe\">\n",
       "  <thead>\n",
       "    <tr style=\"text-align: right;\">\n",
       "      <th></th>\n",
       "      <th>Year</th>\n",
       "      <th>Sales</th>\n",
       "    </tr>\n",
       "  </thead>\n",
       "  <tbody>\n",
       "    <tr>\n",
       "      <td>0</td>\n",
       "      <td>1</td>\n",
       "      <td>21.6</td>\n",
       "    </tr>\n",
       "    <tr>\n",
       "      <td>1</td>\n",
       "      <td>2</td>\n",
       "      <td>22.9</td>\n",
       "    </tr>\n",
       "    <tr>\n",
       "      <td>2</td>\n",
       "      <td>3</td>\n",
       "      <td>25.5</td>\n",
       "    </tr>\n",
       "    <tr>\n",
       "      <td>3</td>\n",
       "      <td>4</td>\n",
       "      <td>21.9</td>\n",
       "    </tr>\n",
       "    <tr>\n",
       "      <td>4</td>\n",
       "      <td>5</td>\n",
       "      <td>23.9</td>\n",
       "    </tr>\n",
       "    <tr>\n",
       "      <td>5</td>\n",
       "      <td>6</td>\n",
       "      <td>27.5</td>\n",
       "    </tr>\n",
       "    <tr>\n",
       "      <td>6</td>\n",
       "      <td>7</td>\n",
       "      <td>31.5</td>\n",
       "    </tr>\n",
       "    <tr>\n",
       "      <td>7</td>\n",
       "      <td>8</td>\n",
       "      <td>29.7</td>\n",
       "    </tr>\n",
       "    <tr>\n",
       "      <td>8</td>\n",
       "      <td>9</td>\n",
       "      <td>28.6</td>\n",
       "    </tr>\n",
       "    <tr>\n",
       "      <td>9</td>\n",
       "      <td>10</td>\n",
       "      <td>31.4</td>\n",
       "    </tr>\n",
       "  </tbody>\n",
       "</table>\n",
       "</div>"
      ],
      "text/plain": [
       "   Year  Sales\n",
       "0     1   21.6\n",
       "1     2   22.9\n",
       "2     3   25.5\n",
       "3     4   21.9\n",
       "4     5   23.9\n",
       "5     6   27.5\n",
       "6     7   31.5\n",
       "7     8   29.7\n",
       "8     9   28.6\n",
       "9    10   31.4"
      ]
     },
     "execution_count": 56,
     "metadata": {},
     "output_type": "execute_result"
    }
   ],
   "source": [
    "bicycle = pd.read_excel('../data/bicycle.xls')\n",
    "bicycle"
   ]
  },
  {
   "cell_type": "code",
   "execution_count": 57,
   "metadata": {},
   "outputs": [
    {
     "data": {
      "text/plain": [
       "1     21.6\n",
       "2     22.9\n",
       "3     25.5\n",
       "4     21.9\n",
       "5     23.9\n",
       "6     27.5\n",
       "7     31.5\n",
       "8     29.7\n",
       "9     28.6\n",
       "10    31.4\n",
       "dtype: float64"
      ]
     },
     "execution_count": 57,
     "metadata": {},
     "output_type": "execute_result"
    }
   ],
   "source": [
    "ts = pd.Series(bicycle['Sales'].values, index = np.arange(1,11))\n",
    "ts"
   ]
  },
  {
   "cell_type": "markdown",
   "metadata": {},
   "source": [
    "# Scaling (MinMaxScaler)"
   ]
  },
  {
   "cell_type": "code",
   "execution_count": 58,
   "metadata": {},
   "outputs": [],
   "source": [
    "from sklearn.preprocessing import MinMaxScaler\n",
    "scaler = MinMaxScaler(feature_range=(0,1))\n",
    "ts = scaler.fit_transform(ts.values.reshape(-1,1))"
   ]
  },
  {
   "cell_type": "markdown",
   "metadata": {},
   "source": [
    "# Split x and y (with appropriate time steps)"
   ]
  },
  {
   "cell_type": "code",
   "execution_count": 59,
   "metadata": {},
   "outputs": [],
   "source": [
    "x_list = []\n",
    "y_list = []\n",
    "for i in range(len(ts)-3):\n",
    "    x_list.append(ts[i:i+3,0])\n",
    "    y_list.append(ts[i+3,0])\n",
    "x = np.array(x_list)\n",
    "y = np.array(y_list)"
   ]
  },
  {
   "cell_type": "markdown",
   "metadata": {},
   "source": [
    "# Reshape an input to 3D with the format of [samples, time steps and features]"
   ]
  },
  {
   "cell_type": "code",
   "execution_count": 60,
   "metadata": {},
   "outputs": [],
   "source": [
    "x = x.reshape(len(ts)-3,3,1)"
   ]
  },
  {
   "cell_type": "markdown",
   "metadata": {},
   "source": [
    "# Building the RNN LSTM model using sequential model"
   ]
  },
  {
   "cell_type": "code",
   "execution_count": 61,
   "metadata": {},
   "outputs": [],
   "source": [
    "from keras.models import Sequential\n",
    "from keras.layers import Dense, LSTM, Dropout"
   ]
  },
  {
   "cell_type": "code",
   "execution_count": 62,
   "metadata": {},
   "outputs": [
    {
     "name": "stdout",
     "output_type": "stream",
     "text": [
      "Epoch 1/200\n",
      "7/7 [==============================] - 1s 183ms/step - loss: 0.5793\n",
      "Epoch 2/200\n",
      "7/7 [==============================] - 0s 711us/step - loss: 0.5570\n",
      "Epoch 3/200\n",
      "7/7 [==============================] - 0s 570us/step - loss: 0.5354\n",
      "Epoch 4/200\n",
      "7/7 [==============================] - 0s 712us/step - loss: 0.5143\n",
      "Epoch 5/200\n",
      "7/7 [==============================] - 0s 566us/step - loss: 0.4938\n",
      "Epoch 6/200\n",
      "7/7 [==============================] - 0s 713us/step - loss: 0.4739\n",
      "Epoch 7/200\n",
      "7/7 [==============================] - 0s 712us/step - loss: 0.4545\n",
      "Epoch 8/200\n",
      "7/7 [==============================] - 0s 570us/step - loss: 0.4357\n",
      "Epoch 9/200\n",
      "7/7 [==============================] - 0s 570us/step - loss: 0.4174\n",
      "Epoch 10/200\n",
      "7/7 [==============================] - 0s 565us/step - loss: 0.3996\n",
      "Epoch 11/200\n",
      "7/7 [==============================] - 0s 711us/step - loss: 0.3823\n",
      "Epoch 12/200\n",
      "7/7 [==============================] - 0s 570us/step - loss: 0.3655\n",
      "Epoch 13/200\n",
      "7/7 [==============================] - 0s 423us/step - loss: 0.3493\n",
      "Epoch 14/200\n",
      "7/7 [==============================] - 0s 575us/step - loss: 0.3335\n",
      "Epoch 15/200\n",
      "7/7 [==============================] - 0s 708us/step - loss: 0.3182\n",
      "Epoch 16/200\n",
      "7/7 [==============================] - 0s 570us/step - loss: 0.3033\n",
      "Epoch 17/200\n",
      "7/7 [==============================] - 0s 570us/step - loss: 0.2889\n",
      "Epoch 18/200\n",
      "7/7 [==============================] - 0s 570us/step - loss: 0.2750\n",
      "Epoch 19/200\n",
      "7/7 [==============================] - 0s 570us/step - loss: 0.2615\n",
      "Epoch 20/200\n",
      "7/7 [==============================] - 0s 572us/step - loss: 0.2484\n",
      "Epoch 21/200\n",
      "7/7 [==============================] - 0s 571us/step - loss: 0.2358\n",
      "Epoch 22/200\n",
      "7/7 [==============================] - 0s 570us/step - loss: 0.2236\n",
      "Epoch 23/200\n",
      "7/7 [==============================] - 0s 570us/step - loss: 0.2119\n",
      "Epoch 24/200\n",
      "7/7 [==============================] - 0s 569us/step - loss: 0.2006\n",
      "Epoch 25/200\n",
      "7/7 [==============================] - 0s 712us/step - loss: 0.1898\n",
      "Epoch 26/200\n",
      "7/7 [==============================] - 0s 570us/step - loss: 0.1795\n",
      "Epoch 27/200\n",
      "7/7 [==============================] - 0s 570us/step - loss: 0.1696\n",
      "Epoch 28/200\n",
      "7/7 [==============================] - 0s 569us/step - loss: 0.1602\n",
      "Epoch 29/200\n",
      "7/7 [==============================] - 0s 570us/step - loss: 0.1513\n",
      "Epoch 30/200\n",
      "7/7 [==============================] - 0s 570us/step - loss: 0.1428\n",
      "Epoch 31/200\n",
      "7/7 [==============================] - 0s 570us/step - loss: 0.1349\n",
      "Epoch 32/200\n",
      "7/7 [==============================] - 0s 570us/step - loss: 0.1275\n",
      "Epoch 33/200\n",
      "7/7 [==============================] - 0s 570us/step - loss: 0.1206\n",
      "Epoch 34/200\n",
      "7/7 [==============================] - 0s 570us/step - loss: 0.1142\n",
      "Epoch 35/200\n",
      "7/7 [==============================] - 0s 570us/step - loss: 0.1084\n",
      "Epoch 36/200\n",
      "7/7 [==============================] - 0s 427us/step - loss: 0.1031\n",
      "Epoch 37/200\n",
      "7/7 [==============================] - 0s 570us/step - loss: 0.0983\n",
      "Epoch 38/200\n",
      "7/7 [==============================] - 0s 570us/step - loss: 0.0941\n",
      "Epoch 39/200\n",
      "7/7 [==============================] - 0s 570us/step - loss: 0.0905\n",
      "Epoch 40/200\n",
      "7/7 [==============================] - 0s 568us/step - loss: 0.0873\n",
      "Epoch 41/200\n",
      "7/7 [==============================] - 0s 711us/step - loss: 0.0847\n",
      "Epoch 42/200\n",
      "7/7 [==============================] - 0s 428us/step - loss: 0.0826\n",
      "Epoch 43/200\n",
      "7/7 [==============================] - 0s 429us/step - loss: 0.0809\n",
      "Epoch 44/200\n",
      "7/7 [==============================] - 0s 428us/step - loss: 0.0796\n",
      "Epoch 45/200\n",
      "7/7 [==============================] - 0s 427us/step - loss: 0.0788\n",
      "Epoch 46/200\n",
      "7/7 [==============================] - 0s 570us/step - loss: 0.0782\n",
      "Epoch 47/200\n",
      "7/7 [==============================] - 0s 570us/step - loss: 0.0780\n",
      "Epoch 48/200\n",
      "7/7 [==============================] - 0s 427us/step - loss: 0.0780\n",
      "Epoch 49/200\n",
      "7/7 [==============================] - 0s 429us/step - loss: 0.0782\n",
      "Epoch 50/200\n",
      "7/7 [==============================] - 0s 427us/step - loss: 0.0785\n",
      "Epoch 51/200\n",
      "7/7 [==============================] - 0s 570us/step - loss: 0.0789\n",
      "Epoch 52/200\n",
      "7/7 [==============================] - 0s 570us/step - loss: 0.0793\n",
      "Epoch 53/200\n",
      "7/7 [==============================] - 0s 569us/step - loss: 0.0797\n",
      "Epoch 54/200\n",
      "7/7 [==============================] - 0s 572us/step - loss: 0.0801\n",
      "Epoch 55/200\n",
      "7/7 [==============================] - 0s 427us/step - loss: 0.0804\n",
      "Epoch 56/200\n",
      "7/7 [==============================] - 0s 570us/step - loss: 0.0806\n",
      "Epoch 57/200\n",
      "7/7 [==============================] - 0s 570us/step - loss: 0.0807\n",
      "Epoch 58/200\n",
      "7/7 [==============================] - 0s 428us/step - loss: 0.0807\n",
      "Epoch 59/200\n",
      "7/7 [==============================] - 0s 570us/step - loss: 0.0806\n",
      "Epoch 60/200\n",
      "7/7 [==============================] - 0s 570us/step - loss: 0.0805\n",
      "Epoch 61/200\n",
      "7/7 [==============================] - 0s 428us/step - loss: 0.0803\n",
      "Epoch 62/200\n",
      "7/7 [==============================] - 0s 570us/step - loss: 0.0800\n",
      "Epoch 63/200\n",
      "7/7 [==============================] - 0s 427us/step - loss: 0.0797\n",
      "Epoch 64/200\n",
      "7/7 [==============================] - 0s 570us/step - loss: 0.0794\n",
      "Epoch 65/200\n",
      "7/7 [==============================] - 0s 570us/step - loss: 0.0791\n",
      "Epoch 66/200\n",
      "7/7 [==============================] - 0s 570us/step - loss: 0.0788\n",
      "Epoch 67/200\n",
      "7/7 [==============================] - 0s 570us/step - loss: 0.0785\n",
      "Epoch 68/200\n",
      "7/7 [==============================] - 0s 570us/step - loss: 0.0783\n",
      "Epoch 69/200\n",
      "7/7 [==============================] - 0s 572us/step - loss: 0.0781\n",
      "Epoch 70/200\n",
      "7/7 [==============================] - 0s 428us/step - loss: 0.0779\n",
      "Epoch 71/200\n",
      "7/7 [==============================] - 0s 570us/step - loss: 0.0777\n",
      "Epoch 72/200\n",
      "7/7 [==============================] - 0s 426us/step - loss: 0.0776\n",
      "Epoch 73/200\n",
      "7/7 [==============================] - 0s 427us/step - loss: 0.0775\n",
      "Epoch 74/200\n",
      "7/7 [==============================] - 0s 427us/step - loss: 0.0775\n",
      "Epoch 75/200\n",
      "7/7 [==============================] - 0s 570us/step - loss: 0.0774\n",
      "Epoch 76/200\n",
      "7/7 [==============================] - 0s 570us/step - loss: 0.0774\n",
      "Epoch 77/200\n",
      "7/7 [==============================] - 0s 428us/step - loss: 0.0774\n",
      "Epoch 78/200\n",
      "7/7 [==============================] - 0s 570us/step - loss: 0.0774\n",
      "Epoch 79/200\n",
      "7/7 [==============================] - 0s 570us/step - loss: 0.0774\n",
      "Epoch 80/200\n",
      "7/7 [==============================] - 0s 570us/step - loss: 0.0774\n",
      "Epoch 81/200\n",
      "7/7 [==============================] - 0s 427us/step - loss: 0.0774\n",
      "Epoch 82/200\n",
      "7/7 [==============================] - 0s 570us/step - loss: 0.0774\n",
      "Epoch 83/200\n",
      "7/7 [==============================] - 0s 427us/step - loss: 0.0774\n",
      "Epoch 84/200\n",
      "7/7 [==============================] - 0s 570us/step - loss: 0.0774\n",
      "Epoch 85/200\n",
      "7/7 [==============================] - 0s 570us/step - loss: 0.0774\n",
      "Epoch 86/200\n",
      "7/7 [==============================] - 0s 568us/step - loss: 0.0774\n",
      "Epoch 87/200\n",
      "7/7 [==============================] - 0s 570us/step - loss: 0.0774\n",
      "Epoch 88/200\n",
      "7/7 [==============================] - 0s 427us/step - loss: 0.0773\n",
      "Epoch 89/200\n",
      "7/7 [==============================] - 0s 427us/step - loss: 0.0773\n",
      "Epoch 90/200\n",
      "7/7 [==============================] - 0s 427us/step - loss: 0.0773\n",
      "Epoch 91/200\n",
      "7/7 [==============================] - 0s 428us/step - loss: 0.0772\n",
      "Epoch 92/200\n",
      "7/7 [==============================] - 0s 428us/step - loss: 0.0772\n",
      "Epoch 93/200\n",
      "7/7 [==============================] - 0s 427us/step - loss: 0.0772\n",
      "Epoch 94/200\n",
      "7/7 [==============================] - 0s 428us/step - loss: 0.0771\n",
      "Epoch 95/200\n",
      "7/7 [==============================] - 0s 428us/step - loss: 0.0771\n",
      "Epoch 96/200\n",
      "7/7 [==============================] - 0s 572us/step - loss: 0.0771\n",
      "Epoch 97/200\n",
      "7/7 [==============================] - 0s 570us/step - loss: 0.0770\n",
      "Epoch 98/200\n",
      "7/7 [==============================] - 0s 427us/step - loss: 0.0770\n",
      "Epoch 99/200\n",
      "7/7 [==============================] - 0s 570us/step - loss: 0.0770\n",
      "Epoch 100/200\n",
      "7/7 [==============================] - 0s 426us/step - loss: 0.0770\n",
      "Epoch 101/200\n",
      "7/7 [==============================] - 0s 427us/step - loss: 0.0769\n",
      "Epoch 102/200\n",
      "7/7 [==============================] - 0s 570us/step - loss: 0.0769\n"
     ]
    },
    {
     "name": "stdout",
     "output_type": "stream",
     "text": [
      "Epoch 103/200\n",
      "7/7 [==============================] - 0s 570us/step - loss: 0.0769\n",
      "Epoch 104/200\n",
      "7/7 [==============================] - 0s 428us/step - loss: 0.0769\n",
      "Epoch 105/200\n",
      "7/7 [==============================] - 0s 570us/step - loss: 0.0769\n",
      "Epoch 106/200\n",
      "7/7 [==============================] - 0s 427us/step - loss: 0.0768\n",
      "Epoch 107/200\n",
      "7/7 [==============================] - 0s 570us/step - loss: 0.0768\n",
      "Epoch 108/200\n",
      "7/7 [==============================] - 0s 570us/step - loss: 0.0768\n",
      "Epoch 109/200\n",
      "7/7 [==============================] - 0s 570us/step - loss: 0.0768\n",
      "Epoch 110/200\n",
      "7/7 [==============================] - 0s 570us/step - loss: 0.0768\n",
      "Epoch 111/200\n",
      "7/7 [==============================] - 0s 427us/step - loss: 0.0768\n",
      "Epoch 112/200\n",
      "7/7 [==============================] - 0s 570us/step - loss: 0.0767\n",
      "Epoch 113/200\n",
      "7/7 [==============================] - 0s 570us/step - loss: 0.0767\n",
      "Epoch 114/200\n",
      "7/7 [==============================] - 0s 569us/step - loss: 0.0767\n",
      "Epoch 115/200\n",
      "7/7 [==============================] - 0s 570us/step - loss: 0.0767\n",
      "Epoch 116/200\n",
      "7/7 [==============================] - 0s 428us/step - loss: 0.0767\n",
      "Epoch 117/200\n",
      "7/7 [==============================] - 0s 570us/step - loss: 0.0766\n",
      "Epoch 118/200\n",
      "7/7 [==============================] - 0s 428us/step - loss: 0.0766\n",
      "Epoch 119/200\n",
      "7/7 [==============================] - 0s 427us/step - loss: 0.0766\n",
      "Epoch 120/200\n",
      "7/7 [==============================] - 0s 428us/step - loss: 0.0766\n",
      "Epoch 121/200\n",
      "7/7 [==============================] - 0s 569us/step - loss: 0.0766\n",
      "Epoch 122/200\n",
      "7/7 [==============================] - 0s 570us/step - loss: 0.0765\n",
      "Epoch 123/200\n",
      "7/7 [==============================] - 0s 571us/step - loss: 0.0765\n",
      "Epoch 124/200\n",
      "7/7 [==============================] - 0s 570us/step - loss: 0.0765\n",
      "Epoch 125/200\n",
      "7/7 [==============================] - 0s 570us/step - loss: 0.0765\n",
      "Epoch 126/200\n",
      "7/7 [==============================] - 0s 570us/step - loss: 0.0765\n",
      "Epoch 127/200\n",
      "7/7 [==============================] - 0s 570us/step - loss: 0.0764\n",
      "Epoch 128/200\n",
      "7/7 [==============================] - 0s 570us/step - loss: 0.0764\n",
      "Epoch 129/200\n",
      "7/7 [==============================] - 0s 572us/step - loss: 0.0764\n",
      "Epoch 130/200\n",
      "7/7 [==============================] - 0s 570us/step - loss: 0.0764\n",
      "Epoch 131/200\n",
      "7/7 [==============================] - 0s 427us/step - loss: 0.0764\n",
      "Epoch 132/200\n",
      "7/7 [==============================] - 0s 571us/step - loss: 0.0763\n",
      "Epoch 133/200\n",
      "7/7 [==============================] - 0s 570us/step - loss: 0.0763\n",
      "Epoch 134/200\n",
      "7/7 [==============================] - 0s 570us/step - loss: 0.0763\n",
      "Epoch 135/200\n",
      "7/7 [==============================] - 0s 428us/step - loss: 0.0763\n",
      "Epoch 136/200\n",
      "7/7 [==============================] - 0s 570us/step - loss: 0.0763\n",
      "Epoch 137/200\n",
      "7/7 [==============================] - 0s 712us/step - loss: 0.0762\n",
      "Epoch 138/200\n",
      "7/7 [==============================] - 0s 570us/step - loss: 0.0762\n",
      "Epoch 139/200\n",
      "7/7 [==============================] - 0s 570us/step - loss: 0.0762\n",
      "Epoch 140/200\n",
      "7/7 [==============================] - 0s 427us/step - loss: 0.0762\n",
      "Epoch 141/200\n",
      "7/7 [==============================] - 0s 570us/step - loss: 0.0762\n",
      "Epoch 142/200\n",
      "7/7 [==============================] - 0s 570us/step - loss: 0.0761\n",
      "Epoch 143/200\n",
      "7/7 [==============================] - 0s 427us/step - loss: 0.0761\n",
      "Epoch 144/200\n",
      "7/7 [==============================] - 0s 570us/step - loss: 0.0761\n",
      "Epoch 145/200\n",
      "7/7 [==============================] - 0s 570us/step - loss: 0.0761\n",
      "Epoch 146/200\n",
      "7/7 [==============================] - 0s 570us/step - loss: 0.0761\n",
      "Epoch 147/200\n",
      "7/7 [==============================] - 0s 570us/step - loss: 0.0761\n",
      "Epoch 148/200\n",
      "7/7 [==============================] - 0s 712us/step - loss: 0.0760\n",
      "Epoch 149/200\n",
      "7/7 [==============================] - 0s 569us/step - loss: 0.0760\n",
      "Epoch 150/200\n",
      "7/7 [==============================] - 0s 712us/step - loss: 0.0760\n",
      "Epoch 151/200\n",
      "7/7 [==============================] - 0s 570us/step - loss: 0.0760\n",
      "Epoch 152/200\n",
      "7/7 [==============================] - 0s 570us/step - loss: 0.0760\n",
      "Epoch 153/200\n",
      "7/7 [==============================] - 0s 570us/step - loss: 0.0759\n",
      "Epoch 154/200\n",
      "7/7 [==============================] - 0s 427us/step - loss: 0.0759\n",
      "Epoch 155/200\n",
      "7/7 [==============================] - 0s 713us/step - loss: 0.0759\n",
      "Epoch 156/200\n",
      "7/7 [==============================] - 0s 570us/step - loss: 0.0759\n",
      "Epoch 157/200\n",
      "7/7 [==============================] - 0s 712us/step - loss: 0.0759\n",
      "Epoch 158/200\n",
      "7/7 [==============================] - 0s 573us/step - loss: 0.0758\n",
      "Epoch 159/200\n",
      "7/7 [==============================] - 0s 570us/step - loss: 0.0758\n",
      "Epoch 160/200\n",
      "7/7 [==============================] - 0s 570us/step - loss: 0.0758\n",
      "Epoch 161/200\n",
      "7/7 [==============================] - 0s 430us/step - loss: 0.0758\n",
      "Epoch 162/200\n",
      "7/7 [==============================] - 0s 712us/step - loss: 0.0758\n",
      "Epoch 163/200\n",
      "7/7 [==============================] - 0s 570us/step - loss: 0.0757\n",
      "Epoch 164/200\n",
      "7/7 [==============================] - 0s 570us/step - loss: 0.0757\n",
      "Epoch 165/200\n",
      "7/7 [==============================] - 0s 570us/step - loss: 0.0757\n",
      "Epoch 166/200\n",
      "7/7 [==============================] - 0s 570us/step - loss: 0.0757\n",
      "Epoch 167/200\n",
      "7/7 [==============================] - 0s 427us/step - loss: 0.0757\n",
      "Epoch 168/200\n",
      "7/7 [==============================] - 0s 427us/step - loss: 0.0756\n",
      "Epoch 169/200\n",
      "7/7 [==============================] - 0s 570us/step - loss: 0.0756\n",
      "Epoch 170/200\n",
      "7/7 [==============================] - 0s 427us/step - loss: 0.0756\n",
      "Epoch 171/200\n",
      "7/7 [==============================] - 0s 570us/step - loss: 0.0756\n",
      "Epoch 172/200\n",
      "7/7 [==============================] - 0s 570us/step - loss: 0.0756\n",
      "Epoch 173/200\n",
      "7/7 [==============================] - 0s 428us/step - loss: 0.0755\n",
      "Epoch 174/200\n",
      "7/7 [==============================] - 0s 569us/step - loss: 0.0755\n",
      "Epoch 175/200\n",
      "7/7 [==============================] - 0s 570us/step - loss: 0.0755\n",
      "Epoch 176/200\n",
      "7/7 [==============================] - 0s 712us/step - loss: 0.0755\n",
      "Epoch 177/200\n",
      "7/7 [==============================] - 0s 570us/step - loss: 0.0755\n",
      "Epoch 178/200\n",
      "7/7 [==============================] - 0s 570us/step - loss: 0.0754\n",
      "Epoch 179/200\n",
      "7/7 [==============================] - 0s 570us/step - loss: 0.0754\n",
      "Epoch 180/200\n",
      "7/7 [==============================] - 0s 570us/step - loss: 0.0754\n",
      "Epoch 181/200\n",
      "7/7 [==============================] - 0s 570us/step - loss: 0.0754\n",
      "Epoch 182/200\n",
      "7/7 [==============================] - 0s 712us/step - loss: 0.0754\n",
      "Epoch 183/200\n",
      "7/7 [==============================] - 0s 568us/step - loss: 0.0753\n",
      "Epoch 184/200\n",
      "7/7 [==============================] - 0s 429us/step - loss: 0.0753\n",
      "Epoch 185/200\n",
      "7/7 [==============================] - 0s 571us/step - loss: 0.0753\n",
      "Epoch 186/200\n",
      "7/7 [==============================] - 0s 427us/step - loss: 0.0753\n",
      "Epoch 187/200\n",
      "7/7 [==============================] - 0s 570us/step - loss: 0.0753\n",
      "Epoch 188/200\n",
      "7/7 [==============================] - 0s 570us/step - loss: 0.0752\n",
      "Epoch 189/200\n",
      "7/7 [==============================] - 0s 570us/step - loss: 0.0752\n",
      "Epoch 190/200\n",
      "7/7 [==============================] - 0s 711us/step - loss: 0.0752\n",
      "Epoch 191/200\n",
      "7/7 [==============================] - 0s 570us/step - loss: 0.0752\n",
      "Epoch 192/200\n",
      "7/7 [==============================] - 0s 427us/step - loss: 0.0752\n",
      "Epoch 193/200\n",
      "7/7 [==============================] - 0s 570us/step - loss: 0.0751\n",
      "Epoch 194/200\n",
      "7/7 [==============================] - 0s 570us/step - loss: 0.0751\n",
      "Epoch 195/200\n",
      "7/7 [==============================] - 0s 570us/step - loss: 0.0751\n",
      "Epoch 196/200\n",
      "7/7 [==============================] - 0s 570us/step - loss: 0.0751\n",
      "Epoch 197/200\n",
      "7/7 [==============================] - 0s 570us/step - loss: 0.0751\n",
      "Epoch 198/200\n",
      "7/7 [==============================] - 0s 570us/step - loss: 0.0751\n",
      "Epoch 199/200\n",
      "7/7 [==============================] - 0s 570us/step - loss: 0.0750\n",
      "Epoch 200/200\n",
      "7/7 [==============================] - 0s 428us/step - loss: 0.0750\n"
     ]
    },
    {
     "data": {
      "text/plain": [
       "<keras.callbacks.History at 0x2419bd2e3c8>"
      ]
     },
     "execution_count": 62,
     "metadata": {},
     "output_type": "execute_result"
    }
   ],
   "source": [
    "model = Sequential()\n",
    "\n",
    "model.add(LSTM(50, \n",
    "               input_shape=(3,1)))\n",
    "model.add(Dense(1))\n",
    "model.compile(optimizer='adam', loss='mse')\n",
    "\n",
    "model.fit(x, \n",
    "          y, \n",
    "          epochs = 200,\n",
    "          verbose=1)"
   ]
  },
  {
   "cell_type": "code",
   "execution_count": 63,
   "metadata": {},
   "outputs": [],
   "source": [
    "y_pred_inverse = scaler.fit_transform(model.predict(x))\n",
    "y_inverse = scaler.inverse_transform(y.reshape(-1,1))"
   ]
  },
  {
   "cell_type": "code",
   "execution_count": 64,
   "metadata": {},
   "outputs": [],
   "source": [
    "me1, mae1, mape1, mse1, ts1 = error_cal(y_inverse.flatten(), \n",
    "                                        y_pred_inverse.flatten())"
   ]
  },
  {
   "cell_type": "code",
   "execution_count": 65,
   "metadata": {},
   "outputs": [
    {
     "name": "stdout",
     "output_type": "stream",
     "text": [
      "me1: 0.34313270477963614\n",
      "mae1: 0.3994066422380687\n",
      "mape1: 0.5908612402393727\n",
      "mse1: 0.21806886860041216\n",
      "ts1: \n",
      "[1.         2.         3.         4.         5.         5.46371824\n",
      " 6.01374309]\n"
     ]
    }
   ],
   "source": [
    "print(f'me1: {me1}\\nmae1: {mae1}\\nmape1: {mape1}\\nmse1: {mse1}\\nts1: \\n{ts1}')"
   ]
  },
  {
   "cell_type": "code",
   "execution_count": 66,
   "metadata": {
    "scrolled": true
   },
   "outputs": [
    {
     "data": {
      "image/png": "[encoded data removed]",
      "text/plain": [
       "<Figure size 432x288 with 1 Axes>"
      ]
     },
     "metadata": {
      "needs_background": "light"
     },
     "output_type": "display_data"
    }
   ],
   "source": [
    "plt.plot(ts1)\n",
    "plt.grid()"
   ]
  },
  {
   "cell_type": "markdown",
   "metadata": {},
   "source": [
    "# comparison between regression and RNN"
   ]
  },
  {
   "cell_type": "markdown",
   "metadata": {},
   "source": [
    "### regression is better"
   ]
  },
  {
   "cell_type": "code",
   "execution_count": 67,
   "metadata": {},
   "outputs": [
    {
     "name": "stdout",
     "output_type": "stream",
     "text": [
      "me:me1\n",
      "2.1316282072803005e-15\n",
      "0.34313270477963614\n",
      "\n",
      "mae:mae1\n",
      "1.3200000000000025\n",
      "0.3994066422380687\n",
      "\n",
      "mape:mape1\n",
      "0.05068143036912751\n",
      "0.5908612402393727\n",
      "\n",
      "mse:mse1\n",
      "3.069999999999999\n",
      "0.21806886860041216\n",
      "\n",
      "ts:ts1\n",
      "[[0.        ]\n",
      " [0.13131313]\n",
      " [0.39393939]\n",
      " [0.03030303]\n",
      " [0.23232323]\n",
      " [0.5959596 ]\n",
      " [1.        ]\n",
      " [0.81818182]\n",
      " [0.70707071]\n",
      " [0.98989899]]\n",
      "[1.         2.         3.         4.         5.         5.46371824\n",
      " 6.01374309]\n"
     ]
    }
   ],
   "source": [
    "print(f'me:me1\\n{me}\\n{me1}\\n\\nmae:mae1\\n{mae}\\n{mae1}\\n\\nmape:mape1\\n{mape}\\n{mape1}\\n\\nmse:mse1\\n{mse}\\n{mse1}\\n\\nts:ts1\\n{ts}\\n{ts1}')"
   ]
  },
  {
   "cell_type": "markdown",
   "metadata": {},
   "source": [
    "# cholesterol drug example"
   ]
  },
  {
   "cell_type": "code",
   "execution_count": 68,
   "metadata": {},
   "outputs": [],
   "source": [
    "rev = np.array([23.1,21.3,27.4,34.6,33.8,\n",
    "                43.2,59.5,64.4,74.2,99.3])"
   ]
  },
  {
   "cell_type": "code",
   "execution_count": 69,
   "metadata": {},
   "outputs": [],
   "source": [
    "ts = pd.Series(rev)"
   ]
  },
  {
   "cell_type": "code",
   "execution_count": 70,
   "metadata": {},
   "outputs": [
    {
     "data": {
      "text/plain": [
       "(0, 100)"
      ]
     },
     "execution_count": 70,
     "metadata": {},
     "output_type": "execute_result"
    },
    {
     "data": {
      "image/png": "[encoded data removed]",
      "text/plain": [
       "<Figure size 432x288 with 1 Axes>"
      ]
     },
     "metadata": {
      "needs_background": "light"
     },
     "output_type": "display_data"
    }
   ],
   "source": [
    "plt.plot(ts)\n",
    "plt.ylim(0,100)\n",
    "# matplotlib auto"
   ]
  },
  {
   "cell_type": "code",
   "execution_count": 71,
   "metadata": {},
   "outputs": [],
   "source": [
    "t = np.arange(1,11)\n",
    "t_sq = np.square(t)"
   ]
  },
  {
   "cell_type": "code",
   "execution_count": 72,
   "metadata": {},
   "outputs": [],
   "source": [
    "df = pd.DataFrame({'t':t,\n",
    "                   't sq':t_sq,\n",
    "                   'rev':rev})\n",
    "y=rev\n",
    "x=df.drop('rev', axis=1)"
   ]
  },
  {
   "cell_type": "code",
   "execution_count": 73,
   "metadata": {},
   "outputs": [],
   "source": [
    "import statsmodels.api as sm"
   ]
  },
  {
   "cell_type": "code",
   "execution_count": 74,
   "metadata": {},
   "outputs": [
    {
     "name": "stderr",
     "output_type": "stream",
     "text": [
      "C:\\Users\\sundooedu\\Anaconda3\\lib\\site-packages\\numpy\\core\\fromnumeric.py:2389: FutureWarning: Method .ptp is deprecated and will be removed in a future version. Use numpy.ptp instead.\n",
      "  return ptp(axis=axis, out=out, **kwargs)\n",
      "C:\\Users\\sundooedu\\Anaconda3\\lib\\site-packages\\scipy\\stats\\stats.py:1450: UserWarning: kurtosistest only valid for n>=20 ... continuing anyway, n=10\n",
      "  \"anyway, n=%i\" % int(n))\n"
     ]
    },
    {
     "data": {
      "text/html": [
       "<table class=\"simpletable\">\n",
       "<caption>OLS Regression Results</caption>\n",
       "<tr>\n",
       "  <th>Dep. Variable:</th>            <td>y</td>        <th>  R-squared:         </th> <td>   0.981</td>\n",
       "</tr>\n",
       "<tr>\n",
       "  <th>Model:</th>                   <td>OLS</td>       <th>  Adj. R-squared:    </th> <td>   0.976</td>\n",
       "</tr>\n",
       "<tr>\n",
       "  <th>Method:</th>             <td>Least Squares</td>  <th>  F-statistic:       </th> <td>   182.5</td>\n",
       "</tr>\n",
       "<tr>\n",
       "  <th>Date:</th>             <td>Thu, 30 Jan 2020</td> <th>  Prob (F-statistic):</th> <td>9.14e-07</td>\n",
       "</tr>\n",
       "<tr>\n",
       "  <th>Time:</th>                 <td>09:35:03</td>     <th>  Log-Likelihood:    </th> <td> -26.208</td>\n",
       "</tr>\n",
       "<tr>\n",
       "  <th>No. Observations:</th>      <td>    10</td>      <th>  AIC:               </th> <td>   58.42</td>\n",
       "</tr>\n",
       "<tr>\n",
       "  <th>Df Residuals:</th>          <td>     7</td>      <th>  BIC:               </th> <td>   59.32</td>\n",
       "</tr>\n",
       "<tr>\n",
       "  <th>Df Model:</th>              <td>     2</td>      <th>                     </th>     <td> </td>   \n",
       "</tr>\n",
       "<tr>\n",
       "  <th>Covariance Type:</th>      <td>nonrobust</td>    <th>                     </th>     <td> </td>   \n",
       "</tr>\n",
       "</table>\n",
       "<table class=\"simpletable\">\n",
       "<tr>\n",
       "    <td></td>       <th>coef</th>     <th>std err</th>      <th>t</th>      <th>P>|t|</th>  <th>[0.025</th>    <th>0.975]</th>  \n",
       "</tr>\n",
       "<tr>\n",
       "  <th>const</th> <td>   24.1817</td> <td>    4.676</td> <td>    5.171</td> <td> 0.001</td> <td>   13.124</td> <td>   35.239</td>\n",
       "</tr>\n",
       "<tr>\n",
       "  <th>t</th>     <td>   -2.1060</td> <td>    1.953</td> <td>   -1.078</td> <td> 0.317</td> <td>   -6.724</td> <td>    2.512</td>\n",
       "</tr>\n",
       "<tr>\n",
       "  <th>t sq</th>  <td>    0.9216</td> <td>    0.173</td> <td>    5.326</td> <td> 0.001</td> <td>    0.512</td> <td>    1.331</td>\n",
       "</tr>\n",
       "</table>\n",
       "<table class=\"simpletable\">\n",
       "<tr>\n",
       "  <th>Omnibus:</th>       <td> 0.659</td> <th>  Durbin-Watson:     </th> <td>   2.474</td>\n",
       "</tr>\n",
       "<tr>\n",
       "  <th>Prob(Omnibus):</th> <td> 0.719</td> <th>  Jarque-Bera (JB):  </th> <td>   0.545</td>\n",
       "</tr>\n",
       "<tr>\n",
       "  <th>Skew:</th>          <td> 0.062</td> <th>  Prob(JB):          </th> <td>   0.761</td>\n",
       "</tr>\n",
       "<tr>\n",
       "  <th>Kurtosis:</th>      <td> 1.863</td> <th>  Cond. No.          </th> <td>    202.</td>\n",
       "</tr>\n",
       "</table><br/><br/>Warnings:<br/>[1] Standard Errors assume that the covariance matrix of the errors is correctly specified."
      ],
      "text/plain": [
       "<class 'statsmodels.iolib.summary.Summary'>\n",
       "\"\"\"\n",
       "                            OLS Regression Results                            \n",
       "==============================================================================\n",
       "Dep. Variable:                      y   R-squared:                       0.981\n",
       "Model:                            OLS   Adj. R-squared:                  0.976\n",
       "Method:                 Least Squares   F-statistic:                     182.5\n",
       "Date:                Thu, 30 Jan 2020   Prob (F-statistic):           9.14e-07\n",
       "Time:                        09:35:03   Log-Likelihood:                -26.208\n",
       "No. Observations:                  10   AIC:                             58.42\n",
       "Df Residuals:                       7   BIC:                             59.32\n",
       "Df Model:                           2                                         \n",
       "Covariance Type:            nonrobust                                         \n",
       "==============================================================================\n",
       "                 coef    std err          t      P>|t|      [0.025      0.975]\n",
       "------------------------------------------------------------------------------\n",
       "const         24.1817      4.676      5.171      0.001      13.124      35.239\n",
       "t             -2.1060      1.953     -1.078      0.317      -6.724       2.512\n",
       "t sq           0.9216      0.173      5.326      0.001       0.512       1.331\n",
       "==============================================================================\n",
       "Omnibus:                        0.659   Durbin-Watson:                   2.474\n",
       "Prob(Omnibus):                  0.719   Jarque-Bera (JB):                0.545\n",
       "Skew:                           0.062   Prob(JB):                        0.761\n",
       "Kurtosis:                       1.863   Cond. No.                         202.\n",
       "==============================================================================\n",
       "\n",
       "Warnings:\n",
       "[1] Standard Errors assume that the covariance matrix of the errors is correctly specified.\n",
       "\"\"\""
      ]
     },
     "execution_count": 74,
     "metadata": {},
     "output_type": "execute_result"
    }
   ],
   "source": [
    "x = sm.add_constant(x)\n",
    "lmfit = sm.OLS(y,x).fit()\n",
    "lmfit.summary()"
   ]
  },
  {
   "cell_type": "code",
   "execution_count": 75,
   "metadata": {},
   "outputs": [
    {
     "data": {
      "text/plain": [
       "const    24.181667\n",
       "t        -2.105985\n",
       "t sq      0.921591\n",
       "dtype: float64"
      ]
     },
     "execution_count": 75,
     "metadata": {},
     "output_type": "execute_result"
    }
   ],
   "source": [
    "lmfit.params"
   ]
  },
  {
   "cell_type": "markdown",
   "metadata": {},
   "source": [
    "# predict y11, y12"
   ]
  },
  {
   "cell_type": "code",
   "execution_count": 76,
   "metadata": {},
   "outputs": [
    {
     "name": "stdout",
     "output_type": "stream",
     "text": [
      "y11: 112.52833333333332\n",
      "y12: 131.6189393939394\n"
     ]
    }
   ],
   "source": [
    "y11 = lmfit.params[0]+lmfit.params[1]*11 + lmfit.params[2]*np.square(11)\n",
    "y12 = lmfit.params[0]+lmfit.params[1]*12 + lmfit.params[2]*np.square(12)\n",
    "print(f'y11: {y11}\\ny12: {y12}')"
   ]
  },
  {
   "cell_type": "markdown",
   "metadata": {},
   "source": [
    "# Forecasting Chart"
   ]
  },
  {
   "cell_type": "code",
   "execution_count": 77,
   "metadata": {},
   "outputs": [
    {
     "data": {
      "text/plain": [
       "0    22.997273\n",
       "1    23.656061\n",
       "2    26.158030\n",
       "3    30.503182\n",
       "4    36.691515\n",
       "5    44.723030\n",
       "6    54.597727\n",
       "7    66.315606\n",
       "8    79.876667\n",
       "9    95.280909\n",
       "dtype: float64"
      ]
     },
     "execution_count": 77,
     "metadata": {},
     "output_type": "execute_result"
    }
   ],
   "source": [
    "y_pred = lmfit.predict(x)\n",
    "y_pred"
   ]
  },
  {
   "cell_type": "code",
   "execution_count": 78,
   "metadata": {},
   "outputs": [
    {
     "data": {
      "text/plain": [
       "<matplotlib.legend.Legend at 0x2419d3dcb88>"
      ]
     },
     "execution_count": 78,
     "metadata": {},
     "output_type": "execute_result"
    },
    {
     "data": {
      "image/png": "[encoded data removed]",
      "text/plain": [
       "<Figure size 864x576 with 1 Axes>"
      ]
     },
     "metadata": {
      "needs_background": "light"
     },
     "output_type": "display_data"
    }
   ],
   "source": [
    "plt.figure(figsize=(12,8))\n",
    "plt.plot(y_pred, label='predicted')\n",
    "plt.plot(y, label='actual')\n",
    "plt.legend(loc='best')"
   ]
  },
  {
   "cell_type": "markdown",
   "metadata": {},
   "source": [
    "# error calculation"
   ]
  },
  {
   "cell_type": "code",
   "execution_count": 79,
   "metadata": {},
   "outputs": [],
   "source": [
    "from sklearn.metrics import mean_squared_error"
   ]
  },
  {
   "cell_type": "code",
   "execution_count": 80,
   "metadata": {},
   "outputs": [
    {
     "data": {
      "text/plain": [
       "11.064792424242432"
      ]
     },
     "execution_count": 80,
     "metadata": {},
     "output_type": "execute_result"
    }
   ],
   "source": [
    "mean_squared_error(y, y_pred)"
   ]
  },
  {
   "cell_type": "markdown",
   "metadata": {},
   "source": [
    "# forcast using RNN"
   ]
  },
  {
   "cell_type": "code",
   "execution_count": null,
   "metadata": {},
   "outputs": [],
   "source": []
  },
  {
   "cell_type": "markdown",
   "metadata": {},
   "source": [
    "# forecast using linear regression"
   ]
  },
  {
   "cell_type": "code",
   "execution_count": null,
   "metadata": {},
   "outputs": [],
   "source": []
  },
  {
   "cell_type": "markdown",
   "metadata": {},
   "source": [
    "# comparison among three methods"
   ]
  },
  {
   "cell_type": "code",
   "execution_count": null,
   "metadata": {},
   "outputs": [],
   "source": []
  },
  {
   "cell_type": "code",
   "execution_count": null,
   "metadata": {},
   "outputs": [],
   "source": []
  }
 ],
 "metadata": {
  "kernelspec": {
   "display_name": "Python 3",
   "language": "python",
   "name": "python3"
  },
  "language_info": {
   "codemirror_mode": {
    "name": "ipython",
    "version": 3
   },
   "file_extension": ".py",
   "mimetype": "text/x-python",
   "name": "python",
   "nbconvert_exporter": "python",
   "pygments_lexer": "ipython3",
   "version": "3.7.4"
  }
 },
 "nbformat": 4,
 "nbformat_minor": 2
}
