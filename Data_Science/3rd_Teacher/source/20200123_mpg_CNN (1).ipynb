{
 "cells": [
  {
   "cell_type": "code",
   "execution_count": 1,
   "metadata": {},
   "outputs": [],
   "source": [
    "import pandas as pd\n",
    "import numpy as np"
   ]
  },
  {
   "cell_type": "markdown",
   "metadata": {},
   "source": [
    "# 데이터 불러오기"
   ]
  },
  {
   "cell_type": "code",
   "execution_count": 2,
   "metadata": {
    "scrolled": true
   },
   "outputs": [
    {
     "data": {
      "text/html": [
       "<div>\n",
       "<style scoped>\n",
       "    .dataframe tbody tr th:only-of-type {\n",
       "        vertical-align: middle;\n",
       "    }\n",
       "\n",
       "    .dataframe tbody tr th {\n",
       "        vertical-align: top;\n",
       "    }\n",
       "\n",
       "    .dataframe thead th {\n",
       "        text-align: right;\n",
       "    }\n",
       "</style>\n",
       "<table border=\"1\" class=\"dataframe\">\n",
       "  <thead>\n",
       "    <tr style=\"text-align: right;\">\n",
       "      <th></th>\n",
       "      <th>mpg</th>\n",
       "      <th>cylinders</th>\n",
       "      <th>displacement</th>\n",
       "      <th>horsepower</th>\n",
       "      <th>weight</th>\n",
       "      <th>acceleration</th>\n",
       "      <th>model year</th>\n",
       "      <th>origin</th>\n",
       "      <th>car name</th>\n",
       "    </tr>\n",
       "  </thead>\n",
       "  <tbody>\n",
       "    <tr>\n",
       "      <td>0</td>\n",
       "      <td>18.0</td>\n",
       "      <td>8</td>\n",
       "      <td>307.0</td>\n",
       "      <td>130</td>\n",
       "      <td>3504</td>\n",
       "      <td>12.0</td>\n",
       "      <td>70</td>\n",
       "      <td>1</td>\n",
       "      <td>chevrolet chevelle malibu</td>\n",
       "    </tr>\n",
       "    <tr>\n",
       "      <td>1</td>\n",
       "      <td>15.0</td>\n",
       "      <td>8</td>\n",
       "      <td>350.0</td>\n",
       "      <td>165</td>\n",
       "      <td>3693</td>\n",
       "      <td>11.5</td>\n",
       "      <td>70</td>\n",
       "      <td>1</td>\n",
       "      <td>buick skylark 320</td>\n",
       "    </tr>\n",
       "    <tr>\n",
       "      <td>2</td>\n",
       "      <td>18.0</td>\n",
       "      <td>8</td>\n",
       "      <td>318.0</td>\n",
       "      <td>150</td>\n",
       "      <td>3436</td>\n",
       "      <td>11.0</td>\n",
       "      <td>70</td>\n",
       "      <td>1</td>\n",
       "      <td>plymouth satellite</td>\n",
       "    </tr>\n",
       "    <tr>\n",
       "      <td>3</td>\n",
       "      <td>16.0</td>\n",
       "      <td>8</td>\n",
       "      <td>304.0</td>\n",
       "      <td>150</td>\n",
       "      <td>3433</td>\n",
       "      <td>12.0</td>\n",
       "      <td>70</td>\n",
       "      <td>1</td>\n",
       "      <td>amc rebel sst</td>\n",
       "    </tr>\n",
       "    <tr>\n",
       "      <td>4</td>\n",
       "      <td>17.0</td>\n",
       "      <td>8</td>\n",
       "      <td>302.0</td>\n",
       "      <td>140</td>\n",
       "      <td>3449</td>\n",
       "      <td>10.5</td>\n",
       "      <td>70</td>\n",
       "      <td>1</td>\n",
       "      <td>ford torino</td>\n",
       "    </tr>\n",
       "  </tbody>\n",
       "</table>\n",
       "</div>"
      ],
      "text/plain": [
       "    mpg  cylinders  displacement horsepower  weight  acceleration  model year  \\\n",
       "0  18.0          8         307.0        130    3504          12.0          70   \n",
       "1  15.0          8         350.0        165    3693          11.5          70   \n",
       "2  18.0          8         318.0        150    3436          11.0          70   \n",
       "3  16.0          8         304.0        150    3433          12.0          70   \n",
       "4  17.0          8         302.0        140    3449          10.5          70   \n",
       "\n",
       "   origin                   car name  \n",
       "0       1  chevrolet chevelle malibu  \n",
       "1       1          buick skylark 320  \n",
       "2       1         plymouth satellite  \n",
       "3       1              amc rebel sst  \n",
       "4       1                ford torino  "
      ]
     },
     "execution_count": 2,
     "metadata": {},
     "output_type": "execute_result"
    }
   ],
   "source": [
    "data = pd.read_csv('../../data/auto_mpg.csv')\n",
    "data.head()"
   ]
  },
  {
   "cell_type": "markdown",
   "metadata": {},
   "source": [
    "# '?' 제거"
   ]
  },
  {
   "cell_type": "code",
   "execution_count": 3,
   "metadata": {},
   "outputs": [
    {
     "data": {
      "text/plain": [
       "30     90\n",
       "31     95\n",
       "32      ?\n",
       "33    100\n",
       "Name: horsepower, dtype: object"
      ]
     },
     "execution_count": 3,
     "metadata": {},
     "output_type": "execute_result"
    }
   ],
   "source": [
    "data['horsepower'][30:34]"
   ]
  },
  {
   "cell_type": "markdown",
   "metadata": {},
   "source": [
    "### '?'는 문자이므로 median() 함수를 바로 쓸 수 없어 먼저 0으로 바꿔 준 후에\n",
    "### median() 함수를 적용해 준다."
   ]
  },
  {
   "cell_type": "code",
   "execution_count": 4,
   "metadata": {},
   "outputs": [],
   "source": [
    "data['horsepower'] = data['horsepower'].replace('?',0)"
   ]
  },
  {
   "cell_type": "code",
   "execution_count": 5,
   "metadata": {},
   "outputs": [],
   "source": [
    "data['horsepower']= data['horsepower'].replace(0,data['horsepower'].median())"
   ]
  },
  {
   "cell_type": "code",
   "execution_count": 6,
   "metadata": {},
   "outputs": [
    {
     "data": {
      "text/plain": [
       "30     90\n",
       "31     95\n",
       "32     92\n",
       "33    100\n",
       "Name: horsepower, dtype: object"
      ]
     },
     "execution_count": 6,
     "metadata": {},
     "output_type": "execute_result"
    }
   ],
   "source": [
    "data['horsepower'][30:34]"
   ]
  },
  {
   "cell_type": "markdown",
   "metadata": {},
   "source": [
    "# 자동차 이름 전처리"
   ]
  },
  {
   "cell_type": "code",
   "execution_count": 7,
   "metadata": {},
   "outputs": [],
   "source": [
    "from sklearn.preprocessing import LabelEncoder"
   ]
  },
  {
   "cell_type": "code",
   "execution_count": 8,
   "metadata": {},
   "outputs": [
    {
     "data": {
      "text/plain": [
       "0       49\n",
       "1       36\n",
       "2      231\n",
       "3       14\n",
       "4      161\n",
       "      ... \n",
       "393    153\n",
       "394    301\n",
       "395    119\n",
       "396    159\n",
       "397     69\n",
       "Name: car name, Length: 398, dtype: int32"
      ]
     },
     "execution_count": 8,
     "metadata": {},
     "output_type": "execute_result"
    }
   ],
   "source": [
    "le = LabelEncoder()\n",
    "data['car name'] = le.fit_transform(data['car name'])\n",
    "data['car name']"
   ]
  },
  {
   "cell_type": "code",
   "execution_count": 9,
   "metadata": {},
   "outputs": [
    {
     "data": {
      "text/plain": [
       "(398, 9)"
      ]
     },
     "execution_count": 9,
     "metadata": {},
     "output_type": "execute_result"
    }
   ],
   "source": [
    "data.shape"
   ]
  },
  {
   "cell_type": "markdown",
   "metadata": {},
   "source": [
    "# x, y로 데이터 나누기"
   ]
  },
  {
   "cell_type": "code",
   "execution_count": 10,
   "metadata": {},
   "outputs": [],
   "source": [
    "y = data['mpg']\n",
    "x = data.drop(['mpg'],axis='columns')"
   ]
  },
  {
   "cell_type": "code",
   "execution_count": 11,
   "metadata": {},
   "outputs": [
    {
     "data": {
      "text/plain": [
       "(398, 8)"
      ]
     },
     "execution_count": 11,
     "metadata": {},
     "output_type": "execute_result"
    }
   ],
   "source": [
    "x.shape"
   ]
  },
  {
   "cell_type": "code",
   "execution_count": 12,
   "metadata": {
    "scrolled": true
   },
   "outputs": [
    {
     "data": {
      "text/plain": [
       "(398,)"
      ]
     },
     "execution_count": 12,
     "metadata": {},
     "output_type": "execute_result"
    }
   ],
   "source": [
    "y.shape"
   ]
  },
  {
   "cell_type": "markdown",
   "metadata": {},
   "source": [
    "# x 값 StandardScaler로 표준화!"
   ]
  },
  {
   "cell_type": "code",
   "execution_count": 13,
   "metadata": {},
   "outputs": [],
   "source": [
    "from sklearn.preprocessing import StandardScaler"
   ]
  },
  {
   "cell_type": "code",
   "execution_count": 14,
   "metadata": {},
   "outputs": [
    {
     "data": {
      "text/plain": [
       "array([[ 1.49819126,  1.0906037 ,  0.67358934, ..., -1.62742629,\n",
       "        -0.71514478, -1.11374457],\n",
       "       [ 1.49819126,  1.5035143 ,  1.59026573, ..., -1.62742629,\n",
       "        -0.71514478, -1.25918548],\n",
       "       [ 1.49819126,  1.19623199,  1.19740442, ..., -1.62742629,\n",
       "        -0.71514478,  0.92242821],\n",
       "       ...,\n",
       "       [-0.85632057, -0.56103873, -0.53118534, ...,  1.62198339,\n",
       "        -0.71514478, -0.33060119],\n",
       "       [-0.85632057, -0.70507731, -0.66213911, ...,  1.62198339,\n",
       "        -0.71514478,  0.11690931],\n",
       "       [-0.85632057, -0.71467988, -0.58356685, ...,  1.62198339,\n",
       "        -0.71514478, -0.88998932]])"
      ]
     },
     "execution_count": 14,
     "metadata": {},
     "output_type": "execute_result"
    }
   ],
   "source": [
    "scaler = StandardScaler()\n",
    "x = scaler.fit_transform(x)\n",
    "x"
   ]
  },
  {
   "cell_type": "markdown",
   "metadata": {},
   "source": [
    "# train, test set 나누기"
   ]
  },
  {
   "cell_type": "code",
   "execution_count": 15,
   "metadata": {},
   "outputs": [],
   "source": [
    "from sklearn.model_selection import train_test_split\n",
    "x_train, x_test, y_train, y_test = train_test_split(x,\n",
    "                                                    y,\n",
    "                                                    random_state=42,\n",
    "                                                    test_size=.2)"
   ]
  },
  {
   "cell_type": "code",
   "execution_count": 16,
   "metadata": {},
   "outputs": [
    {
     "name": "stdout",
     "output_type": "stream",
     "text": [
      "x_train: (318, 8)\n",
      "x_test: (80, 8)\n",
      "\n",
      "y_train: (318,)\n",
      "y_test: (80,)\n"
     ]
    }
   ],
   "source": [
    "print(f'x_train: {x_train.shape}\\nx_test: {x_test.shape}\\n\\ny_train: {y_train.shape}\\ny_test: {y_test.shape}')"
   ]
  },
  {
   "cell_type": "markdown",
   "metadata": {},
   "source": [
    "# Build a CNN model only Dense"
   ]
  },
  {
   "cell_type": "code",
   "execution_count": 17,
   "metadata": {},
   "outputs": [
    {
     "name": "stderr",
     "output_type": "stream",
     "text": [
      "Using TensorFlow backend.\n"
     ]
    }
   ],
   "source": [
    "from keras.models import Sequential\n",
    "from keras.layers import Dense "
   ]
  },
  {
   "cell_type": "code",
   "execution_count": 18,
   "metadata": {},
   "outputs": [
    {
     "name": "stdout",
     "output_type": "stream",
     "text": [
      "WARNING:tensorflow:From C:\\Users\\Fam\\Anaconda3\\lib\\site-packages\\keras\\backend\\tensorflow_backend.py:74: The name tf.get_default_graph is deprecated. Please use tf.compat.v1.get_default_graph instead.\n",
      "\n"
     ]
    }
   ],
   "source": [
    "model = Sequential()"
   ]
  },
  {
   "cell_type": "code",
   "execution_count": 19,
   "metadata": {},
   "outputs": [
    {
     "name": "stdout",
     "output_type": "stream",
     "text": [
      "WARNING:tensorflow:From C:\\Users\\Fam\\Anaconda3\\lib\\site-packages\\keras\\backend\\tensorflow_backend.py:517: The name tf.placeholder is deprecated. Please use tf.compat.v1.placeholder instead.\n",
      "\n",
      "WARNING:tensorflow:From C:\\Users\\Fam\\Anaconda3\\lib\\site-packages\\keras\\backend\\tensorflow_backend.py:4138: The name tf.random_uniform is deprecated. Please use tf.random.uniform instead.\n",
      "\n"
     ]
    }
   ],
   "source": [
    "model.add(Dense(12,\n",
    "                input_dim=x_train.shape[1],\n",
    "                activation='relu'))"
   ]
  },
  {
   "cell_type": "code",
   "execution_count": 20,
   "metadata": {},
   "outputs": [],
   "source": [
    "model.add(Dense(8,\n",
    "                activation='relu'))"
   ]
  },
  {
   "cell_type": "code",
   "execution_count": 21,
   "metadata": {},
   "outputs": [],
   "source": [
    "model.add(Dense(1,\n",
    "                activation='relu'))"
   ]
  },
  {
   "cell_type": "markdown",
   "metadata": {},
   "source": [
    "# Compile the model"
   ]
  },
  {
   "cell_type": "code",
   "execution_count": 22,
   "metadata": {},
   "outputs": [
    {
     "name": "stdout",
     "output_type": "stream",
     "text": [
      "WARNING:tensorflow:From C:\\Users\\Fam\\Anaconda3\\lib\\site-packages\\keras\\optimizers.py:790: The name tf.train.Optimizer is deprecated. Please use tf.compat.v1.train.Optimizer instead.\n",
      "\n"
     ]
    }
   ],
   "source": [
    "model.compile(loss='mean_squared_error',\n",
    "              optimizer='adam',\n",
    "              metrics=['accuracy'])"
   ]
  },
  {
   "cell_type": "markdown",
   "metadata": {},
   "source": [
    "# Fit the model"
   ]
  },
  {
   "cell_type": "code",
   "execution_count": 23,
   "metadata": {},
   "outputs": [
    {
     "name": "stdout",
     "output_type": "stream",
     "text": [
      "WARNING:tensorflow:From C:\\Users\\Fam\\Anaconda3\\lib\\site-packages\\keras\\backend\\tensorflow_backend.py:986: The name tf.assign_add is deprecated. Please use tf.compat.v1.assign_add instead.\n",
      "\n",
      "WARNING:tensorflow:From C:\\Users\\Fam\\Anaconda3\\lib\\site-packages\\keras\\backend\\tensorflow_backend.py:973: The name tf.assign is deprecated. Please use tf.compat.v1.assign instead.\n",
      "\n",
      "WARNING:tensorflow:From C:\\Users\\Fam\\Anaconda3\\lib\\site-packages\\keras\\backend\\tensorflow_backend.py:2741: The name tf.Session is deprecated. Please use tf.compat.v1.Session instead.\n",
      "\n",
      "Train on 318 samples, validate on 80 samples\n",
      "Epoch 1/60\n",
      "WARNING:tensorflow:From C:\\Users\\Fam\\Anaconda3\\lib\\site-packages\\keras\\backend\\tensorflow_backend.py:174: The name tf.get_default_session is deprecated. Please use tf.compat.v1.get_default_session instead.\n",
      "\n",
      "WARNING:tensorflow:From C:\\Users\\Fam\\Anaconda3\\lib\\site-packages\\keras\\backend\\tensorflow_backend.py:181: The name tf.ConfigProto is deprecated. Please use tf.compat.v1.ConfigProto instead.\n",
      "\n",
      "WARNING:tensorflow:From C:\\Users\\Fam\\Anaconda3\\lib\\site-packages\\keras\\backend\\tensorflow_backend.py:190: The name tf.global_variables is deprecated. Please use tf.compat.v1.global_variables instead.\n",
      "\n",
      "WARNING:tensorflow:From C:\\Users\\Fam\\Anaconda3\\lib\\site-packages\\keras\\backend\\tensorflow_backend.py:199: The name tf.is_variable_initialized is deprecated. Please use tf.compat.v1.is_variable_initialized instead.\n",
      "\n",
      "WARNING:tensorflow:From C:\\Users\\Fam\\Anaconda3\\lib\\site-packages\\keras\\backend\\tensorflow_backend.py:206: The name tf.variables_initializer is deprecated. Please use tf.compat.v1.variables_initializer instead.\n",
      "\n",
      "318/318 [==============================] - 1s 2ms/step - loss: 571.9041 - acc: 0.0000e+00 - val_loss: 540.7757 - val_acc: 0.0000e+00\n",
      "Epoch 2/60\n",
      "318/318 [==============================] - 0s 97us/step - loss: 562.4526 - acc: 0.0000e+00 - val_loss: 531.3428 - val_acc: 0.0000e+00\n",
      "Epoch 3/60\n",
      "318/318 [==============================] - 0s 88us/step - loss: 551.7745 - acc: 0.0000e+00 - val_loss: 520.8334 - val_acc: 0.0000e+00\n",
      "Epoch 4/60\n",
      "318/318 [==============================] - 0s 104us/step - loss: 540.0746 - acc: 0.0000e+00 - val_loss: 508.9803 - val_acc: 0.0000e+00\n",
      "Epoch 5/60\n",
      "318/318 [==============================] - 0s 148us/step - loss: 526.5254 - acc: 0.0000e+00 - val_loss: 495.2642 - val_acc: 0.0000e+00\n",
      "Epoch 6/60\n",
      "318/318 [==============================] - 0s 104us/step - loss: 511.1708 - acc: 0.0000e+00 - val_loss: 479.8195 - val_acc: 0.0000e+00\n",
      "Epoch 7/60\n",
      "318/318 [==============================] - 0s 85us/step - loss: 493.5678 - acc: 0.0000e+00 - val_loss: 463.1240 - val_acc: 0.0000e+00\n",
      "Epoch 8/60\n",
      "318/318 [==============================] - 0s 132us/step - loss: 475.5941 - acc: 0.0000e+00 - val_loss: 444.5897 - val_acc: 0.0000e+00\n",
      "Epoch 9/60\n",
      "318/318 [==============================] - 0s 94us/step - loss: 454.5593 - acc: 0.0000e+00 - val_loss: 425.1129 - val_acc: 0.0000e+00\n",
      "Epoch 10/60\n",
      "318/318 [==============================] - 0s 104us/step - loss: 432.9684 - acc: 0.0000e+00 - val_loss: 403.8079 - val_acc: 0.0000e+00\n",
      "Epoch 11/60\n",
      "318/318 [==============================] - 0s 113us/step - loss: 409.2020 - acc: 0.0000e+00 - val_loss: 381.1763 - val_acc: 0.0000e+00\n",
      "Epoch 12/60\n",
      "318/318 [==============================] - 0s 85us/step - loss: 384.2440 - acc: 0.0000e+00 - val_loss: 357.0896 - val_acc: 0.0000e+00\n",
      "Epoch 13/60\n",
      "318/318 [==============================] - 0s 94us/step - loss: 357.4328 - acc: 0.0000e+00 - val_loss: 332.2101 - val_acc: 0.0000e+00\n",
      "Epoch 14/60\n",
      "318/318 [==============================] - 0s 116us/step - loss: 330.8340 - acc: 0.0000e+00 - val_loss: 306.0468 - val_acc: 0.0000e+00\n",
      "Epoch 15/60\n",
      "318/318 [==============================] - 0s 91us/step - loss: 303.4143 - acc: 0.0000e+00 - val_loss: 279.2020 - val_acc: 0.0000e+00\n",
      "Epoch 16/60\n",
      "318/318 [==============================] - 0s 107us/step - loss: 274.4424 - acc: 0.0000e+00 - val_loss: 253.1109 - val_acc: 0.0000e+00\n",
      "Epoch 17/60\n",
      "318/318 [==============================] - 0s 85us/step - loss: 247.1857 - acc: 0.0000e+00 - val_loss: 227.2418 - val_acc: 0.0000e+00\n",
      "Epoch 18/60\n",
      "318/318 [==============================] - 0s 91us/step - loss: 220.4962 - acc: 0.0000e+00 - val_loss: 202.3013 - val_acc: 0.0000e+00\n",
      "Epoch 19/60\n",
      "318/318 [==============================] - 0s 69us/step - loss: 194.8516 - acc: 0.0000e+00 - val_loss: 179.1841 - val_acc: 0.0000e+00\n",
      "Epoch 20/60\n",
      "318/318 [==============================] - 0s 107us/step - loss: 171.4683 - acc: 0.0000e+00 - val_loss: 157.9130 - val_acc: 0.0000e+00\n",
      "Epoch 21/60\n",
      "318/318 [==============================] - 0s 85us/step - loss: 150.0566 - acc: 0.0031 - val_loss: 139.0303 - val_acc: 0.0000e+00\n",
      "Epoch 22/60\n",
      "318/318 [==============================] - 0s 75us/step - loss: 131.7373 - acc: 0.0094 - val_loss: 122.1980 - val_acc: 0.0000e+00\n",
      "Epoch 23/60\n",
      "318/318 [==============================] - 0s 104us/step - loss: 115.3926 - acc: 0.0063 - val_loss: 107.8728 - val_acc: 0.0000e+00\n",
      "Epoch 24/60\n",
      "318/318 [==============================] - 0s 113us/step - loss: 101.6234 - acc: 0.0094 - val_loss: 95.7217 - val_acc: 0.0125\n",
      "Epoch 25/60\n",
      "318/318 [==============================] - 0s 170us/step - loss: 90.0608 - acc: 0.0063 - val_loss: 85.5716 - val_acc: 0.0000e+00\n",
      "Epoch 26/60\n",
      "318/318 [==============================] - 0s 101us/step - loss: 80.5543 - acc: 0.0094 - val_loss: 77.0350 - val_acc: 0.0125\n",
      "Epoch 27/60\n",
      "318/318 [==============================] - 0s 82us/step - loss: 72.5443 - acc: 0.0126 - val_loss: 70.0837 - val_acc: 0.0375\n",
      "Epoch 28/60\n",
      "318/318 [==============================] - 0s 116us/step - loss: 66.2139 - acc: 0.0314 - val_loss: 64.1257 - val_acc: 0.0625\n",
      "Epoch 29/60\n",
      "318/318 [==============================] - 0s 88us/step - loss: 60.7064 - acc: 0.0157 - val_loss: 59.2297 - val_acc: 0.0750\n",
      "Epoch 30/60\n",
      "318/318 [==============================] - 0s 107us/step - loss: 56.0607 - acc: 0.0157 - val_loss: 55.1480 - val_acc: 0.0500\n",
      "Epoch 31/60\n",
      "318/318 [==============================] - 0s 160us/step - loss: 52.2253 - acc: 0.0283 - val_loss: 51.6132 - val_acc: 0.0250\n",
      "Epoch 32/60\n",
      "318/318 [==============================] - 0s 101us/step - loss: 48.7925 - acc: 0.0409 - val_loss: 48.7074 - val_acc: 0.0375\n",
      "Epoch 33/60\n",
      "318/318 [==============================] - 0s 104us/step - loss: 46.0217 - acc: 0.0503 - val_loss: 46.0671 - val_acc: 0.0500\n",
      "Epoch 34/60\n",
      "318/318 [==============================] - 0s 104us/step - loss: 43.4052 - acc: 0.0566 - val_loss: 43.8982 - val_acc: 0.0500\n",
      "Epoch 35/60\n",
      "318/318 [==============================] - 0s 82us/step - loss: 41.2773 - acc: 0.0503 - val_loss: 41.9240 - val_acc: 0.0875\n",
      "Epoch 36/60\n",
      "318/318 [==============================] - 0s 113us/step - loss: 39.3172 - acc: 0.0472 - val_loss: 40.1848 - val_acc: 0.0875\n",
      "Epoch 37/60\n",
      "318/318 [==============================] - 0s 101us/step - loss: 37.5261 - acc: 0.0409 - val_loss: 38.7197 - val_acc: 0.0625\n",
      "Epoch 38/60\n",
      "318/318 [==============================] - 0s 97us/step - loss: 36.0808 - acc: 0.0503 - val_loss: 37.3148 - val_acc: 0.0500\n",
      "Epoch 39/60\n",
      "318/318 [==============================] - 0s 104us/step - loss: 34.7332 - acc: 0.0472 - val_loss: 36.0228 - val_acc: 0.0625\n",
      "Epoch 40/60\n",
      "318/318 [==============================] - 0s 107us/step - loss: 33.4635 - acc: 0.0409 - val_loss: 34.8672 - val_acc: 0.0500\n",
      "Epoch 41/60\n",
      "318/318 [==============================] - 0s 116us/step - loss: 32.3967 - acc: 0.0409 - val_loss: 33.7921 - val_acc: 0.0500\n",
      "Epoch 42/60\n",
      "318/318 [==============================] - 0s 85us/step - loss: 31.3736 - acc: 0.0409 - val_loss: 32.7466 - val_acc: 0.0375\n",
      "Epoch 43/60\n",
      "318/318 [==============================] - 0s 66us/step - loss: 30.4069 - acc: 0.0377 - val_loss: 31.7929 - val_acc: 0.0375\n",
      "Epoch 44/60\n",
      "318/318 [==============================] - 0s 94us/step - loss: 29.5713 - acc: 0.0409 - val_loss: 30.8735 - val_acc: 0.0375\n",
      "Epoch 45/60\n",
      "318/318 [==============================] - 0s 110us/step - loss: 28.7612 - acc: 0.0409 - val_loss: 29.9678 - val_acc: 0.0500\n",
      "Epoch 46/60\n",
      "318/318 [==============================] - 0s 69us/step - loss: 27.9400 - acc: 0.0472 - val_loss: 29.1082 - val_acc: 0.0500\n",
      "Epoch 47/60\n"
     ]
    },
    {
     "name": "stdout",
     "output_type": "stream",
     "text": [
      "318/318 [==============================] - 0s 63us/step - loss: 27.2177 - acc: 0.0535 - val_loss: 28.2584 - val_acc: 0.0625\n",
      "Epoch 48/60\n",
      "318/318 [==============================] - 0s 69us/step - loss: 26.5253 - acc: 0.0503 - val_loss: 27.4516 - val_acc: 0.0625\n",
      "Epoch 49/60\n",
      "318/318 [==============================] - 0s 85us/step - loss: 25.8686 - acc: 0.0597 - val_loss: 26.6817 - val_acc: 0.0625\n",
      "Epoch 50/60\n",
      "318/318 [==============================] - 0s 82us/step - loss: 25.2710 - acc: 0.0629 - val_loss: 25.9096 - val_acc: 0.0625\n",
      "Epoch 51/60\n",
      "318/318 [==============================] - 0s 75us/step - loss: 24.6414 - acc: 0.0597 - val_loss: 25.1997 - val_acc: 0.0625\n",
      "Epoch 52/60\n",
      "318/318 [==============================] - ETA: 0s - loss: 22.0474 - acc: 0.03 - 0s 63us/step - loss: 24.1328 - acc: 0.0566 - val_loss: 24.4786 - val_acc: 0.0625\n",
      "Epoch 53/60\n",
      "318/318 [==============================] - 0s 75us/step - loss: 23.5796 - acc: 0.0566 - val_loss: 23.8102 - val_acc: 0.0750\n",
      "Epoch 54/60\n",
      "318/318 [==============================] - 0s 60us/step - loss: 23.0833 - acc: 0.0660 - val_loss: 23.1781 - val_acc: 0.0875\n",
      "Epoch 55/60\n",
      "318/318 [==============================] - 0s 63us/step - loss: 22.5803 - acc: 0.0629 - val_loss: 22.5676 - val_acc: 0.0875\n",
      "Epoch 56/60\n",
      "318/318 [==============================] - 0s 66us/step - loss: 22.1362 - acc: 0.0597 - val_loss: 21.9676 - val_acc: 0.0625\n",
      "Epoch 57/60\n",
      "318/318 [==============================] - 0s 63us/step - loss: 21.6991 - acc: 0.0566 - val_loss: 21.3850 - val_acc: 0.0750\n",
      "Epoch 58/60\n",
      "318/318 [==============================] - 0s 88us/step - loss: 21.2692 - acc: 0.0597 - val_loss: 20.8341 - val_acc: 0.0750\n",
      "Epoch 59/60\n",
      "318/318 [==============================] - 0s 82us/step - loss: 20.8729 - acc: 0.0597 - val_loss: 20.2589 - val_acc: 0.0875\n",
      "Epoch 60/60\n",
      "318/318 [==============================] - 0s 79us/step - loss: 20.5036 - acc: 0.0503 - val_loss: 19.7435 - val_acc: 0.0750\n"
     ]
    }
   ],
   "source": [
    "history = model.fit(x_train,\n",
    "                    y_train,\n",
    "                    epochs=60,\n",
    "                    verbose=1,\n",
    "                    validation_data=(x_test,y_test))"
   ]
  },
  {
   "cell_type": "markdown",
   "metadata": {},
   "source": [
    "# Prediction"
   ]
  },
  {
   "cell_type": "code",
   "execution_count": 24,
   "metadata": {
    "scrolled": true
   },
   "outputs": [
    {
     "data": {
      "text/plain": [
       "array([[35.65542  ],\n",
       "       [33.370815 ],\n",
       "       [12.368863 ],\n",
       "       [13.867353 ],\n",
       "       [14.474716 ],\n",
       "       [25.22527  ],\n",
       "       [28.831758 ],\n",
       "       [17.649595 ],\n",
       "       [15.688783 ],\n",
       "       [12.195834 ],\n",
       "       [14.077063 ],\n",
       "       [39.89377  ],\n",
       "       [26.552801 ],\n",
       "       [14.199129 ],\n",
       "       [22.577892 ],\n",
       "       [16.891079 ],\n",
       "       [31.384434 ],\n",
       "       [13.39501  ],\n",
       "       [15.5744705],\n",
       "       [39.028606 ],\n",
       "       [24.115593 ],\n",
       "       [12.1368065],\n",
       "       [17.42593  ],\n",
       "       [27.741724 ],\n",
       "       [12.876372 ],\n",
       "       [43.329056 ],\n",
       "       [21.405998 ],\n",
       "       [21.75916  ],\n",
       "       [17.03138  ],\n",
       "       [17.968533 ],\n",
       "       [29.89558  ],\n",
       "       [36.361965 ],\n",
       "       [18.848495 ],\n",
       "       [22.856686 ],\n",
       "       [37.697826 ],\n",
       "       [14.624396 ],\n",
       "       [12.857819 ],\n",
       "       [15.118139 ],\n",
       "       [15.493399 ],\n",
       "       [23.987621 ],\n",
       "       [15.319547 ],\n",
       "       [30.323101 ],\n",
       "       [17.327831 ],\n",
       "       [15.177366 ],\n",
       "       [21.809364 ],\n",
       "       [33.09525  ],\n",
       "       [24.58363  ],\n",
       "       [18.467861 ],\n",
       "       [20.073265 ],\n",
       "       [30.286427 ],\n",
       "       [20.788658 ],\n",
       "       [36.92061  ],\n",
       "       [33.39776  ],\n",
       "       [16.56637  ],\n",
       "       [22.049446 ],\n",
       "       [15.22441  ],\n",
       "       [16.788294 ],\n",
       "       [26.662205 ],\n",
       "       [15.946138 ],\n",
       "       [12.849198 ],\n",
       "       [12.52433  ],\n",
       "       [34.44815  ],\n",
       "       [20.9632   ],\n",
       "       [18.507832 ],\n",
       "       [12.7863035],\n",
       "       [22.713696 ],\n",
       "       [23.510487 ],\n",
       "       [37.607952 ],\n",
       "       [33.797115 ],\n",
       "       [15.304228 ],\n",
       "       [35.574596 ],\n",
       "       [16.392887 ],\n",
       "       [15.383921 ],\n",
       "       [11.772407 ],\n",
       "       [23.664204 ],\n",
       "       [13.954626 ],\n",
       "       [13.8797   ],\n",
       "       [34.31843  ],\n",
       "       [32.335102 ],\n",
       "       [16.527931 ]], dtype=float32)"
      ]
     },
     "execution_count": 24,
     "metadata": {},
     "output_type": "execute_result"
    }
   ],
   "source": [
    "y_pred = model.predict(x_test)\n",
    "y_pred"
   ]
  },
  {
   "cell_type": "markdown",
   "metadata": {},
   "source": [
    "# Evaluation"
   ]
  },
  {
   "cell_type": "code",
   "execution_count": 25,
   "metadata": {},
   "outputs": [
    {
     "data": {
      "text/plain": [
       "['loss', 'acc']"
      ]
     },
     "execution_count": 25,
     "metadata": {},
     "output_type": "execute_result"
    }
   ],
   "source": [
    "mod_name = model.metrics_names\n",
    "mod_name"
   ]
  },
  {
   "cell_type": "code",
   "execution_count": 26,
   "metadata": {
    "scrolled": true
   },
   "outputs": [
    {
     "name": "stdout",
     "output_type": "stream",
     "text": [
      "80/80 [==============================] - 0s 50us/step\n"
     ]
    },
    {
     "data": {
      "text/plain": [
       "[19.743479537963868, 0.075]"
      ]
     },
     "execution_count": 26,
     "metadata": {},
     "output_type": "execute_result"
    }
   ],
   "source": [
    "score = model.evaluate(x_test, y_test)\n",
    "score"
   ]
  },
  {
   "cell_type": "code",
   "execution_count": 27,
   "metadata": {},
   "outputs": [
    {
     "name": "stdout",
     "output_type": "stream",
     "text": [
      "loss: 19.743479537963868\n",
      "acc: 0.075\n"
     ]
    }
   ],
   "source": [
    "print(f'{mod_name[0]}: {score[0]}\\n{mod_name[1]}: {score[1]}')"
   ]
  },
  {
   "cell_type": "markdown",
   "metadata": {},
   "source": [
    "# Graph"
   ]
  },
  {
   "cell_type": "code",
   "execution_count": 28,
   "metadata": {},
   "outputs": [],
   "source": [
    "import matplotlib.pyplot as plt\n",
    "%matplotlib inline"
   ]
  },
  {
   "cell_type": "code",
   "execution_count": 30,
   "metadata": {},
   "outputs": [
    {
     "data": {
      "image/png": "[encoded data removed]",
      "text/plain": [
       "<Figure size 1224x432 with 2 Axes>"
      ]
     },
     "metadata": {
      "needs_background": "light"
     },
     "output_type": "display_data"
    }
   ],
   "source": [
    "fig, ax = plt.subplots(1,2,figsize=(17,6))\n",
    "ax = ax.ravel()\n",
    "\n",
    "ax[0].set_title('mean_squared_error Chart')\n",
    "ax[0].plot(history.history['acc'], label='train')\n",
    "ax[0].plot(history.history['val_acc'], label='test')\n",
    "ax[0].legend(loc='best')\n",
    "\n",
    "ax[1].set_title('Loss Chart')\n",
    "ax[1].plot(history.history['loss'], label='train')\n",
    "ax[1].plot(history.history['val_loss'], label='test')\n",
    "ax[1].legend(loc='best')\n",
    "\n",
    "plt.show()"
   ]
  },
  {
   "cell_type": "code",
   "execution_count": null,
   "metadata": {},
   "outputs": [],
   "source": []
  }
 ],
 "metadata": {
  "kernelspec": {
   "display_name": "Python 3",
   "language": "python",
   "name": "python3"
  },
  "language_info": {
   "codemirror_mode": {
    "name": "ipython",
    "version": 3
   },
   "file_extension": ".py",
   "mimetype": "text/x-python",
   "name": "python",
   "nbconvert_exporter": "python",
   "pygments_lexer": "ipython3",
   "version": "3.7.4"
  }
 },
 "nbformat": 4,
 "nbformat_minor": 2
}
