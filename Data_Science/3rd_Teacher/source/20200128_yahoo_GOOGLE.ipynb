{
 "cells": [
  {
   "cell_type": "code",
   "execution_count": 1,
   "metadata": {},
   "outputs": [],
   "source": [
    "from datetime import datetime\n",
    "import pandas_datareader.data as wb\n",
    "\n",
    "import numpy as np\n",
    "import pandas as pd\n",
    "\n",
    "import matplotlib.pyplot as plt\n",
    "%matplotlib inline"
   ]
  },
  {
   "cell_type": "code",
   "execution_count": 2,
   "metadata": {},
   "outputs": [
    {
     "data": {
      "text/html": [
       "<div>\n",
       "<style scoped>\n",
       "    .dataframe tbody tr th:only-of-type {\n",
       "        vertical-align: middle;\n",
       "    }\n",
       "\n",
       "    .dataframe tbody tr th {\n",
       "        vertical-align: top;\n",
       "    }\n",
       "\n",
       "    .dataframe thead th {\n",
       "        text-align: right;\n",
       "    }\n",
       "</style>\n",
       "<table border=\"1\" class=\"dataframe\">\n",
       "  <thead>\n",
       "    <tr style=\"text-align: right;\">\n",
       "      <th></th>\n",
       "      <th>High</th>\n",
       "      <th>Low</th>\n",
       "      <th>Open</th>\n",
       "      <th>Close</th>\n",
       "      <th>Volume</th>\n",
       "      <th>Adj Close</th>\n",
       "    </tr>\n",
       "    <tr>\n",
       "      <th>Date</th>\n",
       "      <th></th>\n",
       "      <th></th>\n",
       "      <th></th>\n",
       "      <th></th>\n",
       "      <th></th>\n",
       "      <th></th>\n",
       "    </tr>\n",
       "  </thead>\n",
       "  <tbody>\n",
       "    <tr>\n",
       "      <td>2012-01-03</td>\n",
       "      <td>332.827484</td>\n",
       "      <td>324.966949</td>\n",
       "      <td>325.250885</td>\n",
       "      <td>331.462585</td>\n",
       "      <td>7380500.0</td>\n",
       "      <td>331.462585</td>\n",
       "    </tr>\n",
       "    <tr>\n",
       "      <td>2012-01-04</td>\n",
       "      <td>333.873566</td>\n",
       "      <td>329.076538</td>\n",
       "      <td>331.273315</td>\n",
       "      <td>332.892242</td>\n",
       "      <td>5749400.0</td>\n",
       "      <td>332.892242</td>\n",
       "    </tr>\n",
       "    <tr>\n",
       "      <td>2012-01-05</td>\n",
       "      <td>330.745300</td>\n",
       "      <td>326.889740</td>\n",
       "      <td>329.828735</td>\n",
       "      <td>328.274536</td>\n",
       "      <td>6590300.0</td>\n",
       "      <td>328.274536</td>\n",
       "    </tr>\n",
       "    <tr>\n",
       "      <td>2012-01-06</td>\n",
       "      <td>328.767700</td>\n",
       "      <td>323.681763</td>\n",
       "      <td>328.344299</td>\n",
       "      <td>323.796326</td>\n",
       "      <td>5405900.0</td>\n",
       "      <td>323.796326</td>\n",
       "    </tr>\n",
       "    <tr>\n",
       "      <td>2012-01-09</td>\n",
       "      <td>322.291962</td>\n",
       "      <td>309.455078</td>\n",
       "      <td>322.042908</td>\n",
       "      <td>310.067780</td>\n",
       "      <td>11688800.0</td>\n",
       "      <td>310.067780</td>\n",
       "    </tr>\n",
       "    <tr>\n",
       "      <td>...</td>\n",
       "      <td>...</td>\n",
       "      <td>...</td>\n",
       "      <td>...</td>\n",
       "      <td>...</td>\n",
       "      <td>...</td>\n",
       "      <td>...</td>\n",
       "    </tr>\n",
       "    <tr>\n",
       "      <td>2019-12-24</td>\n",
       "      <td>1350.260010</td>\n",
       "      <td>1342.780029</td>\n",
       "      <td>1348.500000</td>\n",
       "      <td>1343.560059</td>\n",
       "      <td>347500.0</td>\n",
       "      <td>1343.560059</td>\n",
       "    </tr>\n",
       "    <tr>\n",
       "      <td>2019-12-26</td>\n",
       "      <td>1361.327026</td>\n",
       "      <td>1344.469971</td>\n",
       "      <td>1346.170044</td>\n",
       "      <td>1360.400024</td>\n",
       "      <td>667500.0</td>\n",
       "      <td>1360.400024</td>\n",
       "    </tr>\n",
       "    <tr>\n",
       "      <td>2019-12-27</td>\n",
       "      <td>1364.530029</td>\n",
       "      <td>1349.310059</td>\n",
       "      <td>1362.989990</td>\n",
       "      <td>1351.890015</td>\n",
       "      <td>1038400.0</td>\n",
       "      <td>1351.890015</td>\n",
       "    </tr>\n",
       "    <tr>\n",
       "      <td>2019-12-30</td>\n",
       "      <td>1353.000000</td>\n",
       "      <td>1334.020020</td>\n",
       "      <td>1350.000000</td>\n",
       "      <td>1336.140015</td>\n",
       "      <td>1050900.0</td>\n",
       "      <td>1336.140015</td>\n",
       "    </tr>\n",
       "    <tr>\n",
       "      <td>2019-12-31</td>\n",
       "      <td>1338.000000</td>\n",
       "      <td>1329.084961</td>\n",
       "      <td>1330.109985</td>\n",
       "      <td>1337.020020</td>\n",
       "      <td>961800.0</td>\n",
       "      <td>1337.020020</td>\n",
       "    </tr>\n",
       "  </tbody>\n",
       "</table>\n",
       "<p>2012 rows × 6 columns</p>\n",
       "</div>"
      ],
      "text/plain": [
       "                   High          Low         Open        Close      Volume  \\\n",
       "Date                                                                         \n",
       "2012-01-03   332.827484   324.966949   325.250885   331.462585   7380500.0   \n",
       "2012-01-04   333.873566   329.076538   331.273315   332.892242   5749400.0   \n",
       "2012-01-05   330.745300   326.889740   329.828735   328.274536   6590300.0   \n",
       "2012-01-06   328.767700   323.681763   328.344299   323.796326   5405900.0   \n",
       "2012-01-09   322.291962   309.455078   322.042908   310.067780  11688800.0   \n",
       "...                 ...          ...          ...          ...         ...   \n",
       "2019-12-24  1350.260010  1342.780029  1348.500000  1343.560059    347500.0   \n",
       "2019-12-26  1361.327026  1344.469971  1346.170044  1360.400024    667500.0   \n",
       "2019-12-27  1364.530029  1349.310059  1362.989990  1351.890015   1038400.0   \n",
       "2019-12-30  1353.000000  1334.020020  1350.000000  1336.140015   1050900.0   \n",
       "2019-12-31  1338.000000  1329.084961  1330.109985  1337.020020    961800.0   \n",
       "\n",
       "              Adj Close  \n",
       "Date                     \n",
       "2012-01-03   331.462585  \n",
       "2012-01-04   332.892242  \n",
       "2012-01-05   328.274536  \n",
       "2012-01-06   323.796326  \n",
       "2012-01-09   310.067780  \n",
       "...                 ...  \n",
       "2019-12-24  1343.560059  \n",
       "2019-12-26  1360.400024  \n",
       "2019-12-27  1351.890015  \n",
       "2019-12-30  1336.140015  \n",
       "2019-12-31  1337.020020  \n",
       "\n",
       "[2012 rows x 6 columns]"
      ]
     },
     "execution_count": 2,
     "metadata": {},
     "output_type": "execute_result"
    }
   ],
   "source": [
    "start = datetime(2012,1,1)\n",
    "end = datetime(2019,12,31)\n",
    " \n",
    "df = wb.DataReader('GOOG','yahoo',start,end)\n",
    "df"
   ]
  },
  {
   "cell_type": "code",
   "execution_count": 3,
   "metadata": {},
   "outputs": [
    {
     "data": {
      "text/plain": [
       "High         0\n",
       "Low          0\n",
       "Open         0\n",
       "Close        0\n",
       "Volume       0\n",
       "Adj Close    0\n",
       "dtype: int64"
      ]
     },
     "execution_count": 3,
     "metadata": {},
     "output_type": "execute_result"
    }
   ],
   "source": [
    "df.isna().sum()"
   ]
  },
  {
   "cell_type": "code",
   "execution_count": 4,
   "metadata": {},
   "outputs": [],
   "source": [
    "ts = df.Close"
   ]
  },
  {
   "cell_type": "markdown",
   "metadata": {},
   "source": [
    "# Scaling (MinMaxScaler between 0 and 1 )"
   ]
  },
  {
   "cell_type": "code",
   "execution_count": 5,
   "metadata": {},
   "outputs": [],
   "source": [
    "from sklearn.preprocessing import MinMaxScaler"
   ]
  },
  {
   "cell_type": "code",
   "execution_count": 6,
   "metadata": {
    "scrolled": true
   },
   "outputs": [],
   "source": [
    "scaler = MinMaxScaler(feature_range = (0, 1))\n",
    "ts = scaler.fit_transform(ts.values.reshape(-1,1))"
   ]
  },
  {
   "cell_type": "markdown",
   "metadata": {},
   "source": [
    "# Split x and y (with appropriate time steps)"
   ]
  },
  {
   "cell_type": "code",
   "execution_count": 7,
   "metadata": {},
   "outputs": [],
   "source": [
    "x_list = []\n",
    "y_list = []\n",
    "for i in range(2011-60):\n",
    "    x_list.append(ts[i:i+60,0])\n",
    "    y_list.append(ts[i+60,0])\n",
    "x = np.array(x_list)\n",
    "y = np.array(y_list)"
   ]
  },
  {
   "cell_type": "markdown",
   "metadata": {},
   "source": [
    "### 함수로 만들어 다른곳에서도 쓸 수 있게 함."
   ]
  },
  {
   "cell_type": "code",
   "execution_count": 20,
   "metadata": {},
   "outputs": [],
   "source": [
    "def data_prep(sample ,t):\n",
    "    x_list = []\n",
    "    y_list = []\n",
    "    for i in range(sample-t):\n",
    "        x_list.append(ts[i:i+t,0])\n",
    "        y_list.append(ts[i+t,0])\n",
    "    x = np.array(x_list)\n",
    "    y = np.array(y_list)\n",
    "    return x,y"
   ]
  },
  {
   "cell_type": "code",
   "execution_count": 21,
   "metadata": {},
   "outputs": [
    {
     "data": {
      "text/plain": [
       "(array([[0.04893503, 0.0502555 , 0.04599047],\n",
       "        [0.0502555 , 0.04599047, 0.04185427],\n",
       "        [0.04599047, 0.04185427, 0.02917423],\n",
       "        [0.04185427, 0.02917423, 0.0294871 ],\n",
       "        [0.02917423, 0.0294871 , 0.03078454],\n",
       "        [0.0294871 , 0.03078454, 0.03247767],\n",
       "        [0.03078454, 0.03247767, 0.03033826],\n",
       "        [0.03247767, 0.03033826, 0.03198998],\n",
       "        [0.03033826, 0.03198998, 0.03398217],\n",
       "        [0.03198998, 0.03398217, 0.03704636],\n",
       "        [0.03398217, 0.03704636, 0.0123948 ],\n",
       "        [0.03704636, 0.0123948 , 0.01217855],\n",
       "        [0.0123948 , 0.01217855, 0.01006676],\n",
       "        [0.01217855, 0.01006676, 0.00480335],\n",
       "        [0.01006676, 0.00480335, 0.00416382],\n",
       "        [0.00480335, 0.00416382, 0.00962967],\n",
       "        [0.00416382, 0.00962967, 0.00857607]]),\n",
       " array([0.04185427, 0.02917423, 0.0294871 , 0.03078454, 0.03247767,\n",
       "        0.03033826, 0.03198998, 0.03398217, 0.03704636, 0.0123948 ,\n",
       "        0.01217855, 0.01006676, 0.00480335, 0.00416382, 0.00962967,\n",
       "        0.00857607, 0.00968948]))"
      ]
     },
     "execution_count": 21,
     "metadata": {},
     "output_type": "execute_result"
    }
   ],
   "source": [
    "data_prep(20,3)"
   ]
  },
  {
   "cell_type": "markdown",
   "metadata": {},
   "source": [
    "# Split train and test (80%, 2/3, etc.)"
   ]
  },
  {
   "cell_type": "code",
   "execution_count": 8,
   "metadata": {},
   "outputs": [],
   "source": [
    "x_train = x[:int(len(x)*(2/3))]\n",
    "x_test = x[int(len(x)*(2/3)):]"
   ]
  },
  {
   "cell_type": "code",
   "execution_count": 9,
   "metadata": {},
   "outputs": [],
   "source": [
    "y_train = y[:int(len(y)*(2/3))]\n",
    "y_test = y[int(len(y)*(2/3)):]"
   ]
  },
  {
   "cell_type": "code",
   "execution_count": 10,
   "metadata": {},
   "outputs": [
    {
     "name": "stdout",
     "output_type": "stream",
     "text": [
      "x_train: (1300, 60)\n",
      "x_test: (651, 60)\n",
      "\n",
      "y_train: (1300,)\n",
      "y_test:(651,)\n"
     ]
    }
   ],
   "source": [
    "print(f'x_train: {x_train.shape}\\nx_test: {x_test.shape}\\n\\ny_train: {y_train.shape}\\ny_test:{y_test.shape}')"
   ]
  },
  {
   "cell_type": "markdown",
   "metadata": {},
   "source": [
    "# Reshape an input to 3D with the format of [samples, time steps and features]"
   ]
  },
  {
   "cell_type": "code",
   "execution_count": 11,
   "metadata": {},
   "outputs": [],
   "source": [
    "x_train = x_train.reshape(1300, 60, 1)\n",
    "x_test = x_test.reshape(651, 60, 1)"
   ]
  },
  {
   "cell_type": "markdown",
   "metadata": {},
   "source": [
    "# Building the RNN LSTM model using sequential model"
   ]
  },
  {
   "cell_type": "code",
   "execution_count": 12,
   "metadata": {},
   "outputs": [
    {
     "name": "stderr",
     "output_type": "stream",
     "text": [
      "Using TensorFlow backend.\n"
     ]
    }
   ],
   "source": [
    "from keras.models import Sequential\n",
    "from keras.layers import Dense, LSTM, Dropout"
   ]
  },
  {
   "cell_type": "code",
   "execution_count": 13,
   "metadata": {},
   "outputs": [
    {
     "name": "stdout",
     "output_type": "stream",
     "text": [
      "WARNING:tensorflow:From C:\\Users\\sundooedu\\Anaconda3\\lib\\site-packages\\keras\\backend\\tensorflow_backend.py:74: The name tf.get_default_graph is deprecated. Please use tf.compat.v1.get_default_graph instead.\n",
      "\n",
      "WARNING:tensorflow:From C:\\Users\\sundooedu\\Anaconda3\\lib\\site-packages\\keras\\backend\\tensorflow_backend.py:517: The name tf.placeholder is deprecated. Please use tf.compat.v1.placeholder instead.\n",
      "\n",
      "WARNING:tensorflow:From C:\\Users\\sundooedu\\Anaconda3\\lib\\site-packages\\keras\\backend\\tensorflow_backend.py:4138: The name tf.random_uniform is deprecated. Please use tf.random.uniform instead.\n",
      "\n",
      "WARNING:tensorflow:From C:\\Users\\sundooedu\\Anaconda3\\lib\\site-packages\\keras\\backend\\tensorflow_backend.py:133: The name tf.placeholder_with_default is deprecated. Please use tf.compat.v1.placeholder_with_default instead.\n",
      "\n",
      "WARNING:tensorflow:From C:\\Users\\sundooedu\\Anaconda3\\lib\\site-packages\\keras\\backend\\tensorflow_backend.py:3445: calling dropout (from tensorflow.python.ops.nn_ops) with keep_prob is deprecated and will be removed in a future version.\n",
      "Instructions for updating:\n",
      "Please use `rate` instead of `keep_prob`. Rate should be set to `rate = 1 - keep_prob`.\n"
     ]
    }
   ],
   "source": [
    "model = Sequential()\n",
    "model.add(LSTM(50, input_shape=(60,1), return_sequences=True))\n",
    "model.add(Dropout(.2))\n",
    "model.add(LSTM(50, return_sequences=True))\n",
    "model.add(Dropout(.2))\n",
    "model.add(LSTM(50, return_sequences=True))\n",
    "model.add(Dropout(.2))\n",
    "model.add(LSTM(50))\n",
    "model.add(Dropout(.2))\n",
    "model.add(Dense(1))"
   ]
  },
  {
   "cell_type": "markdown",
   "metadata": {},
   "source": [
    "# Compile with adam optimizer and mean_squared_error loss"
   ]
  },
  {
   "cell_type": "code",
   "execution_count": 14,
   "metadata": {},
   "outputs": [
    {
     "name": "stdout",
     "output_type": "stream",
     "text": [
      "WARNING:tensorflow:From C:\\Users\\sundooedu\\Anaconda3\\lib\\site-packages\\keras\\optimizers.py:790: The name tf.train.Optimizer is deprecated. Please use tf.compat.v1.train.Optimizer instead.\n",
      "\n"
     ]
    }
   ],
   "source": [
    "model.compile(optimizer='adam',\n",
    "              loss = 'mse')"
   ]
  },
  {
   "cell_type": "markdown",
   "metadata": {},
   "source": [
    "# Fit the model (20 epochs and 32 batch size)"
   ]
  },
  {
   "cell_type": "code",
   "execution_count": 15,
   "metadata": {
    "scrolled": true
   },
   "outputs": [
    {
     "name": "stdout",
     "output_type": "stream",
     "text": [
      "WARNING:tensorflow:From C:\\Users\\sundooedu\\Anaconda3\\lib\\site-packages\\tensorflow_core\\python\\ops\\math_grad.py:1424: where (from tensorflow.python.ops.array_ops) is deprecated and will be removed in a future version.\n",
      "Instructions for updating:\n",
      "Use tf.where in 2.0, which has the same broadcast rule as np.where\n",
      "WARNING:tensorflow:From C:\\Users\\sundooedu\\Anaconda3\\lib\\site-packages\\keras\\backend\\tensorflow_backend.py:986: The name tf.assign_add is deprecated. Please use tf.compat.v1.assign_add instead.\n",
      "\n",
      "WARNING:tensorflow:From C:\\Users\\sundooedu\\Anaconda3\\lib\\site-packages\\keras\\backend\\tensorflow_backend.py:973: The name tf.assign is deprecated. Please use tf.compat.v1.assign instead.\n",
      "\n",
      "WARNING:tensorflow:From C:\\Users\\sundooedu\\Anaconda3\\lib\\site-packages\\keras\\backend\\tensorflow_backend.py:2741: The name tf.Session is deprecated. Please use tf.compat.v1.Session instead.\n",
      "\n",
      "Train on 1300 samples, validate on 651 samples\n",
      "Epoch 1/20\n",
      "WARNING:tensorflow:From C:\\Users\\sundooedu\\Anaconda3\\lib\\site-packages\\keras\\backend\\tensorflow_backend.py:174: The name tf.get_default_session is deprecated. Please use tf.compat.v1.get_default_session instead.\n",
      "\n",
      "WARNING:tensorflow:From C:\\Users\\sundooedu\\Anaconda3\\lib\\site-packages\\keras\\backend\\tensorflow_backend.py:181: The name tf.ConfigProto is deprecated. Please use tf.compat.v1.ConfigProto instead.\n",
      "\n",
      "WARNING:tensorflow:From C:\\Users\\sundooedu\\Anaconda3\\lib\\site-packages\\keras\\backend\\tensorflow_backend.py:190: The name tf.global_variables is deprecated. Please use tf.compat.v1.global_variables instead.\n",
      "\n",
      "WARNING:tensorflow:From C:\\Users\\sundooedu\\Anaconda3\\lib\\site-packages\\keras\\backend\\tensorflow_backend.py:199: The name tf.is_variable_initialized is deprecated. Please use tf.compat.v1.is_variable_initialized instead.\n",
      "\n",
      "WARNING:tensorflow:From C:\\Users\\sundooedu\\Anaconda3\\lib\\site-packages\\keras\\backend\\tensorflow_backend.py:206: The name tf.variables_initializer is deprecated. Please use tf.compat.v1.variables_initializer instead.\n",
      "\n",
      "1300/1300 [==============================] - 20s 15ms/step - loss: 0.0147 - val_loss: 0.0119\n",
      "Epoch 2/20\n",
      "1300/1300 [==============================] - 16s 12ms/step - loss: 0.0018 - val_loss: 0.0026\n",
      "Epoch 3/20\n",
      "1300/1300 [==============================] - 15s 12ms/step - loss: 0.0013 - val_loss: 0.0021\n",
      "Epoch 4/20\n",
      "1300/1300 [==============================] - 16s 12ms/step - loss: 0.0014 - val_loss: 0.0015\n",
      "Epoch 5/20\n",
      "1300/1300 [==============================] - 15s 11ms/step - loss: 0.0013 - val_loss: 0.0025\n",
      "Epoch 6/20\n",
      "1300/1300 [==============================] - 15s 11ms/step - loss: 0.0012 - val_loss: 0.0015\n",
      "Epoch 7/20\n",
      "1300/1300 [==============================] - 15s 12ms/step - loss: 0.0013 - val_loss: 0.0017\n",
      "Epoch 8/20\n",
      "1300/1300 [==============================] - 15s 12ms/step - loss: 0.0012 - val_loss: 0.0044\n",
      "Epoch 9/20\n",
      "1300/1300 [==============================] - 16s 12ms/step - loss: 0.0011 - val_loss: 0.0014\n",
      "Epoch 10/20\n",
      "1300/1300 [==============================] - 16s 13ms/step - loss: 0.0011 - val_loss: 0.0019\n",
      "Epoch 11/20\n",
      "1300/1300 [==============================] - 16s 12ms/step - loss: 0.0011 - val_loss: 0.0014\n",
      "Epoch 12/20\n",
      "1300/1300 [==============================] - 16s 12ms/step - loss: 0.0013 - val_loss: 0.0013\n",
      "Epoch 13/20\n",
      "1300/1300 [==============================] - 16s 13ms/step - loss: 0.0011 - val_loss: 0.0013\n",
      "Epoch 14/20\n",
      "1300/1300 [==============================] - 16s 12ms/step - loss: 0.0011 - val_loss: 0.0021\n",
      "Epoch 15/20\n",
      "1300/1300 [==============================] - 16s 12ms/step - loss: 9.6025e-04 - val_loss: 0.0014\n",
      "Epoch 16/20\n",
      "1300/1300 [==============================] - 19s 14ms/step - loss: 9.8456e-04 - val_loss: 0.0017\n",
      "Epoch 17/20\n",
      "1300/1300 [==============================] - 18s 14ms/step - loss: 9.0785e-04 - val_loss: 0.0025\n",
      "Epoch 18/20\n",
      "1300/1300 [==============================] - 17s 13ms/step - loss: 8.9818e-04 - val_loss: 0.0015\n",
      "Epoch 19/20\n",
      "1300/1300 [==============================] - 16s 13ms/step - loss: 7.8645e-04 - val_loss: 0.0012\n",
      "Epoch 20/20\n",
      "1300/1300 [==============================] - 17s 13ms/step - loss: 8.4639e-04 - val_loss: 0.0012\n"
     ]
    }
   ],
   "source": [
    "history = model.fit(x_train, \n",
    "                    y_train, \n",
    "                    epochs = 20, \n",
    "                    batch_size=32,\n",
    "                    validation_data=(x_test, y_test)) #epochs = 100"
   ]
  },
  {
   "cell_type": "markdown",
   "metadata": {},
   "source": [
    "# Predict with x_train and x_test and inverse transform"
   ]
  },
  {
   "cell_type": "code",
   "execution_count": 16,
   "metadata": {},
   "outputs": [],
   "source": [
    "y_pred_test = scaler.inverse_transform(model.predict(x_test))\n",
    "y_pred_train = scaler.inverse_transform(model.predict(x_train))\n",
    "y_test_inverse = scaler.inverse_transform(y_test.reshape(-1,1))\n",
    "y_train_inverse = scaler.inverse_transform(y_train.reshape(-1,1))"
   ]
  },
  {
   "cell_type": "markdown",
   "metadata": {},
   "source": [
    "# Calculate the root mean squared error"
   ]
  },
  {
   "cell_type": "code",
   "execution_count": 17,
   "metadata": {},
   "outputs": [],
   "source": [
    "from sklearn.metrics import mean_squared_error"
   ]
  },
  {
   "cell_type": "code",
   "execution_count": 18,
   "metadata": {},
   "outputs": [
    {
     "name": "stdout",
     "output_type": "stream",
     "text": [
      "651/651 [==============================] - 2s 3ms/step\n"
     ]
    },
    {
     "data": {
      "text/plain": [
       "0.0012485417496261348"
      ]
     },
     "execution_count": 18,
     "metadata": {},
     "output_type": "execute_result"
    }
   ],
   "source": [
    "from sklearn.metrics import mean_squared_error\n",
    "mse_test = np.sqrt(mean_squared_error(y_test_inverse, \n",
    "                                      y_pred_test))\n",
    "mse_train = np.sqrt(mean_squared_error(y_train_inverse, \n",
    "                                       y_pred_train))\n",
    "model.evaluate(x_test, y_test)"
   ]
  },
  {
   "cell_type": "markdown",
   "metadata": {},
   "source": [
    "# Visualize the result (vstack and plt.plot)"
   ]
  },
  {
   "cell_type": "code",
   "execution_count": 23,
   "metadata": {},
   "outputs": [
    {
     "data": {
      "text/plain": [
       "<matplotlib.legend.Legend at 0x2b003be0488>"
      ]
     },
     "execution_count": 23,
     "metadata": {},
     "output_type": "execute_result"
    },
    {
     "data": {
      "image/png": "[encoded data removed]",
      "text/plain": [
       "<Figure size 1080x648 with 1 Axes>"
      ]
     },
     "metadata": {
      "needs_background": "light"
     },
     "output_type": "display_data"
    }
   ],
   "source": [
    "plt.figure(figsize=(15,9))\n",
    "plt.plot(np.vstack((y_train_inverse, y_test_inverse)), label='actual')\n",
    "plt.plot(np.vstack((y_pred_train, y_pred_test)), label='predicted')\n",
    "plt.legend()"
   ]
  },
  {
   "cell_type": "code",
   "execution_count": null,
   "metadata": {},
   "outputs": [],
   "source": []
  }
 ],
 "metadata": {
  "kernelspec": {
   "display_name": "Python 3",
   "language": "python",
   "name": "python3"
  },
  "language_info": {
   "codemirror_mode": {
    "name": "ipython",
    "version": 3
   },
   "file_extension": ".py",
   "mimetype": "text/x-python",
   "name": "python",
   "nbconvert_exporter": "python",
   "pygments_lexer": "ipython3",
   "version": "3.7.4"
  }
 },
 "nbformat": 4,
 "nbformat_minor": 2
}
