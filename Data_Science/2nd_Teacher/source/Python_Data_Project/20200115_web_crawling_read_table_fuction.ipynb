{
 "cells": [
  {
   "cell_type": "code",
   "execution_count": 1,
   "metadata": {
    "scrolled": true
   },
   "outputs": [
    {
     "data": {
      "text/plain": [
       "\"\\n* code: 종목코드\\n* fin_type = '0': 재무제표 종류 (0: 주재무제표, 1: GAAP개별, 2: GAAP연결, 3: IFRS별도, 4:IFRS연결)\\n* freq_type = 'Y': 기간 (Y:년, Q:분기)\\n\""
      ]
     },
     "execution_count": 1,
     "metadata": {},
     "output_type": "execute_result"
    }
   ],
   "source": [
    "from datetime import datetime\n",
    "import pandas as pd\n",
    "import requests\n",
    "from bs4 import BeautifulSoup\n",
    "\n",
    "'''\n",
    "get_date_str(s) - 문자열 s 에서 \"YYYY/MM\" 문자열 추출\n",
    "'''\n",
    "def get_date_str(s):\n",
    "    date_str = ''\n",
    "    r = re.search(\"\\d{4}/\\d{2}\", s)\n",
    "    if r:\n",
    "        date_str = r.group()\n",
    "        date_str = date_str.replace('/', '-')\n",
    "\n",
    "    return date_str\n",
    "\n",
    "'''\n",
    "* code: 종목코드\n",
    "* fin_type = '0': 재무제표 종류 (0: 주재무제표, 1: GAAP개별, 2: GAAP연결, 3: IFRS별도, 4:IFRS연결)\n",
    "* freq_type = 'Y': 기간 (Y:년, Q:분기)\n",
    "'''"
   ]
  },
  {
   "cell_type": "code",
   "execution_count": 2,
   "metadata": {},
   "outputs": [],
   "source": [
    "def get_finstate_naver(code, fin_type='0', freq_type='Y'):\n",
    "    url_tmpl = 'http://companyinfo.stock.naver.com/v1/company/ajax/cF1001.aspx?' \\\n",
    "                   'cmp_cd=%s&fin_typ=%s&freq_typ=%s'\n",
    "\n",
    "    url = url_tmpl % (code, fin_type, freq_type)\n",
    "    #print(url)\n",
    "\n",
    "    dfs = pd.read_html(url, encoding=\"utf-8\")\n",
    "    df = dfs[0]\n",
    "    if df.ix[0,0].find('해당 데이터가 존재하지 않습니다') >= 0:\n",
    "        return None\n",
    "\n",
    "    df.rename(columns={'주요재무정보':'date'}, inplace=True)\n",
    "    df.set_index('date', inplace=True)\n",
    "\n",
    "    cols = list(df.columns)\n",
    "    if '연간' in cols: cols.remove('연간')\n",
    "    if '분기' in cols: cols.remove('분기')\n",
    "    cols = [get_date_str(x) for x in cols]\n",
    "    df = df.ix[:, :-1]\n",
    "    df.columns = cols\n",
    "    dft = df.T\n",
    "    dft.index = pd.to_datetime(dft.index)\n",
    "\n",
    "    # remove if index is NaT\n",
    "    dft = dft[pd.notnull(dft.index)]\n",
    "    return dft"
   ]
  },
  {
   "cell_type": "code",
   "execution_count": null,
   "metadata": {},
   "outputs": [],
   "source": []
  }
 ],
 "metadata": {
  "kernelspec": {
   "display_name": "Python 3",
   "language": "python",
   "name": "python3"
  },
  "language_info": {
   "codemirror_mode": {
    "name": "ipython",
    "version": 3
   },
   "file_extension": ".py",
   "mimetype": "text/x-python",
   "name": "python",
   "nbconvert_exporter": "python",
   "pygments_lexer": "ipython3",
   "version": "3.7.3"
  }
 },
 "nbformat": 4,
 "nbformat_minor": 2
}
