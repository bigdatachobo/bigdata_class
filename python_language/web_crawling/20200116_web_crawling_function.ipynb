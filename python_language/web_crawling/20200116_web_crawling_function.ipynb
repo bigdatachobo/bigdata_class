{
 "cells": [
  {
   "cell_type": "code",
   "execution_count": 3,
   "metadata": {
    "scrolled": true
   },
   "outputs": [
    {
     "data": {
      "text/plain": [
       "[<img alt=\"Gallo, Feathers, Colorful, Animals, Ave\" src=\"https://cdn.pixabay.com/photo/2020/01/09/15/04/gallo-4752996__340.jpg\" srcset=\"https://cdn.pixabay.com/photo/2020/01/09/15/04/gallo-4752996__340.jpg 1x, https://cdn.pixabay.com/photo/2020/01/09/15/04/gallo-4752996__480.jpg 2x\"/>,\n",
       " <img alt=\"Blue Tit, Tit, Songbird, Bird\" src=\"https://cdn.pixabay.com/photo/2020/01/12/07/52/blue-tit-4759446__340.jpg\" srcset=\"https://cdn.pixabay.com/photo/2020/01/12/07/52/blue-tit-4759446__340.jpg 1x, https://cdn.pixabay.com/photo/2020/01/12/07/52/blue-tit-4759446__480.jpg 2x\"/>,\n",
       " <img alt=\"Animal, Butterfly, Insect, Animal World\" src=\"https://cdn.pixabay.com/photo/2020/01/04/21/21/animal-4741740__340.jpg\" srcset=\"https://cdn.pixabay.com/photo/2020/01/04/21/21/animal-4741740__340.jpg 1x, https://cdn.pixabay.com/photo/2020/01/04/21/21/animal-4741740__480.jpg 2x\"/>,\n",
       " <img alt=\"Poultry, Gallo, Hen, Partridge, Animals\" src=\"https://cdn.pixabay.com/photo/2020/01/06/18/59/poultry-4745997__340.jpg\" srcset=\"https://cdn.pixabay.com/photo/2020/01/06/18/59/poultry-4745997__340.jpg 1x, https://cdn.pixabay.com/photo/2020/01/06/18/59/poultry-4745997__480.jpg 2x\"/>,\n",
       " <img alt=\"Kookaburra, Bird, Australia, Kingfisher\" src=\"https://cdn.pixabay.com/photo/2020/01/12/22/04/kookaburra-4761218__340.jpg\" srcset=\"https://cdn.pixabay.com/photo/2020/01/12/22/04/kookaburra-4761218__340.jpg 1x, https://cdn.pixabay.com/photo/2020/01/12/22/04/kookaburra-4761218__480.jpg 2x\"/>,\n",
       " <img alt=\"Butterfly, Tropical Butterfly, Exotic\" src=\"https://cdn.pixabay.com/photo/2020/01/11/05/18/butterfly-4756682__340.jpg\" srcset=\"https://cdn.pixabay.com/photo/2020/01/11/05/18/butterfly-4756682__340.jpg 1x, https://cdn.pixabay.com/photo/2020/01/11/05/18/butterfly-4756682__480.jpg 2x\"/>,\n",
       " <img alt=\"Forest, Elephant, Animals, Nature\" src=\"https://cdn.pixabay.com/photo/2020/01/13/13/59/forest-4762469__340.jpg\" srcset=\"https://cdn.pixabay.com/photo/2020/01/13/13/59/forest-4762469__340.jpg 1x, https://cdn.pixabay.com/photo/2020/01/13/13/59/forest-4762469__480.jpg 2x\"/>,\n",
       " <img alt=\"Butterfly, Owl Butterfly, Edelfalter\" src=\"https://cdn.pixabay.com/photo/2020/01/12/23/14/butterfly-4761299__340.jpg\" srcset=\"https://cdn.pixabay.com/photo/2020/01/12/23/14/butterfly-4761299__340.jpg 1x, https://cdn.pixabay.com/photo/2020/01/12/23/14/butterfly-4761299__480.jpg 2x\"/>,\n",
       " <img alt=\"Night, Darkness, Night Sky, Star, Moon\" src=\"https://cdn.pixabay.com/photo/2020/01/13/20/20/night-4763437__340.jpg\" srcset=\"https://cdn.pixabay.com/photo/2020/01/13/20/20/night-4763437__340.jpg 1x, https://cdn.pixabay.com/photo/2020/01/13/20/20/night-4763437__480.jpg 2x\"/>,\n",
       " <img alt=\"Mallard, Poultry, Bird, Water Bird\" src=\"https://cdn.pixabay.com/photo/2020/01/12/17/28/mallard-4760554__340.jpg\" srcset=\"https://cdn.pixabay.com/photo/2020/01/12/17/28/mallard-4760554__340.jpg 1x, https://cdn.pixabay.com/photo/2020/01/12/17/28/mallard-4760554__480.jpg 2x\"/>,\n",
       " <img alt=\"Goose, Water Bird, Wild Goose, Animal\" src=\"https://cdn.pixabay.com/photo/2020/01/12/18/14/goose-4760690__340.jpg\" srcset=\"https://cdn.pixabay.com/photo/2020/01/12/18/14/goose-4760690__340.jpg 1x, https://cdn.pixabay.com/photo/2020/01/12/18/14/goose-4760690__480.jpg 2x\"/>,\n",
       " <img alt=\"Flowers, Bee, Insects, Garden, Plant\" src=\"https://cdn.pixabay.com/photo/2020/01/12/18/10/flowers-4760675__340.jpg\" srcset=\"https://cdn.pixabay.com/photo/2020/01/12/18/10/flowers-4760675__340.jpg 1x, https://cdn.pixabay.com/photo/2020/01/12/18/10/flowers-4760675__480.jpg 2x\"/>,\n",
       " <img alt=\"Crow, Animal, Common Raven, Raven, Snow\" src=\"https://cdn.pixabay.com/photo/2020/01/12/20/35/crow-4761029__340.jpg\" srcset=\"https://cdn.pixabay.com/photo/2020/01/12/20/35/crow-4761029__340.jpg 1x, https://cdn.pixabay.com/photo/2020/01/12/20/35/crow-4761029__480.jpg 2x\"/>,\n",
       " <img alt=\"Canary, Songbird, Bird, Bill, Animal\" src=\"https://cdn.pixabay.com/photo/2020/01/12/09/18/canary-4759562__340.jpg\" srcset=\"https://cdn.pixabay.com/photo/2020/01/12/09/18/canary-4759562__340.jpg 1x, https://cdn.pixabay.com/photo/2020/01/12/09/18/canary-4759562__480.jpg 2x\"/>,\n",
       " <img alt=\"Mallard, Poultry, Bird, Water Bird\" src=\"https://cdn.pixabay.com/photo/2020/01/12/18/30/mallard-4760757__340.jpg\" srcset=\"https://cdn.pixabay.com/photo/2020/01/12/18/30/mallard-4760757__340.jpg 1x, https://cdn.pixabay.com/photo/2020/01/12/18/30/mallard-4760757__480.jpg 2x\"/>,\n",
       " <img alt=\"Butterfly, Insect, Nature, Wing, Animal\" src=\"https://cdn.pixabay.com/photo/2020/01/12/23/46/butterfly-4761326__340.jpg\" srcset=\"https://cdn.pixabay.com/photo/2020/01/12/23/46/butterfly-4761326__340.jpg 1x, https://cdn.pixabay.com/photo/2020/01/12/23/46/butterfly-4761326__480.jpg 2x\"/>,\n",
       " <img alt=\"Gallo, Feathers, Animals, Farm, Birds\" data-lazy=\"https://cdn.pixabay.com/photo/2020/01/09/15/04/gallo-4752993__340.jpg\" data-lazy-srcset=\"https://cdn.pixabay.com/photo/2020/01/09/15/04/gallo-4752993__340.jpg 1x, https://cdn.pixabay.com/photo/2020/01/09/15/04/gallo-4752993__480.jpg 2x\" src=\"/static/img/blank.gif\"/>,\n",
       " <img alt=\"Butterfly, Restharrow'S Blue\" data-lazy=\"https://cdn.pixabay.com/photo/2020/01/12/16/45/butterfly-4760408__340.jpg\" data-lazy-srcset=\"https://cdn.pixabay.com/photo/2020/01/12/16/45/butterfly-4760408__340.jpg 1x, https://cdn.pixabay.com/photo/2020/01/12/16/45/butterfly-4760408__480.jpg 2x\" src=\"/static/img/blank.gif\"/>,\n",
       " <img alt=\"Gulls, Birds, Flying, Sky, Animal\" data-lazy=\"https://cdn.pixabay.com/photo/2020/01/12/17/48/gulls-4760590__340.jpg\" data-lazy-srcset=\"https://cdn.pixabay.com/photo/2020/01/12/17/48/gulls-4760590__340.jpg 1x, https://cdn.pixabay.com/photo/2020/01/12/17/48/gulls-4760590__480.jpg 2x\" src=\"/static/img/blank.gif\"/>,\n",
       " <img alt=\"Butterfly, Tropical Butterfly, Exotic\" data-lazy=\"https://cdn.pixabay.com/photo/2020/01/13/19/18/butterfly-4763278__340.jpg\" data-lazy-srcset=\"https://cdn.pixabay.com/photo/2020/01/13/19/18/butterfly-4763278__340.jpg 1x, https://cdn.pixabay.com/photo/2020/01/13/19/18/butterfly-4763278__480.jpg 2x\" src=\"/static/img/blank.gif\"/>,\n",
       " <img alt=\"Butterfly, Owl Butterfly, Edelfalter\" data-lazy=\"https://cdn.pixabay.com/photo/2020/01/12/23/34/butterfly-4761321__340.jpg\" data-lazy-srcset=\"https://cdn.pixabay.com/photo/2020/01/12/23/34/butterfly-4761321__340.jpg 1x, https://cdn.pixabay.com/photo/2020/01/12/23/34/butterfly-4761321__480.jpg 2x\" src=\"/static/img/blank.gif\"/>,\n",
       " <img alt=\"Animal World, Bird, Stork\" data-lazy=\"https://cdn.pixabay.com/photo/2020/01/11/14/36/animal-world-4757704__340.jpg\" data-lazy-srcset=\"https://cdn.pixabay.com/photo/2020/01/11/14/36/animal-world-4757704__340.jpg 1x, https://cdn.pixabay.com/photo/2020/01/11/14/36/animal-world-4757704__480.jpg 2x\" src=\"/static/img/blank.gif\"/>,\n",
       " <img alt=\"Blue Tit, Tit, Songbird, Bird\" data-lazy=\"https://cdn.pixabay.com/photo/2019/12/31/10/56/blue-tit-4731661__340.jpg\" data-lazy-srcset=\"https://cdn.pixabay.com/photo/2019/12/31/10/56/blue-tit-4731661__340.jpg 1x, https://cdn.pixabay.com/photo/2019/12/31/10/56/blue-tit-4731661__480.jpg 2x\" src=\"/static/img/blank.gif\"/>,\n",
       " <img alt=\"Goose, Water Bird, Wild Goose, Animal\" data-lazy=\"https://cdn.pixabay.com/photo/2020/01/12/18/49/goose-4760821__340.jpg\" data-lazy-srcset=\"https://cdn.pixabay.com/photo/2020/01/12/18/49/goose-4760821__340.jpg 1x, https://cdn.pixabay.com/photo/2020/01/12/18/49/goose-4760821__480.jpg 2x\" src=\"/static/img/blank.gif\"/>,\n",
       " <img alt=\"Dove, Ringdove, Bird, Bill, Branch\" data-lazy=\"https://cdn.pixabay.com/photo/2020/01/05/13/45/dove-4743214__340.jpg\" data-lazy-srcset=\"https://cdn.pixabay.com/photo/2020/01/05/13/45/dove-4743214__340.jpg 1x, https://cdn.pixabay.com/photo/2020/01/05/13/45/dove-4743214__480.jpg 2x\" src=\"/static/img/blank.gif\"/>,\n",
       " <img alt=\"Lizard, Colorful, Head, View, Exotic\" data-lazy=\"https://cdn.pixabay.com/photo/2020/01/13/19/43/lizard-4763351__340.jpg\" data-lazy-srcset=\"https://cdn.pixabay.com/photo/2020/01/13/19/43/lizard-4763351__340.jpg 1x, https://cdn.pixabay.com/photo/2020/01/13/19/43/lizard-4763351__480.jpg 2x\" src=\"/static/img/blank.gif\"/>,\n",
       " <img alt=\"Goose, Wild Bird, Wild Goose, Water Bird\" data-lazy=\"https://cdn.pixabay.com/photo/2020/01/12/20/13/goose-4760980__340.jpg\" data-lazy-srcset=\"https://cdn.pixabay.com/photo/2020/01/12/20/13/goose-4760980__340.jpg 1x, https://cdn.pixabay.com/photo/2020/01/12/20/13/goose-4760980__480.jpg 2x\" src=\"/static/img/blank.gif\"/>,\n",
       " <img alt=\"Squirrel, Verifiable Kitten, Rodent\" data-lazy=\"https://cdn.pixabay.com/photo/2020/01/12/06/53/squirrel-4759344__340.jpg\" data-lazy-srcset=\"https://cdn.pixabay.com/photo/2020/01/12/06/53/squirrel-4759344__340.jpg 1x, https://cdn.pixabay.com/photo/2020/01/12/06/53/squirrel-4759344__480.jpg 2x\" src=\"/static/img/blank.gif\"/>,\n",
       " <img alt=\"Koala, Marsupial, Herbivore, Arboreal\" data-lazy=\"https://cdn.pixabay.com/photo/2020/01/11/11/04/koala-4757210__340.jpg\" data-lazy-srcset=\"https://cdn.pixabay.com/photo/2020/01/11/11/04/koala-4757210__340.jpg 1x, https://cdn.pixabay.com/photo/2020/01/11/11/04/koala-4757210__480.jpg 2x\" src=\"/static/img/blank.gif\"/>,\n",
       " <img alt=\"Schwalbenschwänzchen, Butterfly\" data-lazy=\"https://cdn.pixabay.com/photo/2020/01/06/12/39/schwalbenschwanzchen-4745262__340.jpg\" data-lazy-srcset=\"https://cdn.pixabay.com/photo/2020/01/06/12/39/schwalbenschwanzchen-4745262__340.jpg 1x, https://cdn.pixabay.com/photo/2020/01/06/12/39/schwalbenschwanzchen-4745262__480.jpg 2x\" src=\"/static/img/blank.gif\"/>,\n",
       " <img alt=\"Schwalbenschwänzchen, Butterfly\" data-lazy=\"https://cdn.pixabay.com/photo/2020/01/06/11/51/schwalbenschwanzchen-4745180__340.jpg\" data-lazy-srcset=\"https://cdn.pixabay.com/photo/2020/01/06/11/51/schwalbenschwanzchen-4745180__340.jpg 1x, https://cdn.pixabay.com/photo/2020/01/06/11/51/schwalbenschwanzchen-4745180__480.jpg 2x\" src=\"/static/img/blank.gif\"/>,\n",
       " <img alt=\"Gallo, Poultry, Birds, Plumage, Colorful\" data-lazy=\"https://cdn.pixabay.com/photo/2020/01/09/15/04/gallo-4752992__340.jpg\" data-lazy-srcset=\"https://cdn.pixabay.com/photo/2020/01/09/15/04/gallo-4752992__340.jpg 1x, https://cdn.pixabay.com/photo/2020/01/09/15/04/gallo-4752992__480.jpg 2x\" src=\"/static/img/blank.gif\"/>,\n",
       " <img alt=\"Butterfly, Tropical Butterfly, Exotic\" data-lazy=\"https://cdn.pixabay.com/photo/2020/01/06/11/49/butterfly-4745166__340.jpg\" data-lazy-srcset=\"https://cdn.pixabay.com/photo/2020/01/06/11/49/butterfly-4745166__340.jpg 1x, https://cdn.pixabay.com/photo/2020/01/06/11/49/butterfly-4745166__480.jpg 2x\" src=\"/static/img/blank.gif\"/>,\n",
       " <img alt=\"Thistle, Common Donkey Thistle\" data-lazy=\"https://cdn.pixabay.com/photo/2020/01/05/09/03/thistle-4742607__340.jpg\" data-lazy-srcset=\"https://cdn.pixabay.com/photo/2020/01/05/09/03/thistle-4742607__340.jpg 1x, https://cdn.pixabay.com/photo/2020/01/05/09/03/thistle-4742607__480.jpg 2x\" src=\"/static/img/blank.gif\"/>,\n",
       " <img alt=\"Hens, Chicken Coop, Poultry, Feathers\" data-lazy=\"https://cdn.pixabay.com/photo/2020/01/09/16/55/hens-4753298__340.jpg\" data-lazy-srcset=\"https://cdn.pixabay.com/photo/2020/01/09/16/55/hens-4753298__340.jpg 1x, https://cdn.pixabay.com/photo/2020/01/09/16/55/hens-4753298__480.jpg 2x\" src=\"/static/img/blank.gif\"/>,\n",
       " <img alt=\"Animal, Bird, Songbird, Robin\" data-lazy=\"https://cdn.pixabay.com/photo/2020/01/08/22/15/animal-4751406__340.jpg\" data-lazy-srcset=\"https://cdn.pixabay.com/photo/2020/01/08/22/15/animal-4751406__340.jpg 1x, https://cdn.pixabay.com/photo/2020/01/08/22/15/animal-4751406__480.jpg 2x\" src=\"/static/img/blank.gif\"/>,\n",
       " <img alt=\"Koala, Marsupial, Herbivore, Arboreal\" data-lazy=\"https://cdn.pixabay.com/photo/2020/01/11/11/01/koala-4757207__340.jpg\" data-lazy-srcset=\"https://cdn.pixabay.com/photo/2020/01/11/11/01/koala-4757207__340.jpg 1x, https://cdn.pixabay.com/photo/2020/01/11/11/01/koala-4757207__480.jpg 2x\" src=\"/static/img/blank.gif\"/>,\n",
       " <img alt=\"Duck, Mallard, Duck Head, Bill\" data-lazy=\"https://cdn.pixabay.com/photo/2020/01/12/18/25/duck-4760731__340.jpg\" data-lazy-srcset=\"https://cdn.pixabay.com/photo/2020/01/12/18/25/duck-4760731__340.jpg 1x, https://cdn.pixabay.com/photo/2020/01/12/18/25/duck-4760731__480.jpg 2x\" src=\"/static/img/blank.gif\"/>,\n",
       " <img alt=\"Cat, Cat'S Eyes, Tortoise Shell, Pet\" data-lazy=\"https://cdn.pixabay.com/photo/2020/01/12/18/25/cat-4760729__340.jpg\" data-lazy-srcset=\"https://cdn.pixabay.com/photo/2020/01/12/18/25/cat-4760729__340.jpg 1x, https://cdn.pixabay.com/photo/2020/01/12/18/25/cat-4760729__480.jpg 2x\" src=\"/static/img/blank.gif\"/>,\n",
       " <img alt=\"Fox, Mammal, Animal, Nature, Cute\" data-lazy=\"https://cdn.pixabay.com/photo/2019/10/30/16/19/fox-4589927__340.jpg\" data-lazy-srcset=\"https://cdn.pixabay.com/photo/2019/10/30/16/19/fox-4589927__340.jpg 1x, https://cdn.pixabay.com/photo/2019/10/30/16/19/fox-4589927__480.jpg 2x\" src=\"/static/img/blank.gif\"/>,\n",
       " <img alt=\"Schwalbenschwänzchen, Butterfly\" data-lazy=\"https://cdn.pixabay.com/photo/2020/01/06/14/26/schwalbenschwanzchen-4745478__340.jpg\" data-lazy-srcset=\"https://cdn.pixabay.com/photo/2020/01/06/14/26/schwalbenschwanzchen-4745478__340.jpg 1x, https://cdn.pixabay.com/photo/2020/01/06/14/26/schwalbenschwanzchen-4745478__480.jpg 2x\" src=\"/static/img/blank.gif\"/>,\n",
       " <img alt=\"Butterfly, Tropical Butterfly, Exotic\" data-lazy=\"https://cdn.pixabay.com/photo/2019/12/24/05/59/butterfly-4716054__340.jpg\" data-lazy-srcset=\"https://cdn.pixabay.com/photo/2019/12/24/05/59/butterfly-4716054__340.jpg 1x, https://cdn.pixabay.com/photo/2019/12/24/05/59/butterfly-4716054__480.jpg 2x\" src=\"/static/img/blank.gif\"/>,\n",
       " <img alt=\"Owls, Birds, Animals, Ribbons, Sign\" data-lazy=\"https://cdn.pixabay.com/photo/2020/01/11/23/53/owls-4758956__340.png\" data-lazy-srcset=\"https://cdn.pixabay.com/photo/2020/01/11/23/53/owls-4758956__340.png 1x, https://cdn.pixabay.com/photo/2020/01/11/23/53/owls-4758956__480.png 2x\" src=\"/static/img/blank.gif\"/>,\n",
       " <img alt=\"Koala, Marsupial, Herbivore, Arboreal\" data-lazy=\"https://cdn.pixabay.com/photo/2020/01/11/09/58/koala-4757068__340.jpg\" data-lazy-srcset=\"https://cdn.pixabay.com/photo/2020/01/11/09/58/koala-4757068__340.jpg 1x, https://cdn.pixabay.com/photo/2020/01/11/09/58/koala-4757068__480.jpg 2x\" src=\"/static/img/blank.gif\"/>,\n",
       " <img alt=\"Butterfly, Tropical Butterfly, Exotic\" data-lazy=\"https://cdn.pixabay.com/photo/2020/01/06/11/51/butterfly-4745183__340.jpg\" data-lazy-srcset=\"https://cdn.pixabay.com/photo/2020/01/06/11/51/butterfly-4745183__340.jpg 1x, https://cdn.pixabay.com/photo/2020/01/06/11/51/butterfly-4745183__480.jpg 2x\" src=\"/static/img/blank.gif\"/>,\n",
       " <img alt=\"Darownik Wonderful, Female, Spider\" data-lazy=\"https://cdn.pixabay.com/photo/2020/01/13/19/12/darownik-wonderful-4763255__340.jpg\" data-lazy-srcset=\"https://cdn.pixabay.com/photo/2020/01/13/19/12/darownik-wonderful-4763255__340.jpg 1x, https://cdn.pixabay.com/photo/2020/01/13/19/12/darownik-wonderful-4763255__480.jpg 2x\" src=\"/static/img/blank.gif\"/>,\n",
       " <img alt=\"Horse, Landscape, Meadow, Mold, Sun\" data-lazy=\"https://cdn.pixabay.com/photo/2020/01/13/15/18/horse-4762657__340.jpg\" data-lazy-srcset=\"https://cdn.pixabay.com/photo/2020/01/13/15/18/horse-4762657__340.jpg 1x, https://cdn.pixabay.com/photo/2020/01/13/15/18/horse-4762657__480.jpg 2x\" src=\"/static/img/blank.gif\"/>,\n",
       " <img alt=\"Butterfly, Insect, Butterflies, Close Up\" data-lazy=\"https://cdn.pixabay.com/photo/2020/01/12/15/11/butterfly-4760201__340.jpg\" data-lazy-srcset=\"https://cdn.pixabay.com/photo/2020/01/12/15/11/butterfly-4760201__340.jpg 1x, https://cdn.pixabay.com/photo/2020/01/12/15/11/butterfly-4760201__480.jpg 2x\" src=\"/static/img/blank.gif\"/>,\n",
       " <img alt=\"Owl, Plumage, Animal World, Animal\" data-lazy=\"https://cdn.pixabay.com/photo/2020/01/11/21/31/owl-4758745__340.jpg\" data-lazy-srcset=\"https://cdn.pixabay.com/photo/2020/01/11/21/31/owl-4758745__340.jpg 1x, https://cdn.pixabay.com/photo/2020/01/11/21/31/owl-4758745__480.jpg 2x\" src=\"/static/img/blank.gif\"/>,\n",
       " <img alt=\"Bee, Honey Bee, Insect, Aster, Blossom\" data-lazy=\"https://cdn.pixabay.com/photo/2020/01/01/11/59/bee-4733467__340.jpg\" data-lazy-srcset=\"https://cdn.pixabay.com/photo/2020/01/01/11/59/bee-4733467__340.jpg 1x, https://cdn.pixabay.com/photo/2020/01/01/11/59/bee-4733467__480.jpg 2x\" src=\"/static/img/blank.gif\"/>,\n",
       " <img alt=\"Kaczor, Wet, Bird, Portrait, Eyes, Pen\" data-lazy=\"https://cdn.pixabay.com/photo/2020/01/09/23/44/kaczor-4754187__340.jpg\" data-lazy-srcset=\"https://cdn.pixabay.com/photo/2020/01/09/23/44/kaczor-4754187__340.jpg 1x, https://cdn.pixabay.com/photo/2020/01/09/23/44/kaczor-4754187__480.jpg 2x\" src=\"/static/img/blank.gif\"/>,\n",
       " <img alt=\"Animal World, Butterfly, Flying, Wing\" data-lazy=\"https://cdn.pixabay.com/photo/2020/01/03/15/32/animal-world-4738408__340.png\" data-lazy-srcset=\"https://cdn.pixabay.com/photo/2020/01/03/15/32/animal-world-4738408__340.png 1x, https://cdn.pixabay.com/photo/2020/01/03/15/32/animal-world-4738408__480.png 2x\" src=\"/static/img/blank.gif\"/>,\n",
       " <img alt=\"Owl, Birds, Silhouette, Animal, Line Art\" data-lazy=\"https://cdn.pixabay.com/photo/2020/01/14/01/00/owl-4763843__340.png\" data-lazy-srcset=\"https://cdn.pixabay.com/photo/2020/01/14/01/00/owl-4763843__340.png 1x, https://cdn.pixabay.com/photo/2020/01/14/01/00/owl-4763843__480.png 2x\" src=\"/static/img/blank.gif\"/>,\n",
       " <img alt=\"Garden, Caterpillar, Dovetail, Nature\" data-lazy=\"https://cdn.pixabay.com/photo/2020/01/11/15/27/garden-4757876__340.jpg\" data-lazy-srcset=\"https://cdn.pixabay.com/photo/2020/01/11/15/27/garden-4757876__340.jpg 1x, https://cdn.pixabay.com/photo/2020/01/11/15/27/garden-4757876__480.jpg 2x\" src=\"/static/img/blank.gif\"/>,\n",
       " <img alt=\"Rhinoceros Ratsnakes, Natter, Reptile\" data-lazy=\"https://cdn.pixabay.com/photo/2020/01/13/19/43/rhinoceros-ratsnakes-4763354__340.jpg\" data-lazy-srcset=\"https://cdn.pixabay.com/photo/2020/01/13/19/43/rhinoceros-ratsnakes-4763354__340.jpg 1x, https://cdn.pixabay.com/photo/2020/01/13/19/43/rhinoceros-ratsnakes-4763354__480.jpg 2x\" src=\"/static/img/blank.gif\"/>,\n",
       " <img alt=\"Swans, Para, Water Birds, Sunrise\" data-lazy=\"https://cdn.pixabay.com/photo/2020/01/12/19/00/swans-4760832__340.jpg\" data-lazy-srcset=\"https://cdn.pixabay.com/photo/2020/01/12/19/00/swans-4760832__340.jpg 1x, https://cdn.pixabay.com/photo/2020/01/12/19/00/swans-4760832__480.jpg 2x\" src=\"/static/img/blank.gif\"/>,\n",
       " <img alt=\"Butterfly, Tropical Butterfly, Exotic\" data-lazy=\"https://cdn.pixabay.com/photo/2020/01/06/13/52/butterfly-4745417__340.jpg\" data-lazy-srcset=\"https://cdn.pixabay.com/photo/2020/01/06/13/52/butterfly-4745417__340.jpg 1x, https://cdn.pixabay.com/photo/2020/01/06/13/52/butterfly-4745417__480.jpg 2x\" src=\"/static/img/blank.gif\"/>,\n",
       " <img alt=\"Koala, Illustration, Animal, Art\" data-lazy=\"https://cdn.pixabay.com/photo/2020/01/12/02/56/koala-4759178__340.jpg\" data-lazy-srcset=\"https://cdn.pixabay.com/photo/2020/01/12/02/56/koala-4759178__340.jpg 1x, https://cdn.pixabay.com/photo/2020/01/12/02/56/koala-4759178__480.jpg 2x\" src=\"/static/img/blank.gif\"/>,\n",
       " <img alt=\"Animals, Bird, Ara, Animal World, Wing\" data-lazy=\"https://cdn.pixabay.com/photo/2020/01/03/22/57/animals-4739323__340.jpg\" data-lazy-srcset=\"https://cdn.pixabay.com/photo/2020/01/03/22/57/animals-4739323__340.jpg 1x, https://cdn.pixabay.com/photo/2020/01/03/22/57/animals-4739323__480.jpg 2x\" src=\"/static/img/blank.gif\"/>,\n",
       " <img alt=\"Butterfly, Beauty, Park, Nature\" data-lazy=\"https://cdn.pixabay.com/photo/2020/01/12/14/53/butterfly-4760153__340.jpg\" data-lazy-srcset=\"https://cdn.pixabay.com/photo/2020/01/12/14/53/butterfly-4760153__340.jpg 1x, https://cdn.pixabay.com/photo/2020/01/12/14/53/butterfly-4760153__480.jpg 2x\" src=\"/static/img/blank.gif\"/>,\n",
       " <img alt=\"Animal World, Monkey, Baboon\" data-lazy=\"https://cdn.pixabay.com/photo/2020/01/11/14/36/animal-world-4757705__340.jpg\" data-lazy-srcset=\"https://cdn.pixabay.com/photo/2020/01/11/14/36/animal-world-4757705__340.jpg 1x, https://cdn.pixabay.com/photo/2020/01/11/14/36/animal-world-4757705__480.jpg 2x\" src=\"/static/img/blank.gif\"/>,\n",
       " <img alt=\"Merry Swan, Lake, Winter, Snow, The Fog\" data-lazy=\"https://cdn.pixabay.com/photo/2020/01/10/02/35/merry-swan-4754338__340.jpg\" data-lazy-srcset=\"https://cdn.pixabay.com/photo/2020/01/10/02/35/merry-swan-4754338__340.jpg 1x, https://cdn.pixabay.com/photo/2020/01/10/02/35/merry-swan-4754338__480.jpg 2x\" src=\"/static/img/blank.gif\"/>,\n",
       " <img alt=\"Walking, Bird, Stick, Wood\" data-lazy=\"https://cdn.pixabay.com/photo/2020/01/11/15/41/walking-4757902__340.jpg\" data-lazy-srcset=\"https://cdn.pixabay.com/photo/2020/01/11/15/41/walking-4757902__340.jpg 1x, https://cdn.pixabay.com/photo/2020/01/11/15/41/walking-4757902__480.jpg 2x\" src=\"/static/img/blank.gif\"/>,\n",
       " <img alt=\"Cat, Cat'S Eyes, Mackerel, Domestic Cat\" data-lazy=\"https://cdn.pixabay.com/photo/2020/01/09/16/40/cat-4753271__340.jpg\" data-lazy-srcset=\"https://cdn.pixabay.com/photo/2020/01/09/16/40/cat-4753271__340.jpg 1x, https://cdn.pixabay.com/photo/2020/01/09/16/40/cat-4753271__480.jpg 2x\" src=\"/static/img/blank.gif\"/>,\n",
       " <img alt=\"Red Fox, Fuchs, Wild Animal, Predator\" data-lazy=\"https://cdn.pixabay.com/photo/2019/12/27/05/54/red-fox-4721735__340.jpg\" data-lazy-srcset=\"https://cdn.pixabay.com/photo/2019/12/27/05/54/red-fox-4721735__340.jpg 1x, https://cdn.pixabay.com/photo/2019/12/27/05/54/red-fox-4721735__480.jpg 2x\" src=\"/static/img/blank.gif\"/>,\n",
       " <img alt=\"Animal, Bird, Songbird, Tit\" data-lazy=\"https://cdn.pixabay.com/photo/2020/01/08/22/11/animal-4751394__340.jpg\" data-lazy-srcset=\"https://cdn.pixabay.com/photo/2020/01/08/22/11/animal-4751394__340.jpg 1x, https://cdn.pixabay.com/photo/2020/01/08/22/11/animal-4751394__480.jpg 2x\" src=\"/static/img/blank.gif\"/>,\n",
       " <img alt=\"Animal, Wood, Green, Bird, Wild Birds\" data-lazy=\"https://cdn.pixabay.com/photo/2020/01/10/07/04/animal-4754637__340.jpg\" data-lazy-srcset=\"https://cdn.pixabay.com/photo/2020/01/10/07/04/animal-4754637__340.jpg 1x, https://cdn.pixabay.com/photo/2020/01/10/07/04/animal-4754637__480.jpg 2x\" src=\"/static/img/blank.gif\"/>,\n",
       " <img alt=\"Red Fox, Fuchs, Wild Animal, Predator\" data-lazy=\"https://cdn.pixabay.com/photo/2020/01/03/11/54/red-fox-4737937__340.jpg\" data-lazy-srcset=\"https://cdn.pixabay.com/photo/2020/01/03/11/54/red-fox-4737937__340.jpg 1x, https://cdn.pixabay.com/photo/2020/01/03/11/54/red-fox-4737937__480.jpg 2x\" src=\"/static/img/blank.gif\"/>,\n",
       " <img alt=\"Penguin, Figure, Deco, Decoration, Love\" data-lazy=\"https://cdn.pixabay.com/photo/2020/01/01/11/24/penguin-4733379__340.jpg\" data-lazy-srcset=\"https://cdn.pixabay.com/photo/2020/01/01/11/24/penguin-4733379__340.jpg 1x, https://cdn.pixabay.com/photo/2020/01/01/11/24/penguin-4733379__480.jpg 2x\" src=\"/static/img/blank.gif\"/>,\n",
       " <img alt=\"Animal, Forest, River, Wood, Bird\" data-lazy=\"https://cdn.pixabay.com/photo/2020/01/11/15/05/animal-4757791__340.jpg\" data-lazy-srcset=\"https://cdn.pixabay.com/photo/2020/01/11/15/05/animal-4757791__340.jpg 1x, https://cdn.pixabay.com/photo/2020/01/11/15/05/animal-4757791__480.jpg 2x\" src=\"/static/img/blank.gif\"/>,\n",
       " <img alt=\"Blackbird, Bird, Winter, Hoarfrost\" data-lazy=\"https://cdn.pixabay.com/photo/2019/12/05/16/54/blackbird-4675637__340.jpg\" data-lazy-srcset=\"https://cdn.pixabay.com/photo/2019/12/05/16/54/blackbird-4675637__340.jpg 1x, https://cdn.pixabay.com/photo/2019/12/05/16/54/blackbird-4675637__480.jpg 2x\" src=\"/static/img/blank.gif\"/>,\n",
       " <img alt=\"Koala, Marsupial, Herbivore, Arboreal\" data-lazy=\"https://cdn.pixabay.com/photo/2020/01/11/10/01/koala-4757090__340.jpg\" data-lazy-srcset=\"https://cdn.pixabay.com/photo/2020/01/11/10/01/koala-4757090__340.jpg 1x, https://cdn.pixabay.com/photo/2020/01/11/10/01/koala-4757090__480.jpg 2x\" src=\"/static/img/blank.gif\"/>,\n",
       " <img alt=\"Koala, Marsupial, Herbivore, Arboreal\" data-lazy=\"https://cdn.pixabay.com/photo/2020/01/11/10/00/koala-4757078__340.jpg\" data-lazy-srcset=\"https://cdn.pixabay.com/photo/2020/01/11/10/00/koala-4757078__340.jpg 1x, https://cdn.pixabay.com/photo/2020/01/11/10/00/koala-4757078__480.jpg 2x\" src=\"/static/img/blank.gif\"/>,\n",
       " <img alt=\"Black And White, Magpie Lark, Mudlark\" data-lazy=\"https://cdn.pixabay.com/photo/2020/01/13/20/53/black-and-white-4763544__340.jpg\" data-lazy-srcset=\"https://cdn.pixabay.com/photo/2020/01/13/20/53/black-and-white-4763544__340.jpg 1x, https://cdn.pixabay.com/photo/2020/01/13/20/53/black-and-white-4763544__480.jpg 2x\" src=\"/static/img/blank.gif\"/>,\n",
       " <img alt=\"Dahlia, Flower, Bee, Insect, Flora\" data-lazy=\"https://cdn.pixabay.com/photo/2020/01/12/16/21/dahlia-4760349__340.jpg\" data-lazy-srcset=\"https://cdn.pixabay.com/photo/2020/01/12/16/21/dahlia-4760349__340.jpg 1x, https://cdn.pixabay.com/photo/2020/01/12/16/21/dahlia-4760349__480.jpg 2x\" src=\"/static/img/blank.gif\"/>,\n",
       " <img alt=\"Cat, Small, Kitten, Domestic Cat, Pet\" data-lazy=\"https://cdn.pixabay.com/photo/2019/11/08/11/56/cat-4611189__340.jpg\" data-lazy-srcset=\"https://cdn.pixabay.com/photo/2019/11/08/11/56/cat-4611189__340.jpg 1x, https://cdn.pixabay.com/photo/2019/11/08/11/56/cat-4611189__480.jpg 2x\" src=\"/static/img/blank.gif\"/>,\n",
       " <img alt=\"Goat, Livestock, Animal, Farm, Horns\" data-lazy=\"https://cdn.pixabay.com/photo/2020/01/11/20/57/goat-4758688__340.jpg\" data-lazy-srcset=\"https://cdn.pixabay.com/photo/2020/01/11/20/57/goat-4758688__340.jpg 1x, https://cdn.pixabay.com/photo/2020/01/11/20/57/goat-4758688__480.jpg 2x\" src=\"/static/img/blank.gif\"/>,\n",
       " <img alt=\"Nature, Forest, Trees, Atmospheric, Tree\" data-lazy=\"https://cdn.pixabay.com/photo/2020/01/04/02/04/nature-4739559__340.jpg\" data-lazy-srcset=\"https://cdn.pixabay.com/photo/2020/01/04/02/04/nature-4739559__340.jpg 1x, https://cdn.pixabay.com/photo/2020/01/04/02/04/nature-4739559__480.jpg 2x\" src=\"/static/img/blank.gif\"/>,\n",
       " <img alt=\"Butterfly, Mushroom, Moss, Forest\" data-lazy=\"https://cdn.pixabay.com/photo/2020/01/13/11/41/butterfly-4762198__340.jpg\" data-lazy-srcset=\"https://cdn.pixabay.com/photo/2020/01/13/11/41/butterfly-4762198__340.jpg 1x, https://cdn.pixabay.com/photo/2020/01/13/11/41/butterfly-4762198__480.jpg 2x\" src=\"/static/img/blank.gif\"/>,\n",
       " <img alt=\"Dogs, Trophy, Hunting, Line Art, Animals\" data-lazy=\"https://cdn.pixabay.com/photo/2020/01/14/01/01/dogs-4763845__340.png\" data-lazy-srcset=\"https://cdn.pixabay.com/photo/2020/01/14/01/01/dogs-4763845__340.png 1x, https://cdn.pixabay.com/photo/2020/01/14/01/01/dogs-4763845__480.png 2x\" src=\"/static/img/blank.gif\"/>,\n",
       " <img alt=\"Birds, Flock, Silhouette, Animals\" data-lazy=\"https://cdn.pixabay.com/photo/2020/01/14/00/59/birds-4763840__340.png\" data-lazy-srcset=\"https://cdn.pixabay.com/photo/2020/01/14/00/59/birds-4763840__340.png 1x, https://cdn.pixabay.com/photo/2020/01/14/00/59/birds-4763840__480.png 2x\" src=\"/static/img/blank.gif\"/>,\n",
       " <img alt=\"Nature, Wolf, Animal World, Predator\" data-lazy=\"https://cdn.pixabay.com/photo/2020/01/12/16/38/nature-4760389__340.jpg\" data-lazy-srcset=\"https://cdn.pixabay.com/photo/2020/01/12/16/38/nature-4760389__340.jpg 1x, https://cdn.pixabay.com/photo/2020/01/12/16/38/nature-4760389__480.jpg 2x\" src=\"/static/img/blank.gif\"/>,\n",
       " <img alt=\"Kingfisher, Bird, Bokeh, Nature, Animal\" data-lazy=\"https://cdn.pixabay.com/photo/2020/01/03/22/12/kingfisher-4739273__340.jpg\" data-lazy-srcset=\"https://cdn.pixabay.com/photo/2020/01/03/22/12/kingfisher-4739273__340.jpg 1x, https://cdn.pixabay.com/photo/2020/01/03/22/12/kingfisher-4739273__480.jpg 2x\" src=\"/static/img/blank.gif\"/>,\n",
       " <img alt=\"Butterfly, Tropical Butterfly, Exotic\" data-lazy=\"https://cdn.pixabay.com/photo/2020/01/01/10/34/butterfly-4733297__340.jpg\" data-lazy-srcset=\"https://cdn.pixabay.com/photo/2020/01/01/10/34/butterfly-4733297__340.jpg 1x, https://cdn.pixabay.com/photo/2020/01/01/10/34/butterfly-4733297__480.jpg 2x\" src=\"/static/img/blank.gif\"/>,\n",
       " <img alt=\"Tiger, Siberian Tiger, Big Cat, Predator\" data-lazy=\"https://cdn.pixabay.com/photo/2020/01/01/12/00/tiger-4733469__340.jpg\" data-lazy-srcset=\"https://cdn.pixabay.com/photo/2020/01/01/12/00/tiger-4733469__340.jpg 1x, https://cdn.pixabay.com/photo/2020/01/01/12/00/tiger-4733469__480.jpg 2x\" src=\"/static/img/blank.gif\"/>,\n",
       " <img alt=\"Turtles, Reptile, Tortoise Shell, Animal\" data-lazy=\"https://cdn.pixabay.com/photo/2020/01/06/12/39/turtles-4745260__340.jpg\" data-lazy-srcset=\"https://cdn.pixabay.com/photo/2020/01/06/12/39/turtles-4745260__340.jpg 1x, https://cdn.pixabay.com/photo/2020/01/06/12/39/turtles-4745260__480.jpg 2x\" src=\"/static/img/blank.gif\"/>,\n",
       " <img alt=\"White Stork, Stork, Bill, Rattle Stork\" data-lazy=\"https://cdn.pixabay.com/photo/2020/01/04/04/40/white-stork-4739729__340.jpg\" data-lazy-srcset=\"https://cdn.pixabay.com/photo/2020/01/04/04/40/white-stork-4739729__340.jpg 1x, https://cdn.pixabay.com/photo/2020/01/04/04/40/white-stork-4739729__480.jpg 2x\" src=\"/static/img/blank.gif\"/>,\n",
       " <img alt=\"Animal, Bird, Songbird, Tit, Parus Major\" data-lazy=\"https://cdn.pixabay.com/photo/2020/01/08/22/07/animal-4751390__340.jpg\" data-lazy-srcset=\"https://cdn.pixabay.com/photo/2020/01/08/22/07/animal-4751390__340.jpg 1x, https://cdn.pixabay.com/photo/2020/01/08/22/07/animal-4751390__480.jpg 2x\" src=\"/static/img/blank.gif\"/>,\n",
       " <img alt=\"Safari, Travel, Elephant, Nature, Animal\" data-lazy=\"https://cdn.pixabay.com/photo/2020/01/13/15/57/safari-4762800__340.jpg\" data-lazy-srcset=\"https://cdn.pixabay.com/photo/2020/01/13/15/57/safari-4762800__340.jpg 1x, https://cdn.pixabay.com/photo/2020/01/13/15/57/safari-4762800__480.jpg 2x\" src=\"/static/img/blank.gif\"/>,\n",
       " <img alt=\"Cat, Mackerel, Lying, Play Kitten\" data-lazy=\"https://cdn.pixabay.com/photo/2020/01/12/09/27/cat-4759584__340.jpg\" data-lazy-srcset=\"https://cdn.pixabay.com/photo/2020/01/12/09/27/cat-4759584__340.jpg 1x, https://cdn.pixabay.com/photo/2020/01/12/09/27/cat-4759584__480.jpg 2x\" src=\"/static/img/blank.gif\"/>,\n",
       " <img alt=\"Animal, Goat, Horns, Livestock, Prairie\" data-lazy=\"https://cdn.pixabay.com/photo/2020/01/13/16/02/animal-4762813__340.jpg\" data-lazy-srcset=\"https://cdn.pixabay.com/photo/2020/01/13/16/02/animal-4762813__340.jpg 1x, https://cdn.pixabay.com/photo/2020/01/13/16/02/animal-4762813__480.jpg 2x\" src=\"/static/img/blank.gif\"/>,\n",
       " <img alt=\"Darownik Wonderful, Female\" data-lazy=\"https://cdn.pixabay.com/photo/2020/01/13/18/24/darownik-wonderful-4763151__340.jpg\" data-lazy-srcset=\"https://cdn.pixabay.com/photo/2020/01/13/18/24/darownik-wonderful-4763151__340.jpg 1x, https://cdn.pixabay.com/photo/2020/01/13/18/24/darownik-wonderful-4763151__480.jpg 2x\" src=\"/static/img/blank.gif\"/>,\n",
       " <img alt=\"Owl, Reading, Book, Bird, Animal\" data-lazy=\"https://cdn.pixabay.com/photo/2020/01/12/19/15/owl-4760851__340.png\" data-lazy-srcset=\"https://cdn.pixabay.com/photo/2020/01/12/19/15/owl-4760851__340.png 1x, https://cdn.pixabay.com/photo/2020/01/12/19/15/owl-4760851__480.png 2x\" src=\"/static/img/blank.gif\"/>,\n",
       " <img alt=\"Sulphur-Crested Cockatoo, Tree, White\" data-lazy=\"https://cdn.pixabay.com/photo/2020/01/13/20/22/sulphur-crested-cockatoo-4763467__340.jpg\" data-lazy-srcset=\"https://cdn.pixabay.com/photo/2020/01/13/20/22/sulphur-crested-cockatoo-4763467__340.jpg 1x, https://cdn.pixabay.com/photo/2020/01/13/20/22/sulphur-crested-cockatoo-4763467__480.jpg 2x\" src=\"/static/img/blank.gif\"/>,\n",
       " <img alt=\"Kookaburra, Bird, Australia, Kingfisher\" data-lazy=\"https://cdn.pixabay.com/photo/2020/01/12/22/04/kookaburra-4761220__340.jpg\" data-lazy-srcset=\"https://cdn.pixabay.com/photo/2020/01/12/22/04/kookaburra-4761220__340.jpg 1x, https://cdn.pixabay.com/photo/2020/01/12/22/04/kookaburra-4761220__480.jpg 2x\" src=\"/static/img/blank.gif\"/>,\n",
       " <img alt=\"Eating, Orange, Rock Wallaby, Marsupial\" data-lazy=\"https://cdn.pixabay.com/photo/2020/01/15/04/13/eating-4766841__340.jpg\" data-lazy-srcset=\"https://cdn.pixabay.com/photo/2020/01/15/04/13/eating-4766841__340.jpg 1x, https://cdn.pixabay.com/photo/2020/01/15/04/13/eating-4766841__480.jpg 2x\" src=\"/static/img/blank.gif\"/>,\n",
       " <img alt=\"Koala, Australia, Wildlife, Australian\" data-lazy=\"https://cdn.pixabay.com/photo/2020/01/08/02/14/koala-4749060__340.jpg\" data-lazy-srcset=\"https://cdn.pixabay.com/photo/2020/01/08/02/14/koala-4749060__340.jpg 1x, https://cdn.pixabay.com/photo/2020/01/08/02/14/koala-4749060__480.jpg 2x\" src=\"/static/img/blank.gif\"/>,\n",
       " <img alt=\"Butterfly, Exotic, Edelfalter, Tropical\" data-lazy=\"https://cdn.pixabay.com/photo/2020/01/08/17/00/butterfly-4750624__340.jpg\" data-lazy-srcset=\"https://cdn.pixabay.com/photo/2020/01/08/17/00/butterfly-4750624__340.jpg 1x, https://cdn.pixabay.com/photo/2020/01/08/17/00/butterfly-4750624__480.jpg 2x\" src=\"/static/img/blank.gif\"/>,\n",
       " <img alt=\"Terrarium, Chameleon, Reptile, Animal\" data-lazy=\"https://cdn.pixabay.com/photo/2020/01/10/21/07/terrarium-4756280__340.jpg\" data-lazy-srcset=\"https://cdn.pixabay.com/photo/2020/01/10/21/07/terrarium-4756280__340.jpg 1x, https://cdn.pixabay.com/photo/2020/01/10/21/07/terrarium-4756280__480.jpg 2x\" src=\"/static/img/blank.gif\"/>,\n",
       " <img alt=\"Australia, Animals, Koala, Nature\" data-lazy=\"https://cdn.pixabay.com/photo/2020/01/10/20/28/australia-4756184__340.jpg\" data-lazy-srcset=\"https://cdn.pixabay.com/photo/2020/01/10/20/28/australia-4756184__340.jpg 1x, https://cdn.pixabay.com/photo/2020/01/10/20/28/australia-4756184__480.jpg 2x\" src=\"/static/img/blank.gif\"/>,\n",
       " <img src=\"/static/img/facebook.svg\"/>,\n",
       " <img src=\"/static/img/instagram.svg\"/>,\n",
       " <img src=\"/static/img/twitter.svg\"/>]"
      ]
     },
     "execution_count": 3,
     "metadata": {},
     "output_type": "execute_result"
    }
   ],
   "source": [
    "import requests as rq\n",
    "from bs4 import BeautifulSoup as bs\n",
    "\n",
    "URL=\"https://pixabay.com/images/search/?cat=animals\"\n",
    "\n",
    "html_img=rq.get(URL).text\n",
    "soup_img=bs(html_img,\"lxml\")\n",
    "img_element=soup_img.select('img')\n",
    "img_element"
   ]
  },
  {
   "cell_type": "code",
   "execution_count": 24,
   "metadata": {
    "scrolled": true
   },
   "outputs": [
    {
     "data": {
      "text/plain": [
       "'https://cdn.pixabay.com/photo/2020/01/09/15/04/gallo-4752996__340.jpg'"
      ]
     },
     "execution_count": 24,
     "metadata": {},
     "output_type": "execute_result"
    }
   ],
   "source": [
    "img_url=img_element[0].get('src')\n",
    "img_url"
   ]
  },
  {
   "cell_type": "code",
   "execution_count": 25,
   "metadata": {},
   "outputs": [],
   "source": [
    "import os\n",
    "html_img=rq.get(img_url)\n",
    "    \n",
    "folder='image'\n",
    "imageFile=open(os.path.join(folder, os.path.basename(img_url)),'wb')\n",
    "\n",
    "chunk_size=1000000\n",
    "for chunk in html_img.iter_content(chunk_size):\n",
    "    imageFile.write(chunk)\n",
    "imageFile.close()"
   ]
  },
  {
   "cell_type": "code",
   "execution_count": 41,
   "metadata": {},
   "outputs": [],
   "source": [
    "import requests\n",
    "from bs4 import BeautifulSoup\n",
    "import os\n",
    "\n",
    "def get_image_url(url):\n",
    "    html_image_url=requests.get(url).text\n",
    "    soup_image_url=BeautifulSoup(html_image_url,'lxml')\n",
    "    image_elements=soup_image_url.select('img')\n",
    "    if(image_elements != None):\n",
    "        image_urls = []\n",
    "        for image_element in image_elements:\n",
    "            if image_element.get('src') != '*.gif' or image_element.get('src') != '*.svg':\n",
    "                image_urls.append(image_element.get('src'))\n",
    "            elif image_element.get('src') == '*.gif' or image_element.get('src') == '*.svg':\n",
    "                image_urls.append(image_element.get('data-lazy'))\n",
    "        return image_urls\n",
    "    else:\n",
    "        return None\n",
    "\n",
    "def download_image(img_folder, img_url):\n",
    "    if(img_url != None):\n",
    "        html_image=requests.get(img_url)\n",
    "        imageFile=open(os.path.join(img_folder, os.path.basename(img_url)),'wb')\n",
    "        \n",
    "        chunk_size=1000000\n",
    "        for chunk in html_image.iter_content(chunk_size):\n",
    "            imageFile.write(chunk)\n",
    "            imageFile.close()\n",
    "        print(\"이미지 파일명: '{0}'. 내려받기 완료!\".format(os.path.basename(img_url)))\n",
    "    else:\n",
    "        print(\"내려받을 이미지가 없습니다.\")"
   ]
  },
  {
   "cell_type": "code",
   "execution_count": 42,
   "metadata": {},
   "outputs": [
    {
     "name": "stdout",
     "output_type": "stream",
     "text": [
      "이미지 파일명: 'gallo-4752996__340.jpg'. 내려받기 완료!\n",
      "이미지 파일명: 'blue-tit-4759446__340.jpg'. 내려받기 완료!\n",
      "이미지 파일명: 'animal-4741740__340.jpg'. 내려받기 완료!\n",
      "이미지 파일명: 'poultry-4745997__340.jpg'. 내려받기 완료!\n",
      "이미지 파일명: 'kookaburra-4761218__340.jpg'. 내려받기 완료!\n",
      "이미지 파일명: 'butterfly-4756682__340.jpg'. 내려받기 완료!\n",
      "이미지 파일명: 'forest-4762469__340.jpg'. 내려받기 완료!\n",
      "이미지 파일명: 'butterfly-4761299__340.jpg'. 내려받기 완료!\n",
      "이미지 파일명: 'night-4763437__340.jpg'. 내려받기 완료!\n",
      "이미지 파일명: 'goose-4760690__340.jpg'. 내려받기 완료!\n",
      "이미지 파일명: 'mallard-4760554__340.jpg'. 내려받기 완료!\n",
      "이미지 파일명: 'flowers-4760675__340.jpg'. 내려받기 완료!\n",
      "이미지 파일명: 'crow-4761029__340.jpg'. 내려받기 완료!\n",
      "이미지 파일명: 'canary-4759562__340.jpg'. 내려받기 완료!\n",
      "이미지 파일명: 'mallard-4760757__340.jpg'. 내려받기 완료!\n",
      "이미지 파일명: 'butterfly-4761326__340.jpg'. 내려받기 완료!\n"
     ]
    },
    {
     "ename": "MissingSchema",
     "evalue": "Invalid URL '/static/img/blank.gif': No schema supplied. Perhaps you meant http:///static/img/blank.gif?",
     "output_type": "error",
     "traceback": [
      "\u001b[1;31m---------------------------------------------------------------------------\u001b[0m",
      "\u001b[1;31mMissingSchema\u001b[0m                             Traceback (most recent call last)",
      "\u001b[1;32m<ipython-input-42-01d6107b7930>\u001b[0m in \u001b[0;36m<module>\u001b[1;34m\u001b[0m\n\u001b[0;32m      6\u001b[0m \u001b[1;33m\u001b[0m\u001b[0m\n\u001b[0;32m      7\u001b[0m \u001b[1;32mfor\u001b[0m \u001b[0mk\u001b[0m \u001b[1;32min\u001b[0m \u001b[0mrange\u001b[0m\u001b[1;33m(\u001b[0m\u001b[0mnum_of_download_image\u001b[0m\u001b[1;33m)\u001b[0m\u001b[1;33m:\u001b[0m\u001b[1;33m\u001b[0m\u001b[1;33m\u001b[0m\u001b[0m\n\u001b[1;32m----> 8\u001b[1;33m     \u001b[0mdownload_image\u001b[0m\u001b[1;33m(\u001b[0m\u001b[0mfigure_folder\u001b[0m\u001b[1;33m,\u001b[0m \u001b[0mpixabay_image_urls\u001b[0m\u001b[1;33m[\u001b[0m\u001b[0mk\u001b[0m\u001b[1;33m]\u001b[0m\u001b[1;33m)\u001b[0m\u001b[1;33m\u001b[0m\u001b[1;33m\u001b[0m\u001b[0m\n\u001b[0m",
      "\u001b[1;32m<ipython-input-41-332dd7044b34>\u001b[0m in \u001b[0;36mdownload_image\u001b[1;34m(img_folder, img_url)\u001b[0m\n\u001b[0;32m     20\u001b[0m \u001b[1;32mdef\u001b[0m \u001b[0mdownload_image\u001b[0m\u001b[1;33m(\u001b[0m\u001b[0mimg_folder\u001b[0m\u001b[1;33m,\u001b[0m \u001b[0mimg_url\u001b[0m\u001b[1;33m)\u001b[0m\u001b[1;33m:\u001b[0m\u001b[1;33m\u001b[0m\u001b[1;33m\u001b[0m\u001b[0m\n\u001b[0;32m     21\u001b[0m     \u001b[1;32mif\u001b[0m\u001b[1;33m(\u001b[0m\u001b[0mimg_url\u001b[0m \u001b[1;33m!=\u001b[0m \u001b[1;32mNone\u001b[0m\u001b[1;33m)\u001b[0m\u001b[1;33m:\u001b[0m\u001b[1;33m\u001b[0m\u001b[1;33m\u001b[0m\u001b[0m\n\u001b[1;32m---> 22\u001b[1;33m         \u001b[0mhtml_image\u001b[0m\u001b[1;33m=\u001b[0m\u001b[0mrequests\u001b[0m\u001b[1;33m.\u001b[0m\u001b[0mget\u001b[0m\u001b[1;33m(\u001b[0m\u001b[0mimg_url\u001b[0m\u001b[1;33m)\u001b[0m\u001b[1;33m\u001b[0m\u001b[1;33m\u001b[0m\u001b[0m\n\u001b[0m\u001b[0;32m     23\u001b[0m         \u001b[0mimageFile\u001b[0m\u001b[1;33m=\u001b[0m\u001b[0mopen\u001b[0m\u001b[1;33m(\u001b[0m\u001b[0mos\u001b[0m\u001b[1;33m.\u001b[0m\u001b[0mpath\u001b[0m\u001b[1;33m.\u001b[0m\u001b[0mjoin\u001b[0m\u001b[1;33m(\u001b[0m\u001b[0mimg_folder\u001b[0m\u001b[1;33m,\u001b[0m \u001b[0mos\u001b[0m\u001b[1;33m.\u001b[0m\u001b[0mpath\u001b[0m\u001b[1;33m.\u001b[0m\u001b[0mbasename\u001b[0m\u001b[1;33m(\u001b[0m\u001b[0mimg_url\u001b[0m\u001b[1;33m)\u001b[0m\u001b[1;33m)\u001b[0m\u001b[1;33m,\u001b[0m\u001b[1;34m'wb'\u001b[0m\u001b[1;33m)\u001b[0m\u001b[1;33m\u001b[0m\u001b[1;33m\u001b[0m\u001b[0m\n\u001b[0;32m     24\u001b[0m \u001b[1;33m\u001b[0m\u001b[0m\n",
      "\u001b[1;32m~\\Anaconda3\\lib\\site-packages\\requests\\api.py\u001b[0m in \u001b[0;36mget\u001b[1;34m(url, params, **kwargs)\u001b[0m\n\u001b[0;32m     73\u001b[0m \u001b[1;33m\u001b[0m\u001b[0m\n\u001b[0;32m     74\u001b[0m     \u001b[0mkwargs\u001b[0m\u001b[1;33m.\u001b[0m\u001b[0msetdefault\u001b[0m\u001b[1;33m(\u001b[0m\u001b[1;34m'allow_redirects'\u001b[0m\u001b[1;33m,\u001b[0m \u001b[1;32mTrue\u001b[0m\u001b[1;33m)\u001b[0m\u001b[1;33m\u001b[0m\u001b[1;33m\u001b[0m\u001b[0m\n\u001b[1;32m---> 75\u001b[1;33m     \u001b[1;32mreturn\u001b[0m \u001b[0mrequest\u001b[0m\u001b[1;33m(\u001b[0m\u001b[1;34m'get'\u001b[0m\u001b[1;33m,\u001b[0m \u001b[0murl\u001b[0m\u001b[1;33m,\u001b[0m \u001b[0mparams\u001b[0m\u001b[1;33m=\u001b[0m\u001b[0mparams\u001b[0m\u001b[1;33m,\u001b[0m \u001b[1;33m**\u001b[0m\u001b[0mkwargs\u001b[0m\u001b[1;33m)\u001b[0m\u001b[1;33m\u001b[0m\u001b[1;33m\u001b[0m\u001b[0m\n\u001b[0m\u001b[0;32m     76\u001b[0m \u001b[1;33m\u001b[0m\u001b[0m\n\u001b[0;32m     77\u001b[0m \u001b[1;33m\u001b[0m\u001b[0m\n",
      "\u001b[1;32m~\\Anaconda3\\lib\\site-packages\\requests\\api.py\u001b[0m in \u001b[0;36mrequest\u001b[1;34m(method, url, **kwargs)\u001b[0m\n\u001b[0;32m     58\u001b[0m     \u001b[1;31m# cases, and look like a memory leak in others.\u001b[0m\u001b[1;33m\u001b[0m\u001b[1;33m\u001b[0m\u001b[1;33m\u001b[0m\u001b[0m\n\u001b[0;32m     59\u001b[0m     \u001b[1;32mwith\u001b[0m \u001b[0msessions\u001b[0m\u001b[1;33m.\u001b[0m\u001b[0mSession\u001b[0m\u001b[1;33m(\u001b[0m\u001b[1;33m)\u001b[0m \u001b[1;32mas\u001b[0m \u001b[0msession\u001b[0m\u001b[1;33m:\u001b[0m\u001b[1;33m\u001b[0m\u001b[1;33m\u001b[0m\u001b[0m\n\u001b[1;32m---> 60\u001b[1;33m         \u001b[1;32mreturn\u001b[0m \u001b[0msession\u001b[0m\u001b[1;33m.\u001b[0m\u001b[0mrequest\u001b[0m\u001b[1;33m(\u001b[0m\u001b[0mmethod\u001b[0m\u001b[1;33m=\u001b[0m\u001b[0mmethod\u001b[0m\u001b[1;33m,\u001b[0m \u001b[0murl\u001b[0m\u001b[1;33m=\u001b[0m\u001b[0murl\u001b[0m\u001b[1;33m,\u001b[0m \u001b[1;33m**\u001b[0m\u001b[0mkwargs\u001b[0m\u001b[1;33m)\u001b[0m\u001b[1;33m\u001b[0m\u001b[1;33m\u001b[0m\u001b[0m\n\u001b[0m\u001b[0;32m     61\u001b[0m \u001b[1;33m\u001b[0m\u001b[0m\n\u001b[0;32m     62\u001b[0m \u001b[1;33m\u001b[0m\u001b[0m\n",
      "\u001b[1;32m~\\Anaconda3\\lib\\site-packages\\requests\\sessions.py\u001b[0m in \u001b[0;36mrequest\u001b[1;34m(self, method, url, params, data, headers, cookies, files, auth, timeout, allow_redirects, proxies, hooks, stream, verify, cert, json)\u001b[0m\n\u001b[0;32m    517\u001b[0m             \u001b[0mhooks\u001b[0m\u001b[1;33m=\u001b[0m\u001b[0mhooks\u001b[0m\u001b[1;33m,\u001b[0m\u001b[1;33m\u001b[0m\u001b[1;33m\u001b[0m\u001b[0m\n\u001b[0;32m    518\u001b[0m         )\n\u001b[1;32m--> 519\u001b[1;33m         \u001b[0mprep\u001b[0m \u001b[1;33m=\u001b[0m \u001b[0mself\u001b[0m\u001b[1;33m.\u001b[0m\u001b[0mprepare_request\u001b[0m\u001b[1;33m(\u001b[0m\u001b[0mreq\u001b[0m\u001b[1;33m)\u001b[0m\u001b[1;33m\u001b[0m\u001b[1;33m\u001b[0m\u001b[0m\n\u001b[0m\u001b[0;32m    520\u001b[0m \u001b[1;33m\u001b[0m\u001b[0m\n\u001b[0;32m    521\u001b[0m         \u001b[0mproxies\u001b[0m \u001b[1;33m=\u001b[0m \u001b[0mproxies\u001b[0m \u001b[1;32mor\u001b[0m \u001b[1;33m{\u001b[0m\u001b[1;33m}\u001b[0m\u001b[1;33m\u001b[0m\u001b[1;33m\u001b[0m\u001b[0m\n",
      "\u001b[1;32m~\\Anaconda3\\lib\\site-packages\\requests\\sessions.py\u001b[0m in \u001b[0;36mprepare_request\u001b[1;34m(self, request)\u001b[0m\n\u001b[0;32m    460\u001b[0m             \u001b[0mauth\u001b[0m\u001b[1;33m=\u001b[0m\u001b[0mmerge_setting\u001b[0m\u001b[1;33m(\u001b[0m\u001b[0mauth\u001b[0m\u001b[1;33m,\u001b[0m \u001b[0mself\u001b[0m\u001b[1;33m.\u001b[0m\u001b[0mauth\u001b[0m\u001b[1;33m)\u001b[0m\u001b[1;33m,\u001b[0m\u001b[1;33m\u001b[0m\u001b[1;33m\u001b[0m\u001b[0m\n\u001b[0;32m    461\u001b[0m             \u001b[0mcookies\u001b[0m\u001b[1;33m=\u001b[0m\u001b[0mmerged_cookies\u001b[0m\u001b[1;33m,\u001b[0m\u001b[1;33m\u001b[0m\u001b[1;33m\u001b[0m\u001b[0m\n\u001b[1;32m--> 462\u001b[1;33m             \u001b[0mhooks\u001b[0m\u001b[1;33m=\u001b[0m\u001b[0mmerge_hooks\u001b[0m\u001b[1;33m(\u001b[0m\u001b[0mrequest\u001b[0m\u001b[1;33m.\u001b[0m\u001b[0mhooks\u001b[0m\u001b[1;33m,\u001b[0m \u001b[0mself\u001b[0m\u001b[1;33m.\u001b[0m\u001b[0mhooks\u001b[0m\u001b[1;33m)\u001b[0m\u001b[1;33m,\u001b[0m\u001b[1;33m\u001b[0m\u001b[1;33m\u001b[0m\u001b[0m\n\u001b[0m\u001b[0;32m    463\u001b[0m         )\n\u001b[0;32m    464\u001b[0m         \u001b[1;32mreturn\u001b[0m \u001b[0mp\u001b[0m\u001b[1;33m\u001b[0m\u001b[1;33m\u001b[0m\u001b[0m\n",
      "\u001b[1;32m~\\Anaconda3\\lib\\site-packages\\requests\\models.py\u001b[0m in \u001b[0;36mprepare\u001b[1;34m(self, method, url, headers, files, data, params, auth, cookies, hooks, json)\u001b[0m\n\u001b[0;32m    311\u001b[0m \u001b[1;33m\u001b[0m\u001b[0m\n\u001b[0;32m    312\u001b[0m         \u001b[0mself\u001b[0m\u001b[1;33m.\u001b[0m\u001b[0mprepare_method\u001b[0m\u001b[1;33m(\u001b[0m\u001b[0mmethod\u001b[0m\u001b[1;33m)\u001b[0m\u001b[1;33m\u001b[0m\u001b[1;33m\u001b[0m\u001b[0m\n\u001b[1;32m--> 313\u001b[1;33m         \u001b[0mself\u001b[0m\u001b[1;33m.\u001b[0m\u001b[0mprepare_url\u001b[0m\u001b[1;33m(\u001b[0m\u001b[0murl\u001b[0m\u001b[1;33m,\u001b[0m \u001b[0mparams\u001b[0m\u001b[1;33m)\u001b[0m\u001b[1;33m\u001b[0m\u001b[1;33m\u001b[0m\u001b[0m\n\u001b[0m\u001b[0;32m    314\u001b[0m         \u001b[0mself\u001b[0m\u001b[1;33m.\u001b[0m\u001b[0mprepare_headers\u001b[0m\u001b[1;33m(\u001b[0m\u001b[0mheaders\u001b[0m\u001b[1;33m)\u001b[0m\u001b[1;33m\u001b[0m\u001b[1;33m\u001b[0m\u001b[0m\n\u001b[0;32m    315\u001b[0m         \u001b[0mself\u001b[0m\u001b[1;33m.\u001b[0m\u001b[0mprepare_cookies\u001b[0m\u001b[1;33m(\u001b[0m\u001b[0mcookies\u001b[0m\u001b[1;33m)\u001b[0m\u001b[1;33m\u001b[0m\u001b[1;33m\u001b[0m\u001b[0m\n",
      "\u001b[1;32m~\\Anaconda3\\lib\\site-packages\\requests\\models.py\u001b[0m in \u001b[0;36mprepare_url\u001b[1;34m(self, url, params)\u001b[0m\n\u001b[0;32m    385\u001b[0m             \u001b[0merror\u001b[0m \u001b[1;33m=\u001b[0m \u001b[0merror\u001b[0m\u001b[1;33m.\u001b[0m\u001b[0mformat\u001b[0m\u001b[1;33m(\u001b[0m\u001b[0mto_native_string\u001b[0m\u001b[1;33m(\u001b[0m\u001b[0murl\u001b[0m\u001b[1;33m,\u001b[0m \u001b[1;34m'utf8'\u001b[0m\u001b[1;33m)\u001b[0m\u001b[1;33m)\u001b[0m\u001b[1;33m\u001b[0m\u001b[1;33m\u001b[0m\u001b[0m\n\u001b[0;32m    386\u001b[0m \u001b[1;33m\u001b[0m\u001b[0m\n\u001b[1;32m--> 387\u001b[1;33m             \u001b[1;32mraise\u001b[0m \u001b[0mMissingSchema\u001b[0m\u001b[1;33m(\u001b[0m\u001b[0merror\u001b[0m\u001b[1;33m)\u001b[0m\u001b[1;33m\u001b[0m\u001b[1;33m\u001b[0m\u001b[0m\n\u001b[0m\u001b[0;32m    388\u001b[0m \u001b[1;33m\u001b[0m\u001b[0m\n\u001b[0;32m    389\u001b[0m         \u001b[1;32mif\u001b[0m \u001b[1;32mnot\u001b[0m \u001b[0mhost\u001b[0m\u001b[1;33m:\u001b[0m\u001b[1;33m\u001b[0m\u001b[1;33m\u001b[0m\u001b[0m\n",
      "\u001b[1;31mMissingSchema\u001b[0m: Invalid URL '/static/img/blank.gif': No schema supplied. Perhaps you meant http:///static/img/blank.gif?"
     ]
    }
   ],
   "source": [
    "URL=\"https://pixabay.com/images/search/?cat=animals\"\n",
    "figure_folder=\"image\"\n",
    "pixabay_image_urls=get_image_url(URL)\n",
    "\n",
    "num_of_download_image=20\n",
    "\n",
    "for k in range(num_of_download_image):\n",
    "    download_image(figure_folder, pixabay_image_urls[k])"
   ]
  },
  {
   "cell_type": "code",
   "execution_count": null,
   "metadata": {},
   "outputs": [],
   "source": []
  }
 ],
 "metadata": {
  "kernelspec": {
   "display_name": "Python 3",
   "language": "python",
   "name": "python3"
  },
  "language_info": {
   "codemirror_mode": {
    "name": "ipython",
    "version": 3
   },
   "file_extension": ".py",
   "mimetype": "text/x-python",
   "name": "python",
   "nbconvert_exporter": "python",
   "pygments_lexer": "ipython3",
   "version": "3.7.3"
  }
 },
 "nbformat": 4,
 "nbformat_minor": 2
}
