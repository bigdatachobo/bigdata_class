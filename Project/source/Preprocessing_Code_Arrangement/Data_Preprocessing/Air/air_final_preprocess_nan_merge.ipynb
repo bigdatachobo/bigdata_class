{
 "cells": [
  {
   "cell_type": "code",
   "execution_count": 1,
   "metadata": {},
   "outputs": [],
   "source": [
    "import pandas as pd\n",
    "import numpy as np"
   ]
  },
  {
   "cell_type": "code",
   "execution_count": 2,
   "metadata": {},
   "outputs": [],
   "source": [
    "dust = pd.read_csv('../oniondata/refined_dust.csv', encoding='EUC-KR')\n",
    "so2 = pd.read_csv('../oniondata/refined_so2.csv', encoding='EUC-KR')\n",
    "o3 = pd.read_csv('../oniondata/refined_o3.csv', encoding='EUC-KR')\n",
    "co = pd.read_csv('../oniondata/refined_co.csv', encoding='EUC-KR')\n",
    "no2 = pd.read_csv('../oniondata/refined_no2.csv', encoding='EUC-KR')"
   ]
  },
  {
   "cell_type": "code",
   "execution_count": 3,
   "metadata": {},
   "outputs": [],
   "source": [
    "def preprocess(data):\n",
    "    for a in range(0,150,10):\n",
    "        for i in range(3,9):\n",
    "                data.iloc[a,i] = data.iloc[a+1:a+4,i].mean()"
   ]
  },
  {
   "cell_type": "code",
   "execution_count": 5,
   "metadata": {},
   "outputs": [],
   "source": [
    "for a in [dust,so2,o3,co,no2]:\n",
    "    preprocess(a)"
   ]
  },
  {
   "cell_type": "code",
   "execution_count": 8,
   "metadata": {},
   "outputs": [
    {
     "name": "stdout",
     "output_type": "stream",
     "text": [
      "year_local      0\n",
      "area            0\n",
      "year            0\n",
      "7월 미세먼지PM10     0\n",
      "8월 미세먼지PM10     0\n",
      "9월 미세먼지PM10     0\n",
      "10월 미세먼지PM10    0\n",
      "11월 미세먼지PM10    0\n",
      "12월 미세먼지PM10    0\n",
      "1월 미세먼지PM10     0\n",
      "2월 미세먼지PM10     0\n",
      "3월 미세먼지PM10     0\n",
      "4월 미세먼지PM10     0\n",
      "5월 미세먼지PM10     0\n",
      "6월 미세먼지PM10     0\n",
      "dtype: int64\n",
      "year_local    0\n",
      "area          0\n",
      "year          0\n",
      "7월 아황산가스      0\n",
      "8월 아황산가스      0\n",
      "9월 아황산가스      0\n",
      "10월 아황산가스     0\n",
      "11월 아황산가스     0\n",
      "12월 아황산가스     0\n",
      "1월 아황산가스      0\n",
      "2월 아황산가스      0\n",
      "3월 아황산가스      0\n",
      "4월 아황산가스      0\n",
      "5월 아황산가스      0\n",
      "6월 아황산가스      0\n",
      "dtype: int64\n",
      "year_local    0\n",
      "area          0\n",
      "year          0\n",
      "7월 오존         0\n",
      "8월 오존         0\n",
      "9월 오존         0\n",
      "10월 오존        0\n",
      "11월 오존        0\n",
      "12월 오존        0\n",
      "1월 오존         0\n",
      "2월 오존         0\n",
      "3월 오존         0\n",
      "4월 오존         0\n",
      "5월 오존         0\n",
      "6월 오존         0\n",
      "dtype: int64\n",
      "year_local    0\n",
      "area          0\n",
      "year          0\n",
      "7월 일산화탄소      0\n",
      "8월 일산화탄소      0\n",
      "9월 일산화탄소      0\n",
      "10월 일산화탄소     0\n",
      "11월 일산화탄소     0\n",
      "12월 일산화탄소     0\n",
      "1월 일산화탄소      0\n",
      "2월 일산화탄소      0\n",
      "3월 일산화탄소      0\n",
      "4월 일산화탄소      0\n",
      "5월 일산화탄소      0\n",
      "6월 일산화탄소      0\n",
      "dtype: int64\n",
      "year_local    0\n",
      "area          0\n",
      "year          0\n",
      "7월 이산화질소      0\n",
      "8월 이산화질소      0\n",
      "9월 이산화질소      0\n",
      "10월 이산화질소     0\n",
      "11월 이산화질소     0\n",
      "12월 이산화질소     0\n",
      "1월 이산화질소      0\n",
      "2월 이산화질소      0\n",
      "3월 이산화질소      0\n",
      "4월 이산화질소      0\n",
      "5월 이산화질소      0\n",
      "6월 이산화질소      0\n",
      "dtype: int64\n"
     ]
    }
   ],
   "source": [
    "for a in [dust,so2,o3,co,no2]:\n",
    "    print(a.isna().sum())"
   ]
  },
  {
   "cell_type": "code",
   "execution_count": 9,
   "metadata": {},
   "outputs": [],
   "source": [
    "dust.to_csv('../oniondata/preprocessed_dust.csv', encoding='utf-8')\n",
    "so2.to_csv('../oniondata/preprocessed_so2.csv', encoding='utf-8')\n",
    "o3.to_csv('../oniondata/preprocessed_o3.csv', encoding='utf-8')\n",
    "co.to_csv('../oniondata/preprocessed_co.csv', encoding='utf-8')\n",
    "no2.to_csv('../oniondata/preprocessed_no2.csv', encoding='utf-8')"
   ]
  },
  {
   "cell_type": "code",
   "execution_count": 10,
   "metadata": {},
   "outputs": [],
   "source": [
    "df_list=[dust, no2, o3, so2]\n",
    "air=co\n",
    "\n",
    "for df in df_list:\n",
    "    air=pd.merge(air,\n",
    "                 df,\n",
    "                 on=['year_local','area','year'])\n"
   ]
  },
  {
   "cell_type": "code",
   "execution_count": 11,
   "metadata": {},
   "outputs": [],
   "source": [
    "air.to_csv('../oniondata/preprocessed_air_merged.csv', encoding='utf-8')"
   ]
  },
  {
   "cell_type": "code",
   "execution_count": null,
   "metadata": {},
   "outputs": [],
   "source": []
  }
 ],
 "metadata": {
  "kernelspec": {
   "display_name": "Python 3",
   "language": "python",
   "name": "python3"
  },
  "language_info": {
   "codemirror_mode": {
    "name": "ipython",
    "version": 3
   },
   "file_extension": ".py",
   "mimetype": "text/x-python",
   "name": "python",
   "nbconvert_exporter": "python",
   "pygments_lexer": "ipython3",
   "version": "3.7.4"
  }
 },
 "nbformat": 4,
 "nbformat_minor": 2
}
