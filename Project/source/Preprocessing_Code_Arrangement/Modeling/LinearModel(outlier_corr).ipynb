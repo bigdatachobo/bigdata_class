{
 "cells": [
  {
   "cell_type": "code",
   "execution_count": 1,
   "metadata": {},
   "outputs": [],
   "source": [
    "import numpy as np\n",
    "import pandas as pd\n",
    "import os\n",
    "\n",
    "import seaborn as sns\n",
    "import matplotlib.pyplot as plt\n",
    "%matplotlib inline \n",
    "import platform\n",
    "from matplotlib import font_manager, rc\n",
    "plt.rcParams['axes.unicode_minus'] = False \n",
    "\n",
    "if platform.system() == 'Darwin':\n",
    "    rc('font', family = 'AppleGothic')\n",
    "elif platform.system() == 'Windows':\n",
    "    path=\"c:/Windows/Fonts/malgun.ttf\"\n",
    "    font_name = font_manager.FontProperties(fname=path).get_name()\n",
    "    rc('font', family=font_name)\n",
    "else:\n",
    "    print('Unknown system')\n",
    "    \n",
    "plt.style.use('ggplot')\n",
    "    \n",
    "plt.rcParams['axes.unicode_minus'] = False"
   ]
  },
  {
   "cell_type": "code",
   "execution_count": 2,
   "metadata": {},
   "outputs": [],
   "source": [
    "os.chdir('C:/Users/JAEMIN/Desktop/DeepLearning/TEAM_PROJECT/data')"
   ]
  },
  {
   "cell_type": "code",
   "execution_count": 3,
   "metadata": {},
   "outputs": [],
   "source": [
    "pca2d = pd.read_csv('pca_2D.csv')\n",
    "pca3d = pd.read_csv('pca_3D.csv')\n",
    "pca4d = pd.read_csv('pca_4D.csv')\n",
    "pca5d = pd.read_csv('pca_5D.csv')\n",
    "pca6d = pd.read_csv('pca_6D.csv')\n",
    "FA = pd.read_csv('Selected_var(FA_corr).csv', encoding = 'CP949')"
   ]
  },
  {
   "cell_type": "code",
   "execution_count": 39,
   "metadata": {},
   "outputs": [],
   "source": [
    "x1, y1 = pca2d.iloc[:,:2], pca2d.iloc[:,2]\n",
    "\n",
    "x1_train, x1_test = x1.iloc[:int(len(x1)*0.7)], x1.iloc[int(len(x1)*0.7):]\n",
    "y1_train, y1_test = y1.iloc[:int(len(y1)*0.7)], y1.iloc[int(len(y1)*0.7):]"
   ]
  },
  {
   "cell_type": "code",
   "execution_count": 4,
   "metadata": {},
   "outputs": [],
   "source": [
    "from sklearn.linear_model import LinearRegression"
   ]
  },
  {
   "cell_type": "code",
   "execution_count": 5,
   "metadata": {},
   "outputs": [
    {
     "name": "stderr",
     "output_type": "stream",
     "text": [
      "C:\\Users\\JAEMIN\\Anaconda3\\lib\\site-packages\\statsmodels\\compat\\pandas.py:23: FutureWarning: The Panel class is removed from pandas. Accessing it from the top-level namespace will also be removed in the next version\n",
      "  data_klasses = (pandas.Series, pandas.DataFrame, pandas.Panel)\n"
     ]
    }
   ],
   "source": [
    "import statsmodels.api as sm\n",
    "from statsmodels.tools.eval_measures import rmse"
   ]
  },
  {
   "cell_type": "code",
   "execution_count": 42,
   "metadata": {},
   "outputs": [
    {
     "name": "stderr",
     "output_type": "stream",
     "text": [
      "C:\\Users\\JAEMIN\\Anaconda3\\lib\\site-packages\\numpy\\core\\fromnumeric.py:2389: FutureWarning: Method .ptp is deprecated and will be removed in a future version. Use numpy.ptp instead.\n",
      "  return ptp(axis=axis, out=out, **kwargs)\n"
     ]
    }
   ],
   "source": [
    "x1_train = sm.add_constant(x1_train)\n",
    "x1_test = sm.add_constant(x1_test)"
   ]
  },
  {
   "cell_type": "code",
   "execution_count": 52,
   "metadata": {},
   "outputs": [
    {
     "data": {
      "text/html": [
       "<table class=\"simpletable\">\n",
       "<caption>OLS Regression Results</caption>\n",
       "<tr>\n",
       "  <th>Dep. Variable:</th>      <td>10a당 생산량 (kg)</td>  <th>  R-squared:         </th> <td>   0.416</td>\n",
       "</tr>\n",
       "<tr>\n",
       "  <th>Model:</th>                   <td>OLS</td>       <th>  Adj. R-squared:    </th> <td>   0.402</td>\n",
       "</tr>\n",
       "<tr>\n",
       "  <th>Method:</th>             <td>Least Squares</td>  <th>  F-statistic:       </th> <td>   30.98</td>\n",
       "</tr>\n",
       "<tr>\n",
       "  <th>Date:</th>             <td>Wed, 11 Mar 2020</td> <th>  Prob (F-statistic):</th> <td>6.94e-11</td>\n",
       "</tr>\n",
       "<tr>\n",
       "  <th>Time:</th>                 <td>17:14:43</td>     <th>  Log-Likelihood:    </th> <td>  28.926</td>\n",
       "</tr>\n",
       "<tr>\n",
       "  <th>No. Observations:</th>      <td>    90</td>      <th>  AIC:               </th> <td>  -51.85</td>\n",
       "</tr>\n",
       "<tr>\n",
       "  <th>Df Residuals:</th>          <td>    87</td>      <th>  BIC:               </th> <td>  -44.35</td>\n",
       "</tr>\n",
       "<tr>\n",
       "  <th>Df Model:</th>              <td>     2</td>      <th>                     </th>     <td> </td>   \n",
       "</tr>\n",
       "<tr>\n",
       "  <th>Covariance Type:</th>      <td>nonrobust</td>    <th>                     </th>     <td> </td>   \n",
       "</tr>\n",
       "</table>\n",
       "<table class=\"simpletable\">\n",
       "<tr>\n",
       "    <td></td>       <th>coef</th>     <th>std err</th>      <th>t</th>      <th>P>|t|</th>  <th>[0.025</th>    <th>0.975]</th>  \n",
       "</tr>\n",
       "<tr>\n",
       "  <th>const</th> <td>    0.4742</td> <td>    0.022</td> <td>   21.374</td> <td> 0.000</td> <td>    0.430</td> <td>    0.518</td>\n",
       "</tr>\n",
       "<tr>\n",
       "  <th>PCA1</th>  <td>    0.1321</td> <td>    0.018</td> <td>    7.268</td> <td> 0.000</td> <td>    0.096</td> <td>    0.168</td>\n",
       "</tr>\n",
       "<tr>\n",
       "  <th>PCA2</th>  <td>    0.0164</td> <td>    0.028</td> <td>    0.577</td> <td> 0.565</td> <td>   -0.040</td> <td>    0.073</td>\n",
       "</tr>\n",
       "</table>\n",
       "<table class=\"simpletable\">\n",
       "<tr>\n",
       "  <th>Omnibus:</th>       <td> 2.712</td> <th>  Durbin-Watson:     </th> <td>   1.618</td>\n",
       "</tr>\n",
       "<tr>\n",
       "  <th>Prob(Omnibus):</th> <td> 0.258</td> <th>  Jarque-Bera (JB):  </th> <td>   2.218</td>\n",
       "</tr>\n",
       "<tr>\n",
       "  <th>Skew:</th>          <td> 0.378</td> <th>  Prob(JB):          </th> <td>   0.330</td>\n",
       "</tr>\n",
       "<tr>\n",
       "  <th>Kurtosis:</th>      <td> 3.144</td> <th>  Cond. No.          </th> <td>    2.23</td>\n",
       "</tr>\n",
       "</table><br/><br/>Warnings:<br/>[1] Standard Errors assume that the covariance matrix of the errors is correctly specified."
      ],
      "text/plain": [
       "<class 'statsmodels.iolib.summary.Summary'>\n",
       "\"\"\"\n",
       "                            OLS Regression Results                            \n",
       "==============================================================================\n",
       "Dep. Variable:          10a당 생산량 (kg)   R-squared:                       0.416\n",
       "Model:                            OLS   Adj. R-squared:                  0.402\n",
       "Method:                 Least Squares   F-statistic:                     30.98\n",
       "Date:                Wed, 11 Mar 2020   Prob (F-statistic):           6.94e-11\n",
       "Time:                        17:14:43   Log-Likelihood:                 28.926\n",
       "No. Observations:                  90   AIC:                            -51.85\n",
       "Df Residuals:                      87   BIC:                            -44.35\n",
       "Df Model:                           2                                         \n",
       "Covariance Type:            nonrobust                                         \n",
       "==============================================================================\n",
       "                 coef    std err          t      P>|t|      [0.025      0.975]\n",
       "------------------------------------------------------------------------------\n",
       "const          0.4742      0.022     21.374      0.000       0.430       0.518\n",
       "PCA1           0.1321      0.018      7.268      0.000       0.096       0.168\n",
       "PCA2           0.0164      0.028      0.577      0.565      -0.040       0.073\n",
       "==============================================================================\n",
       "Omnibus:                        2.712   Durbin-Watson:                   1.618\n",
       "Prob(Omnibus):                  0.258   Jarque-Bera (JB):                2.218\n",
       "Skew:                           0.378   Prob(JB):                        0.330\n",
       "Kurtosis:                       3.144   Cond. No.                         2.23\n",
       "==============================================================================\n",
       "\n",
       "Warnings:\n",
       "[1] Standard Errors assume that the covariance matrix of the errors is correctly specified.\n",
       "\"\"\""
      ]
     },
     "execution_count": 52,
     "metadata": {},
     "output_type": "execute_result"
    }
   ],
   "source": [
    "lm1 = sm.OLS(y1_train, x1_train)\n",
    "lm1_r = lm1.fit()\n",
    "lm1_r.summary()"
   ]
  },
  {
   "cell_type": "code",
   "execution_count": 30,
   "metadata": {},
   "outputs": [
    {
     "data": {
      "text/html": [
       "<table class=\"simpletable\">\n",
       "<caption>OLS Regression Results</caption>\n",
       "<tr>\n",
       "  <th>Dep. Variable:</th>      <td>10a당 생산량 (kg)</td>  <th>  R-squared:         </th> <td>   0.413</td>\n",
       "</tr>\n",
       "<tr>\n",
       "  <th>Model:</th>                   <td>OLS</td>       <th>  Adj. R-squared:    </th> <td>   0.400</td>\n",
       "</tr>\n",
       "<tr>\n",
       "  <th>Method:</th>             <td>Least Squares</td>  <th>  F-statistic:       </th> <td>   30.61</td>\n",
       "</tr>\n",
       "<tr>\n",
       "  <th>Date:</th>             <td>Wed, 11 Mar 2020</td> <th>  Prob (F-statistic):</th> <td>8.58e-11</td>\n",
       "</tr>\n",
       "<tr>\n",
       "  <th>Time:</th>                 <td>15:04:58</td>     <th>  Log-Likelihood:    </th> <td>  42.976</td>\n",
       "</tr>\n",
       "<tr>\n",
       "  <th>No. Observations:</th>      <td>    90</td>      <th>  AIC:               </th> <td>  -79.95</td>\n",
       "</tr>\n",
       "<tr>\n",
       "  <th>Df Residuals:</th>          <td>    87</td>      <th>  BIC:               </th> <td>  -72.45</td>\n",
       "</tr>\n",
       "<tr>\n",
       "  <th>Df Model:</th>              <td>     2</td>      <th>                     </th>     <td> </td>   \n",
       "</tr>\n",
       "<tr>\n",
       "  <th>Covariance Type:</th>      <td>nonrobust</td>    <th>                     </th>     <td> </td>   \n",
       "</tr>\n",
       "</table>\n",
       "<table class=\"simpletable\">\n",
       "<tr>\n",
       "    <td></td>       <th>coef</th>     <th>std err</th>      <th>t</th>      <th>P>|t|</th>  <th>[0.025</th>    <th>0.975]</th>  \n",
       "</tr>\n",
       "<tr>\n",
       "  <th>const</th> <td>    0.4733</td> <td>    0.019</td> <td>   24.601</td> <td> 0.000</td> <td>    0.435</td> <td>    0.512</td>\n",
       "</tr>\n",
       "<tr>\n",
       "  <th>PCA1</th>  <td>    0.1228</td> <td>    0.017</td> <td>    7.239</td> <td> 0.000</td> <td>    0.089</td> <td>    0.157</td>\n",
       "</tr>\n",
       "<tr>\n",
       "  <th>PCA2</th>  <td>    0.0197</td> <td>    0.027</td> <td>    0.724</td> <td> 0.471</td> <td>   -0.034</td> <td>    0.074</td>\n",
       "</tr>\n",
       "</table>\n",
       "<table class=\"simpletable\">\n",
       "<tr>\n",
       "  <th>Omnibus:</th>       <td> 3.991</td> <th>  Durbin-Watson:     </th> <td>   1.558</td>\n",
       "</tr>\n",
       "<tr>\n",
       "  <th>Prob(Omnibus):</th> <td> 0.136</td> <th>  Jarque-Bera (JB):  </th> <td>   3.291</td>\n",
       "</tr>\n",
       "<tr>\n",
       "  <th>Skew:</th>          <td> 0.435</td> <th>  Prob(JB):          </th> <td>   0.193</td>\n",
       "</tr>\n",
       "<tr>\n",
       "  <th>Kurtosis:</th>      <td> 3.345</td> <th>  Cond. No.          </th> <td>    2.29</td>\n",
       "</tr>\n",
       "</table><br/><br/>Warnings:<br/>[1] Standard Errors assume that the covariance matrix of the errors is correctly specified."
      ],
      "text/plain": [
       "<class 'statsmodels.iolib.summary.Summary'>\n",
       "\"\"\"\n",
       "                            OLS Regression Results                            \n",
       "==============================================================================\n",
       "Dep. Variable:          10a당 생산량 (kg)   R-squared:                       0.413\n",
       "Model:                            OLS   Adj. R-squared:                  0.400\n",
       "Method:                 Least Squares   F-statistic:                     30.61\n",
       "Date:                Wed, 11 Mar 2020   Prob (F-statistic):           8.58e-11\n",
       "Time:                        15:04:58   Log-Likelihood:                 42.976\n",
       "No. Observations:                  90   AIC:                            -79.95\n",
       "Df Residuals:                      87   BIC:                            -72.45\n",
       "Df Model:                           2                                         \n",
       "Covariance Type:            nonrobust                                         \n",
       "==============================================================================\n",
       "                 coef    std err          t      P>|t|      [0.025      0.975]\n",
       "------------------------------------------------------------------------------\n",
       "const          0.4733      0.019     24.601      0.000       0.435       0.512\n",
       "PCA1           0.1228      0.017      7.239      0.000       0.089       0.157\n",
       "PCA2           0.0197      0.027      0.724      0.471      -0.034       0.074\n",
       "==============================================================================\n",
       "Omnibus:                        3.991   Durbin-Watson:                   1.558\n",
       "Prob(Omnibus):                  0.136   Jarque-Bera (JB):                3.291\n",
       "Skew:                           0.435   Prob(JB):                        0.193\n",
       "Kurtosis:                       3.345   Cond. No.                         2.29\n",
       "==============================================================================\n",
       "\n",
       "Warnings:\n",
       "[1] Standard Errors assume that the covariance matrix of the errors is correctly specified.\n",
       "\"\"\""
      ]
     },
     "execution_count": 30,
     "metadata": {},
     "output_type": "execute_result"
    }
   ],
   "source": [
    "lm1_r.summary()"
   ]
  },
  {
   "cell_type": "code",
   "execution_count": 65,
   "metadata": {},
   "outputs": [
    {
     "name": "stdout",
     "output_type": "stream",
     "text": [
      "R2: 0.41401401648558633\n"
     ]
    }
   ],
   "source": [
    "print('R2:', lm1_r.rsquared)"
   ]
  },
  {
   "cell_type": "code",
   "execution_count": null,
   "metadata": {},
   "outputs": [],
   "source": []
  },
  {
   "cell_type": "code",
   "execution_count": 46,
   "metadata": {},
   "outputs": [],
   "source": [
    "ypred1 = lm1_r.predict(x1_test)\n",
    "rmse1 = rmse(y1_test, ypred1)"
   ]
  },
  {
   "cell_type": "code",
   "execution_count": 47,
   "metadata": {},
   "outputs": [
    {
     "data": {
      "text/plain": [
       "0.17466588853274254"
      ]
     },
     "execution_count": 47,
     "metadata": {},
     "output_type": "execute_result"
    }
   ],
   "source": [
    "rmse1"
   ]
  },
  {
   "cell_type": "code",
   "execution_count": 35,
   "metadata": {},
   "outputs": [
    {
     "data": {
      "text/plain": [
       "0.1475593891596978"
      ]
     },
     "execution_count": 35,
     "metadata": {},
     "output_type": "execute_result"
    }
   ],
   "source": [
    "rmse1"
   ]
  },
  {
   "cell_type": "code",
   "execution_count": 67,
   "metadata": {},
   "outputs": [
    {
     "data": {
      "text/html": [
       "<table class=\"simpletable\">\n",
       "<caption>OLS Regression Results</caption>\n",
       "<tr>\n",
       "  <th>Dep. Variable:</th>      <td>10a당 생산량 (kg)</td>  <th>  R-squared:         </th> <td>   0.432</td>\n",
       "</tr>\n",
       "<tr>\n",
       "  <th>Model:</th>                   <td>OLS</td>       <th>  Adj. R-squared:    </th> <td>   0.412</td>\n",
       "</tr>\n",
       "<tr>\n",
       "  <th>Method:</th>             <td>Least Squares</td>  <th>  F-statistic:       </th> <td>   21.81</td>\n",
       "</tr>\n",
       "<tr>\n",
       "  <th>Date:</th>             <td>Wed, 11 Mar 2020</td> <th>  Prob (F-statistic):</th> <td>1.35e-10</td>\n",
       "</tr>\n",
       "<tr>\n",
       "  <th>Time:</th>                 <td>17:27:54</td>     <th>  Log-Likelihood:    </th> <td>  30.192</td>\n",
       "</tr>\n",
       "<tr>\n",
       "  <th>No. Observations:</th>      <td>    90</td>      <th>  AIC:               </th> <td>  -52.38</td>\n",
       "</tr>\n",
       "<tr>\n",
       "  <th>Df Residuals:</th>          <td>    86</td>      <th>  BIC:               </th> <td>  -42.38</td>\n",
       "</tr>\n",
       "<tr>\n",
       "  <th>Df Model:</th>              <td>     3</td>      <th>                     </th>     <td> </td>   \n",
       "</tr>\n",
       "<tr>\n",
       "  <th>Covariance Type:</th>      <td>nonrobust</td>    <th>                     </th>     <td> </td>   \n",
       "</tr>\n",
       "</table>\n",
       "<table class=\"simpletable\">\n",
       "<tr>\n",
       "    <td></td>       <th>coef</th>     <th>std err</th>      <th>t</th>      <th>P>|t|</th>  <th>[0.025</th>    <th>0.975]</th>  \n",
       "</tr>\n",
       "<tr>\n",
       "  <th>const</th> <td>    0.4699</td> <td>    0.022</td> <td>   21.188</td> <td> 0.000</td> <td>    0.426</td> <td>    0.514</td>\n",
       "</tr>\n",
       "<tr>\n",
       "  <th>PCA1</th>  <td>    0.1230</td> <td>    0.019</td> <td>    6.486</td> <td> 0.000</td> <td>    0.085</td> <td>    0.161</td>\n",
       "</tr>\n",
       "<tr>\n",
       "  <th>PCA2</th>  <td>    0.0014</td> <td>    0.030</td> <td>    0.047</td> <td> 0.963</td> <td>   -0.058</td> <td>    0.060</td>\n",
       "</tr>\n",
       "<tr>\n",
       "  <th>PCA3</th>  <td>    0.0509</td> <td>    0.033</td> <td>    1.566</td> <td> 0.121</td> <td>   -0.014</td> <td>    0.116</td>\n",
       "</tr>\n",
       "</table>\n",
       "<table class=\"simpletable\">\n",
       "<tr>\n",
       "  <th>Omnibus:</th>       <td> 1.965</td> <th>  Durbin-Watson:     </th> <td>   1.625</td>\n",
       "</tr>\n",
       "<tr>\n",
       "  <th>Prob(Omnibus):</th> <td> 0.374</td> <th>  Jarque-Bera (JB):  </th> <td>   1.400</td>\n",
       "</tr>\n",
       "<tr>\n",
       "  <th>Skew:</th>          <td> 0.277</td> <th>  Prob(JB):          </th> <td>   0.497</td>\n",
       "</tr>\n",
       "<tr>\n",
       "  <th>Kurtosis:</th>      <td> 3.257</td> <th>  Cond. No.          </th> <td>    2.64</td>\n",
       "</tr>\n",
       "</table><br/><br/>Warnings:<br/>[1] Standard Errors assume that the covariance matrix of the errors is correctly specified."
      ],
      "text/plain": [
       "<class 'statsmodels.iolib.summary.Summary'>\n",
       "\"\"\"\n",
       "                            OLS Regression Results                            \n",
       "==============================================================================\n",
       "Dep. Variable:          10a당 생산량 (kg)   R-squared:                       0.432\n",
       "Model:                            OLS   Adj. R-squared:                  0.412\n",
       "Method:                 Least Squares   F-statistic:                     21.81\n",
       "Date:                Wed, 11 Mar 2020   Prob (F-statistic):           1.35e-10\n",
       "Time:                        17:27:54   Log-Likelihood:                 30.192\n",
       "No. Observations:                  90   AIC:                            -52.38\n",
       "Df Residuals:                      86   BIC:                            -42.38\n",
       "Df Model:                           3                                         \n",
       "Covariance Type:            nonrobust                                         \n",
       "==============================================================================\n",
       "                 coef    std err          t      P>|t|      [0.025      0.975]\n",
       "------------------------------------------------------------------------------\n",
       "const          0.4699      0.022     21.188      0.000       0.426       0.514\n",
       "PCA1           0.1230      0.019      6.486      0.000       0.085       0.161\n",
       "PCA2           0.0014      0.030      0.047      0.963      -0.058       0.060\n",
       "PCA3           0.0509      0.033      1.566      0.121      -0.014       0.116\n",
       "==============================================================================\n",
       "Omnibus:                        1.965   Durbin-Watson:                   1.625\n",
       "Prob(Omnibus):                  0.374   Jarque-Bera (JB):                1.400\n",
       "Skew:                           0.277   Prob(JB):                        0.497\n",
       "Kurtosis:                       3.257   Cond. No.                         2.64\n",
       "==============================================================================\n",
       "\n",
       "Warnings:\n",
       "[1] Standard Errors assume that the covariance matrix of the errors is correctly specified.\n",
       "\"\"\""
      ]
     },
     "execution_count": 67,
     "metadata": {},
     "output_type": "execute_result"
    }
   ],
   "source": [
    "x2, y2 = pca3d.iloc[:,:3], pca3d.iloc[:,3]\n",
    "\n",
    "x2_train, x2_test = x2.iloc[:int(len(x2)*0.7)], x2.iloc[int(len(x2)*0.7):]\n",
    "y2_train, y2_test = y2.iloc[:int(len(y2)*0.7)], y2.iloc[int(len(y2)*0.7):]\n",
    "\n",
    "x2_train = sm.add_constant(x2_train)\n",
    "x2_test = sm.add_constant(x2_test)\n",
    "\n",
    "lm2 = sm.OLS(y2_train, x2_train)\n",
    "lm2_r = lm2.fit()\n",
    "lm2_r.summary()\n",
    "#3차원이 성능이 좋음"
   ]
  },
  {
   "cell_type": "code",
   "execution_count": 57,
   "metadata": {},
   "outputs": [
    {
     "data": {
      "text/plain": [
       "0.14752995929759408"
      ]
     },
     "execution_count": 57,
     "metadata": {},
     "output_type": "execute_result"
    }
   ],
   "source": [
    "ypred2 = lm2_r.predict(x2_test)\n",
    "rmse2 = rmse(y2_test, ypred2)\n",
    "rmse2"
   ]
  },
  {
   "cell_type": "code",
   "execution_count": 60,
   "metadata": {},
   "outputs": [
    {
     "data": {
      "text/html": [
       "<table class=\"simpletable\">\n",
       "<caption>OLS Regression Results</caption>\n",
       "<tr>\n",
       "  <th>Dep. Variable:</th>      <td>10a당 생산량 (kg)</td>  <th>  R-squared:         </th> <td>   0.432</td>\n",
       "</tr>\n",
       "<tr>\n",
       "  <th>Model:</th>                   <td>OLS</td>       <th>  Adj. R-squared:    </th> <td>   0.405</td>\n",
       "</tr>\n",
       "<tr>\n",
       "  <th>Method:</th>             <td>Least Squares</td>  <th>  F-statistic:       </th> <td>   16.17</td>\n",
       "</tr>\n",
       "<tr>\n",
       "  <th>Date:</th>             <td>Wed, 11 Mar 2020</td> <th>  Prob (F-statistic):</th> <td>6.96e-10</td>\n",
       "</tr>\n",
       "<tr>\n",
       "  <th>Time:</th>                 <td>17:25:36</td>     <th>  Log-Likelihood:    </th> <td>  30.192</td>\n",
       "</tr>\n",
       "<tr>\n",
       "  <th>No. Observations:</th>      <td>    90</td>      <th>  AIC:               </th> <td>  -50.38</td>\n",
       "</tr>\n",
       "<tr>\n",
       "  <th>Df Residuals:</th>          <td>    85</td>      <th>  BIC:               </th> <td>  -37.88</td>\n",
       "</tr>\n",
       "<tr>\n",
       "  <th>Df Model:</th>              <td>     4</td>      <th>                     </th>     <td> </td>   \n",
       "</tr>\n",
       "<tr>\n",
       "  <th>Covariance Type:</th>      <td>nonrobust</td>    <th>                     </th>     <td> </td>   \n",
       "</tr>\n",
       "</table>\n",
       "<table class=\"simpletable\">\n",
       "<tr>\n",
       "    <td></td>       <th>coef</th>     <th>std err</th>      <th>t</th>      <th>P>|t|</th>  <th>[0.025</th>    <th>0.975]</th>  \n",
       "</tr>\n",
       "<tr>\n",
       "  <th>const</th> <td>    0.4700</td> <td>    0.023</td> <td>   20.256</td> <td> 0.000</td> <td>    0.424</td> <td>    0.516</td>\n",
       "</tr>\n",
       "<tr>\n",
       "  <th>PCA1</th>  <td>    0.1230</td> <td>    0.019</td> <td>    6.374</td> <td> 0.000</td> <td>    0.085</td> <td>    0.161</td>\n",
       "</tr>\n",
       "<tr>\n",
       "  <th>PCA2</th>  <td>    0.0015</td> <td>    0.031</td> <td>    0.049</td> <td> 0.961</td> <td>   -0.059</td> <td>    0.062</td>\n",
       "</tr>\n",
       "<tr>\n",
       "  <th>PCA3</th>  <td>    0.0509</td> <td>    0.033</td> <td>    1.557</td> <td> 0.123</td> <td>   -0.014</td> <td>    0.116</td>\n",
       "</tr>\n",
       "<tr>\n",
       "  <th>PCA4</th>  <td>    0.0005</td> <td>    0.031</td> <td>    0.015</td> <td> 0.988</td> <td>   -0.061</td> <td>    0.062</td>\n",
       "</tr>\n",
       "</table>\n",
       "<table class=\"simpletable\">\n",
       "<tr>\n",
       "  <th>Omnibus:</th>       <td> 1.954</td> <th>  Durbin-Watson:     </th> <td>   1.625</td>\n",
       "</tr>\n",
       "<tr>\n",
       "  <th>Prob(Omnibus):</th> <td> 0.376</td> <th>  Jarque-Bera (JB):  </th> <td>   1.391</td>\n",
       "</tr>\n",
       "<tr>\n",
       "  <th>Skew:</th>          <td> 0.276</td> <th>  Prob(JB):          </th> <td>   0.499</td>\n",
       "</tr>\n",
       "<tr>\n",
       "  <th>Kurtosis:</th>      <td> 3.256</td> <th>  Cond. No.          </th> <td>    2.76</td>\n",
       "</tr>\n",
       "</table><br/><br/>Warnings:<br/>[1] Standard Errors assume that the covariance matrix of the errors is correctly specified."
      ],
      "text/plain": [
       "<class 'statsmodels.iolib.summary.Summary'>\n",
       "\"\"\"\n",
       "                            OLS Regression Results                            \n",
       "==============================================================================\n",
       "Dep. Variable:          10a당 생산량 (kg)   R-squared:                       0.432\n",
       "Model:                            OLS   Adj. R-squared:                  0.405\n",
       "Method:                 Least Squares   F-statistic:                     16.17\n",
       "Date:                Wed, 11 Mar 2020   Prob (F-statistic):           6.96e-10\n",
       "Time:                        17:25:36   Log-Likelihood:                 30.192\n",
       "No. Observations:                  90   AIC:                            -50.38\n",
       "Df Residuals:                      85   BIC:                            -37.88\n",
       "Df Model:                           4                                         \n",
       "Covariance Type:            nonrobust                                         \n",
       "==============================================================================\n",
       "                 coef    std err          t      P>|t|      [0.025      0.975]\n",
       "------------------------------------------------------------------------------\n",
       "const          0.4700      0.023     20.256      0.000       0.424       0.516\n",
       "PCA1           0.1230      0.019      6.374      0.000       0.085       0.161\n",
       "PCA2           0.0015      0.031      0.049      0.961      -0.059       0.062\n",
       "PCA3           0.0509      0.033      1.557      0.123      -0.014       0.116\n",
       "PCA4           0.0005      0.031      0.015      0.988      -0.061       0.062\n",
       "==============================================================================\n",
       "Omnibus:                        1.954   Durbin-Watson:                   1.625\n",
       "Prob(Omnibus):                  0.376   Jarque-Bera (JB):                1.391\n",
       "Skew:                           0.276   Prob(JB):                        0.499\n",
       "Kurtosis:                       3.256   Cond. No.                         2.76\n",
       "==============================================================================\n",
       "\n",
       "Warnings:\n",
       "[1] Standard Errors assume that the covariance matrix of the errors is correctly specified.\n",
       "\"\"\""
      ]
     },
     "execution_count": 60,
     "metadata": {},
     "output_type": "execute_result"
    }
   ],
   "source": [
    "x2, y2 = pca4d.iloc[:,:4], pca4d.iloc[:,4]\n",
    "\n",
    "x2_train, x2_test = x2.iloc[:int(len(x2)*0.7)], x2.iloc[int(len(x2)*0.7):]\n",
    "y2_train, y2_test = y2.iloc[:int(len(y2)*0.7)], y2.iloc[int(len(y2)*0.7):]\n",
    "\n",
    "x2_train = sm.add_constant(x2_train)\n",
    "x2_test = sm.add_constant(x2_test)\n",
    "\n",
    "lm2 = sm.OLS(y2_train, x2_train)\n",
    "lm2_r = lm2.fit()\n",
    "lm2_r.summary()"
   ]
  },
  {
   "cell_type": "code",
   "execution_count": 61,
   "metadata": {},
   "outputs": [
    {
     "data": {
      "text/plain": [
       "0.14733582486805544"
      ]
     },
     "execution_count": 61,
     "metadata": {},
     "output_type": "execute_result"
    }
   ],
   "source": [
    "ypred2 = lm2_r.predict(x2_test)\n",
    "rmse2 = rmse(y2_test, ypred2)\n",
    "rmse2"
   ]
  },
  {
   "cell_type": "code",
   "execution_count": 63,
   "metadata": {},
   "outputs": [
    {
     "data": {
      "text/html": [
       "<table class=\"simpletable\">\n",
       "<caption>OLS Regression Results</caption>\n",
       "<tr>\n",
       "  <th>Dep. Variable:</th>      <td>10a당 생산량 (kg)</td>  <th>  R-squared:         </th> <td>   0.432</td>\n",
       "</tr>\n",
       "<tr>\n",
       "  <th>Model:</th>                   <td>OLS</td>       <th>  Adj. R-squared:    </th> <td>   0.398</td>\n",
       "</tr>\n",
       "<tr>\n",
       "  <th>Method:</th>             <td>Least Squares</td>  <th>  F-statistic:       </th> <td>   12.79</td>\n",
       "</tr>\n",
       "<tr>\n",
       "  <th>Date:</th>             <td>Wed, 11 Mar 2020</td> <th>  Prob (F-statistic):</th> <td>3.01e-09</td>\n",
       "</tr>\n",
       "<tr>\n",
       "  <th>Time:</th>                 <td>17:26:22</td>     <th>  Log-Likelihood:    </th> <td>  30.202</td>\n",
       "</tr>\n",
       "<tr>\n",
       "  <th>No. Observations:</th>      <td>    90</td>      <th>  AIC:               </th> <td>  -48.40</td>\n",
       "</tr>\n",
       "<tr>\n",
       "  <th>Df Residuals:</th>          <td>    84</td>      <th>  BIC:               </th> <td>  -33.41</td>\n",
       "</tr>\n",
       "<tr>\n",
       "  <th>Df Model:</th>              <td>     5</td>      <th>                     </th>     <td> </td>   \n",
       "</tr>\n",
       "<tr>\n",
       "  <th>Covariance Type:</th>      <td>nonrobust</td>    <th>                     </th>     <td> </td>   \n",
       "</tr>\n",
       "</table>\n",
       "<table class=\"simpletable\">\n",
       "<tr>\n",
       "    <td></td>       <th>coef</th>     <th>std err</th>      <th>t</th>      <th>P>|t|</th>  <th>[0.025</th>    <th>0.975]</th>  \n",
       "</tr>\n",
       "<tr>\n",
       "  <th>const</th> <td>    0.4690</td> <td>    0.024</td> <td>   19.294</td> <td> 0.000</td> <td>    0.421</td> <td>    0.517</td>\n",
       "</tr>\n",
       "<tr>\n",
       "  <th>PCA1</th>  <td>    0.1227</td> <td>    0.020</td> <td>    6.273</td> <td> 0.000</td> <td>    0.084</td> <td>    0.162</td>\n",
       "</tr>\n",
       "<tr>\n",
       "  <th>PCA2</th>  <td>    0.0006</td> <td>    0.031</td> <td>    0.019</td> <td> 0.985</td> <td>   -0.062</td> <td>    0.063</td>\n",
       "</tr>\n",
       "<tr>\n",
       "  <th>PCA3</th>  <td>    0.0506</td> <td>    0.033</td> <td>    1.535</td> <td> 0.129</td> <td>   -0.015</td> <td>    0.116</td>\n",
       "</tr>\n",
       "<tr>\n",
       "  <th>PCA4</th>  <td>-1.166e-05</td> <td>    0.031</td> <td>   -0.000</td> <td> 1.000</td> <td>   -0.063</td> <td>    0.063</td>\n",
       "</tr>\n",
       "<tr>\n",
       "  <th>PCA5</th>  <td>    0.0056</td> <td>    0.040</td> <td>    0.138</td> <td> 0.891</td> <td>   -0.075</td> <td>    0.086</td>\n",
       "</tr>\n",
       "</table>\n",
       "<table class=\"simpletable\">\n",
       "<tr>\n",
       "  <th>Omnibus:</th>       <td> 2.005</td> <th>  Durbin-Watson:     </th> <td>   1.625</td>\n",
       "</tr>\n",
       "<tr>\n",
       "  <th>Prob(Omnibus):</th> <td> 0.367</td> <th>  Jarque-Bera (JB):  </th> <td>   1.439</td>\n",
       "</tr>\n",
       "<tr>\n",
       "  <th>Skew:</th>          <td> 0.283</td> <th>  Prob(JB):          </th> <td>   0.487</td>\n",
       "</tr>\n",
       "<tr>\n",
       "  <th>Kurtosis:</th>      <td> 3.254</td> <th>  Cond. No.          </th> <td>    3.05</td>\n",
       "</tr>\n",
       "</table><br/><br/>Warnings:<br/>[1] Standard Errors assume that the covariance matrix of the errors is correctly specified."
      ],
      "text/plain": [
       "<class 'statsmodels.iolib.summary.Summary'>\n",
       "\"\"\"\n",
       "                            OLS Regression Results                            \n",
       "==============================================================================\n",
       "Dep. Variable:          10a당 생산량 (kg)   R-squared:                       0.432\n",
       "Model:                            OLS   Adj. R-squared:                  0.398\n",
       "Method:                 Least Squares   F-statistic:                     12.79\n",
       "Date:                Wed, 11 Mar 2020   Prob (F-statistic):           3.01e-09\n",
       "Time:                        17:26:22   Log-Likelihood:                 30.202\n",
       "No. Observations:                  90   AIC:                            -48.40\n",
       "Df Residuals:                      84   BIC:                            -33.41\n",
       "Df Model:                           5                                         \n",
       "Covariance Type:            nonrobust                                         \n",
       "==============================================================================\n",
       "                 coef    std err          t      P>|t|      [0.025      0.975]\n",
       "------------------------------------------------------------------------------\n",
       "const          0.4690      0.024     19.294      0.000       0.421       0.517\n",
       "PCA1           0.1227      0.020      6.273      0.000       0.084       0.162\n",
       "PCA2           0.0006      0.031      0.019      0.985      -0.062       0.063\n",
       "PCA3           0.0506      0.033      1.535      0.129      -0.015       0.116\n",
       "PCA4       -1.166e-05      0.031     -0.000      1.000      -0.063       0.063\n",
       "PCA5           0.0056      0.040      0.138      0.891      -0.075       0.086\n",
       "==============================================================================\n",
       "Omnibus:                        2.005   Durbin-Watson:                   1.625\n",
       "Prob(Omnibus):                  0.367   Jarque-Bera (JB):                1.439\n",
       "Skew:                           0.283   Prob(JB):                        0.487\n",
       "Kurtosis:                       3.254   Cond. No.                         3.05\n",
       "==============================================================================\n",
       "\n",
       "Warnings:\n",
       "[1] Standard Errors assume that the covariance matrix of the errors is correctly specified.\n",
       "\"\"\""
      ]
     },
     "execution_count": 63,
     "metadata": {},
     "output_type": "execute_result"
    }
   ],
   "source": [
    "x2, y2 = pca5d.iloc[:,:5], pca5d.iloc[:,5]\n",
    "\n",
    "x2_train, x2_test = x2.iloc[:int(len(x2)*0.7)], x2.iloc[int(len(x2)*0.7):]\n",
    "y2_train, y2_test = y2.iloc[:int(len(y2)*0.7)], y2.iloc[int(len(y2)*0.7):]\n",
    "\n",
    "x2_train = sm.add_constant(x2_train)\n",
    "x2_test = sm.add_constant(x2_test)\n",
    "\n",
    "lm2 = sm.OLS(y2_train, x2_train)\n",
    "lm2_r = lm2.fit()\n",
    "lm2_r.summary()"
   ]
  },
  {
   "cell_type": "code",
   "execution_count": 64,
   "metadata": {},
   "outputs": [
    {
     "data": {
      "text/plain": [
       "0.14891492300118217"
      ]
     },
     "execution_count": 64,
     "metadata": {},
     "output_type": "execute_result"
    }
   ],
   "source": [
    "ypred2 = lm2_r.predict(x2_test)\n",
    "rmse2 = rmse(y2_test, ypred2)\n",
    "rmse2"
   ]
  },
  {
   "cell_type": "code",
   "execution_count": 65,
   "metadata": {},
   "outputs": [
    {
     "data": {
      "text/html": [
       "<table class=\"simpletable\">\n",
       "<caption>OLS Regression Results</caption>\n",
       "<tr>\n",
       "  <th>Dep. Variable:</th>      <td>10a당 생산량 (kg)</td>  <th>  R-squared:         </th> <td>   0.433</td>\n",
       "</tr>\n",
       "<tr>\n",
       "  <th>Model:</th>                   <td>OLS</td>       <th>  Adj. R-squared:    </th> <td>   0.392</td>\n",
       "</tr>\n",
       "<tr>\n",
       "  <th>Method:</th>             <td>Least Squares</td>  <th>  F-statistic:       </th> <td>   10.55</td>\n",
       "</tr>\n",
       "<tr>\n",
       "  <th>Date:</th>             <td>Wed, 11 Mar 2020</td> <th>  Prob (F-statistic):</th> <td>1.12e-08</td>\n",
       "</tr>\n",
       "<tr>\n",
       "  <th>Time:</th>                 <td>17:27:04</td>     <th>  Log-Likelihood:    </th> <td>  30.231</td>\n",
       "</tr>\n",
       "<tr>\n",
       "  <th>No. Observations:</th>      <td>    90</td>      <th>  AIC:               </th> <td>  -46.46</td>\n",
       "</tr>\n",
       "<tr>\n",
       "  <th>Df Residuals:</th>          <td>    83</td>      <th>  BIC:               </th> <td>  -28.96</td>\n",
       "</tr>\n",
       "<tr>\n",
       "  <th>Df Model:</th>              <td>     6</td>      <th>                     </th>     <td> </td>   \n",
       "</tr>\n",
       "<tr>\n",
       "  <th>Covariance Type:</th>      <td>nonrobust</td>    <th>                     </th>     <td> </td>   \n",
       "</tr>\n",
       "</table>\n",
       "<table class=\"simpletable\">\n",
       "<tr>\n",
       "    <td></td>       <th>coef</th>     <th>std err</th>      <th>t</th>      <th>P>|t|</th>  <th>[0.025</th>    <th>0.975]</th>  \n",
       "</tr>\n",
       "<tr>\n",
       "  <th>const</th> <td>    0.4713</td> <td>    0.026</td> <td>   17.850</td> <td> 0.000</td> <td>    0.419</td> <td>    0.524</td>\n",
       "</tr>\n",
       "<tr>\n",
       "  <th>PCA1</th>  <td>    0.1238</td> <td>    0.020</td> <td>    6.105</td> <td> 0.000</td> <td>    0.083</td> <td>    0.164</td>\n",
       "</tr>\n",
       "<tr>\n",
       "  <th>PCA2</th>  <td>    0.0027</td> <td>    0.033</td> <td>    0.081</td> <td> 0.935</td> <td>   -0.063</td> <td>    0.068</td>\n",
       "</tr>\n",
       "<tr>\n",
       "  <th>PCA3</th>  <td>    0.0519</td> <td>    0.034</td> <td>    1.543</td> <td> 0.127</td> <td>   -0.015</td> <td>    0.119</td>\n",
       "</tr>\n",
       "<tr>\n",
       "  <th>PCA4</th>  <td>    0.0008</td> <td>    0.032</td> <td>    0.024</td> <td> 0.981</td> <td>   -0.063</td> <td>    0.064</td>\n",
       "</tr>\n",
       "<tr>\n",
       "  <th>PCA5</th>  <td>    0.0041</td> <td>    0.041</td> <td>    0.100</td> <td> 0.920</td> <td>   -0.078</td> <td>    0.086</td>\n",
       "</tr>\n",
       "<tr>\n",
       "  <th>PCA6</th>  <td>   -0.0106</td> <td>    0.046</td> <td>   -0.229</td> <td> 0.820</td> <td>   -0.103</td> <td>    0.082</td>\n",
       "</tr>\n",
       "</table>\n",
       "<table class=\"simpletable\">\n",
       "<tr>\n",
       "  <th>Omnibus:</th>       <td> 2.150</td> <th>  Durbin-Watson:     </th> <td>   1.622</td>\n",
       "</tr>\n",
       "<tr>\n",
       "  <th>Prob(Omnibus):</th> <td> 0.341</td> <th>  Jarque-Bera (JB):  </th> <td>   1.553</td>\n",
       "</tr>\n",
       "<tr>\n",
       "  <th>Skew:</th>          <td> 0.289</td> <th>  Prob(JB):          </th> <td>   0.460</td>\n",
       "</tr>\n",
       "<tr>\n",
       "  <th>Kurtosis:</th>      <td> 3.284</td> <th>  Cond. No.          </th> <td>    3.62</td>\n",
       "</tr>\n",
       "</table><br/><br/>Warnings:<br/>[1] Standard Errors assume that the covariance matrix of the errors is correctly specified."
      ],
      "text/plain": [
       "<class 'statsmodels.iolib.summary.Summary'>\n",
       "\"\"\"\n",
       "                            OLS Regression Results                            \n",
       "==============================================================================\n",
       "Dep. Variable:          10a당 생산량 (kg)   R-squared:                       0.433\n",
       "Model:                            OLS   Adj. R-squared:                  0.392\n",
       "Method:                 Least Squares   F-statistic:                     10.55\n",
       "Date:                Wed, 11 Mar 2020   Prob (F-statistic):           1.12e-08\n",
       "Time:                        17:27:04   Log-Likelihood:                 30.231\n",
       "No. Observations:                  90   AIC:                            -46.46\n",
       "Df Residuals:                      83   BIC:                            -28.96\n",
       "Df Model:                           6                                         \n",
       "Covariance Type:            nonrobust                                         \n",
       "==============================================================================\n",
       "                 coef    std err          t      P>|t|      [0.025      0.975]\n",
       "------------------------------------------------------------------------------\n",
       "const          0.4713      0.026     17.850      0.000       0.419       0.524\n",
       "PCA1           0.1238      0.020      6.105      0.000       0.083       0.164\n",
       "PCA2           0.0027      0.033      0.081      0.935      -0.063       0.068\n",
       "PCA3           0.0519      0.034      1.543      0.127      -0.015       0.119\n",
       "PCA4           0.0008      0.032      0.024      0.981      -0.063       0.064\n",
       "PCA5           0.0041      0.041      0.100      0.920      -0.078       0.086\n",
       "PCA6          -0.0106      0.046     -0.229      0.820      -0.103       0.082\n",
       "==============================================================================\n",
       "Omnibus:                        2.150   Durbin-Watson:                   1.622\n",
       "Prob(Omnibus):                  0.341   Jarque-Bera (JB):                1.553\n",
       "Skew:                           0.289   Prob(JB):                        0.460\n",
       "Kurtosis:                       3.284   Cond. No.                         3.62\n",
       "==============================================================================\n",
       "\n",
       "Warnings:\n",
       "[1] Standard Errors assume that the covariance matrix of the errors is correctly specified.\n",
       "\"\"\""
      ]
     },
     "execution_count": 65,
     "metadata": {},
     "output_type": "execute_result"
    }
   ],
   "source": [
    "x2, y2 = pca6d.iloc[:,:6], pca6d.iloc[:,6]\n",
    "\n",
    "x2_train, x2_test = x2.iloc[:int(len(x2)*0.7)], x2.iloc[int(len(x2)*0.7):]\n",
    "y2_train, y2_test = y2.iloc[:int(len(y2)*0.7)], y2.iloc[int(len(y2)*0.7):]\n",
    "\n",
    "x2_train = sm.add_constant(x2_train)\n",
    "x2_test = sm.add_constant(x2_test)\n",
    "\n",
    "lm2 = sm.OLS(y2_train, x2_train)\n",
    "lm2_r = lm2.fit()\n",
    "lm2_r.summary()"
   ]
  },
  {
   "cell_type": "raw",
   "metadata": {},
   "source": [
    "ypred2 = lm2_r.predict(x2_test)\n",
    "rmse2 = rmse(y2_test, ypred2)\n",
    "rmse2"
   ]
  },
  {
   "cell_type": "code",
   "execution_count": 6,
   "metadata": {},
   "outputs": [
    {
     "name": "stderr",
     "output_type": "stream",
     "text": [
      "C:\\Users\\JAEMIN\\Anaconda3\\lib\\site-packages\\numpy\\core\\fromnumeric.py:2389: FutureWarning: Method .ptp is deprecated and will be removed in a future version. Use numpy.ptp instead.\n",
      "  return ptp(axis=axis, out=out, **kwargs)\n"
     ]
    },
    {
     "data": {
      "text/html": [
       "<table class=\"simpletable\">\n",
       "<caption>OLS Regression Results</caption>\n",
       "<tr>\n",
       "  <th>Dep. Variable:</th>      <td>10a당 생산량 (kg)</td>  <th>  R-squared:         </th> <td>   0.425</td>\n",
       "</tr>\n",
       "<tr>\n",
       "  <th>Model:</th>                   <td>OLS</td>       <th>  Adj. R-squared:    </th> <td>   0.390</td>\n",
       "</tr>\n",
       "<tr>\n",
       "  <th>Method:</th>             <td>Least Squares</td>  <th>  F-statistic:       </th> <td>   12.40</td>\n",
       "</tr>\n",
       "<tr>\n",
       "  <th>Date:</th>             <td>Fri, 13 Mar 2020</td> <th>  Prob (F-statistic):</th> <td>5.12e-09</td>\n",
       "</tr>\n",
       "<tr>\n",
       "  <th>Time:</th>                 <td>05:30:21</td>     <th>  Log-Likelihood:    </th> <td>  29.606</td>\n",
       "</tr>\n",
       "<tr>\n",
       "  <th>No. Observations:</th>      <td>    90</td>      <th>  AIC:               </th> <td>  -47.21</td>\n",
       "</tr>\n",
       "<tr>\n",
       "  <th>Df Residuals:</th>          <td>    84</td>      <th>  BIC:               </th> <td>  -32.21</td>\n",
       "</tr>\n",
       "<tr>\n",
       "  <th>Df Model:</th>              <td>     5</td>      <th>                     </th>     <td> </td>   \n",
       "</tr>\n",
       "<tr>\n",
       "  <th>Covariance Type:</th>      <td>nonrobust</td>    <th>                     </th>     <td> </td>   \n",
       "</tr>\n",
       "</table>\n",
       "<table class=\"simpletable\">\n",
       "<tr>\n",
       "     <td></td>        <th>coef</th>     <th>std err</th>      <th>t</th>      <th>P>|t|</th>  <th>[0.025</th>    <th>0.975]</th>  \n",
       "</tr>\n",
       "<tr>\n",
       "  <th>const</th>   <td>    0.4747</td> <td>    0.024</td> <td>   20.130</td> <td> 0.000</td> <td>    0.428</td> <td>    0.522</td>\n",
       "</tr>\n",
       "<tr>\n",
       "  <th>Factor1</th> <td>    0.1334</td> <td>    0.022</td> <td>    6.203</td> <td> 0.000</td> <td>    0.091</td> <td>    0.176</td>\n",
       "</tr>\n",
       "<tr>\n",
       "  <th>Factor2</th> <td>    0.0342</td> <td>    0.023</td> <td>    1.481</td> <td> 0.142</td> <td>   -0.012</td> <td>    0.080</td>\n",
       "</tr>\n",
       "<tr>\n",
       "  <th>Factor3</th> <td>   -0.0387</td> <td>    0.025</td> <td>   -1.574</td> <td> 0.119</td> <td>   -0.088</td> <td>    0.010</td>\n",
       "</tr>\n",
       "<tr>\n",
       "  <th>Factor4</th> <td>   -0.0559</td> <td>    0.019</td> <td>   -2.868</td> <td> 0.005</td> <td>   -0.095</td> <td>   -0.017</td>\n",
       "</tr>\n",
       "<tr>\n",
       "  <th>Factor5</th> <td>   -0.0008</td> <td>    0.020</td> <td>   -0.039</td> <td> 0.969</td> <td>   -0.040</td> <td>    0.039</td>\n",
       "</tr>\n",
       "</table>\n",
       "<table class=\"simpletable\">\n",
       "<tr>\n",
       "  <th>Omnibus:</th>       <td> 1.991</td> <th>  Durbin-Watson:     </th> <td>   1.630</td>\n",
       "</tr>\n",
       "<tr>\n",
       "  <th>Prob(Omnibus):</th> <td> 0.370</td> <th>  Jarque-Bera (JB):  </th> <td>   1.452</td>\n",
       "</tr>\n",
       "<tr>\n",
       "  <th>Skew:</th>          <td> 0.291</td> <th>  Prob(JB):          </th> <td>   0.484</td>\n",
       "</tr>\n",
       "<tr>\n",
       "  <th>Kurtosis:</th>      <td> 3.221</td> <th>  Cond. No.          </th> <td>    2.09</td>\n",
       "</tr>\n",
       "</table><br/><br/>Warnings:<br/>[1] Standard Errors assume that the covariance matrix of the errors is correctly specified."
      ],
      "text/plain": [
       "<class 'statsmodels.iolib.summary.Summary'>\n",
       "\"\"\"\n",
       "                            OLS Regression Results                            \n",
       "==============================================================================\n",
       "Dep. Variable:          10a당 생산량 (kg)   R-squared:                       0.425\n",
       "Model:                            OLS   Adj. R-squared:                  0.390\n",
       "Method:                 Least Squares   F-statistic:                     12.40\n",
       "Date:                Fri, 13 Mar 2020   Prob (F-statistic):           5.12e-09\n",
       "Time:                        05:30:21   Log-Likelihood:                 29.606\n",
       "No. Observations:                  90   AIC:                            -47.21\n",
       "Df Residuals:                      84   BIC:                            -32.21\n",
       "Df Model:                           5                                         \n",
       "Covariance Type:            nonrobust                                         \n",
       "==============================================================================\n",
       "                 coef    std err          t      P>|t|      [0.025      0.975]\n",
       "------------------------------------------------------------------------------\n",
       "const          0.4747      0.024     20.130      0.000       0.428       0.522\n",
       "Factor1        0.1334      0.022      6.203      0.000       0.091       0.176\n",
       "Factor2        0.0342      0.023      1.481      0.142      -0.012       0.080\n",
       "Factor3       -0.0387      0.025     -1.574      0.119      -0.088       0.010\n",
       "Factor4       -0.0559      0.019     -2.868      0.005      -0.095      -0.017\n",
       "Factor5       -0.0008      0.020     -0.039      0.969      -0.040       0.039\n",
       "==============================================================================\n",
       "Omnibus:                        1.991   Durbin-Watson:                   1.630\n",
       "Prob(Omnibus):                  0.370   Jarque-Bera (JB):                1.452\n",
       "Skew:                           0.291   Prob(JB):                        0.484\n",
       "Kurtosis:                       3.221   Cond. No.                         2.09\n",
       "==============================================================================\n",
       "\n",
       "Warnings:\n",
       "[1] Standard Errors assume that the covariance matrix of the errors is correctly specified.\n",
       "\"\"\""
      ]
     },
     "execution_count": 6,
     "metadata": {},
     "output_type": "execute_result"
    }
   ],
   "source": [
    "x2, y2 = FA.iloc[:,:5], FA.iloc[:,5]\n",
    "\n",
    "x2_train, x2_test = x2.iloc[:int(len(x2)*0.7)], x2.iloc[int(len(x2)*0.7):]\n",
    "y2_train, y2_test = y2.iloc[:int(len(y2)*0.7)], y2.iloc[int(len(y2)*0.7):]\n",
    "\n",
    "x2_train = sm.add_constant(x2_train)\n",
    "x2_test = sm.add_constant(x2_test)\n",
    "\n",
    "lm2 = sm.OLS(y2_train, x2_train)\n",
    "lm2_r = lm2.fit()\n",
    "lm2_r.summary()"
   ]
  },
  {
   "cell_type": "code",
   "execution_count": 7,
   "metadata": {},
   "outputs": [
    {
     "data": {
      "text/plain": [
       "0.14699328597312397"
      ]
     },
     "execution_count": 7,
     "metadata": {},
     "output_type": "execute_result"
    }
   ],
   "source": [
    "ypred2 = lm2_r.predict(x2_test)\n",
    "rmse2 = rmse(y2_test, ypred2)\n",
    "rmse2"
   ]
  },
  {
   "cell_type": "markdown",
   "metadata": {},
   "source": [
    "# rmse가 이상치 처리 안해준 것이 더 높음"
   ]
  }
 ],
 "metadata": {
  "kernelspec": {
   "display_name": "Python 3",
   "language": "python",
   "name": "python3"
  },
  "language_info": {
   "codemirror_mode": {
    "name": "ipython",
    "version": 3
   },
   "file_extension": ".py",
   "mimetype": "text/x-python",
   "name": "python",
   "nbconvert_exporter": "python",
   "pygments_lexer": "ipython3",
   "version": "3.7.3"
  }
 },
 "nbformat": 4,
 "nbformat_minor": 2
}
